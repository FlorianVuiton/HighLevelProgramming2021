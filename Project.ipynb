{
 "cells": [
  {
   "cell_type": "markdown",
   "metadata": {
    "id": "shlxJAP6Le7_"
   },
   "source": [
    "# Game of Life\n",
    "\n",
    "\n",
    "### Description\n",
    "\n",
    "The [Game of Life](http://en.wikipedia.org/wiki/Conway's_Game_of_Life) (GoF) is a cellular automaton devised by the British mathematician John Horton Conway in 1970. The game is a zero-player game, meaning that its evolution is determined by its initial state, requiring no further input. One interacts with the Game of Life by creating an initial configuration and observing how it evolves, or, for advanced players, by creating patterns with particular properties.\n",
    "\n",
    "The universe of the Game of Life is an infinite two-dimensional orthogonal grid of square cells, each of which is in one of two possible states, live or dead. Every cell interacts with its eight neighbours, which are the cells that are directly horizontally, vertically, or diagonally adjacent. At each step in time, the following transitions occur:\n",
    "\n",
    "* Any live cell with fewer than two live neighbours dies, as if by underpopulation.\n",
    "* Any live cell with more than three live neighbours dies, as if by overcrowding.\n",
    "* Any live cell with two or three live neighbours lives, unchanged, to the next generation.\n",
    "* Any dead cell with exactly three live neighbours becomes a live cell.\n",
    "\n",
    "The initial pattern (generation 0) constitutes the \"seed\" of the system.\n",
    "Time is considered discrete, and each time step (sometimes called a tick), the previous rules are applied simultaneously to every cell in the grid; \"births\" and \"deaths\" are immediate.\n",
    "Each generation is a pure function of the previous generation alone.\n",
    "\n",
    "\n",
    "### Assignments\n",
    "\n",
    "* Begin by implementing the GoF's rules and create few examples with basic seeds in small dimensions. Hint: create `.gif` animations from sequences of still `.png` images\n",
    "* Implement examples of the three categories of patterns *still lifes*, *oscillators* and *spaceships* (check the [wiki link](http://en.wikipedia.org/wiki/Conway's_Game_of_Life))\n",
    "* Increase the size of the GoF's world and play with more advanced and complex patterns\n",
    "* Analyse the evolutions of the patterns in terms of frequency, replication, occupancy, etc."
   ]
  },
  {
   "cell_type": "markdown",
   "metadata": {
    "id": "S2wbDw3IhS7t"
   },
   "source": [
    "## video example\n"
   ]
  },
  {
   "cell_type": "code",
   "execution_count": 85,
   "metadata": {
    "colab": {
     "base_uri": "https://localhost:8080/",
     "height": 41,
     "resources": {
      "http://localhost:8080/output/random.gif": {
       "data": "CjwhRE9DVFlQRSBodG1sPgo8aHRtbCBsYW5nPWVuPgogIDxtZXRhIGNoYXJzZXQ9dXRmLTg+CiAgPG1ldGEgbmFtZT12aWV3cG9ydCBjb250ZW50PSJpbml0aWFsLXNjYWxlPTEsIG1pbmltdW0tc2NhbGU9MSwgd2lkdGg9ZGV2aWNlLXdpZHRoIj4KICA8dGl0bGU+RXJyb3IgNDA0IChOb3QgRm91bmQpISExPC90aXRsZT4KICA8c3R5bGU+CiAgICAqe21hcmdpbjowO3BhZGRpbmc6MH1odG1sLGNvZGV7Zm9udDoxNXB4LzIycHggYXJpYWwsc2Fucy1zZXJpZn1odG1se2JhY2tncm91bmQ6I2ZmZjtjb2xvcjojMjIyO3BhZGRpbmc6MTVweH1ib2R5e21hcmdpbjo3JSBhdXRvIDA7bWF4LXdpZHRoOjM5MHB4O21pbi1oZWlnaHQ6MTgwcHg7cGFkZGluZzozMHB4IDAgMTVweH0qID4gYm9keXtiYWNrZ3JvdW5kOnVybCgvL3d3dy5nb29nbGUuY29tL2ltYWdlcy9lcnJvcnMvcm9ib3QucG5nKSAxMDAlIDVweCBuby1yZXBlYXQ7cGFkZGluZy1yaWdodDoyMDVweH1we21hcmdpbjoxMXB4IDAgMjJweDtvdmVyZmxvdzpoaWRkZW59aW5ze2NvbG9yOiM3Nzc7dGV4dC1kZWNvcmF0aW9uOm5vbmV9YSBpbWd7Ym9yZGVyOjB9QG1lZGlhIHNjcmVlbiBhbmQgKG1heC13aWR0aDo3NzJweCl7Ym9keXtiYWNrZ3JvdW5kOm5vbmU7bWFyZ2luLXRvcDowO21heC13aWR0aDpub25lO3BhZGRpbmctcmlnaHQ6MH19I2xvZ297YmFja2dyb3VuZDp1cmwoLy93d3cuZ29vZ2xlLmNvbS9pbWFnZXMvbG9nb3MvZXJyb3JwYWdlL2Vycm9yX2xvZ28tMTUweDU0LnBuZykgbm8tcmVwZWF0O21hcmdpbi1sZWZ0Oi01cHh9QG1lZGlhIG9ubHkgc2NyZWVuIGFuZCAobWluLXJlc29sdXRpb246MTkyZHBpKXsjbG9nb3tiYWNrZ3JvdW5kOnVybCgvL3d3dy5nb29nbGUuY29tL2ltYWdlcy9sb2dvcy9lcnJvcnBhZ2UvZXJyb3JfbG9nby0xNTB4NTQtMngucG5nKSBuby1yZXBlYXQgMCUgMCUvMTAwJSAxMDAlOy1tb3otYm9yZGVyLWltYWdlOnVybCgvL3d3dy5nb29nbGUuY29tL2ltYWdlcy9sb2dvcy9lcnJvcnBhZ2UvZXJyb3JfbG9nby0xNTB4NTQtMngucG5nKSAwfX1AbWVkaWEgb25seSBzY3JlZW4gYW5kICgtd2Via2l0LW1pbi1kZXZpY2UtcGl4ZWwtcmF0aW86Mil7I2xvZ297YmFja2dyb3VuZDp1cmwoLy93d3cuZ29vZ2xlLmNvbS9pbWFnZXMvbG9nb3MvZXJyb3JwYWdlL2Vycm9yX2xvZ28tMTUweDU0LTJ4LnBuZykgbm8tcmVwZWF0Oy13ZWJraXQtYmFja2dyb3VuZC1zaXplOjEwMCUgMTAwJX19I2xvZ297ZGlzcGxheTppbmxpbmUtYmxvY2s7aGVpZ2h0OjU0cHg7d2lkdGg6MTUwcHh9CiAgPC9zdHlsZT4KICA8YSBocmVmPS8vd3d3Lmdvb2dsZS5jb20vPjxzcGFuIGlkPWxvZ28gYXJpYS1sYWJlbD1Hb29nbGU+PC9zcGFuPjwvYT4KICA8cD48Yj40MDQuPC9iPiA8aW5zPlRoYXTigJlzIGFuIGVycm9yLjwvaW5zPgogIDxwPiAgPGlucz5UaGF04oCZcyBhbGwgd2Uga25vdy48L2lucz4K",
       "headers": [
        [
         "content-length",
         "1449"
        ],
        [
         "content-type",
         "text/html; charset=utf-8"
        ]
       ],
       "ok": false,
       "status": 404,
       "status_text": "Not Found"
      }
     }
    },
    "id": "YVbJet0wmFVP",
    "outputId": "792dc5da-e580-496a-a1ee-2efc78c760fb"
   },
   "outputs": [
    {
     "data": {
      "text/html": [
       "<div style=\"display: flex; justify-content: row;\">\n",
       "    <img src=\"output/random.gif\">\n",
       "</div>"
      ],
      "text/plain": [
       "<IPython.core.display.HTML object>"
      ]
     },
     "metadata": {},
     "output_type": "display_data"
    }
   ],
   "source": [
    "display(HTML('''<div style=\"display: flex; justify-content: row;\">\n",
    "    <img src=\"output/random.gif\">\n",
    "</div>'''))"
   ]
  },
  {
   "cell_type": "markdown",
   "metadata": {
    "id": "Y5yjIHpI_sJQ"
   },
   "source": [
    "# Import Libraries"
   ]
  },
  {
   "cell_type": "code",
   "execution_count": 86,
   "metadata": {
    "id": "_Ox_4W27ynaB"
   },
   "outputs": [],
   "source": [
    "import numpy as np\n",
    "import matplotlib\n",
    "import matplotlib.pyplot as plt\n",
    "%matplotlib inline\n",
    "import matplotlib.animation as animation\n",
    "from IPython.display import HTML, display\n",
    "from PIL import Image\n",
    "import cv2"
   ]
  },
  {
   "cell_type": "markdown",
   "metadata": {
    "id": "tVPbHfEFv8kn"
   },
   "source": [
    "#Create Board\n",
    "First we have to create an empty Grid of size N using the **create_grid** function then we have to add our **pattern** ,which is the starting shape, to our board.\n",
    "\n",
    "In order to **center** our pattern into the grid we use the function **add_pattern_start**."
   ]
  },
  {
   "cell_type": "code",
   "execution_count": 87,
   "metadata": {
    "id": "lAkcjPW6v_X6"
   },
   "outputs": [],
   "source": [
    "#N : size of the grid\n",
    "def create_grid(N, pattern):\n",
    "    grid = np.zeros((N, N)) #create empty board\n",
    "    grid = add_pattern_start(grid, pattern) #place pattern in the center of the board\n",
    "    return grid\n"
   ]
  },
  {
   "cell_type": "code",
   "execution_count": 89,
   "metadata": {
    "id": "j5w2B9wQzWIc"
   },
   "outputs": [],
   "source": [
    "def add_pattern_start(grid, pattern):\n",
    "    #Dimension of the pattern\n",
    "    columns = np.size(pattern,axis=0)\n",
    "    lines = np.size(pattern,axis=1)\n",
    "\n",
    "    # Get number of lines==columns\n",
    "    N = np.size(grid,axis=1)\n",
    "\n",
    "    #Put the pattern in the center of the grid\n",
    "    if (columns % 2) == 0 and (lines % 2) == 0:\n",
    "        grid[N//2 - columns//2:N//2 + columns//2, N//2 - lines//2 : N//2 + lines//2] = pattern\n",
    "    elif (columns % 2) == 0 and (lines % 2) != 0:\n",
    "        grid[N//2 - columns//2:N//2 + columns//2, N//2 - lines//2 : N//2 + lines//2 + 1] = pattern\n",
    "    elif (columns % 2) != 0 and (lines % 2) == 0:\n",
    "        grid[N//2 - columns//2:N//2 + columns//2 + 1, N//2 - lines//2 : N//2 + lines//2] = pattern\n",
    "    else:\n",
    "        grid[N//2 - columns//2:N//2 + columns//2 + 1, N//2 - lines//2 : N//2 + lines//2 + 1] = pattern\n",
    "\n",
    "    return grid"
   ]
  },
  {
   "cell_type": "markdown",
   "metadata": {
    "id": "a0E3glhAYs8k"
   },
   "source": [
    "## Creating the paterns image\n"
   ]
  },
  {
   "cell_type": "markdown",
   "metadata": {
    "id": "0WyusY6SeV8G"
   },
   "source": [
    "### Block\n"
   ]
  },
  {
   "cell_type": "code",
   "execution_count": 90,
   "metadata": {
    "colab": {
     "base_uri": "https://localhost:8080/",
     "height": 34
    },
    "id": "bXDyaHoWeb6g",
    "outputId": "b19346a8-93c6-42dc-acc9-c89fd7003bdc"
   },
   "outputs": [
    {
     "data": {
      "image/png": "[encoded data removed]",
      "text/plain": [
       "<PIL.Image.Image image mode=L size=2x2 at 0x1BAD46091C0>"
      ]
     },
     "execution_count": 90,
     "metadata": {},
     "output_type": "execute_result"
    }
   ],
   "source": [
    "block=np.array([\n",
    "    [1,1],\n",
    "    [1,1]\n",
    "    ],np.uint8)\n",
    "data = Image.fromarray(255*(1-block))\n",
    "data.save('block.png')\n",
    "data"
   ]
  },
  {
   "cell_type": "markdown",
   "metadata": {
    "id": "5InbjiD3egRz"
   },
   "source": [
    "### bee-hive\n"
   ]
  },
  {
   "cell_type": "code",
   "execution_count": 11,
   "metadata": {
    "colab": {
     "base_uri": "https://localhost:8080/",
     "height": 34
    },
    "id": "1ersP4DpepfV",
    "outputId": "5a212ed4-295e-45b6-9d95-98aa71032355"
   },
   "outputs": [
    {
     "data": {
      "image/png": "[encoded data removed]",
      "text/plain": [
       "<PIL.Image.Image image mode=L size=4x3 at 0x7FC2E7945690>"
      ]
     },
     "execution_count": 11,
     "metadata": {},
     "output_type": "execute_result"
    }
   ],
   "source": [
    "bee_hive=np.array([\n",
    "    [0,1,1,0],\n",
    "    [1,0,0,1],\n",
    "    [0,1,1,0]\n",
    "    ],np.uint8)\n",
    "data = Image.fromarray(255*(1-bee_hive))\n",
    "data.save('bee_hive.png')\n",
    "data"
   ]
  },
  {
   "cell_type": "markdown",
   "metadata": {
    "id": "5QpION0WeuKh"
   },
   "source": [
    "### loaf\n"
   ]
  },
  {
   "cell_type": "code",
   "execution_count": 12,
   "metadata": {
    "colab": {
     "base_uri": "https://localhost:8080/",
     "height": 34
    },
    "id": "f_vrT4vLex4Z",
    "outputId": "24422761-ec8f-4e76-9b23-abacd99ddb1b"
   },
   "outputs": [
    {
     "data": {
      "image/png": "[encoded data removed]",
      "text/plain": [
       "<PIL.Image.Image image mode=L size=4x4 at 0x7FC2E794E510>"
      ]
     },
     "execution_count": 12,
     "metadata": {},
     "output_type": "execute_result"
    }
   ],
   "source": [
    "loaf=np.array([\n",
    "    [0,1,1,0],\n",
    "    [1,0,0,1],\n",
    "    [0,1,0,1],\n",
    "    [0,0,1,0]\n",
    "    ],np.uint8)\n",
    "data = Image.fromarray(255*(1-loaf))\n",
    "data.save('loaf.png')\n",
    "data"
   ]
  },
  {
   "cell_type": "markdown",
   "metadata": {
    "id": "1Th6aW7Ee5Nh"
   },
   "source": [
    "### Boat"
   ]
  },
  {
   "cell_type": "code",
   "execution_count": 91,
   "metadata": {
    "colab": {
     "base_uri": "https://localhost:8080/",
     "height": 34
    },
    "id": "_QcEsqvYe8hj",
    "outputId": "4a7584fa-910c-45a3-80e8-2c37a0d65e6f"
   },
   "outputs": [
    {
     "data": {
      "image/png": "[encoded data removed]",
      "text/plain": [
       "<PIL.Image.Image image mode=L size=4x3 at 0x1BAD4609910>"
      ]
     },
     "execution_count": 91,
     "metadata": {},
     "output_type": "execute_result"
    }
   ],
   "source": [
    "Boat=np.array([\n",
    "    [1,1,0,0],\n",
    "    [1,0,1,0],\n",
    "    [0,1,0,0]\n",
    "    ],np.uint8)\n",
    "data = Image.fromarray(255*(1-Boat))\n",
    "data.save('Boat.png')\n",
    "data"
   ]
  },
  {
   "cell_type": "markdown",
   "metadata": {
    "id": "TwY-U6fCfCAD"
   },
   "source": [
    "### tub"
   ]
  },
  {
   "cell_type": "code",
   "execution_count": 93,
   "metadata": {
    "colab": {
     "base_uri": "https://localhost:8080/",
     "height": 34
    },
    "id": "FuSjJStgfFLc",
    "outputId": "c2da436b-f425-4d09-a1ef-58035b1d93f0"
   },
   "outputs": [
    {
     "data": {
      "image/png": "[encoded data removed]",
      "text/plain": [
       "<PIL.Image.Image image mode=L size=4x3 at 0x1BAD48E9D60>"
      ]
     },
     "execution_count": 93,
     "metadata": {},
     "output_type": "execute_result"
    }
   ],
   "source": [
    "tub=np.array([\n",
    "    [0,1,0,0],\n",
    "    [1,0,1,0],\n",
    "    [0,1,0,0]\n",
    "    ],np.uint8)\n",
    "data = Image.fromarray(255*(1-tub))\n",
    "data.save('tub.png')\n",
    "data"
   ]
  },
  {
   "cell_type": "markdown",
   "metadata": {
    "id": "rgrCyfPLfIKE"
   },
   "source": [
    "### blinker\n"
   ]
  },
  {
   "cell_type": "code",
   "execution_count": 94,
   "metadata": {
    "colab": {
     "base_uri": "https://localhost:8080/",
     "height": 34
    },
    "id": "EohGTax7fLf7",
    "outputId": "8fb9e464-7cd7-4457-de49-2a05f1377c85"
   },
   "outputs": [
    {
     "data": {
      "image/png": "[encoded data removed]",
      "text/plain": [
       "<PIL.Image.Image image mode=L size=3x1 at 0x1BAD48E9100>"
      ]
     },
     "execution_count": 94,
     "metadata": {},
     "output_type": "execute_result"
    }
   ],
   "source": [
    "blinker=np.array([\n",
    "    [1,1,1]\n",
    "    ],np.uint8)\n",
    "data = Image.fromarray(255*(1-blinker))\n",
    "data.save('blinker.png')\n",
    "data"
   ]
  },
  {
   "cell_type": "markdown",
   "metadata": {
    "id": "m3DCR3MQfOGb"
   },
   "source": [
    "### toad"
   ]
  },
  {
   "cell_type": "code",
   "execution_count": 95,
   "metadata": {
    "colab": {
     "base_uri": "https://localhost:8080/",
     "height": 34
    },
    "id": "XQRmeenffP6R",
    "outputId": "40c52cf4-2a40-46a2-9e28-bae7c263ad66"
   },
   "outputs": [
    {
     "data": {
      "image/png": "[encoded data removed]",
      "text/plain": [
       "<PIL.Image.Image image mode=L size=4x2 at 0x1BAD46814C0>"
      ]
     },
     "execution_count": 95,
     "metadata": {},
     "output_type": "execute_result"
    }
   ],
   "source": [
    "toad=np.array([\n",
    "    [0,1,1,1],\n",
    "    [1,1,1,0]\n",
    "    ],np.uint8)\n",
    "data = Image.fromarray(255*(1-toad))\n",
    "data.save('toad.png')\n",
    "data"
   ]
  },
  {
   "cell_type": "markdown",
   "metadata": {
    "id": "CVAsoQEDfV3D"
   },
   "source": [
    "### beacon\n"
   ]
  },
  {
   "cell_type": "code",
   "execution_count": 96,
   "metadata": {
    "colab": {
     "base_uri": "https://localhost:8080/",
     "height": 34
    },
    "id": "FEQUl6tYfhTD",
    "outputId": "7705d953-db22-45ea-94ec-ffd36e2ad970"
   },
   "outputs": [
    {
     "data": {
      "image/png": "[encoded data removed]",
      "text/plain": [
       "<PIL.Image.Image image mode=L size=4x4 at 0x1BAD46098E0>"
      ]
     },
     "execution_count": 96,
     "metadata": {},
     "output_type": "execute_result"
    }
   ],
   "source": [
    "beacon=np.array([\n",
    "    [1,1,0,0],\n",
    "    [1,1,0,0],\n",
    "    [0,0,1,1],\n",
    "    [0,0,1,1]\n",
    "    ],np.uint8)\n",
    "data = Image.fromarray(255*(1-beacon))\n",
    "data.save('beacon.png')\n",
    "data"
   ]
  },
  {
   "cell_type": "markdown",
   "metadata": {
    "id": "FW7b-lJXfjxL"
   },
   "source": [
    "### pulsar\n"
   ]
  },
  {
   "cell_type": "code",
   "execution_count": 97,
   "metadata": {
    "colab": {
     "base_uri": "https://localhost:8080/",
     "height": 34
    },
    "id": "Z-UhD3p5fmtr",
    "outputId": "13031224-adca-49ca-f1da-5e7851d2b346"
   },
   "outputs": [
    {
     "data": {
      "image/png": "[encoded data removed]",
      "text/plain": [
       "<PIL.Image.Image image mode=L size=13x13 at 0x1BAD45F9C40>"
      ]
     },
     "execution_count": 97,
     "metadata": {},
     "output_type": "execute_result"
    }
   ],
   "source": [
    "pulsar=np.array([\n",
    "    [0,0,1,1,1,0,0,0,1,1,1,0,0],\n",
    "    [0,0,0,0,0,0,0,0,0,0,0,0,0],\n",
    "    [1,0,0,0,0,1,0,1,0,0,0,0,1],\n",
    "    [1,0,0,0,0,1,0,1,0,0,0,0,1],\n",
    "    [1,0,0,0,0,1,0,1,0,0,0,0,1],\n",
    "    [0,0,1,1,1,0,0,0,1,1,1,0,0],\n",
    "    [0,0,0,0,0,0,0,0,0,0,0,0,0],\n",
    "    [0,0,1,1,1,0,0,0,1,1,1,0,0],\n",
    "    [1,0,0,0,0,1,0,1,0,0,0,0,1],\n",
    "    [1,0,0,0,0,1,0,1,0,0,0,0,1],\n",
    "    [1,0,0,0,0,1,0,1,0,0,0,0,1],\n",
    "    [0,0,0,0,0,0,0,0,0,0,0,0,0],\n",
    "    [0,0,1,1,1,0,0,0,1,1,1,0,0]\n",
    "    ],np.uint8)\n",
    "data = Image.fromarray(255*(1-pulsar))\n",
    "data.save('pulsar.png')\n",
    "data"
   ]
  },
  {
   "cell_type": "markdown",
   "metadata": {
    "id": "c4JPgohjfqWn"
   },
   "source": [
    "### penta-decathlon"
   ]
  },
  {
   "cell_type": "code",
   "execution_count": 98,
   "metadata": {
    "colab": {
     "base_uri": "https://localhost:8080/",
     "height": 34
    },
    "id": "5dkBQPVBft2L",
    "outputId": "2007d88f-3c00-44f0-9629-f24ad8255846"
   },
   "outputs": [
    {
     "data": {
      "image/png": "[encoded data removed]",
      "text/plain": [
       "<PIL.Image.Image image mode=L size=10x3 at 0x1BAD4749070>"
      ]
     },
     "execution_count": 98,
     "metadata": {},
     "output_type": "execute_result"
    }
   ],
   "source": [
    "penta_decathlon=np.array([\n",
    "    [0,0,1,0,0,0,0,1,0,0],\n",
    "    [1,1,0,1,1,1,1,0,1,1],\n",
    "    [0,0,1,0,0,0,0,1,0,0]\n",
    "    ],np.uint8)\n",
    "data = Image.fromarray(255*(1-penta_decathlon))\n",
    "data.save('penta_decathlon.png')\n",
    "data"
   ]
  },
  {
   "cell_type": "markdown",
   "metadata": {
    "id": "Od1z7fKofwbm"
   },
   "source": [
    "### glider\n"
   ]
  },
  {
   "cell_type": "code",
   "execution_count": 99,
   "metadata": {
    "colab": {
     "base_uri": "https://localhost:8080/",
     "height": 34
    },
    "id": "uWSSuvmFfzPD",
    "outputId": "8c9340d0-919c-426a-c8c1-a4d9b3679f80"
   },
   "outputs": [
    {
     "data": {
      "image/png": "[encoded data removed]",
      "text/plain": [
       "<PIL.Image.Image image mode=L size=3x3 at 0x1BAD4718F70>"
      ]
     },
     "execution_count": 99,
     "metadata": {},
     "output_type": "execute_result"
    }
   ],
   "source": [
    "glider=np.array([\n",
    "    [0,0,1],\n",
    "    [1,0,1],\n",
    "    [0,1,1]\n",
    "    ],np.uint8)\n",
    "data = Image.fromarray(255*(1-glider))\n",
    "data.save('glider.png')\n",
    "data"
   ]
  },
  {
   "cell_type": "markdown",
   "metadata": {
    "id": "dQVXa53af14b"
   },
   "source": [
    "### heavy_weight_spaceship"
   ]
  },
  {
   "cell_type": "code",
   "execution_count": 100,
   "metadata": {
    "colab": {
     "base_uri": "https://localhost:8080/",
     "height": 34
    },
    "id": "PjpihGigf7Sl",
    "outputId": "6d2a03bc-ad8c-4e43-8092-70d6aadfce60"
   },
   "outputs": [
    {
     "data": {
      "image/png": "[encoded data removed]",
      "text/plain": [
       "<PIL.Image.Image image mode=L size=7x5 at 0x1BAD47992B0>"
      ]
     },
     "execution_count": 100,
     "metadata": {},
     "output_type": "execute_result"
    }
   ],
   "source": [
    "heavy_weight_spaceship=np.array([\n",
    "    [0,0,0,1,1,0,0],\n",
    "    [0,1,0,0,0,0,1],\n",
    "    [1,0,0,0,0,0,0],\n",
    "    [1,0,0,0,0,0,1],\n",
    "    [1,1,1,1,1,1,0]\n",
    "    ],np.uint8)\n",
    "data = Image.fromarray(255*(1-heavy_weight_spaceship))\n",
    "data.save('heavy_weight_spaceship.png')\n",
    "data"
   ]
  },
  {
   "cell_type": "markdown",
   "metadata": {
    "id": "UGzYFEiSf-kV"
   },
   "source": [
    "### light_weight_spaceship"
   ]
  },
  {
   "cell_type": "code",
   "execution_count": 101,
   "metadata": {
    "colab": {
     "base_uri": "https://localhost:8080/",
     "height": 34
    },
    "id": "TQrl1wODgCME",
    "outputId": "d2daf09a-2b83-40c5-dfe1-a860a2a19326"
   },
   "outputs": [
    {
     "data": {
      "image/png": "[encoded data removed]",
      "text/plain": [
       "<PIL.Image.Image image mode=L size=5x4 at 0x1BAD45F93D0>"
      ]
     },
     "execution_count": 101,
     "metadata": {},
     "output_type": "execute_result"
    }
   ],
   "source": [
    "light_weight_spaceship=np.array([\n",
    "    [0,1,0,0,1],\n",
    "    [1,0,0,0,0],\n",
    "    [1,0,0,0,1],\n",
    "    [1,1,1,1,0]\n",
    "    ],np.uint8)\n",
    "data = Image.fromarray(255*(1-light_weight_spaceship))\n",
    "data.save('light_weight_spaceship.png')\n",
    "data"
   ]
  },
  {
   "cell_type": "markdown",
   "metadata": {
    "id": "LpkrYT-WgEp0"
   },
   "source": [
    "### Gosper glider gun\n"
   ]
  },
  {
   "cell_type": "code",
   "execution_count": 102,
   "metadata": {
    "colab": {
     "base_uri": "https://localhost:8080/",
     "height": 34
    },
    "id": "e_kuwZsugHsE",
    "outputId": "4e8321ce-9685-4758-a8a4-b484c7ce228e"
   },
   "outputs": [
    {
     "data": {
      "image/png": "[encoded data removed]",
      "text/plain": [
       "<PIL.Image.Image image mode=L size=37x11 at 0x1BAD3DFF280>"
      ]
     },
     "execution_count": 102,
     "metadata": {},
     "output_type": "execute_result"
    }
   ],
   "source": [
    "Gosper_glider_gun=np.array([\n",
    "    [0,0,0,0,0,0,0,0,0,0,0,0,0,0,0,0,0,0,0,0,0,0,0,0,0,0,0,0,0,0,0,0,0,0,0,0,0],\n",
    "    [0,0,0,0,0,0,0,0,0,0,0,0,0,0,0,0,0,0,0,0,0,0,0,0,0,1,0,0,0,0,0,0,0,0,0,0,0],\n",
    "    [0,0,0,0,0,0,0,0,0,0,0,0,0,0,0,0,0,0,0,0,0,0,0,1,0,1,0,0,0,0,0,0,0,0,0,0,0],\n",
    "    [0,0,0,0,0,0,0,0,0,0,0,0,0,1,1,0,0,0,0,0,0,1,1,0,0,0,0,0,0,0,0,0,0,0,0,1,1],\n",
    "    [0,0,0,0,0,0,0,0,0,0,0,0,1,0,0,0,1,0,0,0,0,1,1,0,0,0,0,0,0,0,0,0,0,0,0,1,1],\n",
    "    [0,1,1,0,0,0,0,0,0,0,0,1,0,0,0,0,0,1,0,0,0,1,1,0,0,0,0,0,0,0,0,0,0,0,0,0,0],\n",
    "    [0,1,1,0,0,0,0,0,0,0,0,1,0,0,0,1,0,1,1,0,0,0,0,1,0,1,0,0,0,0,0,0,0,0,0,0,0],\n",
    "    [0,0,0,0,0,0,0,0,0,0,0,1,0,0,0,0,0,1,0,0,0,0,0,0,0,1,0,0,0,0,0,0,0,0,0,0,0],\n",
    "    [0,0,0,0,0,0,0,0,0,0,0,0,1,0,0,0,1,0,0,0,0,0,0,0,0,0,0,0,0,0,0,0,0,0,0,0,0],\n",
    "    [0,0,0,0,0,0,0,0,0,0,0,0,0,1,1,0,0,0,0,0,0,0,0,0,0,0,0,0,0,0,0,0,0,0,0,0,0],\n",
    "    [0,0,0,0,0,0,0,0,0,0,0,0,0,0,0,0,0,0,0,0,0,0,0,0,0,0,0,0,0,0,0,0,0,0,0,0,0],\n",
    "    ],np.uint8)\n",
    "\n",
    "data = Image.fromarray(255*(1-Gosper_glider_gun))\n",
    "data.save('Gosper_glider_gun.png')\n",
    "data"
   ]
  },
  {
   "cell_type": "markdown",
   "metadata": {
    "id": "coZIgtNEgKcc"
   },
   "source": [
    "### diehard\n"
   ]
  },
  {
   "cell_type": "code",
   "execution_count": 103,
   "metadata": {
    "colab": {
     "base_uri": "https://localhost:8080/",
     "height": 34
    },
    "id": "xpA-9U5igMcN",
    "outputId": "9b78859a-b575-4e07-b134-6725296fa549"
   },
   "outputs": [
    {
     "data": {
      "image/png": "[encoded data removed]",
      "text/plain": [
       "<PIL.Image.Image image mode=L size=8x3 at 0x1BAD4663310>"
      ]
     },
     "execution_count": 103,
     "metadata": {},
     "output_type": "execute_result"
    }
   ],
   "source": [
    "diehard=np.array([\n",
    "    [0,0,0,0,0,0,1,0],\n",
    "    [1,1,0,0,0,0,0,0],\n",
    "    [0,1,0,0,0,1,1,1]\n",
    "    ],np.uint8)\n",
    "data = Image.fromarray(255*(1-diehard))\n",
    "data.save('diehard.png')\n",
    "data"
   ]
  },
  {
   "cell_type": "markdown",
   "metadata": {
    "id": "mrSky9nR8Q7S"
   },
   "source": [
    "### 86P5H1V1"
   ]
  },
  {
   "cell_type": "code",
   "execution_count": 105,
   "metadata": {
    "id": "rJPY9Dld8Sl_"
   },
   "outputs": [
    {
     "data": {
      "image/png": "[encoded data removed]",
      "text/plain": [
       "<PIL.Image.Image image mode=L size=23x23 at 0x1BAD491F430>"
      ]
     },
     "execution_count": 105,
     "metadata": {},
     "output_type": "execute_result"
    }
   ],
   "source": [
    "_86P5H1V1=np.array([\n",
    "    [0,0,0,0,0,0,0,0,0,1,1,1,0,0,0,0,0,0,0,0,0,0,0],\n",
    "    [0,0,0,0,0,0,0,0,1,0,0,0,0,0,0,0,0,0,0,0,0,0,0],\n",
    "    [0,0,0,0,0,0,0,1,0,0,0,0,0,0,0,0,0,0,0,0,0,0,0],\n",
    "    [0,0,0,0,0,0,0,0,0,0,0,1,1,0,0,0,0,0,0,0,0,0,0],\n",
    "    [0,0,0,0,0,0,0,0,1,1,0,1,0,0,0,0,0,0,0,0,0,0,0],\n",
    "    [0,0,0,0,0,0,0,0,0,0,0,0,0,0,1,1,1,0,0,0,0,0,0],\n",
    "    [0,0,0,0,0,0,0,0,0,0,0,1,0,0,1,1,0,0,1,1,0,0,0],\n",
    "    [0,0,1,0,0,0,0,0,0,0,0,1,1,0,1,0,0,0,1,1,0,0,0],\n",
    "    [0,1,0,0,1,0,0,0,0,0,0,1,0,0,1,1,0,0,0,0,0,0,0],\n",
    "    [1,0,0,0,1,0,0,0,0,0,0,0,0,0,0,0,0,0,0,0,0,0,0],\n",
    "    [1,0,0,0,0,0,0,0,0,0,0,0,1,0,0,1,0,0,0,0,0,0,0],\n",
    "    [1,0,0,1,1,0,1,1,1,0,0,0,1,0,0,0,1,1,0,1,1,0,0],\n",
    "    [0,0,0,1,0,0,0,1,0,0,1,1,0,0,1,0,0,1,0,0,0,0,0],\n",
    "    [0,0,0,0,0,0,0,0,0,0,0,0,0,0,0,0,0,1,1,0,0,1,0],\n",
    "    [0,0,0,0,0,1,1,1,1,0,0,0,1,0,0,0,0,0,1,0,0,0,1],\n",
    "    [0,0,0,0,0,1,1,0,1,0,1,0,0,0,0,0,0,0,0,0,0,1,0],\n",
    "    [0,0,0,0,0,1,0,0,0,0,0,1,0,0,0,0,0,0,1,1,0,0,0],\n",
    "    [0,0,0,0,0,0,0,0,0,0,0,1,1,1,0,0,0,0,0,0,0,0,0],\n",
    "    [0,0,0,0,0,0,1,1,0,0,0,0,0,1,1,0,1,0,0,0,0,0,0],\n",
    "    [0,0,0,0,0,0,1,1,0,0,0,1,0,0,0,0,1,0,0,0,0,0,0],\n",
    "    [0,0,0,0,0,0,0,0,0,0,0,1,0,0,0,0,0,0,0,0,0,0,0],\n",
    "    [0,0,0,0,0,0,0,0,0,0,0,0,0,1,0,1,0,0,0,0,0,0,0],\n",
    "    [0,0,0,0,0,0,0,0,0,0,0,0,0,0,1,0,0,0,0,0,0,0,0]\n",
    "    ],np.uint8)\n",
    "data = Image.fromarray(255*(1-_86P5H1V1))\n",
    "data.save('86P5H1V1.png')\n",
    "data"
   ]
  },
  {
   "cell_type": "markdown",
   "metadata": {
    "id": "aAaQY6v5gQYM"
   },
   "source": [
    "### random  grid"
   ]
  },
  {
   "cell_type": "code",
   "execution_count": 106,
   "metadata": {
    "colab": {
     "base_uri": "https://localhost:8080/",
     "height": 67
    },
    "id": "i2JCIqt3LabK",
    "outputId": "9c74ed95-155b-440b-8096-6041ba588b7e"
   },
   "outputs": [
    {
     "data": {
      "image/png": "[encoded data removed]",
      "text/plain": [
       "<PIL.Image.Image image mode=L size=50x50 at 0x1BAD44C7070>"
      ]
     },
     "execution_count": 106,
     "metadata": {},
     "output_type": "execute_result"
    }
   ],
   "source": [
    "sample_arr = [1,0]\n",
    "random = np.random.choice(sample_arr, size=(50,50))\n",
    "data = Image.fromarray(255*(1-random).astype(np.uint8))\n",
    "data.save('random.png')\n",
    "data"
   ]
  },
  {
   "cell_type": "markdown",
   "metadata": {
    "id": "v9_gU4hz_KHL"
   },
   "source": [
    "# How to play\n",
    "\n",
    "In order to start our game we have to play by the rules.\n",
    "\n",
    "This where the function **animate** comes in, for it is the engine of our game.\n",
    "\n",
    "We first start by copying the original board so not to modify it and then we apply the rules  of the game to our new board to creat the next generation, and here is where we use the function **count_neighbours**, for it helps us count the number of cells alive around a specific cell that we are working on."
   ]
  },
  {
   "cell_type": "code",
   "execution_count": 108,
   "metadata": {
    "id": "DJjG1qX80QAg"
   },
   "outputs": [],
   "source": [
    "def animate(i, grid, img = None): \n",
    "    #Size of the grid\n",
    "    N = np.size(grid,axis=0)\n",
    "\n",
    "    #To not modify the original one\n",
    "    grid_tmp = grid.copy() \n",
    "\n",
    "    #Play the game for the current round on the new board we just copied\n",
    "    for i in range(N):\n",
    "        for j in range(N):\n",
    "        #Get the numbers of neighbours\n",
    "            neighbours = count_neighbours(grid, (i,j))\n",
    "            #Apply Gof rules\n",
    "            if grid[i,j] == 1: #if a cell is alive\n",
    "                if neighbours < 2 or neighbours > 3: # and has less than 2  or more than 3 cells alive around it\n",
    "                    grid_tmp[i,j] = 0 #then we need to terminated said cell\n",
    "            else: #if a cell is not alive\n",
    "                if neighbours == 3:  #and had exactly 3 alive cells around it\n",
    "                    grid_tmp[i,j] = 1 #then in the next round that cell is generated\n",
    "  \n",
    "    #Update the grid\n",
    "    grid[:] = grid_tmp[:]\n",
    "    #Update the image with the new grid\n",
    "    if img != None: \n",
    "        img.set_data(grid) \n",
    "\n",
    "    return grid, img"
   ]
  },
  {
   "cell_type": "code",
   "execution_count": 109,
   "metadata": {
    "id": "MAn0BTpYIIU_"
   },
   "outputs": [],
   "source": [
    "def count_neighbours(grid, position):\n",
    "    i,j = position\n",
    "    #neighbours's matrix of the position i,j \n",
    "    neighbour_cells = np.array([[i - 1, j - 1], [i - 1, j + 0], [i - 1, j + 1],\n",
    "                              [i + 0, j - 1],                 [i + 0, j + 1],\n",
    "                              [i + 1, j - 1], [i + 1, j + 0], [i + 1, j + 1]])\n",
    "\n",
    "    count = 0\n",
    "    N = np.size(grid,axis=1)\n",
    "    #Count of the neighbours\n",
    "    for i,j in neighbour_cells:\n",
    "        if i >= 0 and j >= 0 and i < N and j < N:\n",
    "            count += grid[i,j]\n",
    "\n",
    "    return count"
   ]
  },
  {
   "cell_type": "markdown",
   "metadata": {
    "id": "kUePW57jEHDC"
   },
   "source": [
    "# Let's Play\n",
    "In  this section, we define the **main** function where we upload the image that's going to five us the pattern that we  want to start with.\n",
    "\n",
    "The we are going to apply the rules of the game and dispaly the results of each round in a **video** and a **Gif**"
   ]
  },
  {
   "cell_type": "code",
   "execution_count": 112,
   "metadata": {
    "id": "hhbfpDsI1dYH"
   },
   "outputs": [],
   "source": [
    "def main(image_name,fra=50,I=300,size=50):\n",
    "    img = cv2.imread(image_name+'.png', 0)  #upload the image\n",
    "    mat = np.zeros(np.shape(img), dtype=np.uint8) \n",
    "    mat[img == 0 ] = 1  #extract the pattern\n",
    "    grid = create_grid(max(max(np.shape(img)),size), mat) #create the starting grid\n",
    "    fig, ax = plt.subplots(figsize=(8, 8))\n",
    "    img = ax.imshow(grid, cmap='binary')\n",
    "    ax.set_xticks([])\n",
    "    ax.set_yticks([])\n",
    "\n",
    "\n",
    "    anim = animation.FuncAnimation(fig, animate, frames=fra, fargs=(grid,img), interval=I) #play the game\n",
    "    #anim.save('output/'+image_name+'.gif', writer='ffmpeg', fps=5)#save animation as gif\n",
    "    display(HTML(anim.to_html5_video())) #display the video"
   ]
  },
  {
   "cell_type": "code",
   "execution_count": 113,
   "metadata": {
    "colab": {
     "base_uri": "https://localhost:8080/",
     "height": 1000
    },
    "id": "YG5bqxFRgbjL",
    "outputId": "1bf4975c-a8c9-4089-a337-25948b913ead"
   },
   "outputs": [
    {
     "data": {
      "text/html": [
       "<video width=\"576\" height=\"576\" controls autoplay loop>\n",
       "  <source type=\"video/mp4\" src=\"data:video/mp4;base64,AAAAIGZ0eXBNNFYgAAACAE00ViBpc29taXNvMmF2YzEAAAAIZnJlZQACAMxtZGF0AAACoAYF//+c\n",
       "3EXpvebZSLeWLNgg2SPu73gyNjQgLSBjb3JlIDE2MSAtIEguMjY0L01QRUctNCBBVkMgY29kZWMg\n",
       "LSBDb3B5bGVmdCAyMDAzLTIwMjAgLSBodHRwOi8vd3d3LnZpZGVvbGFuLm9yZy94MjY0Lmh0bWwg\n",
       "LSBvcHRpb25zOiBjYWJhYz0xIHJlZj0zIGRlYmxvY2s9MTowOjAgYW5hbHlzZT0weDM6MHgxMTMg\n",
       "bWU9aGV4IHN1Ym1lPTcgcHN5PTEgcHN5X3JkPTEuMDA6MC4wMCBtaXhlZF9yZWY9MSBtZV9yYW5n\n",
       "ZT0xNiBjaHJvbWFfbWU9MSB0cmVsbGlzPTEgOHg4ZGN0PTEgY3FtPTAgZGVhZHpvbmU9MjEsMTEg\n",
       "ZmFzdF9wc2tpcD0xIGNocm9tYV9xcF9vZmZzZXQ9LTIgdGhyZWFkcz02IGxvb2thaGVhZF90aHJl\n",
       "YWRzPTEgc2xpY2VkX3RocmVhZHM9MCBucj0wIGRlY2ltYXRlPTEgaW50ZXJsYWNlZD0wIGJsdXJh\n",
       "eV9jb21wYXQ9MCBjb25zdHJhaW5lZF9pbnRyYT0wIGJmcmFtZXM9MyBiX3B5cmFtaWQ9MiBiX2Fk\n",
       "YXB0PTEgYl9iaWFzPTAgZGlyZWN0PTEgd2VpZ2h0Yj0xIG9wZW5fZ29wPTAgd2VpZ2h0cD0yIGtl\n",
       "eWludD0yNTAga2V5aW50X21pbj0yNSBzY2VuZWN1dD00MCBpbnRyYV9yZWZyZXNoPTAgcmNfbG9v\n",
       "a2FoZWFkPTQwIHJjPWNyZiBtYnRyZWU9MSBjcmY9MjMuMCBxY29tcD0wLjYwIHFwbWluPTAgcXBt\n",
       "YXg9NjkgcXBzdGVwPTQgaXBfcmF0aW89MS40MCBhcT0xOjEuMDAAgAAAHy9liIQAN//+9vD+BTY7\n",
       "mNCXEc3onTMfvxW4ujQ3vc4AAAMAAAMAADf6DFDr1zFMesAAACogBZxORp8JpT/mAbUhcpTg8tTT\n",
       "H5KM8EeNTmZupLtllETOLgcbs4REh0GFTl+0g776o2RjUqiBWD1qrLKyLVV1544DT4VDUnsX8kUk\n",
       "MEy1mIw+VHp8dCneTVlbVb7wPFaBX5kOUw/eybIQbHhhbcXpOrhV7GiRXaA7Me00TlvRkPHQWuZq\n",
       "Q1xQ4TWRVGLIC/0JnE67UVXx5bBPqwh0VLLa2rI9vu6ME+mMMQ64gdaB5e/4KusZ/WakSnU//XGq\n",
       "ouxafimpKkSvBZKNhZMPO7oW3YhnHC6xvYOjlxTv2dRlbRafaK3Pp3T/8ol4utlg+JpLmv+tCiM7\n",
       "SQpDD9cPRK2P1HRyp3yYyMxYf8BacpGC9qLjjPEmz16R5BwTGdTE0hlIpnGL5WjBNck3xCodJr3Y\n",
       "gqX9BcAcZNfn6252wtUiifnwsSdiujgBBtsKoo3LNIqNm+dN6IZ5l9okzHEmwzAubpelF9JUTiQl\n",
       "Mbp7Fdn8oXxmIuYQOnK7KnG5iYy4auACEuWPwxSIB7DIAgrmfoY/gUyvimKOWvlNXEnNZnQ7INKw\n",
       "znttbRW8OVzhMHhpWh1Ep9VPRztlwQhDS8T36rOPA/zH71OkqZ7BrUrOacj8lZnAYbZHy+CHiagP\n",
       "UwLWw6QW8qkceX9mmkfoYDR+vVQHRzFg8cp81qdWw+gqHSjKpxeRUQgsU6UmupoAWWKQD12YZTZD\n",
       "7il1hC47cMhyhOrfmepTRr28BAqgc5Jbsm0ZfBoAFXHaAKerSAfpDxHpbJ0cri5JeJPauIjURKck\n",
       "fpqemRInoVm3HR4AluvutAwcPGFM13f8d8W9alc+dFfXecgkMJd7ihRJ3dmZam/tjhe4oODDRz9h\n",
       "r/BKfGwPTGXkZeL3ZiaHx9l/6afABMydxFN57Aq85fjlKDI9a/z7GjTOXKCvf2sAhOsTxmGazEWq\n",
       "hasePYJ7QqKVfpiIWfngrLkP8y3ex0STSweSzfJPd5hqVPAt6NYEeVzLfDIPE0vjF7Hw2E/iOLEW\n",
       "4oqGuXkB5sxp8gKn34SJIzOH7D44U6vkcunePHv8am6VpqaiL3cBhNo6WtQMc98FeRBiGUcsA4QZ\n",
       "4xRj3FafTFARhq2gvNK74yE6zJ2qr608Y7YSUImc/ovEyxtP3snHky/waq2wQJDA2sDAnhaTVjVK\n",
       "hqH0SFKesrvxUxGOPPMVJW9wRH+hvFf5vkLDHAcr7bBrFGi6SqVffYY67qEJPMcGqc56WWvQDn/e\n",
       "uQYfpbGDmb7/PPlyjshPNgknmVN4EIokvszNefQkNdkCi4aOGN2iMjQUbduqO8qYF+ajsHvp2nYL\n",
       "piwS2K+Z5JvUVXiq9WdyCE+Vq4efeQr0UbL4bm3GOVn2RzbgxsgAFcH2LaOqXY+azUd3jHcQtyPk\n",
       "5i/NUppO5KzuqTi2aOFSwgq4MkP/PxY1O6sEWNZTB4zMs0KwefsyVYFbcaQQNsbnfDr0lOiD+BAx\n",
       "+T35bwVwXyrFEdd1y8aMDCDk5Rj4Fb3VEN1YkGE6dWCBxh4+CEyOJ873mbDygq5RAYPSkhbVSo4/\n",
       "BI3gL1NokfMyCZDAZAxWOpr7SxSiypCdNLZlr9UtlkbpigxgvzCXNrzmnQibFDgAmHjzvimMy4Yz\n",
       "5+LQ/cqdcNLdWtXHjn+Zq06MZoV91SKrQzDMPcJZl2zfXIanolF7GzJliJS9x+eWOULwMMqChj35\n",
       "0anbxVo41m1fsqnBOLdXZPv81D/z/t8DpyRZx2CV96yfBGM/AfVDVlea8yJJKCHFi9HNTWj7P+5j\n",
       "JQJoluOu1flOlbFmEZcrjNPfqrO1BDpdYRZtNBG2N5xD+Hw+D8MNDHKi0+KE4A7uvOJvZR7QaaCg\n",
       "j8yNh3uZCuh3TwRDB2ZmYPTqjGGihoOJqnQLQ13ectIs52YvnnRBOgDAmEMYzW5o1FdKLHXcA20t\n",
       "HNBLYQ7HSqG1Eaew114agfAuKiVwqFYowpzw1q1SZVEdnkQPopgiBhoNRNejvFyDiT9/byjk2l9G\n",
       "XXdlAy9ZGXbnIO7hmfPrP6Hk14+uTQPWmqy3PZORHFIXLmhMf7F3Pwip/X/Pi28pOurz5nX7Hzm4\n",
       "BT8Vwc0dAsKlUqlDzdTnjnudXNllwCrQsdzYnsc9HPAFmyw4SyAzvQaxlt1KLWvS6zAKrOKlLnWv\n",
       "0/q9YO6pmEhLiOxxzCI/Cjrk29VD6K5J7m5Xhg4y7paRomQuS7MMH+fbx9ksBwEcTww2itf5GsdD\n",
       "ICf2FK+mYtvWaWEeKd1ePTV0udYcIktpql/46jdCOR51QQ+13za7rYqErOhhy/WfMOfl2a6ABOBl\n",
       "YlqaEtJ3Ammr7PiV3f0aNEmHr5BL8iJysOccABUokYTLQ1//82fqBttMKZF8pT6XogOtkQmIpmI6\n",
       "GlULDyd1laATesc3HaWKZJpxZq8YJHh6zzhUIo0gdCI2lMywSUk4AX9bSSo3fAMF9yUR9Pk9MXHs\n",
       "BupaYhGGHlm7NnphMK498aTa3SBgEXAz18soD+ci2PEcHlOCIXCHF6y7ew9N1/lF16laqXe8syuU\n",
       "vAJZ93b+UAOsxgvuHKPo2GZTSZm4t5HgD1dE9FmpTU+3qzLDw5GNYPEus2xSEfH4YZzVhoR5tRBE\n",
       "g7BsR6TkOmTGMgw67gU7U7VG8Y11SfsrIWe5aqTaQvJ3jvE2UMrPjCZkQZkz4aFl7htG1C6SLqJn\n",
       "8Vwu9Bi/nrfNUrhluKGL7Tozvb/tsIq3Ze7d79pfT2YfYEVawcvBVJ2fBJppg7F8jJ0qsK1XcVNM\n",
       "syXkzcWS9tYNrYMgni8xGzBTE9CRd6OwC0vM0wbbIAJV59WAK/DN68P1eNWejAOPYTik8T2Aeznd\n",
       "wRabf+7dQbrkVG1WJEf91FLhCv7FbKyJO2j/XDuVppaDxe5HX9LOWBvpInEAVjJD3foSsQPgUXTQ\n",
       "O3Zrp2MgmcP4yOyOZTx0XW1efBFIfdH+E5BPS7mtbxvHLB+Sx5cJkgyrysDle/xhKAhFWKSwBiTQ\n",
       "RyJTph0pnFyLaXmEDF+4LEZrX6m596Mx304KyShx44YMbRpLemMRTIxoCx0ND/T5M8PeLGr4VQ3g\n",
       "f1MbbYyYXG1PMBGUsl99KcVWo1MChWHo0/fqrjM+qpBW6B8+MnI6HiFZT6CCLnnBaGsnowlCJJdH\n",
       "Y3Zjg6fB8jcTsGxDt+muItZjmsW7PKXU6d5JHACdOdyErOYnxqC6wIGFB7KuBjcplAzgeGOB07my\n",
       "c251IeIyjNC+6VIIZvGDkEtTnlrI1eU3/CUsRRQkbsyelEcSFO9hSIwYZSYFBdqcCtS2UNFXh8FY\n",
       "yuXFhLNpnyAUYLDXTB5tN40S+RBytpuTvpotGRupHOKwekO5Q88vy10ElnclAvIjgaVwfsLKcc2a\n",
       "Ro8hnSOPQZot+UP+I+1VsrlomhmGPIBHwCJqZ/oDGfiCI3iiJYmgngngXTGFVB1P+0rjTSqp/Ghl\n",
       "2y2nS63InnUKXS6yJsXUbRznA8lNMpDrftUuHP71rR+8ZHMbo1sbbNInfXuZyNMWml3p4n/in3E3\n",
       "ZaTrnMEC5L2jqzu+hBTxZXxPFKnE0Vtg7J948dQbGepudsOAKqxS3B7cuhrECnx4OahL0DdQmvmQ\n",
       "3oDzVOUwNEeLmUWx6J1QxkmAd6SQJ/YG26TZ3pWyjBoEpDthJknn/azt/CID0U19nqaydEyv9VUA\n",
       "57FJq3QHqIkwIEqOoSbZiyjgWxOtpz991HL3LeTNgvW7PoKHxlZurt91X5ApDU7mb1i7XYS8CzdC\n",
       "5oO3r23jVY4BUL7ON/Ox32Rjscaaedv2UA5eOk/A4sqtvqu9OAa4tMKSgt4yL2wffenLIkWdWpdj\n",
       "tm+Y42gCTZD/bMh7gcJTUcEKVo6uPGWgMZoJcod1vTjuVaK8XypvhhA6Z5SnNs0Wg49Nxay7qK2E\n",
       "Vl8JbRbXRkUUK8z0wy5Ez3mY0Fo8BPt3Sc5ZygMsmywA8H+8WAw5jlQvQKVtVZNeClGJPnsxaRXW\n",
       "RfvSqpT7jYzXuFQl2PKCAOcmdpUZXBGsE/MpmiX8KW4YJPLVjZV7AN4/QKBfOxIgVWbwALxdXLlk\n",
       "GAqquXOpg0PqtT8OTiBHejBJG8DYz9WPzGUanXxc4XZzvJ4jswgbMLYe4CwO3lyp4AZhQFg5YpLZ\n",
       "IykrB7RUs9m6o04DsHFXpWRXqOyNJQLby7N7hC8Xj7FwkqOpUsnPZ5yuIqJJJnzZFO4v16371aEj\n",
       "eLlg76grLpB88r80zhuDXLflMqWfJZhteaMob8OCByNBzipwFhWD0OArfu4XRs1oO8A1ggwPnWyu\n",
       "1pi6UyCjrzZuQiyyn9BvISG64AXMjbvRg3M96WMHjT+XZOPJOVqOdytQAXZvTfZ22hA6OARQYe4r\n",
       "StSjvsa8lQKUJ2J/a40dLUbmADeWTky9uoskOIlqI4Au0ISkasJdDzw2YCsv3zRrZm78hugjXI3b\n",
       "d/wVBH9+10uXwFLn/cBlJzjw58f/T6v40OHfuGAUDG66cotvI9cB49BkOG2mEOPLQy8p+m6/NFir\n",
       "115g3qIRClcLqxBqB+vdQJJwtG9jJtEs+/dAUe3wCEBRe8VfUTismpA5IsvMnmnw9eTIpS5PWlsb\n",
       "EVbS4QIejGe9UBl+5PZHDqPam5PZ90KtAV8/chPn8g5IhrXqlPhkrUOjtG3+cCwA5KhjKTkUvlZV\n",
       "k3g/tpGCe7vLM8TKrIhfJc4MTKtG1C2NWkc5Ic70AQEnXhTVhCbr1TF9V06W1LSOthVHZDHSwcEB\n",
       "y+1k60vwYVQAlNA/enXIf2/WcCammN2CGg72UttpmMm0SQz6kOMT+uFYXbCguztcDB8k8xf5CQd/\n",
       "JJ9iwbPLU4qoZod85LtYEhnJ54sEH12zosXbatpDKQGdkPXG6AD1y13oDgfZjpdPWj8NkB/1Rje1\n",
       "5zQjt7TMv17NFeSae3NB5IVF53ZiZ6fI49VNDWFXO87DA3fxvwX87J/QKNXVcQiFFNleEcXFHpN/\n",
       "IU6Nb8oASi09i2C+MsrjrS44JsY3Cqtgsj7iWyTw+88u2iPIsAEr3XVb5oG/kXtmsXGBLJzPviyq\n",
       "2pA/p20yUPTIsccm3TrVgQdArF/HfKMGsHe7v2KhZkmjOjnO1R1yfVhRidGXAXP8h3jH1F77/bG8\n",
       "MXL96xKiQP7cSFD+Y7MTaCwfPFmeLQs/DohtFkRRXoDOD9/JqT7u3vctMe6i5jVOvQZ9EJ6gGa//\n",
       "lzqpuXwpAfPgD3SguofzageIM5flSYl6nBpVaYuEGNXrHSRhrNY/FwPXTGSHVUB32vDYFl9rdh3X\n",
       "0tl4JTEIO19jW8Zv/ankbqg4BA75pti5zb13hsfVxiDF4kaOlBT9tbFmbij7cp3ysXXMX1JiNT2L\n",
       "X0QnFtRJpeVVPKMApcMyqm4xwjgoJsf7KijOfqDJQLJOmvWIhSQU8EgFpD6IkGcqliCzIKsxMv6e\n",
       "7zDvS+zdkYuFvCcYpQxHI+8yB9MnxYau1lQhPz8QesSnsW/tWRBMhyzTq1/kqzk61zZp2Dxbuq0g\n",
       "OvwgCl8sKwuwPIUMuua9H2sAOq6EzpCYb4zJ3dvDG5fEqLQF7HtTk+xWaGe6DXnN9vKLLUnEi8xj\n",
       "UUMj+dIVpya/SUUsxjN3TpXnfINawaQrRST5Ncu2gsfDP6rJj5HFsFoVO0bPJ+2Vw0oilZnRQCea\n",
       "ytk2oU8hu9RSM0qLMd1UWK67J6U7vqk7/auiMx2yZmZnwm9LMCFoNJGHP0DAcc8VLFpDTM9F2KKv\n",
       "kHYyW2HfMtA+QpYiw6OqeJgiJWLHyndA5OU1aB/H1B/kYf53IPU/pDPgRhL/n6/KDsGMSsKimzow\n",
       "jizcVMAT+maCRA6l83mWalNn0VNlzffnQLOytSCy7CdzKSFkuFZorBXcZWoC7Xwwzp23XeYxF3bW\n",
       "yGjg1pvrl4OLaAvUJnbda8NeVSaaBCkBhAau8xV3sLcAIzfv4Xwvgk5OlptXhqX9CvkL3G3NnyEr\n",
       "vnANYzxyLyyAnDVanLQaUizkPPz1s6sGmt+bT/ePhxpwYPiNL1keIAphzJrjNFSaXz5uopIqMXCa\n",
       "8SZbutmau9SfTuFUpa4fylqTS963cQJvHQXVL89fnYrze5Tbz68Kc7fW+4MbGuZJNdB8iGmogXUp\n",
       "pdj4aGAZ/g/w85BXKGIyirdWlCUC7fl4JS21dE/kXotqm3MG29NDP6t2/S7Pbz8MCPPj2m9VNKhh\n",
       "VP8SBeD+EZuDXPUPvJVLyu0vzq0ky43eY3X+t/R8hOA/GRALcI/YG+Dv6Bd+WzyJsG7GxFAy1dyU\n",
       "EKX2tpGCZVgaqnC1VUaUqZsCY8cNOCknj9+034kRFf6CJxuTbqzXevJHGIU20FFq0ZE+ZDU69XDV\n",
       "B5mVrTeCRG7JwWUgmWYTkCLfK/4+kYme/6XcMxzYeVU2gjoo2PUEYyuiKflX7FkJ8xFuhkMJKg5s\n",
       "3urA0/8HpnsJUwABH/Z0HjsQ2HJxS/Kk5q867EOxj4JTdxfiPdEb6W5kqXxUbPP6+semO91rEXLg\n",
       "xMO87xryAVEoPpIneRH5AM4uNJkSdRICDjgdkiD5TthOTuxRl0L+zHTgvOuoXvIg/Cl9dFzdown5\n",
       "JdxDeQD0P044DHN4BbK4WiVUd2hLilMqnaKmA3d8/gJD5JFWt7uN7Ofz+xAPuC9Ut5OiFDeird+v\n",
       "LceHuwQOXdg2CoXfCG9tVQhdyAAL8v34qPUe8PX27Wm0C8krZlfm75NjKjMbWJG1U2HPXWaJnNR7\n",
       "t+3uHfnrxdVl+GQrR8ZMAEYErGi1Tbaf0M+9AF1FKQtWFayjZIWDdtoQ3Op69kV08aa4dW1W5b9b\n",
       "FXHm85px8AfvvCdN4zrTcdLTTQX+4MLvuWm4JI++aFnsRJ1wghwE+XfPUjztrFYfdVE0cq3eoWjd\n",
       "VAlTWujgi1ga/lAhz6RJcgXbBp6ILHvsbG5IjHlp4cDKSoIv0GsYpumQMIgtpKi10Ts++Dpi73fj\n",
       "zGhqhaY4vp/308EEEPhgrzYTcUt0iVeCNN0gQFfOEskfzaTri8abVL6In/bk7nJBM7jp3Zm+O61i\n",
       "tBSm+I4aCEgi8CMC47xu14qdpLkDhc+wKvnNgU+JvEkgy2P3Ji/on7SmTHDJuCeQTfOPC4rcTjZk\n",
       "QNMOmXEjw6A9DmPeUq5pmozNaivi+gvViablqTq9oBm5JxExhAnwtNQLMd3ymD2vVD6UQgHsFg6J\n",
       "3QcfS63hnfG2k62MKq/PsPB1TBn6mmq/bNIyyeT+BlhoaUQVH/ciJ4clGsoNH8xPuuJBqEsyVzmo\n",
       "sORRmaWsgFtei1x0lsGZ+YF2/ZxKYoLXyRPVoZDQLfA+bCbrBi01AZwlRUf6S6NPS1BjgfDCYSQo\n",
       "qYZIzlZzYlx1Ao4Q6uFuw1TLjD9yuddCXsD3KhD5emWqN/RvraGcn/h0fnURWI9p3KiFfCOcf2qm\n",
       "TdH2yJzcHAEOEZg6DEzMC2xnpw4pzaBekf1YraJaL1iJwMOwV9MT6OGIVaKoVoN73UNCKFpvkVSD\n",
       "fEKfoeMKcJpApqvn0E6LlRndqxISs+AYnk//fRCNGBOJaklUL8Q1IvPTp9FE6Y6BCLmcyNZG6nW2\n",
       "2FoNyBoMYoeH+4xKAT8BXDY1u97P1weYgP7gO4TQWe/TykcQchQbqDZCzfsU8NUtc4KPyAF8kvIN\n",
       "P+pJmr4AVaqmTBqIUOjfBCOVSAydGaqEbuSceLHqAHlWq2th8XcWE6/9YB+sy9oSg5Mo8ug9l+F9\n",
       "mMpp7gK063U8BklsCiGbGcC43zVgkqX4ZyOt9M46igIMhzy8IFyyZofqroAOgMhe3m9z+tHDCgNq\n",
       "32Buf/h8G3oBjzj/kULrXCN543+WXTzE91PNWFDx/H/bXcTcZOM3uP0w0AOP28tE+/DxChaVfWjb\n",
       "RzrGtkkl3G3X2DQTY3ZxU5gjzXjMog04gOPLjCcMwc45Q/TZmqmU7+iPD4qVztZUadCnPGK+EGDh\n",
       "OOpoQ3Tj1tLtVKbyjZ6yYdiNXKzzui5OegI5lYhd3eW/wlCoEU9EDFrJggLwdywVWLgbrczZh/q2\n",
       "FphZELhYnrXA36lUHYz3DTJVL8B1DBDFQKewea3OQwViA/5ScAAzNCMKjtkIaIlyxXQv/l6inrW7\n",
       "EwJzoZtzK4SYnyW97mPFPkAEc8ZAALvioRnvIh45KzahXZbUZ9LL/huYSqyuuHs5qzmxHIlNaFjh\n",
       "bYorcajnoD9jM7dJ9nmJx2f/ZDSIi5QN+STOmjiiTw36dxOVqXIOAQzJGJUhdkEBw2OA0rRP1oEE\n",
       "tHKlyEvH97kVha8EVPs28Mqbrlw+4xYck42ivayEznrrn//e3Bzky+/BNbN6lzEK/IRoDVPGuyCd\n",
       "dTTDJm+m6Wi1htRh4NknvGqACxBEc1KUvL0g33Pwff0ABNnpcJEWo3fa0YvaBbzl7msEhaEhwko4\n",
       "4o0t+xoAQXHzvag3UtpRsuvAy9/1qqXvhoJvK+Ze64Cw0PH70aLtyRylM4Q6CVPikNBswCfGQ+dm\n",
       "rTJ5LHZM0gQJwu2eGinSTKXrP53qIsmYAdSCSkJKL9S0pJj6KHynhb30Zf716GHkGipw+ZFuRu3s\n",
       "8tos8R1K89RbZXcZ/iRHXNSdQnxHwux4nTKohGrOP5RY4Ns3FVHlJzzystEjXtDyAVR/OzWhVvq9\n",
       "sBM1btSEAavHHjO2JJnwV138giRR5ENQWS3waQYOW3vQxt2K96f1b8riz+pXpDVNm4xp92hCIZQB\n",
       "eqmqYoZeEUQ53Kz67Reg07QLTVa4Vay5KMJyPVxmcfjxGSfS7B0nDMC5gpjBNZpgu6K4eUfV3nYV\n",
       "cgNG/43y2d0t5cCM6ze9uYPUo4WjJ4CM7OYX4e8Zbsbod7Ob7oEa+bYGbU19wMOPeda+FFTDn95U\n",
       "uwrAfvxMDTmYaXJq+3vtlCJIez9LuHyQISp44xA+e93Dqm9Egr8cvFTkKCwUpbWVAuG26FDS6sR/\n",
       "ySrBvHw0Hh7/w/V0gRvX74aDFqASlUXGvb1xsUQ1oTaKKVz/LnfvXsTnNd9hs0C7vdcHz85g1PXu\n",
       "gxxm+VeGc6COlIx03l29w6SH/z5vx62kojGaqdKUFDcv+h5rHqtP6ShGWopg/ECcDOX2rogpbs6W\n",
       "VMdpYH5F2CWnqzOsnIIwOqEo0Hif9AjaOGRBNebpghI8HhqdI1vCUpxdq84Juf3jfejh+63pDVT9\n",
       "Ij1HhU6dt1P1u8qlgGUBgVMy/3BKk/ExJvKPLBMXGuVPCQ4r0+ITycoCwnx8k5abEtFOewzK1NV2\n",
       "GBV+820A8cRUSCBa3gvVfgKABcSzpLF4P2aqXRaoFLd2/jyOIm3fkUBl9vLQNv6e99ZyplNKyI6W\n",
       "VfPyhEmrdjr0xCMg7WsNLw9tNeXbyTVLiY+UYRA3euee//q4JbdZYxPbml4bin97TBfShGaAhvyJ\n",
       "kGJIOhbyyzQAoXip2t+8exMzaW3K6b82ZdYUhzGm21zxs9hmYKvtCiVkc8E8j7eDQepKrLlx7iZq\n",
       "VIMeepQQgybyi0eG8eJE5B7zRph6EK6OdD8zizB5lXpFEmOM8QnGbD4z066oca/n1XHHicjh1NNe\n",
       "FsaZ0DSVvVxTPfFS5WFoamlC++GPxlrRc9OOkBQfea6ZE0/TpzZsILjyTAOtn3iMgoMK4opWZJw7\n",
       "TxZ0HzASEgXKGas+G/syX+Ij1IRi4684IK0T83RnrFHtP62koi92cxfeSczQEPcQRDV+Cg/Fxn/0\n",
       "UuiFkVt6oLVGDiJzYwaFQVQGQlXYA970xI1db7XW4/IDTZQvSNLa4hVzptEnih6eajwcDzcvptfz\n",
       "nh88Es1BK0sFs4ffPwoMYXMHiw6hVRUww91w7vShi5EuoupFehb6lp6HcX3s08sGw8XyrxFsBliP\n",
       "e3qZ2Hdvzg4YC9O6aYLId9UjfFFpzgS2fx02ZQxUjlfsuLtHq0dNVjYLrXYQpQcXiGxyLlrleL34\n",
       "JctLMknQIE/Mc9YTEJUneDC6n43yVp4mY1un16iGhIg2lfZOY+/1jooXfVuCvH7MtZDzmqx2xIKb\n",
       "5QAlXau1OqOIFh+ewHG5EEF/OiXpXSFdb8YOuGZ/8A9nf2t1Oo7yo22K9HJs4oVDKf2k+RXzVmti\n",
       "pdvD8qm6ypVhFJruXUFtdSRzfcGPhGl8bZcVWCX8mgjMXQquEONsz0XCSGbBLY1CB4046padoWCK\n",
       "EMd00zXqRuLB+grvlOSSQUipvs0+OkepsAzETHdwnCD/duRR/lPmvZfsQWq3095MPu+JaSQt9qU+\n",
       "T6hwEDiYc2lzdIJ31QtT+MXZOtM8WH6ngcPNjCJnDDgA1ZbsOqAKX++BPoOW6kTeOZ2LwgfLjskB\n",
       "Ju0FMVmf3Fj/z8COdx2QEtk7/1QoRHP2kUHs+0bkIm78TzG9k/VYDLHpCknYi2NzM8iZSjxx48ZY\n",
       "DgE3oHxxqLyz1DxAKy1hV0WRFx8vFECRwzy2mdtZ426bwLonZVzpeceE+cn0NYh3/xw7vEbSQtSy\n",
       "Tn4R/aAK7ISFQkXRzIOC7qiRk/3Txs+r4alIdtyiF8asdxpl49re9TVAAhB+u3ushKaNBzi2hS3K\n",
       "ndgjilYLwSJ+yoYshJiATW6fnjBpn0wPljU7VICYGaYrgAAAAwAAAwAAAwAABG0AABfMQZokbEN/\n",
       "/qeEACTcb7wzhU0AEfveVxVKzjMCQLv/Ky+21MacHqa5VuYw7PmktOUdNfN1ZDe0T5egUiLVkjnM\n",
       "Pg2g1euotoiYCQ3i1Ryp6w9wPLgEvg9SroafQ26fD27rXXxY8cwimW1Oyrbl6QS5j8aMJt50S/tj\n",
       "nO8V/8kO8yUnxT1W0rUJZp0u4ySmt1JS3/sYUtQZk3NQegcTAgsIUmy/69Apcrw61zZmj/j5sSZK\n",
       "8MizhPtPu9pFoznAH2EbmB0tuazNR2pi6va76+Yfq1McLflaYYyNjMn8xoMKWUcUvTWh++UEMPhJ\n",
       "+F6/ROJSaoz0LiYXJ5zNMj5I1qhetVRc7LCHXC/xMLselK48sXr072yZ+jaGWpesEbjcp0SGaw1h\n",
       "pmZ2UUu67ViJF5kojRHL+YEe2DYRDMPMipQ1s3SWgtwZ/VOIHvYcbDv+ghGBbur4G1khzqevDsKN\n",
       "d37SA1lg4fXE4M2QuBX9ddH+XfgkJiLLxm7PQxTb6ayCFIpdC+Fz9ZACPYVYeJ2IkhNZwi4aOcnm\n",
       "WvFEuwGE+V+rjElj0cVQ9OVfQiFlKPjXZF3/bblbbopJZ3KGPn88xJt0IEZmAsrssE8hhGsS3Aw9\n",
       "IqSQyymBr1sah4mbIf80l99ctezFVkGwMWqgw5JsCdNxdsIGwZF2tQF1MimuHtrmPMncpmSQLdnb\n",
       "7ofePgdLgR7GA1QZjeTQdhV3IGtd8Q9r4r++HX/IqokSsdomHdFSNb2JbnalmnVJctWg10jE7fAe\n",
       "1FlemhR6iR7sV/dWg5yAM6u3Za5nlrdnYH2ELjQUiL4jzK4W0mihq7Xi6iNqwu9QjZ7NsLTcRl12\n",
       "lcBWRjL/Ug3+PZGIvpJPKRKFxf5K2C4jl4RcWgIuY6OxC99HMxHxOSUxg/CKj10FV3Io5FvcMdNu\n",
       "54IfcGuu6Hg9OcAjqueBoCA9Af2Z8fbdrUVYdnl00ULSy3wLlU1WLn1hFGt4EwFG8LcRQn1ZKIGr\n",
       "tGMqreLfpDCPYxDELsqUdkBcpj0AlDhysBFdUQyjfr2IL9WjF3r4P/y5bScpHLZsd99J8sXRqMoe\n",
       "T/JUE1wPILjRdVnfiiZo8IdNNuewkamu3a1GsKlhVyzfFf6hF7EPmi0YEeTit5QJM1+eDwloVV4b\n",
       "GjYj7uEF7+/LyAbgVipFNknkkoRbsm0U3Yl5Em3mJHabCVjQYNv/G3RiwzJmWGIty2hK7EHKrF+i\n",
       "bOhhY4LWp4byVm/XSAtHciNcx9hKOMiDp1oCCwnOz1UcIlr6jmlZMBA6sKxe+kQX6m5B6icrnJQV\n",
       "or02l9PZ2CeGhi6RLclOzpqgmTlhvLBZwSUHDmUWFg6blQjEPA3lNoC+ds+zRg/+6p/xvFcepiNy\n",
       "//YRhHy/GYHUEGwCR4QGc5s+w6PGtV9IruxrEStNp1BpPnWT41YTzc5nROwUHam+GvTD+Tzjsopn\n",
       "nP0DkcF4YL4K+n++WCyR+Oj9/+r/48hYlok2VEe6hFS50HW7L2sdGYC6Iz6uiGJy5SXe4IvHP6nC\n",
       "A9N90yA5W2iZEIj32XE0WsSQrJdyVqYRUViwVj6PmJN1zmKs9E66XCk13uwNO27AOY8t12qKLOnl\n",
       "PmMhiQsT2kfvGCkZgtosGuFpHyUk/PzGKkk23DFeIPSHRROdctxn3bVUiDg0qT3Eeq1CaiozI1+r\n",
       "V/+8EFkoCHskQZHVcNmD1GbNSACBfR+LSZhA0F7XB40m7MZFM1dstRwJkKEW8GSkos7WfQjc11UZ\n",
       "N6zVpavYJLML0DRuhfLG0S6iYwSPzciAPRIseg+j8jx7OjFq+sV4uAP1ATG0C9WPooY+YFIeu6mv\n",
       "U/bsXCxavxJRiXW8ajGyh/dQFG3S8DO+EUA+2uTNj2Fjget1wM05HBnSi6dPfYSgD1j+fcV/hOdd\n",
       "rFRvaH5ZRQ5RS77iu73qU/wJXYv9TbFafiAspHEm1tfQiTmfv5Kc1DjMhA8RgG9FacRaZCou0IAW\n",
       "aGOAw/2pe7JDG+I07fGlhknHJeRlofJpNyX4wTZKccDfDXrEyA77gT3hYVj7dEHe6xioBJhQAk9S\n",
       "aLwHYBmsNXxPfWOI8I5K9AkjQaAdrpqT91U0ThZ4GWJX5nOoYyTBftNHtzCfoDlS+6RvfqcZrb+7\n",
       "NAUKFRreSXGeb+qDUGi/edsV3YrwVatIp7VoQNB2UpijtQ6XbsShUuoGIDUijsUOQonH5acg7QUj\n",
       "h9LSeuhrYzYnuzyfEy1d91k9hJO+AFjvaCG+noiY6ZYqVixemYA22RAO6R70sGK0Dd8GXbRb70pH\n",
       "Xqch/QdcVHB+6ZPMhMcvoyh0826Qlb/XAx5ifYZ1zbMSKNwVbCgMlZ7Y+tqckO7SZfu3gvdUb84y\n",
       "fxvSN4OshTziLwu8XsK7mSkBRfs8UJcPuwENfkIJ4Qif+v/BJVH0ZbrhhgZTsMt842wLwYfTY24a\n",
       "77EWuEWiVCVZhZju1EZtBsnX1vaBHBn8rbEAgRcBeR5dqONyJcGe39kY5m1vz4QjRSJ0xOh0jo0e\n",
       "BmlG3hKVAQX4Aj5bgIuaQYnDVe3SQFqL6gWWkdy95bI235zT13pHdcbE0JwrTaT4Lk8bicOg8vP2\n",
       "yJu3z+MS75ZKkEDLFWR3RdgSIlrQlo0O1GfDTomtJ+nGnmtCCuIAwrC9OBh7pJnPn+f7vWRaspMK\n",
       "dneexXMRfvA+//GZcjLbDX2XfW+EF5JVz32GNTXneFb+6LNaY3z6LEvf2Bb0PFsLpngbX5Dv9A9X\n",
       "wnWJNXfOoeaAZ9ZzO3tWWsNMUsQIx+Eq9M2BfJ9Lm68iTisrHhCl4slandtNDBFSwp0cZN20+10F\n",
       "xJC1B2Ney1JzxEzM2RMozIUs8vRErpQLK1Z5kX9YGunZsQLrx4+ZmWrthaAwRytEwSx3joau5RHb\n",
       "/87Tu/TgNUcjByAcW8OmcLGI1mgsq2WJBTbnb0RO18G2H9A8f1j7RHA0OfvYkMU9vne09xjBiQck\n",
       "GNiMd/YCXegEGsVvyHHQ519Vr45kT40QRBsGNuXh3iJpx4x/GnyhmnQM6Xf4iJvZ0D89gS3Q/TNd\n",
       "/yordKJXLsbR9vC4Wyc+wvjkkNmFA0vMaTzDYdz3gof8mMiPJO03pEccobu6S9xGlfByEB9rmf5x\n",
       "ha5h/fecWba+Ics+gTRIDw90p/79Ubek+7bHnxW7WXieRsHfxIZ0dojAB1j8o+vaaRtKQLKHcxRK\n",
       "sDPlcnPBRvMgvZr5lfuuI8hPEshVxl7LaZRAnI710+qeeULoI1F+rYUnLev3sB6Owz/c7Ov2uHKN\n",
       "7nr2gVNiPs2aoqXjtqDa2ZQZXE9GO0MOrFeRyMfAM54vnjiKl4D7eJnAbxYlnLUWFAiYv1qDaqM9\n",
       "7dUTksWm11XSv0InMmusgMP6hKQjvUNDlikZwzFcHj33FHDhBXYgwgMVqeOnjT0CSEiMCPxmW5Ui\n",
       "7Q7LN5dyGeESyTb2kHNz0wT6e/LaTncuyyP+gL05nNserXdNe6DK24T+Tor12GCmWxaPpcpxL7J1\n",
       "y6nqcwoHQJxBeD0oIg9oV3njh8UyHwXV7hxWUbgRWGgcSYOnxGNOOLKQVA8Wn3ne54mEJrDndCsf\n",
       "58Ax7YVqvmKIC6I5R3bsawILTmdXZwkf9Tq2ru4denXGXrVRKJ8Gmrnc2QhhoJh6RiiUnKtL5nh7\n",
       "2wIvXS3Q6BJqhZtNdK+hgFpGdcfXGJs25yhmUOjVAafEHtNQqYP589KPRA+PX3mmhfI42VTXFKp2\n",
       "CNIgQ1e3+KGtG+rlLHYosY8R7AUBcgl3W/9DQ1Rx+fnEuJsuru0NTJipS4Yw9dtozrdP25oBUmuL\n",
       "08r1dT3MKjCUU/iA8WNgIMKeJ9fL9ozx9SEHYEQznNzgcJ7kHr36CJnHh/xA+/wEMMkjesxDOKU2\n",
       "yi+ERLhxPXZZeV7eUwdKpZ22e4Tgk2TFnxjdq9dtxNZPnG3wUBcfAKUnh2jrZHapYCQ9kZQYqNcm\n",
       "vB9Z3Pgu7gYbpH8skO6ZFd2puHGX1y/18XkSj7FZkh5tzKx9GXqip2LJoMr8xmyZ/IUnklrDYXg0\n",
       "m5KDYHhwMvJwsM3HVWBOZy46AR22BAEFSm12lZ+LFu328BgTeT6VL38J6cFOWGyz7mAL8yaiT5+Y\n",
       "g+FARvs9OAmXNYx1bOPGOb/4aytFR9XtROZcABt69JQoZGZXzobsBVKquWa38vF8ZnO48n9Tio4D\n",
       "VFo7L0EgnyEy/2HsY2HmpF26HGnapMCnHoIwlpW8bGW7eU9cBbb6NROz/h/AG6zmhrbkWpuV3MC8\n",
       "u3yjTp0J3GTuyeSkpzBc2URhBtJsEGYR549D8jpmCYy6anIVTIpvnSEoGPVDccyuB1WqI055+f8z\n",
       "JKvpzIBJxT381VcJQkhWZb4u1sINN8Qde54LpqShW/mJAjB/qtZIXhmO0ZXjKblg+2PqMJYl0syq\n",
       "KjXmuH99BcLIo0fdbf7yegKNBdJ/il6iwVWmY1QD5Zoa7S8sNQ46ZYDyrqrd1sBBXRHy4AbuEcjo\n",
       "pT9v6sstPFPeeNBTDwjVgwyo97C8yeiwvLdPVc9XednY896t5SiE5O9MsYl0HUUvZ0dTyj2Q9B5g\n",
       "VYPe4otJ55V5IhJm0QZ1bqCgGotVi5oxhwgbqfPT4RqqmCZnEyYQH9RsVbQFgGaMVfq/QNJ8q4cT\n",
       "y7hrDKwpgH6XAFbuFHt4psoYeVeV3h625VJe1bOVoLL6QY0w+CGfOoV/6cgprHMdb4QxF1y5hRLQ\n",
       "Tkweb/q848Jv93499DrUj3Kyk8B/S+sf7YIlB7EXsQEaDuOsEA7Ge+enYoyYSdLkL6iQR2ncauNy\n",
       "mhFTbGJHSsbRl7vnBP8FXst3WTbz5uwIAXVUL3ibSLv8hEVeUSKYvvnAMDN3apPz1WYp7hYH1XCW\n",
       "50lXG33w0Ceagj3GZQEkD12+ICOhWtXVY8WDQacgbQ4zgOI4L1lOWo1A48Jb3UD4QVNHACOQwS3M\n",
       "XWbw6fXhMb9DQ3HId7m5HoBAU4/RCu7sJ1MCRRwMHu14padvPProxr2JUPLQ9CfoqCEl439ngC23\n",
       "aeAQcItDh16HapZPP9Po6eJG0owJx7xnrA3eBLE/8Q4b7aDopjXPyejdGmCL4I0lRusZS8wTJu30\n",
       "rWOGgvPKjhojYahcezYlkeWrmfE5puFcloyuEPXiyUzpYvEIvFktsMB271wzKcm9BSb/McAijrHO\n",
       "dE3QwnEiNi5Zo4Hi9EMMc+t+0zYHJYzBw3EnwELSwSs49ET5dJkHuGr8M58pMGqVtuV2um5k5Ynh\n",
       "FRz64et/VEh38wg/80vKe+J6zzaPNxI7qM+TWwlcU3aZnpC+1OXvqG0N4k3Qm8T2Dd2dSgC2himW\n",
       "943XqzBNr3tGlSVfSuLB/JuKy77+LHKp9kOhQupKfYyB2c3TZmFpZ+QlWI9g1rJJukNFiinuwlib\n",
       "h3vhDW32Qf3WXrqE+K7rPH66WVDLy0wU2zD7SnbLUSYLbt/19xkRbpbtiQQ4ZaYQ+YyaifpOTY8S\n",
       "1khSFwfZ/05LIpz5nTiyAIgpq1g5CWyJ0+IMQIWSsDIWt2iFM7abooJbxKjszNuURyKjc62IpR4a\n",
       "OnhGbWopOkqKbQn5svNPe3slXsD8QKjOLRs0zggGBnWUvJ00K97Ti53f4uHcevUX/seSmINyxZP3\n",
       "P/F9lv4d9VmS0ALVqF08tHTE7qs1ZAxm1CU7P4mjSEXfNef4pItLlRCYp1b/j76IG54jRzx8NJQg\n",
       "dF5w9CdAvE/JrAYTgNqGt+cmSUhaBXYuOqZeHkezVJXXHkyknHWcMvV5KvGSn9IKYtVOv0g8HH1r\n",
       "kNV/T9HiCoQScJq8GOqmhOOq5ENjl18lX0mhyvKkHWCc14NfOGDys+Qv4EwXDugtCkhBZLHbcdmt\n",
       "ZiNdpymwTpOP+CBEJNYTPyQVfLz+efvsHG8f/qTV17vnGbXUu5s7YrjXARt4GK94ppXC8LUmvvpL\n",
       "1GW7ozXe348+qBAFFwgit/cCJe6ZdDPO5r/J7EGQ0MvzHWI3GzeEA3Hbz6JfXW/2e5lrzqmiYYc3\n",
       "Qy3WW+6kvvBpCLs8QcUVgbQRtnA/WzhyLCUwbD1WdLqMGEYXnZ0G8uUyCRfaggU974ZL+hizpU40\n",
       "tIKeQcfAbn5pRrxlNmXYU7UVJZS9EcEylFcpJcd8XKvuIZTb9yl0KGHE8jgYsQ84jMbN0WTJvUVH\n",
       "ZgNKQC4dcAJB75ppSBNQli8FRYn25BoVw6hHAWZoY42Slt72Kefvl1eq9Hmjh7paCGS/actp3mXI\n",
       "ATo2cvCgUrKDesmOh+BfzQy1DMgUcXXpmz8o0UyLp1b3m9tsvXy0KCgNIn7guB0SYAQQhr/lsxCh\n",
       "aEVfaAkIxBvzGc7+W6QYYo5nJo28vupxdjGKylE9a4ukxc5SkozmQyJ/XsicLuOkLOZrVwOmy51o\n",
       "UvzagvPiNfjL6wu9ijmuk5Wrn9fdgklIiAmchLJG2v2+QkDeX7rZd3TPR2M2aVjjfSguzcKkMZB6\n",
       "GBwCw6rF0WgWtXsLL8kOWa5sRS4XNBQHCsPxC44s5a9YEMDJSpJEiWQUb/0wiIMP/G2C9jcDVQG7\n",
       "D+t25qHuxfljsZOAb9zWY/h6Jzw9/u5wzFI5tsCiSh2Hi8nxr6eX4LNf5T7u6/Lw9MdbXa5eSqPA\n",
       "4fdkKXWDGCaL1PoGOyOUoYYsN3fHCbgMO5meZ74tvP2UVnIVf0HXYxlCkqN6BJWaGFfS1r8Y5TdN\n",
       "sJfxfuZz8Ev4BJFXT5C9DefFFqKat8/eHGHEEYZ0ETIXJkhlvfCps1w7Z3p3qvaQal5yTUALjwJ3\n",
       "CxAD3LxBvM0hrdCPAeJkIUA7ktX9Mb994ogn7u99mEK5d2d8AUB5o9UqG3gxsftT4mqI0obZ3a0a\n",
       "BFeCG74pUrkZkK9OSOBsEGfzFvC+jZ8DqhXD1vRXN/O2WPDmk1EgUtfcR/2OJGqdigykYFCzOD6V\n",
       "yFBFrgHw/sGjpMFCS/Z2LQ7SvIuOwtVfvHh7ImwfIfpBcGFwxGQEAd8eh/6/Lpx3hWqFNpKUAmDw\n",
       "zb0jf6m/s2XVbj8+5QSWZeFMRePbjy3jZtjul4Q2DhLieiKsEFL8HY8kbv6I+XWRhKBPYSR41Ysu\n",
       "ygtLPnjgY+xgU6istZkXI3OU3WDeD2qcuTGhCxl6Qf+PVnFYmD8W/BxudcbKfVvKeia193gIyHpH\n",
       "NSLy+9hv8r3JR2+9Soqc07YZ9SYAR/QrDMa+vW47SIVQ4g5yhjukEM0EJtLDmdKjWZUSb6u+ghpU\n",
       "iK31Wdq7Dz94ATMGvPE5V1mDjL1kS0BuSYzWJTWbAeGDxn0Op2IKGFlQr6cFBgXD+ew31SLFWoY+\n",
       "z9cV+aUibPad8OfosAx4p/LaK1XY6QyhTACY7P60gUd1F7pFk/6MPBGHF2rGFEplkQ8bkeqWe+Fj\n",
       "wKzkqXLkugs294IrMH9s4u4XQCVKwqRnur4JKZ/tjce1TiZCKoMLLAyoLMc1I3HDTpR5wXv6z41B\n",
       "r+nlhBnmQ2kE9+eMhIAOqxqUDS97t7TGYOJJ2GxlLEeycdSs/gobDRZ1oz0o/F9sad/bfJZQCqbs\n",
       "25DF9EVpeFst02qsXhg+e6pqs8Ne4iRPODaZzeYrHZ0j3Ky0yWbLtEIeNER0xzslvknFuqL0PZpn\n",
       "o1wL1vn7rOg9+p1eyda0bqGGPjmkp5lb3AQ/cexBFl/YSIX12IaT4FVG4HbN0P8bm8rXQDlTSjmr\n",
       "1W1Yc5FKthHPBXk0r5uEL6sICpJtiU7A7GEl+krZO2jciEqhmwdFD9R+ZIAN8zp3CUOnnFYZtVUx\n",
       "7y/HqCam1FY53AWUKJrdEl4r8SIAhNw+rUw+J9dtsHjf9RIw4dnSGEM1uJMGIrnivhao+THA8cdT\n",
       "0AsvVJjRrloHN17pbZjxZFwTKAruGxoTcoepCvfRjHZKKrRpr1Q4YwC7eJ5b1coDHmvctPaOhivj\n",
       "qaRzTuooMbb9AqxwK1f8xGjlSWw8sT3ExRZ6Dl7haydR2iV8bLZhEpn3KlFhmRr2zfpdqjreKIJM\n",
       "0u7N8LCsgeof+QAkuQlqD02xUDdgDkwNSFk5echBsbibmpRFb2wl2eQLBd4ddW/98paOUu/FUIUc\n",
       "7Q64WzLj2j0O7djFlyUt43o6ltSy5UUG31gLp9szbHsGps8Kei6sv4Qh8T4AABELQZ5CeIV/AB1N\n",
       "7j06FZkNyZT76PztTJuvABydd06PSUCcTcMsUdwF2SwK3BdfIqDgAW8k9SvByvmG004Nq7kWEA5Q\n",
       "Dw1ym/zQ2C6GR+9tpjN6EiGarUDekUUGrAOuCxDI+kDncu+/ZS4JPOeR+VN+MS8CgTBwxNC7Em8v\n",
       "zETv2TJRszf4oOR9OX3983v18l2tpVFe9WcYlwJ/XRipC5CqOb8yg8PHmXetltgbuzFH6hPGgNrr\n",
       "CSWBAfrBSl2P1OtImiJ3swci+c/cgH8QEqsn69ynQLq5+0GYZCmmlprHuFTubHJKb9fjhskfV7qE\n",
       "o9nZsPj3djrB+DrchfHik/GWmvF/hTR1IHgmCrr6sQf7oX7cbmpoAjNdTf6KpM6vZ+nurqTqR6PE\n",
       "Eu+3xdj1J+6Bf9dN8OIJ3xikbtm/lSRkaAln3ZI1MG7iZK9yPXt2Wp5v605q9cFoR15/1H7k9WJ5\n",
       "FEY0DmSbPthiW6aNo8SipDHM28J/ClCx8Q+oR4QwTI1FDwuCfXvCgxUgR0piXUQhpTg7dDFsppJu\n",
       "G4Tnr4qaSdSX6cmA0OMEM62I9Xd6GOOApNydNonp/NAyTMWKnBcFKq9t8VNOQNjitDdonLJ9dZoV\n",
       "MKYRrjGqbMv+1qoAALLFSnvh0C17h98Gg0bo6qN/eXgJs4tW17imBuWpAYKYlRL3HEfh5BtcoK+g\n",
       "IZOOwpQHex1w2vkgFZU8AfGLYKQ1ZqwT+/L+1N6O49gb/MeeBRlhCS/U61bzNubmGXvflrpePnV/\n",
       "lmZhSquoFUFHLgCz2zZDbWqcP80OcQ5JuDJFRYtpdjiCYATpfiwWbemowmwGCHptB5fjQEHcrIID\n",
       "00BhndPGBbC0Jf+71BGKv5FDJqPCCXUgALMogGOpft0iYE1mXO4AXsx2YqLvrNhSIU/zpiWV6Llo\n",
       "spCqhykj6TahWJUOfJ1W9NYS879tgURvcE/7Psub67yYn/q0RGIvGBPqAjtq1wkKtC5X87mWMG6v\n",
       "m36+CU+OULxAh4/fyrdhW4sIp3MElHUIffbPx6eXVri13z7iB4OwtVdbGN1IOxgKPoC9pCFj2Fw9\n",
       "c2Nza3nt5QvCyWBl/KrmA6/u4qE5pXJCGpcq64PB+HLBUpoM6iuWvyTCf+PuD/pu8bJC4Fx63kGY\n",
       "I5bYMo+SCfWeAqdnpPOR0G0PtZqKGMIURf3tqiAVXARxznnlADp+Lc2ZxgA0MZCzW6benQywX4Ds\n",
       "IGqczU7LKvINC8If0AlBFB0JBZXW8nGIgpuHnYC9jxRZu10wxpWZ2kHG1ysFHUj02Uzw+2K98MF5\n",
       "ecgMUU1fCzv8NlMC9P/+vuDIN95CekeseP9GQiYldectbFTMzquvC47biXphALQV+MoVmxhVQp61\n",
       "cmFHRds07D4e5a9vsCNrmgmme6/xzchFY8VXB5ITwJJKsuhZlZpmmL3xRtFgyZy6cJsKjHuAJ84p\n",
       "zorBhW51n7mjSfGqtCz5sbZ2XQt+yM6K+MxfvArLfI2ya4BKEJMKdx/5LR8+tEtCdRnHETK3Ly9h\n",
       "gm2HYOVU2/awuT7qPZZytLtB12jp4o0NRr2gZCMnFrpsj6n35mL+1JJmnOsLLojFboJStCyzUaWX\n",
       "b/jP0KBJLbGDPeUINIQrtpuxpCV7ytHFhwu6CTYTM7cVUNAXuxDWvMS8995nQKwGVzcY/FGceu20\n",
       "aolSYgk6afw8w1Jf0c08qVuRB9e6DMirEFaSrUbkaXanSFimp17Hu8xiyk6H1vJ57/Hz1LC3EeAY\n",
       "fIsd0Pul5NvPJnTStKbXvldvtdU+sEYa0CASkjGbC2g0NM5ZWV9E+4AvUlEuhpB08X+kBm6W5rlq\n",
       "8B1H5K9qjoMJSew4sCX2GMH/Rvi9f5WVu1iUd+T6z7PMKLcNpgUlanueV3iavZYKfQFd4ulUxMOr\n",
       "3cjhy2vtuEuRN/qjW800OYni34ssuGNCG91j8Gjx+c/gz/U/9fTTqO9vnQGo73+VhXUOOEUELxbo\n",
       "P0DSEBiRYkJPa0ogVq+H5tZmTfBBZW4EReCawTCINVkBn7s/SyePmiW80tEk0+hmIOfnKc/7EZF9\n",
       "znwys5s7tPXKmZ8w9MBKoPUJ3E06zCIMnr/JqUDgA9qEwl/kexp5SdMhiPWbv0crHm9kvvjm8Uf9\n",
       "C9wfZ7S7vwaNczvaQmNH+OTt2K2WwABEP2XhzDOQPIC9e2CUfcW1y2jBtsa0cVJA3Kb0nH6LFs6j\n",
       "j+lL9lwUjO7qUNHv/BVh2k4j0sjcHkoR/6U1RlOhUNFPbQ5Mr4nAMYYhmR8/2ZBIN1qAcW2d7SM/\n",
       "WitVk3DloyrWcE/V2RehPa4R1GUWTdCry7kDCH/ZFQtm7of3fVbvW0S7Eau5VDfpG1L/FM2dTlJS\n",
       "JMSQU2tU1IZOmbSjhdQ28dWspGYHufcjFOhctbhK6zpFZpq1dA9z5etwxFef54I4CER5xZEeYSNC\n",
       "eDPiszp7EzI8WIhj/H175gE2uAvoQQBes28MuqWJIJ1DuOv7RXKT34OYKYJQw/er/PgwJJ+RDuT9\n",
       "7b2udayfZx8hVBGEATT/IgtOuPRhL4FlaTCRUtgXQ/edjrMKdimbYjcxNsUUMOjq/n86OoB1dQq4\n",
       "xuvDuvZr5wE3hyenKfUg+0rHgMtF5fIbkRA3noqzGpJVvZzvx0gyvqJJ27/6iV1gVIIrdSxcJSs2\n",
       "wT8UDsxv1bnxUWrZLxPId11VRm8x3Pvc/lY88OvOEImEC/xVLe/pwjQn3AIYKAWyQGAzU57dM/67\n",
       "pl/MhUBVd/tsD0Ey97okrsz/AACqnU8HZvuBJrD2BlbqTz+pJx2OPpZsfv9iwMcoYQPAbLKAnVpx\n",
       "l9HHp6GCcP1OQVcNdJvIxtP9r5D8fX6H8eSkyTk29oTgV9qD+ovlgJBswXbjoU0N/p15P2drtsPF\n",
       "0c+7RxI3U1/dt+Fp9LuOpzM4dgCGoCTuejnzk+dbse1ohCSaDJOSRmtwsNPpsDBujZ44qSFG3ZfP\n",
       "rwblTyt+OreSETYAkwnzKeqaBSzVWElUVhKx4mdm0yefGMbv+hU1fpkLfklq38y4Q4+eOekOXnlA\n",
       "B0G9MC3b8HZcX6qB9q6sWv4/8osDOlNEp29IIqvaN1p9Nd4+NvM49pvbh9C9ef5aVh7NWTOO4GYm\n",
       "p6YNISgMgLs2Lw4cMISvKSN/nt8uZAF+JEI1QN2279YthY8h/uCJan1dzv5rTVuS1gQeFy75hc/H\n",
       "NNnzGf+YTxIiQ9QO2fxGjr2oMdOlN+h3PeHNeEEn5fnJfdAvQMTjyX/H3jwfMarrDXaXJyPDaKhF\n",
       "pNPF6DdDxtQSDdfS1TsbsgKUOuQbinfttLQ/Y0q782CFBA+yeSogVYTyAykSgGfgtQdVTpsW4BJr\n",
       "JPsch3H1z+KOWy19ZGJp297oNDIU8kGvTm06kGXsxjWPF7lc/HhAQDbnT/AFo1UpKRR3kxZLE2Cb\n",
       "cb1lhhzAqnl0fK/yMSTLhZB1u4gADjhturcknrvlwefXdUvNUDHiuza4ehXjn8CRq/7jd4WYeIVU\n",
       "foEbgHkl9zMXkT2DRLg2y2+Pipn2to0te9XuMz3fY9jLyS2BmbRHHfQwh47Go6rvEjE+N+fAmABX\n",
       "V8nWNJGFnO0D7kTf6WyVQPxnTdEiYUfe/E1MvPdy3br4kc4MgMKEyELfdmM5wMiAphc1XNgwbfA2\n",
       "pOTrOyx6MLpYwSArF0T2rIycmrv/Wr6OvlCP9TpmcuFxW7tATFfD/uI0HmNU7lNih4hjdzB/hrtx\n",
       "fKjvz5+LTSlladonKv4ZpZqwl/cx0HW6k7sZfupUkA6Z8esd1R/V3wCJNhLYIFD8koa/KUdh1DvH\n",
       "ExLQcmT/AM+DgrqFGr/q6yx0huIUeeUz9vNt0Tj7POkitRYF7wX4e3HYMVd1Uki9YKKJMJfpl7AO\n",
       "ycugT8sS4Rzn8J9EfhqIKj+p5cycOiH69U4NKaKpSLs3fT2szErM/IvFH3nkYCIJJOl3XFJ2XYPt\n",
       "w/MRjc/as22IILT2VDBjpaddHpEheAWbIBpTb9L0bW6Bf/qQMPclugYvnyZSNG6utAoRpY1pXRd2\n",
       "87H/9DvAswkwB0CTucMMnIBcyv0sYr1hLp4WhYChN0aU3FTuHWErCYlIgq96jBWclwPsuF8ku6IA\n",
       "88EWi0IR4XdMB9KfiKz3KOoXSlt6Ls4njYwiv4PAyzYq2zitpfq8Kux1c2oKettEJeK1YlV5n3D2\n",
       "YJnEKdALEVaieLbVtsyOAcAxNYmo1rxPTbw+eF+SleRsCx9GEyLv+2BV1ILoQXvqBZP660uc2f3G\n",
       "a439I//7ELWt4EhtSMLj7e8JK1b4kUlJLTzBTMHxKdOUuknDnXSfDhaTYK6c4IFz9fDqzaLuCh3b\n",
       "YHBa0yburl3kIjNxgl/cJK/+0ZUN0cYd6vXdv0uE8m08LDzYsW9N8jws6B2qcYLO20J8vaEzV0oy\n",
       "w9MUWEqZO3qDWhpREEPFbplzrTxXoeWUI83GW7iQhUuzrRrZFe6vPww1qHtT/IRX44MdGMBvGW1W\n",
       "yKHOcjcqwc/OMckly4qhg1f1Fx0FLsi74ISVc0TtkqcD3yGhp9KXi459JK0+JbN1AQy2+r5lAutf\n",
       "UhaMiM/0s2VdZOES9lZQwuJyN9Hm6faM7w1yX7eX7FaybhnwF8UWj6vmWpcizV6XFU8bsviMFQLS\n",
       "vjqrOSYOudzYCEBjsNT/rFmt8ZdoMOFzEW68qPnPuKWMjtFUEu0baY8c5uiLFIfhjQBts6NLGAzQ\n",
       "ejplxFPFKZQSYi/ebDG8YQiDbfRUftXK+GRCpKcv/KoTpXgSxFDlH893DU6AMXRDT3TiyQ3ldRwJ\n",
       "kI5YSvZIIOriw5baBXtLk3BPbTSuDqoHOt+6Y2cWg9lraKT48m6b9tGoVhmJGUpo0RglXANkaqaE\n",
       "+qlUxoa3uXuvfUsAZGxGuguEPQ3iVa/FQnIEMvA5AAQfFAahA7Hlzb1SWREDpL3sn/P1MuzzFICb\n",
       "VCwa8KTTeVIQECkMFvRJdnDJeoHRKZp/0RkiU9rSrCjg4/nkmF+FixeKYxsNQ0Sob65kB31t6UEm\n",
       "26MxE2e7tMDmqA9w4u/qWZyTSl/rjXCdRmqZlkn1G2dqY4qM5iS/8DM1I4cZvFmxS2B1ajTNnKJN\n",
       "n2bgHnE9hzSZ/ZqBRhzkxL0cJGEpg+AxstgjJzMbvYT5fCvev3BfVbRSguPGVa+Q9YunbA8XRWAC\n",
       "4inrAmhO5/zWxLDZ9pHj30ThFvA7rLRLwo/UWLq8YK8dF8sZMagpVPxJ+gQYtN34UCvHm/hkIYiZ\n",
       "vYDv1oM/ChoBMfsXQSjLDzjyd6t5R2GksPaknyJxmJCJrDkKeumC8WIDLx4M6rNnF+68co5r/dJY\n",
       "AkInvUCSZczqbAGrerj0B7jz+i2BvaNeZz6B5yjuoDsKtaXzON4/EpGnUPZ+NX33JoHSJNKw4Z2v\n",
       "LCNnEoQ1xqxxd9PPE4Ur4V7nLVFziPnjCXj0feVOnLEChjncTYHJAMW0hGGVSMQlavYtzUn18UEr\n",
       "UVIHsxNNuU3smlZfQPGRM3IqaPgsJlyOcXp14seT9aBFKQPiAD7b8obfyTAXG6KVuSDPamnfrSAC\n",
       "pRuILlAxopZ/dG8sRFamnREiv8yUaLQ27QsvJDw03o5qmpLQMAqkcUaVi8queC6+adHpJjUiG50m\n",
       "HW2TtM7PlYdv8JvDRouX/yfB9QU3uGRrcd+gDE++AA3AHYDsXoGSAbvPIHkcQgWTXqerUK1Uhj8+\n",
       "UtmkQjpbA+pd/35svPzZbOKw2+A9SfdEixrXkuTJjUXjZGfIuQSNZchLyuHk77F9sXZDHX55ITGS\n",
       "7H+qkZTwXUuWD+UEgdUNJ/Xh/YBUwQAAC2ABnmF0Qn8AJpM++AAvTu/ihVJDDexGnnP8cQLb0wn3\n",
       "6DvC13mL++HfV4NVLDGyMrgQ3r5e8HELuq+kIVnV9GJGABfuEFySbtxOCHAQ4YKncqJQ5JXd3D7Z\n",
       "M6sTlVWBV9rl7Vu7nfnIcgcy/HI5Y47zz/VzcyNxQ7Vc+PJf4bx9RDtjKmrI9HYhwg/lPrz36RxO\n",
       "Lz0r+pbZABn3J0GvpffPPSHV1fko5MOw7qPr32EXBetMTIfWvZYBzSMo/mKSdKIxPTXuw13dWRhb\n",
       "eI+HFuID2zImS9/LIQ+VwWNa40x9pbATXtFqNuthJTPBOG12rIHK6ANG3qEFFWX+zoPv2gMgAxWU\n",
       "QRD5nSBJfz4+8ycj0myWbo4CC5tkuTowtyUeGypQke6JXck6uz+1MPpsNOID9tvIRMOS5IhlDYn+\n",
       "X0q/PU2Oag2/lI05IlYqv7PzFlkEG4MYPeKiOrN9ngT1FhIoxrM5p4CobBSOURxrFgMp1AXpeBIh\n",
       "14J4bKRJxLFx7SWkZO/XC51CUjOsIegfWv+wm3fU5f63UzxYFk3Y4lrSmr+M5oVHzoIGODxum1mj\n",
       "CjEJh+9ErNBmr73CoYUmVwdrjWQ1hDLsgaNuYuOeZ5NfwH/8Nr35iZPiEJVyd3fYZGpipF7nFxpq\n",
       "DjtGk71SYEBrCwAJefDT3CyaBnVFVuXNaDlR4gtIjjZoAWbP8msnFY9/mHIJ6VEBWZ4q3FGkO6/w\n",
       "vz6SAR8mzbkqeMrT8/980bh+1g37Ho2dTGD0cs35AYpXNRAv2Fcws4LThY3WP0iC40rJ1uyfr6su\n",
       "WDFKBXkpG6lc9LVYqR1RlwQDYHKfonVprnxGI6ue2wmgZ7LHvLTyhQbabweYak98WssJrZS3ambP\n",
       "3MT3c7PJIAcSH2XvSLlE0L3AQ489XJyiJfUPSKYC2I3mmNk2RyxR5sJaZbLXFcfZfiFPyneYxLnu\n",
       "bVB1JwZ7Rh/LS6TpNmWyioD4j6I89EYVlr/Ht/cN9pBPgwUXP1gXERlcUqluptFeOB+9whkHXHGL\n",
       "B/zEFI4IUfOWTOAB811VvZHi8qOy51ORdPG5Ly143toIPBjp/GXJMe1psy55bXUUVDRYk03rs7oP\n",
       "Een9c/B/QqnSGrzZVxF5S0blGI9qVMNFOeSCr2e/R/AR3R94TjRkUt7ZQkMFFqv3RJt3wYT2tyMD\n",
       "YWJGbd4D+KJ1K73jGTXnJEYb08c1xIRGeQ3DyHgsb+YI4H+ws0LZW4Y4+EsB+LylEWmGyt8YIbLB\n",
       "shA506bnctUU/92Asxwfllde2P3dh4qe9mjTL43oyTSy4i4ByqGyf7NxlSxeXNy5E6GgGmMw2iyX\n",
       "oRdgZuVDlG719OexqpFk0YUAhjSMynPl6SBAIVF0+pbIN+0/JMxMpoDBkuFJlGn5dnsDl+NksC6j\n",
       "fs+4WEAyFUWFF//Wv/hqqMQD1K4BfABNQr6R8Hmhnb7fAn/DjnfVKd8mQr//SWP0T58LoaEr1117\n",
       "qRdXwhKglAICZNPjb7QpORbCDbtaqrzRgF1pw4jwUvm8N7JhY3ujUyH7JUwK7z6DSfUvVnGoPYKe\n",
       "09t7pMb2uTJcE+DCYawY5nvZiU81Qgj6jNTjJmlKHOFyihjDh2lumbL6tjVHlt0CTQTCpzJU92qV\n",
       "n3MHw4k+WeT/Q5spuGoReKBWxdkrpqxZrdtjBFUsPlp7DpD2HdaES5WJ8VoZPEbAW5WJqZq8h0GA\n",
       "MitnNjZYyOZyClnadQPl3xBUqfwmI/xh9KNt32Sjd6T7/VYXB17jCqT2lyS0iWsqEKizvzJPT5cR\n",
       "hS0K1nxIr4ySBAeLNScIWBdIAICETyOl5zlEH+W144EsfRQ8zCKtvhQgAANymWlZSNGQJoo2Rm7Z\n",
       "q/U0YN0qWhVajFwQesT3jIa+NQNgXE6vsKNWXzi2zq55uLNWFu/4WSHKX7UmO05KNO+TK0Z/ySOS\n",
       "C5OClOLMdGr5d8UKZ/+fw9SVIjNCyIAE6ImiofJ0WEdGTQscnAWvTWTF4k3BA3eigRpFZ7RJD4Ef\n",
       "m32cwEtlapJ4/K8WKXgG+44AD1fCgHsGy3ggHk8GJ7rK91gz14ykkg9+4GgNeV3a4zhKV06HO2FG\n",
       "+W/hNfwfzmg53ho5GioPAXcxNO1ArPJDWvl2l0DCFuB+j86KlGPDKL9URwxRQgakA4SnriBmgl8i\n",
       "R6SS9GjOlY/jdhwfwzLOiLy8lDVP3gJUCzcw4GyBKaINj7HUeanK2vYYqdKzuYYUWXlhtAcT5zKp\n",
       "24fiBv7GmU/jZ0RhTjYiHJslWM5MnateTYH6chJRcSxOdAQf9Ovir7Qgcz10jTuNy39sjeCosard\n",
       "uK/wI5Sjss+Kv90zZPlcpmQAAAMBsmG/eCswKpuz0DJs+40HzH+BWWH4uO+bmPL3wv2V1cfb9yXV\n",
       "Ivz+lq5CitgoITjsWUYSZT6WfsO4yVf08qZMXgPo4kGE2jkNoDFqkKawPnR0ESW7VDok1nfKFTrs\n",
       "vnkXrUbb8kkcwA4Vetdq5ENgcZdxcWqQwUewu0HAX+f25+H51eQrdMylfDeozErZO5HqYvyukeqj\n",
       "Cn4MG62yI8c5iOs/FH+Mjyi+nz9ABblJmHM1w5YIP2cFqcmUAnbgYlFHpPoiolu26pOSNbeOOtPh\n",
       "xRMtn4VpddKgilz0GmZctjzOwKZnLX4vU94MUTnFZtxmeGgxSVGVyrUkEg6xct0G/KsMqqkLAEz9\n",
       "nVVrF3WGUzWtnR6eV7AFlEYOEj+ReI1eL7uT8SjxqGFymLTegGG4U//+EaEKhMenfk56vdA+LjRn\n",
       "CDDdg44m0OJLdp79SRmmsjRUtOohVFz+IJsnXvcJnSr8ZrWv6+eSMz2ESOA3Ws7+khLFF4NDmkZ4\n",
       "SkjPkpxGb8WQZ2Q15k20FHL2JOGbqDGbTAvBeDVRVZVFuYe8/uacRC4Wqf3Ee58LGq3c2shQXxwJ\n",
       "3DLT/KtgWwS6e/2PLsOirHYteI1770kLJ+o7U6HYbqBvPpEHCS/OD5JFbhebD9bpKuAHLMTSSHv0\n",
       "jMTWfv8xk/4El9x0z+5Eat+jeFFmeKpgd4ddYh0l4C5wNJdFv0mS6N1B3UmzZBg4fu25u1CL1wFr\n",
       "VUmLrHHeZhaEaIG8z8El/fdM5yMALnsmjfZfXicLmig80mo3KrpTPODJHcFcKj2T2OYABOcdw18x\n",
       "uMkFJCsxLqmDK8zqbrD+ZoD/nR7eXzcELYJb8D7GoAr03DDNU+BGeadVLDLUDeo0GJeJN2OPmeVG\n",
       "+A91BoWHVWLVjy/8vzD9HvnjcLCaO7aUNoZ1JgqEcAGQTtfI4N+1I4vBrP7o0AXSL/tMeDi89vEj\n",
       "XCPJ4KhmZJ+sRhCu9TsNXmHyiDwsVBuDPFJHf+vWUy8XlsCCgitv5XHND15GvDzU5I8TV5wvdsFM\n",
       "EmK9mcCXtmpW7zEI9M+j10M3IvMIfYL4D8/eq48VcBK+1N3UH9oixDWYu4FP+VGZyi2Z4oPeWPDp\n",
       "cqYPJB0/0f5+3p1j9M4zvAC+6auYx4uBZnqYb2VHxsw2YBNl+dt21yiRapqXAU7xBGQnP0CxAwsn\n",
       "gNz6xiTkWTbabzZMK9dLobKBFKMoFOkRoRbqUU0zZXJoJ3uO8/8ZWLmZXiPTVrXR18zQ9AbjlmGq\n",
       "fZP3mTAWkZdQLN4OOyqmG7Nj5db9cTov8R7vKS327bJ+EnAIfBulNV7IIkSV/0AnDoLjFFyjU0mI\n",
       "9mZfEI3XiZOGmXDkGiDR2JGoDQhhEoNmE+5p2uIFiT4MTyMv0fFR5iMc/7wLSDXinx+At3MQ/Kla\n",
       "9WPMqym+mXYWtZhQsz1oOVVN9vQlPs2HKps1tBRNKA2I+/toG5p9kSFjpyH6QtBzgVDlJx5VvHDM\n",
       "3m6nK4hcRJYKKoOwX/tTAEJRdIKOktI48ZBSX6gMaAAAC5UBnmNqQn8AJqT6O+ADk6j9cjLHo3q9\n",
       "7qIbsPPtX7VxnRtAQloM1Ogla2vqi8eEqcDLbGylWGnMpAPjA3eYE51N7pe7PGEUXj9AyXHfSW9V\n",
       "mG+nyOCD/oLMJeSxfev9eB7Qljc1O9OQ0o12CYPj/8/IHxv8l0b834Xv7F2/qjUTq4AOKTYKvb5x\n",
       "JegX9EDnJ0D//2Kvfdh+MG3vP6AUTKj4wRfXBW9mwt5cFSjXfB8Rd6+IgoHwd6QnajD+Tb4AkZe9\n",
       "S6hA79GO9fo+3/0QTrMGKGkBNrVNZxKMAyIqj0DbnRogotWRrZtsO1quBqVZAcNT5CALU4NUY3yO\n",
       "QofGo+fHfAHJVcfB94ikKlvynsrfOtLMlFf85q1xCIA6gsYtXB8UtJ19OJBBlQbL47kHJNlMOWlS\n",
       "QZKAROlU5zoFZfW1OYvcXswTuqk3bYfsD1WO2Jsvd0BjLZdewu805ikEFa8VTqNH1eItNqaemFhB\n",
       "NEsEixH6DmgQ4O1alKgY37kDzuJy+c3oTwzWNWS9HE3/JygUyYZNJgMUFOPDhytc/SIk07fM94of\n",
       "6UbrHKQJcAamlnlN9FEPglcp4XCxNwMc71SE3DPBgvaapT3XIfSCcQ998PKkfbuGnlQBin6/ybs2\n",
       "xebTj3caYDI5pDlecQPkX/QzfFzTU2tHx0Arcvc4mjN9DbF7DOfFXzjb6f8tJPsaRDH3FNVK3BxX\n",
       "nC37jiUTTwGOUp/qR5e4VdA/xsFBW/CeKxGIah4K3oizrA9HXcICVT3ZnqOENlCBvVVazQSdvCE0\n",
       "1SgR3kSQBbMBSB3N5GyMprAH9QtQHKKeJgp4COM5MNiZ4TdHaACCi1TkdGneaAaGz9iQmc+2AJOn\n",
       "G8phjXlO8hbG7GBUlo/XHha3QONi1DQi8njhQeibt/IogNrp5mui080HZVxGI+HVgI/yxLdFbpOq\n",
       "jh+DL4Kpb37v3Zgkkse2VwIN8imz3clLtsoSa70a54bns5SUjU9sDXpdxojYXUITP0JWIziYtivs\n",
       "z07Q//TO3bHT1itAZCDt4PaM2gKHXbyp7nn8euGiOXifGN/y76ejaBbA/0aqz76FBy+OPWdvJkji\n",
       "pbhegxcROYM+Fda0bjlVocOJR5l8ULwxCHcAqc5g2Ulf/aAk02xnMZnRsPwBwhxYI4vm+sqb6NWo\n",
       "O+xz8HbuRwnqeEZOF1oFpU41Z7PItgIKvztqgHJKnDPNf88D9wUNot2C3FCHx3klLawOn/l3JD6t\n",
       "cqPX9Rw5zqxW/+B2gSCNoLPVTrX+EQNQ/4Qx/0/qU3FYtLfUIOcjMfgoGT2rZnGpQmP84QFAEbwC\n",
       "AkIZ/RE7bJBbwIt4SjgDkq6bFKYSJylFZSCk5nu3bgaAoMJO54WF4G/R5ka8hcErqJEguek+l3rd\n",
       "hAQjSeJF0ZhcgIY9tkIh5GvCbgGQ/cZVemn2u4E95AeQrH54dBmwDkqwjYpIS7Y2Gm0KIQ2gJn5Z\n",
       "5RDJRTf+UGki0Tt7m/rFAQk1yYkmfxnarIxYVjiz5FxH6PU4qT3rsRkrrQorUVqkucahOxH9r2NI\n",
       "6tvU4R6uukze6mow5aAvGnfsPSYmJZ0ZcZC9/Z7itZ3jgAXAaHODE29LZ92+ImIQxTOITVbMpD3y\n",
       "X1Oqp3bSDPWg3xGtPgAIKfCcWQT/11ppWghnKY0wEd72qcPC9sidYPcnUguQom8mcKAA15AklGEn\n",
       "Xd617ogEu6m8OnlZNCZJUE775fd/Gqy0j1Ou+hElzLP/kOuP0JR5jaQ8AyIE164slURloNFHhkEh\n",
       "CAW/n2s5SbbcQHT+HCa2XngFBhL6eig+Tuv9f5Aja+mWHcPnNzKcjj2R/mrIQT+3o4T/7TBmuzQD\n",
       "qQE/8Nt8bTpp48c5rbcAMOaASaiW2979y1j2ibRSdVIhCP6/ZLni3XrTqhpm5puy/gzdmbGAAbzi\n",
       "vLp3GcoYqxcdsjOgPpRlubJ8zLsofVEERpKnozfxLnC6mVKoR573AGM8Y1GzRFCSpfZuGTULXXpU\n",
       "lA17ZS9CYRaFmoG29MalpRDYcRcmKFQB9TlLm5jiTA+aqx2kzzQkdI5Y8C1A0fTNbc/17TTMVS3e\n",
       "ThOfs3KZ32L5MOVQ7TLywW2613Kj+9x6IVXIBlH0Yl+MqCV+6W5gzq2vduDQ9WkhAsnEyYER+D6D\n",
       "XPjwx/63Grh4LqtgFwH2SujbLneFXxCgrakyhWVvin/9i1xxMhbWd/w2JqzJjpFh+rlTb82bTVDe\n",
       "ILRLnRsqGWIxKopKyqfSr+z+tyOCwvXxkbA3ZXzMuXRIkrAGS6GBv4MQ6kGXSOUT26DZMC4eDEOX\n",
       "jGtX0iBameNnTWJJnhMvBirtPyHoPqj23zTgyw2tmOhTQITmVWzOvrrFQId8+x4o/ZT+3lxxdk1G\n",
       "WawSKqd5iOK+P/4uYozDoPam9M7zDxmJFUBgbTPXW85fjacgp6XmTF65yJRz++CBxvXSWdbiijLb\n",
       "bINaeD6eAoPnbBRDq1ibMMOHu45i/bQSoe72VsIFGfZfAghdcE0f2m7wZb5HhlTKvef3ct8k8UWU\n",
       "wV0oioU4EWykE7Aw8HeKZbMlpuswS/2+0Oqa86hn6/M4EvUBsS58y3eypRqb7FVIRFTBIAonbEx9\n",
       "krHxw50SS43wZXlgZ8muAQNB4XMlrz6Nt9aytOpbuH1CtbEL1c3RRBTvvSs42dBM7VlvEeJPZ5fo\n",
       "7244mDetBVnsItffDJQiKQ3mG4hijNjzw+AxdRadmbMUvSgvBUpqJtEZHg2PxzMRWlDt1WqxoKES\n",
       "5mEm3Dh29IzGHTUsZMd3Cdpz2TC1XVKCd7i6qRSxkTXqSToglHU4l4nNOmIduTumgaFzrnvyQI6R\n",
       "kOpPZpsDsp+Rh11Kn4hRt13/gwmEkESiu98uHOu2hexXCTHyoCkdzCFsidKQrpkfUvdcedM/kyph\n",
       "YY5DHyOC9g24j8ZHzQDEK2zkQZ69xm0pyZTRrKOsHYcb25EQsJnb2Qsy9ha8IhIUatcrNniiuA10\n",
       "lv3o1rxXcRLApj728oCLOtBudVq/F3A0FkcvCI69BMYivq+lD6KyoDYilh4mceNXJdCcjtno+fU5\n",
       "gasrWOgP+eWQW+5rS0Op+iJABsTj1P4yhDO0OWQMpNl7XL6+BL+3gcsMQ1g9TyL7mOfW/+EXdt8v\n",
       "5cuLnJ93WJaceWZSUF1+Miz5yRJsAwz4jtRmUy7P77sFQevVnh5+iDQRxQLFuohH/AABJkBvkYDW\n",
       "/kcT/1q1IzcBkERP28atS/OlrgPUsCOACAUxC/NpwnmlK0OpriI/U3HNphLfJ/5n5jkAYGzxlB3k\n",
       "Kfg3GsLWofn7OPJpfeVx1Hs20SuttDeX90GKnF2yM9ZzIevJ5Bg/8PpElR4U9YnRirDqOTiMQ1sn\n",
       "XUfR6xOC6JBRYdCQOsYVFuTMaojixeKDY9HbwHBCCb5JJ0YtwAls1PCP6rLgiEtfdsn+zD5y2K1K\n",
       "DxbvuyWXrATDmT1QFztinRMOeAXq1bicHA5NFo8TZ5YKdfq966Kh/KT2Q2h0eEka0eNj7oRJmkrH\n",
       "176UeX+QkQGRETo5Yn4RVFYk82XsHfIekKDANE9deQLdTrEAdqHjn6B+qT/D2al20W6gbmgKsfsf\n",
       "qFTb5dIMH6HhzGCd6eC130GaH4QORBtrWugDfLEN3dmrY0cAKA03hzn832gj4VjTzi+ncfB/9aKU\n",
       "xcMFAZII+dMFT1+75YC3+Ca6ljvzWcSncocs6X24sJxS0AYb7Cp0m+KNNJrXBuc5wldKhZuGFTLC\n",
       "fGfyIuE7LoYxKt9ixZHDwYlAdlMmXTzLa1uKcVqB1Tv4WSKMSgewSMyReg3Gpw0mOV8+g89Ddrid\n",
       "KM8muVms90mlBfXxovC/Z3yUgLItZZjoPWdt2bB0kwZG0Oe2VzkLlw5gLV43f+a8ksCkAbe2svip\n",
       "qIHNPlBmexwdFWE+ov38HtwA7lWwILTIAh9hFBkmFCGMIPmBAAAONUGaaEmoQWiZTAhv//6nhAAl\n",
       "pfNwAt55If9/gSecU/tDf4QX7IEzdkZqFyInPBYteoexD4n3voa3IdAKOMYSRWAP5mWkcgodcK/n\n",
       "cVQXZTBB94jy22WMH5ZeBV+KsQkquP4Jfn01nObXY3iaCr3IHUBTa6mBcUtIiKxUsd1btNhMGk8y\n",
       "cAuOcpGWv9aSi+M3Y5lTlLFWXf47hlimRWOW5DX3FPfxQWOndZz2/8lHJniZ15gbwsy/m4JIVEii\n",
       "DXa7mHlJyR8ALF3i/GEcBgHoEkoaj0QWuhCyG6htqZWUogAlumCmneSaYGtagW8e/HBJjepWr4Wp\n",
       "QAxtrZdV0aGeKpUS0Laai58PJqheVwks5rgngMPdjsnrMQZF3wf0YUi1vVUTHPqPB1NWIFCAs4Ho\n",
       "5i07LllzStK4y1PyKVSn7SH8Gr+IkCQKhBJ3hS+ARJmL1zqI6ghDDivFLGOYZKaL8qg2b85Pp2GJ\n",
       "SwqtvCbaUF/Uy55AIa9V5WGMkNtbQzaFJrX6ivWXpMzrCPp3R0CxPJVQmN5Yyt7oqFBn4V5R5F/H\n",
       "bLLh1ClxuUsYwWDm160zj8c7pHLWhJw4BclUm2ygzwfnlAIkFl/Pthd+CPLMoLyQZcdHivphB6w9\n",
       "sNd/+k0yMTA18hi0slYqOPj11LsEbIM7dfjaZajM+jd9Vw2lSz4AD18AWcSCnsxKek4drkoaMdAo\n",
       "J56cJca4rLix9RhtS3r6Wq+xZEQ+2pQXwQghYo1Tmdlquw3i+03nT6Yy7jnKvtP+Ya/kMqlXTpYl\n",
       "m9WQWsUsSGJ0pkI1buN5mAkDt65wUjKU1QWMNoqqcJVDG/5sh+p3nRUH5GilcpREFABdyr6UwmVI\n",
       "Vjk6K75kJoNcygRiQG0swkq0sT68JeF+Z9VZdGsGO80oZ4ym5Cq9Tt1MaJfyr3t+qR65ECZ+qxI2\n",
       "EWkwIVqbvJa3Zbu48MyDVMXMf73X+twqTvV8xj+eUPWlikTakQeKrbkNKC4+rhWx93FsCtF9wqsp\n",
       "wE+Ex3UJiRsrtKpvlWc+z5yfYkvtPquZ4Has15sz3s19ptjsY5btr4lRjujLpahXfIHJM2OGetN+\n",
       "GdbaD0xTvCi4YtkxGqhBEs8QvI2jlcNsGblAepLk/lUAkkiUbvMdgUiedui8opCsF5SC9AnSme/s\n",
       "LGEVC5u/lFGY1gNRWDEp4NXy0bgbBadQ9MFLWI5N1qERTs/tEkTmhyIqgUcW4KTlLv2w09ExHczM\n",
       "QeL+pCMYhxXdP1scW/8hNLOh67pGYbuzgIxP4X/AxgPPI5nQx0l9XBjf2b9s9BB8Mls7Ew98yX/J\n",
       "4+Wj2g8qQibrhdmef5f9+gV2RbImVASuGCB8ybH26qlsnss8IUmzOpTLuZszgKI/z1qpQqu6Rc5m\n",
       "Az28yLqrOvx7CxkW24vq9anLJiYVLxgFP4D8qGiVYP9f/mJ7Ba7VH8+Nl5SYJfjopEgdd+c8sPOx\n",
       "xriOPvnRBf1YtXKCmW1/X1f2ipVv63UYwvtIdkV2gTkqUDMiMOwfymyUS5hgYLs/2ViO+aLTmMkL\n",
       "pDqMoVrA1OELxSRcC5esLEDYWjj1nxe2R3rNOAfWOB0LUAwk3361EDwUd1SWoGR1o4XdtTN9mL7Q\n",
       "5HKAeAQzsBs7kbhSnfuUgPesBU7ewYfF6yDVHrcVu3TwrPl5HNRqZrnKbESTqFUoBHteVCjFm797\n",
       "2t2oNNpgB06GJfQ/HDJDbPN9+iw/FQwTzQygfNbEjLiibmhOyLU4LMCUSxNDnz7+raUs0o7o3QN7\n",
       "IhCc1aW3EdpZXmlCpCqblNIpizLOu7uC/9FY7T4cHg5Bw3JGyIs4YK2WpqkqXAobSspeQT2gL/nM\n",
       "G2npvjI/DXl/mLAGZEQOQsD9ieZ31B97HHbYuWimKG//Q454awfeOFTGdT+lvgn6er9+lViv32G0\n",
       "R4fudJJSwxgWDewnDLg4vCxEppzAuD9vaShaXObNjrDAGFC5/hDdUCiWdtEQJPQPWjdSbDsb8kXY\n",
       "7s3RH881a/jxRMoagibMOGtpHK/V0iAYUMVievER9AUVxusT01EkDe09x4yssKp9QrakD9MJkWss\n",
       "17c9JnE4fFJdEy756bmGheZufutBxxXVueu8dH3T8yX1TGzQXOHh7HsXN5ciE/KzZxsxXQtEnIOS\n",
       "2k1pkFYUu/x0imBcwZ7pUAC8swbfFtBvBrBksoeCIrZb94VhEjt8kIO+jMEVO69qJGGhxddldRgr\n",
       "oCO0fczm5Bt3ky9ifK9GoRXz/+KmQu4Bjj3j0UdonDPZOC0bk9nihm1B9GFUo+hBW7DzulBo7Snx\n",
       "dtfxMsInfWTFgizKIJIB+j/XtFuEYw+ICXOBEj/DaS5SHC5ea0CejT5rso6akapru8gQe+qPYtWO\n",
       "mZyEIjcOeVjIlsA4Fj4Jv6B9Me9b80vxM44v9upbOq49bKyfGyhDILHEagTlO0qw8tU1SWXUOQxu\n",
       "o7C0j6r3gURXAEpfPH59nR7KT/dBozFPVMpP4I4YcBK5SrerxqgIu4yXpzJqQZkqjUdtSktPxSf6\n",
       "GrP51J198ZnqXcY3+ZC3pjMO1mp0m+ue1PL0fNkrhyJ8029hPlMxsSiI/6hpiV/59y4izCNu3YJx\n",
       "HR1blr48RbTEZOgkj9fYj1nSA94JILr6b96EdHAGSeqaheTDz/K7yk0eTI5TxL5DX3SwATmQ2LIe\n",
       "AI+wZCFdfawt8RSzY7EAwWM2Lyotb+jKfA0j2NxtuLHcp5+g2v8KP7smeCJ4xAmd+M7An7sTlY0j\n",
       "wP35fNEuZB6S+qRnUsLPzBvAUYa1/3XGj5TZNvcDNdYgHGVRSap+WVrFnVYmHdrzuH9PH072V+Im\n",
       "ARf7N/KgmBFic3GOLvAmP7xZv6Gfxd275sg/wBWDoFqzVxoWmkhmn6+D7MhGrLs/rR6/sCfj1N1I\n",
       "ThYnUKoJGK3NN0b/RiYV80XFPJ0eUHuGebkSNR6Ul6ctM1wv/0R0/pxUgkVwXYv1macDZ6r3m+x/\n",
       "U6cpte63Motv9MyrL80h0Hclph9InOvQtSwQbGaAf/MN6Td3aImnOOgrcWcbq2oxzg1HDM/Wk1Dh\n",
       "fHyFvKXxefK9UKmm0iiotdgyU3uhIbeIFghosQMuz3/Y8ahq8+mp7J98r1wl+vmlB/iH3wQJgYUD\n",
       "Ugkrm2jltu6i5wC2YSfa1GkI3CYmiGKKwtahs+kDspaqmX5I6hsndg4B5NU9Zlp78jK9r14cxTS/\n",
       "Pwu4shSQFwLzk1i6+QqwtXDiLn8K7kt12pxWiYmYWq3jR6+bUtGIc7iEjsLuKXS0nD/17plZh7pw\n",
       "90AUYMFKT9qfK1Cu75TMkts1OxxaIAumhjNOiSecegqfJupLKEHLkLHE7PafQPTCrSF0h3W2lAr6\n",
       "c/klyC5AmaEpf9gQG8Xf9I1tfitLo6l6MyJUW2eVT1XDVhwdkVtMoUWSMmxARU1HYg02Pp1Ni4gi\n",
       "bcIY/sOCmJeFkNT8G7zbyQwhJ4fDIzX+fZp09DOeplAP0xc2IY5cAq7XSMh6J0WNXBZGxnu/9IyB\n",
       "Y0NzUXI3SBKt0Lq35PT/0Lt9cHjJd+K45/D86dB7QvlI1m+P0q8VHHrO07iYFGANJ9uxUf4q27yn\n",
       "Lb41UXFcHfB3OdZ8YPVxbpKaaSQAh3RveXdGHKGQBhcum9uH/eVj6zv786tLf0V3QkiPhM07KNi8\n",
       "5kbCI3BdWsqC9MLFzAaAF6zvJEbvMDHDTXGZey4ekZ/SvZ94oZA1HtAABam/IVs9/TmsllHFy6ij\n",
       "WZN33iTj0UBsDtPPi0UprfVnrvRuu6ib03SpRovkO7tkxUNsVIQwyXy+vPo6/ECSojElq/P/aMCn\n",
       "9VHn+w7IQwk+IE/xA8+unfOJDSp4hVQPxpBsh09zQE7kSZ3AEDChOzmwS2PLiw1MEV7a194h8Ybn\n",
       "PGxOiacfQ7Jy7cbOXzY+zuyAEV4z6c1CSTUSOYvF21L+F6vasv2bhhgokkLHyWtDJrJBkfX92vyG\n",
       "XpHcUa4hxWla+u6nHT/g31XkaBHs8gg33uoam4NaXRvw6+9KIcdB1qQ+k42GgbQ5Lr87O8+YjnJP\n",
       "4fJpiutDoXzfgl0IiB/+4DsrtITcHMx8icHVI2cTQgCsU+rhvjjfLhNKyYUqLgeA7uEAExF2XKMA\n",
       "FxZ7Vs8KRGMS9Zm3UtTHE+FQHRIHgJoHXTTwBBXIbpLwUztpttbAagGQz8qXR1cI4y6aNcDyfwYT\n",
       "eCyxTpZT5Q6XEuEBNAx1Zsj8nD3g0vLs7uwy5j5wkrn764df+4NZQHwVxMHrgoDubsRAuoIFQMjz\n",
       "zRm9oAG5h8O+NfZMEqUm4fIFEa++b1tMSpJ0rmtBz6161+Kzwd/zTZVAC7ejKxo2fDqIlZwzc1C3\n",
       "TB39JdkQFAxcEg1p7sZmMHb0gQ0VLhamYe0yYam2Oc3bxThR+EzrvMnTO4m6sRddx2xwl/dfzRqr\n",
       "G2MJjVt66Nj8frvXlnp6hz4is6eQHD3bSH8EDto6WeYwwIRjrSdbVoH36nDXdoJvjNcTGa5C/N3H\n",
       "cG+HTzJdb8XtTssczoK0oLQqlCcGXsb2pGUjfAmPXPrPRIFlA7BF+v2iQ3A/S3F4XUIC8wI5GRz3\n",
       "VOdJmT+8AH5f5mIKNSBpP/kGIHPcrBjrDnVw2SsemlP16zhq1FyU5VrKUh3E9HEDb0/w+if+62H1\n",
       "gFizsOssn5Wej0oyNEaDr9W+in38xPEHtNUz8wxkFzPqQPfwv0G0kw4g3NzcVspD/VBaIM1C3F9v\n",
       "2TdiAUgpZHmEw6Bgl/0gJkcJfxIAjTI96rcBNP9OScNcQvdBWbbq4V/Ej/EGT45lPv/hBXNLnv7r\n",
       "ZkHFhqcsZPazl4yu9KB9Zzon4cBtdjusXI5v9TkAAAtXQZ6GRREsK/8AHmZChRkzwAZd22AXlRRo\n",
       "CyACvbFgjRypqyXWaf+q+ot5/uFRCsvLtC7oAqoCjUITrnN1vQyB1Md84LD8PQjidleVSN5NUDwQ\n",
       "GHOcahT4l86AARNKvG8sYuVXraJy2yzroGlvCrM5XyDZfBdB5HvoJlksodWZMP7vIIFx39YMfoZZ\n",
       "Kmwxbet22QOYkLNCQjSlGPDltUI7Yh0gmAzRaj7WBLSqrRHWrU4mavG5Bp1jNiuZMdU1qq1StIT0\n",
       "o9HBhxlFU1XLKE26Tj8MNdXVPNalFXyg8MaOFMZ3pUg8L4RpOvvutXm9WWmktvCZaVNtZ6a4JtNk\n",
       "Fq+grSML7YqpFDYQQgonYqRoVmcBBnQjm0KK46NbcyUT25HOHwVfPGP1R4Fu+O/fRJyxYjjpp2SX\n",
       "wPiIQ5WJosIedOVwoOEK/Gig2XXJN3hkrE3PxJlcT62eOsfDrCPFEBeLOt7Zo6YRzlIhbgnGGLk+\n",
       "rTd1iLDiBNrWj3Y4bKhpqdnACUxPES+2ZpdOideSZlNWNjmoykV8BVb/re1rMNF8EPjFTv15Os8E\n",
       "9fchhob/WtOiz1f/SZZY1AKxgJmnT02ZJwXidrAeSuvlsquYpvZGF44CNVsY23XHiz0zXbWmtsTj\n",
       "Iw16GpdkC27xTCdVbw5RYcM1arJ9Zxgs9Q/LJ0PC/wGmpiWPlMC8IzDKyGEtSsKudkJ+WAXhZSbD\n",
       "uSu27uEJprC0MfrpbgS/30XmTtY6cddGVp3cgDKamShc+bcSkID9lt5qZPQWlhkO36FSBDYEWomb\n",
       "T8Znt+CHsrrY/1eS/rcMLTfNhjnXGv6n9pQqlw44VDRiuIg6W1G8ogvSqWeWzlQBYLXa7cD8ckSz\n",
       "uWie1CxGadNjlQ4PH683aXzrRfcFCjRz+Eufkt7BRlRkBDpVth8A6v2ZO1q3I5svL+/M/c+1IpyK\n",
       "uPoju2DPQQskjosQ7m0Pe85nJW9bAblXvU/qElS1aIanIHvLB9jrkuBaIblmTnmZ2qQ1VIGFCL4U\n",
       "4hdtSxCiNGWGoO5xaIxYgrr0+qHE4zT9oj5qw+bai8bwfFLMbp/UzEiSoZhUfTqmIuMFfCxByRB3\n",
       "VwgfZeOffyE+sTA+5KlfuiVDHbX/D18NXIeF4qgG3BlvNSJ/IQqhA/yxyW8oKRoEHC4AfTk7zoXd\n",
       "IfgvLdAzpfjrv+AR8iu+8ksSbLY2ZVp7+I3vNvnTPxLey5qUEOUlNgHzNTEqYSbZXtDlauNgf+HT\n",
       "HaHc1iY4xJGdVOG+PVuehYrWKxEN11WhSSeBbbgAvS0la83V0EJj2iDVXQocWmVvvu3W20svC03+\n",
       "rXTdcnTADeWeYY1y0eJFAFeyDWbFhewQG6+Kf832AtkLZUcsALkmPkGu8si7VzHmlvLIPWJGlYYo\n",
       "7COP2UFaNLUFMQ8MGyOC0818z+tkNIC0UQH6a9ear8wuhiuwa70FPdCeBnVigJuG8SGzFV/SudIz\n",
       "PWHDUfEKQwWLi+42qltAJX+mvGUx4N3EFdw/zHlNIfFmky+AnwjSSZpvvo1pQo2wn5qBQjLeD9T8\n",
       "eURGNl2GkiAOTV7RUPZ8AxLGqyq76MCjtcMssfH1+81wee7sWOEmIVHAY23rEECHahY62+/YAF4d\n",
       "Qn+dcZz5y6Nq3HOCiG+P554If7fp9YmliAlGw/fzz31UYAIAszfO7zhND3QTOkNp0x/OgnDtOGrZ\n",
       "dEmA7Ye/BU1MTQB/GeOdeT5aqSYbKrwDwdzQx4JGhc8Db+u8WZj3Qoy12lzNjRwd4Rae4rr+SY8v\n",
       "y/sRRUTBMnDPhKh3QMGPHRkPZ28sJblzNdEtWA3GKj4MyLh7HmUHtFWq5kaQQUxGH3y4ltHlXjAJ\n",
       "ikeERSimL1xunkG1k2Zzk2eAG1aVaqSvwnhycl4O+Akl37OaZS9ErPETeEmCAzcJQBqbBMveP65A\n",
       "RFqSHvsUm3gf2XyQlMTnQTO226Zdew4dYohJZ9TMK6PP9X33UXCY0QaHbfOGYaL5P5aOIFOufmm1\n",
       "hE/45PW9bskBspo5iqVRz7g+P3y8AImz1Qyb0xzRH6Toi4kcQEUMk4o9uP67WK6EuOGdI7+byEE/\n",
       "ZwUSxCYPLN0Jw6f5ExRDUIdvpVTUyBDS5m3rHIe56+U/RSbUTeC3YLC6D9Y92PAUBgm9S7JevwwW\n",
       "Q4NBZXsngl4CbJoNKKhYCmbY1K2+JxVa42oSoJBmWHecmd81V5JEkWGc+Ll4xpXtKBa1ZVPFVZnU\n",
       "wqKvxUF9w388Y3k68FYLnoDwPAPj/RsYLKoie+aivmV/LBaHEmrhIcKbVxZzmWhzW7gEx8og44M1\n",
       "9O8ESiUaNAoUYe9xMGFy09lZSUxpwes2Wn0P+8Nz0aAxnplX8hnoMgUfep/S12lbvUVZTGR9th+U\n",
       "q4jvqWlLkqfEf6ySEFLfNAnFRC+wDs4PfUPPI7BPAOjgd9hJYXfzU3ufG/fq6c68vdo6MfaRB1zW\n",
       "cUEcnRuS5tsUWuZFS8I8FTCv6zaZl4QGAQpyB5Tc8BGMX5gWK9gfp99TZsXH00x97BQBHh7OSD6X\n",
       "6om6Gm2ruwSSageBLiLP3Gtusot3IkJxDAGQnirQf7e2SJ8wAohS+5M9QnHzVCuU37mhkKzi6rZW\n",
       "HVFRe64RuTIi3xu/aTZF4X8bsZkk7NThEe8yf4m1i1M6joR+6klPthnF6gVFlSNDSL3CBI/IOoga\n",
       "CqBMQSK6Eb5FT9+gTGhmoJv5bEdQuXrKgOdPTDYUbf4zGvEfraFBCMKiPKz+vlp8+njIWaF8TbTg\n",
       "K0GsOc+evDnIQ0rIkFTzBCvkpC8TeUbPfq/K0A5tdjNFJpcaHEgTc7P7DmP5fZ+xgwnhlLOdlfz2\n",
       "wHOi339hQHwHrW67eCA+llVjpCAg5IANt+FZWdrV08mhLx3nm+1p5oYsxSjg8jK0sCOdqeHHOvId\n",
       "I3hSGUIr8MWSpYFN1P8OyrGccebq1pfnJt6j9rNop7eA3UUoqQROtkSwBfBCkrHGBR2tFicLpqIU\n",
       "StZuhXEtueJ2oPPRShXrgMVf131yA//zE+JMAutIRHr0WqDYgui8OhiCtUkSGFJtjksdrzq3FuY7\n",
       "DT6adEYopnWWjbMCppZFBafM/5d26/gAwXmwRyQAtX0o4mGa7Fkl8Ro73XX7A9NyKP/doD5REzfk\n",
       "AAMr/I6BTWpvicn6gsUi42DsJhtv0P3SYEV6jYbzy43g2XsST8ceIQlelMrdpOble6JJ/hXc6/Hh\n",
       "kTXiEFnFD4yBz9CtKoMDa7+lNSk1excQjPlFpqrj1zsvMvtM4u8eeehZ5MvwjOw1cdOLwjhSocYy\n",
       "Lvf1X0rCfHOK7CGwhIN7Kbr8lSKqud+jEQAchhJkxMEqobw+kekGw6P9cE1Y55DjraJKERsAsuPL\n",
       "qXBPHyOd/cQmc5n1VLSeSMs/arEVx+Ghu8RC5UKk85oZpvaXqoDETq9SgPhxdWlTN3ckLrwJLn3f\n",
       "I7lUd5cIeKHvi3TThlNMpjGJCXfLwFmBDyX8N3vx1RYM5hWGuPPzYai5rsSUkXIMgNj2Ooq5rhFX\n",
       "UvOlQ4eFY9x53SV74pSoLmSjMbEn5ykerj4AMqYfmpxzzFt6rQ20TLIzVfQwKVdfxZklpyalHGyB\n",
       "oHdagFhg5c5O/GYNKvW0MAZqij/P3Bcv51TPjTNSEw1Xe/LPIyQkak0f5YPDb30/MKB7PTDIZpyq\n",
       "ge7keJMoWfB0Ij3n+txG89qPM9b4FxENONnX3SodlAHDot9ruL2jItjFj/nbpIcCfPTy37k4PC1e\n",
       "rvb01HQ7qK/jG8OpuYPQM1p7X9XxAw4V/oseyREqYOMjtsbO00KrKnUMX+IgdwmhS9XD04xOghWz\n",
       "hWaM+glQNkieS8fQPyCbYpOZFF9DYn9AXO7wJeEAAAu6AZ6ldEJ/ACfRQZOwMYABfGs3nEZYff+q\n",
       "SBWfuFnKOEoPMEIhEWCpmDvyIU93soH20B88V/BLS5fmfxY1dfvpZF1vqQVpvLzC+1x5fZDfoEeC\n",
       "m7CmtQUSdk9Fgt4dNM9l1h4oqCQ4QxLM6Hn09suI6d0FOIjGmrddWlsj/Yw4dxIC6tf3HzQYwkIM\n",
       "c1C3lCsGIOUpk/Dvis7es2Q8VRA1sY4GB5qUu7+4tR1NU7cU/U+WSGPqJFmreUn5lwRjB00SkX6q\n",
       "9ABz4+iDno/UYhLqhJ+AsxZXt8eYteV1A2MbdXQrxbKFx5U+IO0vj+Z1V83EKrOHfgQNhlZky9VA\n",
       "qO47LG2/5WJnTSk3S8WdWMgZvmcYnvmFX0yZ2LnAOvPtMopu21jGIJBJII1o+7ndBRatkdRilCNG\n",
       "kOHY27gwcG2+CmX7S1Q7E/BQcEQp6swhPgB0+raH9wpRqwh59NkObzfu2mqlZuPnbIdAObrBIgTV\n",
       "pDxJC472fJ5zay3VaG9diX2z5HpIeS3rKJdlfOJ1pOrvwCjf3cVxEw/bvEefk/vlF2ojdtIydM//\n",
       "35Cw7NONcNL2BUl4jEud8exlVsAhZ6vLqcRDq7RVD9a7YWwiu/M1gFKA39H60viqTUrxF+yty5q8\n",
       "/sTmmPs7tRaIQ85E+SWTyBAiiJbXt5G8T/WZgPVsBNCCP2G1NctS9WBISo5WMIypnBnxV1P60Gcj\n",
       "aR1Sd//we+HRtMPpQDZ7reRI+wUyn7ipM0bdV1Cc9x6VOhT7LVya8P2dmL4SrB56ST2p8xguO5Cn\n",
       "8QQZzpvxDFjM/pIvJeZqL5sp8I3b7AX3Ms0KxxC+2l3QSBA51zFsgUwswFGwhOqnpcdMcd8Zcg1l\n",
       "WqXO9nL9j60ZC1cHQzAe/6GaacfLcp1bR88xxbAeY3BlA/QcLJDKKiCGerotwWNjZGOVHZ+iQE5n\n",
       "TlFaWS+ju+/w/oMJhSWmI8/vFuCTs5wtAzR8//YMWJPVWCJ0bJfdEC7EFDEw7pVlX3/DIEswB6HR\n",
       "steDv7P0ifghjVCE5Q2NUkdzCbOQ3xHPBxdCGFOaZKwUZsDL2CNRzNEtQVg2SbdbtEYTTBxCWbOT\n",
       "/z3iYY2gOgfdaM6EYmQ2heaz52o7zKGWE2BleE2YCepyLs1ysKllvNjivU0CzRBYzcrCZxTfUDdG\n",
       "5+Muc9DgN+U5noM4i6p0bHSMRIJi4vjgBkKlBK+sP2lKAY1pGoD6I9l1VDDUAy5nloLHOjJKd+GW\n",
       "R+M5ZgpIkmoDhKbL4Yh9qCKbRZq3jHL4JT+artLX7CHrCrFXu7O2ydAFXnq/bDLsAWb9ryK80SQh\n",
       "TOt04HT30gq0Ur11cSgc/xI2zc9wM5O4AaBltt5oOmGbfhaAN2xwugc2DIcSxlCTzMSXGjt0Ddte\n",
       "xckH1pSBRzKN1bdf9MCbVihi0pgXy8iC/noY93ssiB+kQBA9YFEHaa5fj37YZshmpVfmAwPFOQPj\n",
       "vzwp1HwBHmdu/3tQz+PWjCPy2jvEWyIwyIFOAmOyWAL+21uIjHHTYPz6LTIEqGVCqV2OtBYDGuEu\n",
       "nylupPCH+Z/ymyxVmSRV/VR00vThpaLOMQhHHXB3IUMgsOs5TP8nnorrQ2Z7TDWGM2veabSX2Ew4\n",
       "/Lj8odirQZ+uZpjPjpZXq8oFutn+SYHgmDNGtxUkHHxrFGw32Y5LhF0eRi6OIq+AsKr5vBm+g4NU\n",
       "l7N8CMz3AexKXWY83T1ZBsnqzTmtxSGsbc15QpAETD8wEKTgcNFpfU/U1KSE8fDIyvehKz7l+AVw\n",
       "qwonMJOlTlOVoEvJJkxsWCAeN/eUFOE2PnDUuYZ5rGQTnrOhgZUYO15dAHXrlcwRvrzaVpFeNCOf\n",
       "gI9LjuKagf4byvAMJaqTlSgWqgoIE4ZMbjSlZCye/V82vYQqQhjkivvANWFNiiEPu2VMiIqfj1ff\n",
       "J/DspFVZt3sfSJwU67qJAXd5dAZhStpMBLYCQnYjwRrIIWTobcxIpLF9tIvc3Rss62jK2ozNsYsP\n",
       "O2a03cn/XY6z3d3CrTd2nHDgDRZPkAp9MBe1yo2eRY+lNHplkjj9vpPaLdP5yas0oxhabd1UyZ3D\n",
       "o1Ul4jWgPvs2KVWaF4xAW0FV61eEVQe8/0jS+UICMOQTFUl1gCs/U7uZsw0eJXM0gWaMsjCANuy/\n",
       "RCwrLbG292QMM4vKaXYYP+cfaYyP6mButPqSHjfctDZYscmgw3FAz4q/lVxtl1prB3sm0xCCT8sZ\n",
       "9jCF3ntsZQfRQyQjjoJhN7pawvrMBPoCCqSqu/GyfxjbqRsgt1raWMNLiByNt9u/gYzcHpWgbs0Z\n",
       "1WRCYqhwfIo09hD9ibI35Qlu1+GD1NJnY/KJ9R0x7+hIHsAaVbXMb5iR2MUqPlwsOHQvQ9Ax5PG1\n",
       "2MzXE31iP2yC+nuiMUkfnmGAoGpUlihIWENOPgfE6l/6PFpY9UfV/TlsyO1SKEcN3Qbh0MYAd5eO\n",
       "zgbMAX3F9KBVK5TkcUUlzPQD20YRAh6d6vS4CKGQJ0UOiyzckUrW++SrqL1JlvOVMiZ5+YlBD0iF\n",
       "leca7gsc/qPTGqPrfI35fZo+cubt+9HJF1ZZkuy+D/zaO2NKA74GKXQmVcOx07LADgzd7+Ub8ba/\n",
       "E9dzrpqEwFqPjJteY1gYWAq/jLEZf0aFiDxUwEGgyaq4LsDpTs6Y3CDSdJhp2c++a/5NGTNhE44u\n",
       "ZpjOGhpnnCoagH73WqWSq9Uq9DQub5pEmElw+G7zULikdiNEfdizea10kG+qcDpdjY/U8NRb37lV\n",
       "w/49RL2YZf0tRGaiWYeoO04253pwLXz65nnKvmULNyZxiIgv8y1m8Hu49LquBnGwB5+PvJC/8FSj\n",
       "q0bfzZCxMhus9n1P/x/ObtLUeN9XuINzy6zdGm3e2XSmRcLlXiCh9sdAuUBy1zFaV4/h2sNgdoo2\n",
       "37d6dsFZfPoL/3X8p2kHRKXt43RAB20sHMjaDqiPGKShcELbExqQzVkA2aRjOPH6fkEXHT+Pr+rd\n",
       "+lIaObiQ6qh85zIYFS2yXKb21Nc1zi3YuO0Xrko9LBLzntsd1nGkUZ5ucmNSZxvKu3fJEfrN+BR8\n",
       "rN+zZ85S+mIOqu30tl3UmjRwkk9CTRxquwADfjVHMmF23M00hsYl3MmqA8+LXsufb77XiHunIB4s\n",
       "txgmBTxSysfmtFD4+HhMUkn3UQdAZ/3hZfcI8Gu1IMbgq2z/+mb/jpc/aJCtCrDnEr12ZCnlu67i\n",
       "6KiIp7K2Ysh2AO7lduYV0tctT4zUaLIgd59I+knJ5xrmpln5Xo4NDkE5kKb+B8xxDopjGnTx9u1A\n",
       "amIo6FxFdloYi3TF4eU9r2wIy2RC9hLuNZSLEBFcHx08ukyvegf6xQXN8k5vfhTTAbrRMBr+RuTz\n",
       "D729kc5xkhw23VK0xHOrw/iFmhRg+1GdRGrYrb//o0J8mqfNRg2Qu2xhdtAmzEt6wNx95qxCHJFQ\n",
       "hX7nTQ26F7N776tdOyjPXYsxaNtRIHaOUOYh8gyDodIWDnqxdQ4t03e8TWAmE4XZ2rSGLDbarPKL\n",
       "DKmqmlPvpZem2tP2078BSrn3L4Z3nqIbgvCzCoG7bLQU5s3loEQSauInPKLYI0Ri16Fb1okwDdZB\n",
       "N9BLnwnW2MIKcH2oUfVTEZD5AwNTzSyZEzeAOvROeT+6d1KbvbWLeb4o3EY0vLBU9Tg5EpevQfyC\n",
       "Ysr1Df5FUPS0P0qTtLqk8cz96pUeUc/hXtzeqcfK081oTyEV8TiT4PD/acs30GKYIBk5tkPBAVrn\n",
       "pKHjy0BDPMP45rwdyfRYxq0aGrzvJHdYPCEhNqAyTHglZRp1brxCppJVUpJ+cuW8v2r/bYmXk8vO\n",
       "o4APYQFcmwodPu32Wdq6ky9GdmNr3109h6CyucCo1uBSU7iXQjJAOMY80LYuo/pwis7rPMt5LW/f\n",
       "N+KWX8wYscUcJ2ah1iIZ57/vNglvzxlP9GauySB6CQn5FPw/QPZNs5GiwtAfo3Wf8IeFjtL1NTLX\n",
       "CaCSyPUy65ozeB2uAgcAAAlxAZ6nakJ/ACfMsebYAMs1m84rWL7PMTow1ddo3KnRsKy8aJEoXOdw\n",
       "++W6IQ77Zp1/zwYcdKN9GytjUIKwgVrTFJB3UafzhMOw6bis2gi9X9WQ2w1aNDUKwZG77N6KcLz8\n",
       "zpCdj1Vo4EtvxgmnU/kumLMR5XUdFyef1hEOSY23+dVVnEWzwwyb5I4MVvfMcv0LFvLp/upjuHxV\n",
       "r6gxifFbAhR5+4R2eR8gwmj0T48fMMttwi/OMchqNwERICZvGYxWZJuEyie6/a+UmCk4AR8xesMT\n",
       "vbvvvjZ3/un/riEECAEnEduRG2pfE1UjMmyoZSKGoEtWmIy+48aQMmLNmfe71cgYqnzzbCNrm/e0\n",
       "SbYXAvDltjkOFmmtYzgVTXxnKC+B2osUgMRqxgdMwc/h5rPa/RWyYxjICGgXGBCDlCUgInShzyre\n",
       "TaZ11b2wvxgAudzRuLwUaZvkZyeAAyB0EyUVCQe83/D1qI2BIwqI+p4a7arMvxsBjlQ7gF80Ly2b\n",
       "jtl2R8nvwE6u5gxs88rfc0liJgmKY8MAaQR9DcLrZcojraai+hc9VT7krCg9cW+s37mZzZ83vbbV\n",
       "o8lwvYu0MM0YFa7tSfypTUtENoMjxJolZ8tTNulgnM2vszWbcBdKOI6E/TAPmll5ODkBWA+jpFAb\n",
       "/E9ph+vqLnx13SrIlbQPTFI+pOobrQOA6zbySSjKng0TF0amW1QIHVErAEEdy2thC2QB7SsvwRKl\n",
       "c+l9/ZIpE5KoPCX8UwWsNs21vdQg41ZHfjdvSX5RgdeEGfQ/AISE2f5Frv/kTXL9G8oPaMs2DxJv\n",
       "NMovYidDGcnyyYk6haEIRFQtmicHtNrbbxHcJLVkTwuDABHI/DM/CB4QENhOVv2DfFxsR6Ak57V/\n",
       "PZxaf5TvixHE8FgxXwSyFxLExJJCo+GsY4d9o/99JG6YRfRgYXJbjmTBZYAO2Jk87vjXP6s4nuEd\n",
       "fUE35YRssG8RH7NMgIX6guMdV8bGbD6U8j6ieJnLR1ZJ56LOgWDpBul7pw/dyK7DiUn7Oc02oCZe\n",
       "PG4bs3t4lMzFKq3xmAcde6HO5IpTmNg/Fj6yZMEb/DtjgagM4VG+ezSp9Ts2thzliVRivjHek1kK\n",
       "H6Y+Y9r7UGW4nvyKyRVT1NLR/G1wP8DUwaIpr9wZhBMIUH9Hao2ABgB7OZWdzt8id9L8hbdhkewS\n",
       "tUm/cCiazNpSubb2P1DBjHbpLHuCYxmOHD2ZZp8VacEHtO+lfZiNxre09Mx710FGlWXpYLpWiz8w\n",
       "/ZgPd/4+tRj58AFatsc5Zl+BDZ6MHkHWW+VqrEdHEWM4uGrBPD0+4wvS8m5N8tGrluP3mG3uArtv\n",
       "/1idYQCo7PXzFRRJ1rDij6NS1oqwjltb86zjzXYVuUXLDM/hKk69TjQRrj+h48M1mFrvvsYayl8E\n",
       "h1ZW3NFofQllkSIj9s5ubqOxuQFCpTQnJFb2rwnC6Q6tutuPQCUnfl7UboYuKyhyxDS2RwbgukZn\n",
       "m5DpGrwAnHjGPa2GJDzo/DzRdjJ5gnvULYj6F2h6hqUaadjOfcBaq23SZKoXGFVrOjEwlDI7md9t\n",
       "bHXnYKzmsm+v2k0JRYBJVX572Egt3sBTeQaobm8aFJ1+t+W0W+JIaf5pknh305Zm29rnI44yvU6c\n",
       "WOKgNZU1+yn6qXrdzgjHlTcoe9I7uzOE8wD/XxNP8/7nipvKMyzAktWn09QbDfIbS0y82WJFx9Du\n",
       "LXH0sBXKEQBiSF7cuK5Eycm4ThRrKm0t4PDPNHqFI7pwcFrrkEWTDxamhJlvb+ceCm/wW5PZ5C7K\n",
       "U0uvGgALB9vKA8a2Dxt1Gk7900WgJKrKXCaNue9iju/LfJ4kWJ7vYo8p/o5dGGEkkhnWkC0B9NRh\n",
       "rhnrjLGRB54D85iCcg7L2WQyWDF3SR3/KFb7t4jeRrRTyhzaYVC6TbA9EDU/gHjtYH7R+JgE4EQc\n",
       "v8w8hmAw7uaRzMqQPU8GMPGAc5RviIXmeTaMBOONNgAeKnSZ83JKErcHYBuRoSjx50/QBOl+B+as\n",
       "r6PUyUuDLCUcfQINuFNNBg3Ja8qNcTbtG//BBQSetgKBOou6dt9QAhWG2u5VoSix5e2kGj2jAo2b\n",
       "HmOUUt6beq6r082tmfTxB86I/PgalX6OE0uq73KzdOMaTS+Y73eg4iVqvrFpIUwB8nm+ytZ02FNW\n",
       "j2FndFbSxWevH6dFphuFEqmt1ld712CcBpBpXYVPsEV2+HDxaJ1S9IXwCQi3WfBjiFQ/XEfT3Iq6\n",
       "8F56rQ2h5DrHwVBvDBGt6ed70x4MzOAo550TIese7+r/hq+r3KkV3aggkdexsX1u9xEsnHr+13ZG\n",
       "7YOwk3LjjKr1S905LSSFKEGnb7w2puMtEgMMRsSt3rRZn5rpbZQu9sEtzhmUIFcEV+ff/naw5pGz\n",
       "5cB7trLjHTAUIWlH3wBQ+VYaZXrQHEOx83Z8UfC0WCTcHXdyd1mA1upx18BVtTOnpBhkpkiiAZnL\n",
       "tLKZIYyXFPYLilQV/5f/8zCQT3rmyXC2pN1Qug7rjp6PMq2DBzz2ny1eQvanOwaWIanwpvYNkjQm\n",
       "vDJAtNwH/f2eiODjJWKTqUZ2hN/FVDkQtAU+ERwhTxn3tt9A6paHgH7UaKyb9liW4TDuviaUrX6n\n",
       "K0V8lXwL1V0Iru/KhW1vddb6vUSKLdHPXVRFlA4xot1AuzbYFV3LCL6LuMTWhIITO5lhKqQlzYbJ\n",
       "UNvqpxvo9FYvgpK9qmYqyQAhjcp7eH03ScErGoNIUJVNCnWEIJfHqrBEDxrxFsNG8F11J1HiDTlH\n",
       "vY3qEoZzkmOV4VX7MG9Q2WAd+e+tvvR3xWNjCnHQJOPXMF7ar5aLzC5XJBXujeKY14RZFCwHwHj2\n",
       "8xSALhtDxCEnSB69N+KgNsgLXrNTXnaM5cN1GceTX1m6f250v+NuRGCp9G37dbvSPCCSGXPCvlFj\n",
       "aWc+tYDdH5LqD9m+ChD33bXdonokvIiHuFLvFlBEpsC7meIKjAuECxaYdQEqJSmoWMASj20rLCGG\n",
       "Dq3ZbUG3M+yeDESzXke0OBlmpRpnOxsFU+xrfpsL9zhnqa45qfFRap6mIfaST6VNghtOCoHC+fwO\n",
       "w6rb1xm7cfH+gY/Qck8sLdOnhoK74nKgGZA16t9SSYtpQwyUEBJ/vme6p3cnk9nNIvF5qW01aiOI\n",
       "BWw5NJO/xOFAl1pO0pf+b8QzPyC6Ejjw/rQjwxN7MNuYdEw9ZeVAXcAAAA0wQZqsSahBbJlMCG//\n",
       "/qeEACPcb7h2CbxJuZUj/fbVoWrlmWAogLKYVnG1DTzVVrKAaiMMaFYLxzJRGgafBq72PT6WJTz2\n",
       "nnB+egfRlhn0MOkdfhCTZqTyYVuYUlZFBv3dABNfWtOQG/rC4ZyR+/6611M1F+a2PPH3YCuO4Q7v\n",
       "sPN8Ms3b1CJ0ScyP+o/0BGlVpzjnmIdskjLw0SL3Terx5jVzgrO9WBZFNZpoVJiQsWJpc4jUfp7b\n",
       "zZcNqOh+1MwQfFsK38HOjMaZ8rS6z4IfLpP0/BQPG4To3Xz6h2R2K+Ywr9DZ4PiNWPJcKmq7DXlI\n",
       "+eVbWePXD1d5ctgCTyvfg4fWbintQvfBokTa1nt9fqXKyRHy9hK9AOpJ1nvruBfYymHkNd5xr2ku\n",
       "DJ2B87H2uXi2P47KcVNHXdUApX3txImaeyB3uo1yaAizxDwNj60iCz6n5503lEPZJV+gHWw/Rpzz\n",
       "+M60RwJ+kdMhavnPtd5qZ0elRDbTOujOYf9B2nEJ5CD9339i467cVZSfKv1zsWE0O5GJFIZYWSDy\n",
       "3AYBr6U7sEwpYIveE9vbirVXu0o51GhDz4FTuAAcv/T0XvS7fkRAeKxlobPJu0bixG3z4bL/qvRz\n",
       "Ib1fk1tAiyUyZoGAZhx2mgLnA09CCB6Q4bDykU8EEGBIi2QOX3RJ58BDDmyW8mryRU+4o/mxdOK6\n",
       "sWJ5E6eafMm8nNrCOdbBBuUj+KVSemqYK88LrRDf95P/fkMeE0fsytiPCp1ZQI5Rwj0ATriR9VvD\n",
       "ajEN6NUULCa1U/PmlTwvrR/x+srcv9gnbeHN/+ZUfye04qhE44xI3jVR0jvHefQGHwvnsNA8CQFT\n",
       "X2QbAPH1836Q9nJngi6xGXHJVm3dYt1da/Gd5k68d7+RoL23PCYkw5ZTlfneaJqmxUrBwM4pYN8/\n",
       "wB651YwIE21p5DvWIQ2qtHjoBomYjoj8Wgup8xQy7uowLoLuOHWjbmcjqf488HiKvczq/RH4TEXD\n",
       "M+bi0d3w+MzAabun6cJoF2QhdJFWnHOJeL8l1NLQ4zxU6/ysC3g2dS1QGD/+KkOPErCQwRDd7bTh\n",
       "RRNyJhRUs92ia7CLcTxk3xxEOiCUGKSPiRTt3HsZmbDQ2BLPZN4VJoyfL1PwHnofhHdR/YFj9Q8Q\n",
       "nQTbh4Fs9aQeo7eKF/6KH+tV18mKcQm9bdeeBITvyvGcybTZT9FrCxDrtO2n/aORJPsJe9pn/sO7\n",
       "JmCyOj7OsOl/gQ+YqZlblSUGgQppLKDjMKgAcxNd1LgUAe8g9D6KKI07GCbBvNdyRuVE1EBKVVvl\n",
       "+78azYF2dk5K72zwnbtKQKnoiUIdbY+Cxa5Pc6pkWScJgNDl90/+LuUnr+t700J9F7Opkxw6fBU9\n",
       "hk4VzfSb+N3Kwcmt/MirNDVRFPbj/og+U8jMRcOYPSQvA2bCpht9PRUmNfHnorxAL116yBo5a0Ko\n",
       "DZPEk78IvSCQ4UCell6JSC+Zq6ThE7PEoI1GYyzOnxTHGXkW4pCFZQwi48YdmxnC72PUmFNbUrY4\n",
       "KRfi1I6SzTin7KBaGnrwHiWMNAxkz8rosSJKqFU0aWKvwa6S+MqVjUZ89nMOSW/AP4VkMNqsKUzk\n",
       "qsdmAbXn+jSa4GwwTzXmN33UdwzkucmZPKGesV4FM6FfvLAzgyjxnFsYWciZwKdcCX1vjXfmQr8X\n",
       "dS/9hIuopzOli5ahVlY/uW/4pTgieM+Hg8Fnb0uly4PrePgDcYCOXlxCes/Y1UthbHKfz1WNc35S\n",
       "IYQBsfKDQxw00oM6yIJJQjZt8fkKDCuMLVne6CgamdZlRVRfwaOzbGSqPnjvMFHCegNtUjRq/RRZ\n",
       "cS9Bz10mNcPwJxoDQSBMgOQM5mhFqYblqlTh7+4XS8vUD0ixnIzncEAJ5/z7tjbpc6VH1APEAvmV\n",
       "tysF+pgCtI8Sy0aGFflL7Nr1v+wmaXZHC28INpI70SfKlnbBLbEDU7m6o8lPsla0FY1eYvwaPrsG\n",
       "oHemXkNPlt5nKeZns2gAoYXsmua+uCCxbpv5jidCMcdQwNarjLxVdlEN5ybJ0EV66oBJE09zafhh\n",
       "Qrtzcu32k2Wy6yPz3LJ7E11v6r2lhsKfmio+x5Em8voCZMzmFOEvl3BR4BoFbIpEA0yoMDLnV3vU\n",
       "fH/HKIdZN0erHuV2U8GzcCWqgQyntH7FdynLDX7zOjsFZbeCLGfyO9I0p1f257LNPp7RyD67epl4\n",
       "QSDZJk5bjyvy49RYGEBIoQ8CxhMFcWtu3W1B/1isCJ0c3IZ509ItSVZBhaYb1pJHX5S1QlESF4iz\n",
       "dQd+UXf8kNIKkrgCABDM/lzUsdKXW9JMhnI2mtGUeyirSnfvpQtxaRYfGENt4LFMbaKzsXS5icHs\n",
       "/vU2VLcoCa+V3assPdQlZDmRCfStvjNTGk24CMM4W50ecImLDxuVY7Tj/DVYDv1y34p1NuelVgim\n",
       "a9/pnyk6btZP8+lfFN7X8jajLFvw/DBTRi7kEbzDYcatN1EKumO/ofnzjMnwGoWrUnZXH+BS0hJC\n",
       "vQXVCVyx7W1/Dk7npPSA/MjmKil5z53GliMxICspxQVtAei+6yScBo4TLGS6V7PMTJZtysFaXl7e\n",
       "rUNjx8pgI0u4zFUsZ/x4yJKMxq8RUJsld+hoIiVA1wtUFm7TV3Bbv3gSpTZLW9gwf6wA3HX4v5hA\n",
       "y53jz5jfGrL1LV6W/BXS0MG+9ozjeWpHBDMFZ3bpmn7/oid/5Fi0ksATuKKERg3LdCVmOAVlaVxC\n",
       "cApJcJjPULoM/rskC68rhoMgAnMj5NGfc8tQU4HPaQJ61NSEMzd/5I7PEA0NznntoWLHgUuuE2Tg\n",
       "EPywGAWoUrohlMP6raBEq7sLaPca7zPOguRsLEiZ0QriX0SjUa1kGu4y81ceW5LxoIVwbUBx4d93\n",
       "rbYsSYLIO9A2yLAOU93wD3YPmhunEUBkoan6bbZm+e09HGBu+Q2BEjo6H/iq5VoBmW3KoCoCUqVf\n",
       "qalKsDrVCv+mSIuPc62CDKVtjVahiB0qoa+auP2ZBj7S91ae1mWjoFiAEFjICjpASfBKhwYBm6Jr\n",
       "mldMToRHcf4bi/1fBAonvxUVZjjB+vgSc/Mzr8MXxwpyX1iOxI/jYtIqFxO7791u86xwKVQLIpFE\n",
       "huab44PsRiIiwV3IO3Os9KkD3+QZfj4Dpw5yEBDUwmlLPqBhmtOUvxQIr3w9r3i6HpuLjONGuWKp\n",
       "AfkhGFB+RzpYGe7WUyzY3pHNfk52UrwwJdaahfCPSRVkPvz6mr1TWGInd0+nNr5UCeGVYO0gsCai\n",
       "oHMHrjxIrwgODnpBMee4bojmsO/YEwVfsilRus7KCfAfV+NRK6U9S33fHuKPT4G6V6psDcQRuX0o\n",
       "HOfDZCKjqBw6hs8yLLjhA0IGUEK37/5pAt2MgAl9sSblB/JQw1AlInSGTzAwSemZNCLvltCdQEPr\n",
       "K8Sn11D9Fzmq/5mTMgiAu//NJMvAEfCCPiCkTuaVkNNnpNBcY4KiZNDTtTbPcomlcrHg78E8p/N9\n",
       "bW4f4UH/W3Wravzeq5imw5oh6tDl1aJEcdW5JNRhbAnShi6o1bi7ZVrirQYjn3NobDgAA+W4THyW\n",
       "xChm+rT6bjOz7EeYxG3Xh1BxWZgF6BB1FP6np4D0GxNARcgeK6VlJI/zRK0KrinFoPVF43RDAYjW\n",
       "g1jIQBzGdcoVYh5LyPR5aBIuUXWXHZgYKZyhpB3bobrlednoqxcOMw8pdUMFxwvx5HTkk5xTzc8S\n",
       "rkOFD7f2/w5z7jbN2NLhC3N6F9MHQMVSkUR4PubzAU/LQ0dcv9sTjVX8fHe/VNSS5MfPKXa1gM7n\n",
       "qfFFoKcifhcqrMUO3T0ASf0FcJchKc/nRgdEt17YXORxY2FHNg98sh/l2xv7o7HeGAKueg/w/GWG\n",
       "iEeOl4sVkNM91QPyvuE1/tkFWVf9tlVBB3RFH+Qphlx61oWDQmXz6avXFZtXEQjK4uOB2248VMo2\n",
       "bm4I5Vz/eySSRUTirC8yyqnd4qJzSmiu4OIPA2TH9iEbYeNsrCUrnEpHdz8ZRWESuAN6J84r/T3q\n",
       "chkNhrJglW/KML/ZVshOX7N3sieGkflXeEfj5Hem97/XBUaRr7e//hapuaA0QGmYRwAdjPRQaFEk\n",
       "gGW4kYSXgHd4mWwX55+3rDv4/9maWsb3DL79s/H/gLBx/Be59xjpjuZ5ggFAviT34U2OFmB5x0uo\n",
       "VqGJpn0bl7U/DJ8mXeI4JnzWPTb8mjNUwbuiPewCxscVWldE+vxxNt116i6X9gsU2gzki37tp7Nk\n",
       "U+s4NOZBVA1nhaqVgNjSYk+epOTrsowbBA7PENkeOxX0v5Hqu0um4vvdz431iCTUxelNLbItKSXO\n",
       "mA55gt85jWMaUu/8pwCsI2syd5TV4m0ZwLWfCnX4qGeqPiCXIVF6nTrLPNZZxBP52p7z6pXndWZW\n",
       "JQrd5dHHNy0VlrHpgC3NBOnhs+X2hh3+JzDZMqzUbAFCBPCJgC8UP469sJg/jR/2c/gHI+ZDmUK8\n",
       "RgAACVJBnspFFSwr/wAdAB1rq1EirXKgA5oaobhtj4Zo5MHumYrXOfx0EOqv24tDNX/CwF+bXyA3\n",
       "wCeDEkke8Xw8l6vbTxe/9G1QWLrYLMFfzjln6jkWnJpWMUf4trvYfUdHipTOI9uw7UEh5shJeTr0\n",
       "spH7YHjMtX5mq5UOVHmqc/lwJKHnPwWLPSfjYJymlodsVkQY8KzWb857eqt7OdR7SJ6PUHh8J38+\n",
       "8AMxZE/A8Vn5F9lW0KXYcr2yfXrKdzvvQFdYaWSScu5gSkYBbfL6L01B4MgCI2DLv3OzKbO9PBnv\n",
       "YU4K8vrndjpV/15j+1XVvpECjIDtpE8JLlmxTKsxM5jYiV0NLaxrWXT4UIEYgTlYuhja/F4JrshJ\n",
       "7v8fFisUgRqmQ0fYykmS1X49lY1GiI+IgOapAOELzrzel5NTIiZmWE8OScwt4J9yiPLmu6POLU+g\n",
       "38iDBKtM2iHwqT0V1Aj0l8vax6m85+Pn9BDVwYEnJjvq73QMpoiZ6QO7DzY0sxJqe8E0yWmCTjpp\n",
       "r/GJaj/hMHd/JQINO4nb5+BfKrkOODbEjYNh1QZprFYe/yvqwyueDw1kuGw+Dd21BG+6DDJPCyWO\n",
       "I/mfP2ABTI64vBdZiMC6OBKvQZ5W8F8GhNSLOjZMYtmDYha3w0t8voupODf3cxMb4bNDA7jfwcUr\n",
       "K8u/H579fR/hg8iMcQDCzzPhralkG15q5mIGHJAfcD0wdUZc/2lsmev8ZscfBUE/6t6ldOmebp2+\n",
       "Jfm4mHL9Wtz8O+3blHd127czIhjgRjBTbGJlxOAKQUPGYssAa3iSGruLNvf5hMG7sliJpQXY1IXb\n",
       "toG2k1nO8ltbampTSo73lDyHzMJf7QM+CztrHcAhswzI899mCss2nTqWONypmexmtVnLB7bbY+rb\n",
       "bwxnw5xnDbGP+2g9nZAFPXuj+DGY0E4ZJ1vyqgjXNyd9gOJSdTTvHw08llXMQBWIdRQtw814QFNn\n",
       "vzT+zt5ONFbulhCCuwOhP/ferfulVyNHmn4D2wh3da5c6M1OG+vc9t3QXnqrmGYJCiAQkm2rkYdc\n",
       "LHhDRH6nOhKMRNOGaMPwhV7IUTbMZvAnT8crYCvKfItkTrbsgPoap9U8n02sFGchJxSG9caYzOcL\n",
       "RRJ3dlPGnf8woNDUdIqBMqBd9y/E0XK+HvK6MChTFa9F6425I0Ikx5aZRnHAXUi4DfTcdET2G9RM\n",
       "aEDX3GS9GIdz+oVgAiT5XtsCdR3oMIpeCRuCXlW4e1Pp7nUVmzX908vuKh7GWOV5wkmWBffHv/3p\n",
       "PBRHwURrWs+3WhY5ulBWAPXN4Lw2WYHlIU8f8LVQ1Armas1AFuAY9H15b4t4eg6C/0VLhmpWrCXo\n",
       "Fewi2ZZ5OzMSl3H5YBKa0Wq9upZALdS6cFH+DDoZycMdBlbE+H/Otw00tyX2vKQVdXiBBVGFveeL\n",
       "ZhcdTLZm9hc7wDSTM6G+o/MZhZtU1EBzBYGKDj2PjKcj0iZcxP3AcMl9CU1rRym8vZAKsa4PIlRy\n",
       "MdgaaxkVVn3QQw5ZNIiAcw9GP7ZmZOCHMoa8uMBKuipmHuZniUuxnaxZYyIrda8ohyj4VUm4VheJ\n",
       "0JPO2oLqDtauDfJsgR3O3xgdlpy2KQwxFkGa7MV5gj9+QKDvC8m+7oK+PVTmmVtW/HV1Mh+ExE9k\n",
       "iYFATKW7botErfPHtgtFLFSKQUlzWAkJMDoVymFiDJoOxQk1B8iIrgnslE9bAZZ2qhyqZ+/ChzqX\n",
       "2yd4oszbQt78nQYTAmpcmzD/yvCQgMeNPIl0JKNYoC26MUL//f9TgafbbK1/7JHjz7VTNW4ReQVx\n",
       "R/0t0i/A3LUOK3QgfVlB3jyf7G6ReyDxGWwOptgDvminAbP6+duFmhLcQfgGt4TfXouvh9hA+y+V\n",
       "q6F9VOmYVvo82+Q9fljAoz3psDUx43VOMTQGaCZFIASvQJ6wAAMqxcQYINRW7RbZgmEfUhwc/KLJ\n",
       "WIxw/JLF0xT0fnbOuaX8rz5dDTQDgrkMut0HnPjknT0acf1SjWzxfqBgp9aGEZykeswprlzUo4xd\n",
       "n6nMUy86quHkZi03dvdAAg/bGyGb1vcUEfk0vPFWzVmr2teMOYFyJlS7dCXcTpulm1F6oR3dEgAQ\n",
       "YWmBGE5EAKZINmOqELWnZE5XIu0fvCsfiMmir4uw/ytOvjwm6HTG0Pt91Z4biP2eolj4FFKu+m6t\n",
       "JBkUMA+4j1pqDBp0BQE9kR3gv0jdOIruPw8GTDBiFYBtWK9qk75vG6DT1hxIMHzhasyJ8vy4hl3C\n",
       "fvRGMFH3LhXBmbY0//gJMGhq/dXxWRN6Ss4xia+Z7ot9ScRoNv9xgCZJGxuraTkNatApU3IVQM9L\n",
       "dwVaMox+Uj6VjuzDe6tszpqvjyQBfGCTNheb8T2Z7gBqSTA3qDTq7QjTHqfjkzYg0u7OwUhulzAL\n",
       "wC9OP0puP0V/I65Giv4xK/2iIyO+ASpSMeZcF1difxsmzZ1Y8DR0aWxS3i5ujTicWCHXH6a99e4e\n",
       "2a/FdIa2EuRi+qetqoBadOLjDNfsmy9KawTVnbJZxYBLAVSFPZgT/OptOP0gKjFNO0ADs3rcFAEL\n",
       "KPcdCxvpaQ9ODIHKkhjU5g17QDLDvpDaJ8Yjm+2JK+lsJwzSbAtLlms318srCadzK81ibL1Pqz2x\n",
       "pzGTgppT9p2geG9yuhEy4CDjjPNROKty+B4obipSlHjZs7UxK4TVtAXw0i6uktj0blqcjIioEjXn\n",
       "ChLnTVMex+9lYURG85KXFQkIXgpUd1dKQEXg6HRLT6DqTCYWnCf4f+6OkXbvPCwRgTaj95EP2Fmy\n",
       "rm8gRh3ZRg8zzJLr62pAV8uBpp6C+A0Ta6P0h/9YzPNvn5sV6+Q8qkT4K0cKQAQbKpy/eVxY8+LA\n",
       "z65dEsww09ZOy6JUnLBLsSlg/I1Yj8pqRGF9HN57WkyOtog212XtHykGNRwX0q9oY0G+1O2J5w06\n",
       "b4+YTskr0gIHfaBR0RMysgdbZ1BsFOwX3VYVOLw/1NMM3LROb7b6X+ziE6D6sBCPMrbSebmeSKqY\n",
       "QrFprMC7CL7qTFKw4nNsZlIv3UhfUcw4pJ9NLjmZ/l6AP88bB3CbIwEo9x3RfZ0ToEtkMbF/2506\n",
       "JSKzQz3aZJwrz2s7cJOQmR1wr3mlA25UNemAN59IVs4KTfJLD/KeMpi4xUgesyn7DqjJVAeFAAAK\n",
       "DwGe6XRCfwAlUGfwnKESADajO7m+Yysn4eAQvWYy6cA2TTjLZ3Uv4kVKxci6owv1ozp4W8SjjeBK\n",
       "hVo+vk0NtBjZTfA8pGIsIEEaangApcBh1TBSBTKlypiS/4e4zuX1uiBSuH8x46d47qtmnJdnUDKr\n",
       "avymbZXmO+8eZ2fH1CM2P0OHNF9DoXSb/ChOCKHr0Vbjx9vTkAVfGcdhWmHyX0EdsGShhb6pzO4P\n",
       "1u0Ahpjevh69gnczY7DnFgfTmTXmF3e6sa6vck+RoIltoFXi42s6SStLSL5qmUSn/3YWHmoZcU6P\n",
       "Sfuc4cGLigRufjzHRbOftLMEid3fA5FvNmaehLPkn3GG960+I1ZbpVxl2OIMrvz++uW7INOydOfd\n",
       "IK/7gO0aIv/G1CBFcgYV/jQvWbOv/hPNZ1oippvbTETJIPl+JgcePu2IWHOenRZUqrNeUoxiRBOR\n",
       "r5k1U1uBRuufjjZlrU0Hw9NimMeFRgOkvQ9CUdatZ2wANHJ6z2rV68/gpoKWpBbBE1OkvGBS5bx5\n",
       "mjKcf88GGz7fl2Yo3n8ekm8elc2NETkT7aCPXxz3057ejQ4ijfohNzRrg26p1EtHpJLc9ToDI25U\n",
       "qC2koGmcM92Kr9k6Zyg11wwSxBg2nr7V+rGrlXE1fsCPVHN7y3Q2XniIddG4XYM8YapAIIMnJhgf\n",
       "HMJH57VczsfBJH5/hiYlf4QSZEiU/B3qroJBWLUhqnqUNr1g2LmTDkv3eAx63LDd3BHRyHzKzFEf\n",
       "ux2joImyWRil2uieNRNeOUbfJeRazvDzbrDyoOWZkc/9pmegHznP+xY4z6xCSUKNcNHtJtkchzoP\n",
       "PtO7tUrYI32+kN9tMtAmWGjVhxtnCECuF5MygFO2gTXBOnrvnuN80kfwJhNYMwS+wGOJ7e3CPr+O\n",
       "6iF2ePy7A87rsYXqQ+8g5uVbAIj3ne17Sh3auUNslhBI9qcl5AkH8nHtHlADPe/vZ3tn7YEFpzHT\n",
       "5y2VkEpRFj2ELxIPZUqCNMPMNYSehHPWAc5KPqxwh+tMZZgTpweVVpgXdojvrffQBPnwnbtdXXZ1\n",
       "c1t8MPsUNhzBR/pYwUu8o0nsaJP/Sktr9r0g/Tu0YU4NtUpNgoeEeafvSri0kV4EBVofaNi8FcUJ\n",
       "BYSPfRMC2whT9zF55slZRNqRKRhMp8M25o0HFu8Fj5BZkpubdQ1oxVrmEbGw9Lh8Nrp5dazbqiOu\n",
       "Buy8l7Ky1EzmReg6/EEP5qW6mzEyLjmQE8LY12uIVQ6WDoMhJlevHyXSmfNV2TP+RuqJg64ioqMf\n",
       "eFzJyiTTZv2gVlmiPjzkfSXMnIB/i10qvhvS+1XsrxymjuAW4BlNpRfDKRVZJUQT7lPvv31vGU36\n",
       "W6oLkdbw2+a/HGMa8zRxfzIiFIi6Vf0BpgOwgkj5vbQ58F0tVRbUmBFb0WahZ+nkgoO9f4JQAJ1e\n",
       "lDjOgsGd0UTc1mg49unY07d+mUCijkIabjjlpdZycSzCch58GGpLO2pu+E1Ifi8cA+DUvf5YCfMt\n",
       "Uma4tUVr/uXAvE7dAHkVpUV5Tg1hYT1p2ZUuNUs8O83KYdThpb7epTn/sMxNxJqg6bTM8CpizV1P\n",
       "zgG2LMjOHI7sYgz4iwRetu2aj1rMZwmAsZfiJ7fO0wTv22qvzGXDhiODyta8ibR1BYQzQRcPR7Rr\n",
       "GBwiHdVzTjM8mEquQ/tvp+zYSp7OwPkcv7oXZybANDpmrp1jkeyfsG8aPzU9eio/F/jHfRZIlS2f\n",
       "/1M2+1mppbeZz/gkd6/hBSHtas6oB9wN8a3bMnJF7tv+iKRZOXmSaTOrgkBDWOjkWnNRiE26/12N\n",
       "HFQ9l6y5KmfHES67wFjGWI/OFZjJh3xpiGarnz6AhG45sc0PBCHKgRjo8WCTnym8N/uNt4Kv0E93\n",
       "slVLExfCUSfMztQ3G8SnjfsE59f5v88sLB6lbNCtvlkxZylY3y7e0sNB8KoBOUQbQPepAcnMys+9\n",
       "xk+GnI798gpSyq83eehYL2fpD9FrJvAmWpnuSKALZgybxHAVGRaO6vumIWFyj7WNUOxctALlKl8j\n",
       "QcrowOwP6bMUTlzoLsaPuOk5f1wzFX9AO2Gr66gxqvYIw9qocbQ9Pky8NOEVPLKTd+CnAOQn192s\n",
       "YPWbva3Ud1WPTVMWwTI02JAmiDgEz7hBCb/DHvQHrIzJ6x/et1Ni5sJQtKFSb7qXbPZ3vGMYEecn\n",
       "2gz2TzVM5ZBVaiNGEh2X0lkcY0mE0+Rp+tSykWXYHteHSMWsFHEoYcBr7X4IDtD0gaib/B/gLUz8\n",
       "6qudz/9TVvWm5LYhx2PBu7BOvya1fABjLgQpR3q+4yhOhwAPK8ATVANkUH9nVqgsowp19N4LIpIQ\n",
       "YoW7YtqUAO8btEX0B0h1IFqJzBiC9aZ9bX40T54+KnI6QehoF61IEdzUEYflXbw3kas5Of8qvGLC\n",
       "07S0EQUet54+ZdUw4Zc/bXzeqoAZfI913Rw8DDs70wDGwRxpfeGesFll/ivUM7RgyRilCVZB3HsV\n",
       "BmsIh5W8sR7mNpIujXTtFfwIae0yNPdemyoPo3jVDExsDVBNdK1hkpCMVMK47yjZCYknhMYh0+vO\n",
       "LEhiph8pvSgKQWoL1eVUFS9PeM2CUnlsUGjSOUyIBihtxj6r9opA7V3QiiNtZcQBk2h8kg3z4M44\n",
       "WE5XRU44a+Mh43U5k0Hm7FngWadt37vdgx+m6KDayPDpJw5bV7WCz/3On+A9C2SHVV1ioilI6CZw\n",
       "mpbM1wEHScNUjuVAuBLoTsxu2z4BlFZuUB5ApFAnjrZWnGnBsoqjiRgcSgqmssuEHLOEvvMdpUsU\n",
       "oPNW6ZNijU5EMr5ARy2EULVo+gPENrXyoiTOuKgHgG27eUgk8pw9UtoKpu2+Kr6UTx0T21OpgBoo\n",
       "F57YFKB5qAhLczkUnh5lgt+lg1KmqNlzsR7AW8mjkRbCi2qv8kZrmqPxdNLbAFvSBaP5uQaWnr9M\n",
       "nNzNdayWwoFT84iyEIFcNI2LtYx8dy3VoToyJH2KHzN5N6lHVGUdmq/YE1B4MlUa/DdT+2QgrX6e\n",
       "rTXC4PNBeXgi43pD5sVAB/J9R9un/GBTSSTchEw1sNNCHUMDziLxxfV+kENZBOYwD1HcBEJkaFMN\n",
       "UON2s33g3ZO3Ka7TY66mH2aQQYy9EZEZ1CjTkHYoTiHqvUPq3TC7MG6toOtHLX3qBWbgVWASMkCT\n",
       "UqvqsGGLy7ZmuU5iBLu5xOiuu1g4qBdH0wRhhkIGDxuujrk206fTlZAHTuupi/pgtln9yRTMg8YQ\n",
       "byOHkAl4GfQAISIPFW2XfT3C12ESOO1zXdCbwmosMjO+TmWktQSMsIPuY7D7b8qcb1gNOc8q5leo\n",
       "Qk+VraG5nDU9l6OMAD2CqtsTiBrngphLggl3YyDWc36usWsT3uayQsZBPbv3OblUmwzYMsmNocj7\n",
       "arBYc0paUv9oAgYAAAllAZ7rakJ/ACKxGOhZeBPpEAEQeV92FH0zYK14iXGH5cSluNPynwzTZqrJ\n",
       "3uNMUUlIC0T83PZbrPPM9xUgv4pDwwK3EMF9y2u68gmEpKd13PrLFi7s9mZI1XCxgU8ETfqJJ18U\n",
       "LaOIv357KIH2vVEY+wULTPOEv1sWp/B5oHkFFL6E6LRG3MQPSODocmPxlfi1+GIRHZSIiEsi2DjX\n",
       "O8ucdyeVad3YAKAa9qW/mQz9ETuDD98oeCwUNnIiJsfgFjZDgaoQ5ltsBQw88XdJuhN2l5KqJB+e\n",
       "4g2iM+bIGtIDnryXNpW+TySBjK6nhB2EhyFbMhmDbdFo+vIc6ONA8wE2VllDahamRPmYkr5UQ+UL\n",
       "P7PU0z1w/JFb6N3xrlLnORGkRU9FHCe9WIWoMLz2HljG4s9np0oaWIzIHnhduOfyiqQLyAyL5JAT\n",
       "9Xbl0+sHjVGHvwkLW5dTn3DC7fvPj/K5auUIxh38ilmlCWlYfcNY0ElQXp0mUSEbTEpvCk6q6JyB\n",
       "ZeAJvz39IJAZmdgQ+3ZIRw/8HrBuIriFbE6hdS+rOo1UEdRmDswnK0DqVhb/xaL8A7DVFsB4IuA2\n",
       "jqvlR3AW+BbXHJvCKV5nMkRCan2fwy1yDO2pc9Gcna98+MehRRMvNLoLubjXVitoUQEF2lTIVX6I\n",
       "QJlxRvkCFR5J5w2o3QKRFKG8u2eJlLCEmlJUS7tirW8zIP6u29s31+sLiV2sFgCYB43+2jWClaxz\n",
       "XHKgPffEeRKovIydrmcPjsMbnBcl318ULnL4/brBejUs6NRMIokkiCF7GQ6TyH8lkdmamZvMp5xT\n",
       "lL4mEYhB0fdIt2X8dUSkSjJmApZZItfCXzinwIuvq4nUhjDCPfQ9Q2UdUPUJX9dWrRKSFy6gKNbm\n",
       "i3NK4DP8pcWy0Yzf99NdMgm61Ojg/GDmAbYrP0LT+EE5G/YUpqdr4aZyyVA6vvFU5QO7PEY6P0Qw\n",
       "Ih+ec24tB+AzM0ID94Otohp/kmwjdbpAsrmKJ8zU/1rf7jkCd2QFVwx0mKf6zCzKIhOZlTTZmfsh\n",
       "RnBltWiROG5Tas0bmiCXYUY/ZEPeIIVQlVtFMspwAfeOfJ7HzRDrvzsAO0sKdwOWDSKBJc7ZbwIF\n",
       "lVAHF2LPcK27e9Zd9kGGa2WX3SYiCWcsZQssFdyMYr768OPsybK10glEN1/raFbdPeSMWqC8Iif+\n",
       "eS2Cy6NDQ2/nKWoBaZR4O0ISNPbNdDZDMtutlQV5gWsdhMlC4ZUdK1heS+Bt/BVeLSgiiwATFUAw\n",
       "4bYABPCFximWTBwHGHmI0P/onxiSJsWr2WEaTSXY2BucWnxs4/Re6B5ngNBnP2PF6FUE6zQzYkJ4\n",
       "Dx/km4jNlqA1t70HFIDoF1bsbAN6puvMiVWqfDLDslfS/ZdMkWeVx2bnK6g8L2cfh+bsJuCav1pJ\n",
       "rkvUbDVryEGBHbtoPiz31SoXa1ULZSto/+VGbQlaYlpojtv2SZ/OMNeSjr8W8K4T0UKv2wW52Xhj\n",
       "J2dW3+zkTcXTzLEIv2eboE0Eehos0DrtD9ZBh7Bw/xrGBzn3R0R+uEaP2zlJ0YgMvGEVDRNfJ72a\n",
       "pzn8//vbQWo8dqC1igUt5hxbTQRnQVmiR4m2mlJXZHyMKFTC02XHrHjVCwAqN7CePsm9VF5nc+wY\n",
       "HQxM6ISvwpoYfp8sU5SA1hnv1QnbXZNy9d9Yk3Yg+wTQ3I5xYtd9jTMzlEQLBPAT5Z/VzayF/0cN\n",
       "++57I1CFT4EamqVejgSXtY2Kq2pU9JNtlwD+YqC35XkzDm5IRXtH7hZzyFTdtcBh3Qa3er0dEinI\n",
       "PR2Q/rGj0RBWo4bSuDu44yQzyoeRsdMp0nWlwVPUxYrVfO5xyMOuJhD+zSEIGqqLnGlP+bCgrSoH\n",
       "hahUM0E5s5rb9MB5NzMl2s77ju+4c1eNNx7HCy6KBEbpa5jPoSK3oNFtHialFX5RQbnQm4Q56MBo\n",
       "V+znSpdxAlDZnaQoBu3mG8/lPFif4+OWG8SuqWFCVZosrEUrweFgEIYSPbvy+9iZz4jyubujFXKB\n",
       "5jJQaoOkeabeWthc6KD5MxGuSeWBrg6nW1Fj2hmxUOks7YhIsmaEQDEi6tTQT0SgOnxp1lb9PK06\n",
       "PzWZKdMpjW5zOYbQsJQZJW+Tk6yj2OVbI7XVs6wym2omCHX+BGczNzZoDxsKr86yu6c8xYxNYHMA\n",
       "TjKN1wnbqF4ulI9iMKyRfw0pQAcKT7CQgcWNcP4KWQkuuuCqWJlANaqLNAXfUi68jTMPJXvrqTSY\n",
       "m/pL1Z9Ms+azYSmjjKXpKp33Zlp4kqJ9yoeen4CjeLaLjxRIL7AM0gO+nAsC3MSPOsa2ie4dJ32p\n",
       "2DLW+6bf4zs1NqF1RV6Tb01kNoCpehYNIb7hvtyUNpArOGkuwg7CrBt0ueZlQcnZCkgJ9Ia+nOTE\n",
       "8Ex//AADDKyf0CJBoV3Ytd8wqDYaK5lBCui2AoeL9FrwKDCNoUEsLa2IUQ6VVbyBVm0YcHKGStDz\n",
       "ivXaVEmtZyxS5Au67nnofuCBRfUuBugdnLoYe4ElMj3q25S889pPMk3g5bBxhDe1bwFjNEMCwpwy\n",
       "nu0/pdueb4/GD2eFe3LTp0G5PmXuAtYgDMhwYmG2vZG+GW2+364VRCZV/LEBCOLJ4d6yzjMCN91o\n",
       "7VODbMDegZsFM9OaeLkztY7gfzFLXjcjctYUiaghSUK+hRK67E51oCt+e7GK/Fk6I2/+3EwsPonI\n",
       "UwHMU5QGfaPqYeZDumrhYMk/EMoZawVdBCjmkJr/XXgC2UB6Of1+BPXdninxJO9momZ2JaDLS91B\n",
       "XOwP2ELMvsk6494L/iBnkXSSWA5lbQNTDkwdVDV7mw20kILbn5GOXp4NYvYEvbrZwDuu1YueUK+s\n",
       "yMqOIoi99qrkrJ5hjzMcBH4Q+nGjgUsg7zmuq8LfZ06LbfGJW/PEvi8zzpk3dcrVyoYtH7J3U6I5\n",
       "h0CKZXjEAayiD0KuaEKkp5iJY9cGjdhPE4ZD9rtTzhbrSOMqpy3Tu2nfUPSQteVMU90nwtxzvt5f\n",
       "MuBhIu/xEVNsli4lfGBa/0AQ7wR7MGcAcTNetZjGIcrfpNcuAITuGCwWxi5cBHU3UhVUEXwGti33\n",
       "0enyXTlPk6mQ8lM4RwDZTdyiovwE6Vx94wlY3cDDY5u1TdzaDnqR5i6jHMwo63hksW5vcpD2AkIy\n",
       "89IpuLO9ukYBHL7647N3tCpDiNT5GWGAq4AAAAu6QZrwSahBbJlMCG///qeEACWj1UckAFqf8PRY\n",
       "G+ydf/8PUA+mEzFCnlFmULhxMzPL5req9tTPf3aWOJdlOT9X2eMgHn5n9siMa3jlZDa1+9TE/F1A\n",
       "C/txYNP8J10zE123Cw1QpWbcmeKgH4YZ3cRP/ALu2ZoRD1Kf4W845y/SCXR8B+Qs1BN51wDZuFfd\n",
       "uTj9lcdVRlFA2TOrRiiPTFhp8VcBKR1LAkO9YhKD3uXR4gjzONVINaRj/LUuuXA0N2NV1n/IVCGy\n",
       "X753DqR0EIkYr6LBlWsBvwHUD441gupWK1m/HbqX03e5mEJRPQDphS66PTZeJwNPlEQOjFVh82hK\n",
       "3XHnfcYwTWUzFmdhgId89Q0hS0I5d102I1/3HPm2SUPtxPf7Thrgr0xlzcTlYoGTegx5hsATOqWb\n",
       "HSMX2+maueAOQMAYwb3rP8DXB9DvmlYUX+XyGOkFgiZ5U92TxaZLCEOAI6eVcwk299ES5GybX8xs\n",
       "C/5V/NRCHi6P1/87AnXTV1ZdEbZC9ipSrlYwZbRs0Xb9sJwLi3gYeQ4O9ffI1P9nxvVA2rUtcxUy\n",
       "9IBuAOqvO5ia5jHVLRaBDcSab+9B/2crZcKIXepRaUcF3Eqzn8Y3Q7dsto5vxJtABZu/8nNOWCTH\n",
       "YvDlRsr9uzHduH6L1xV5M2PiZBqlmWlmR+RzG0kwF+N9QIm4FERbOvRdRhVRdpgiEztaM092+IWK\n",
       "lTbNX245vVtmokHBheiYfl4NPA012MfJCP2lVlMFQddBLSJ5OQEYAT+GZpf/260c9aDE+DR1KgSm\n",
       "AkxM4hDkY2C6kZES5L0d58j5MCShDEFckxHALMtf/UUgy70PlxjSUmZHdPoJTkhRFRwQ96X9mB8E\n",
       "dcE/3XZ/BedX/hjfPiX9BmtpIklr5rnBBfo5XQmpDVr+N4zAWOnDTJLgq/0gZeujEFv3wgiViYCf\n",
       "DhEoBM7vjIYeNst7kxDyvkv8l1/frUpcPgKDi/02BHfjo1o0M49v9L5nU38TCX7UFiwMYtniz+ZF\n",
       "1gcsdKtXK0QkQkvqe4heWBoXScFDqOWFjTqd+0fhPRSsnY8ypQkXlasC2KMJtIzVXhQD3IZ3qGph\n",
       "Q0Ge0FGFvtbuPuuE7/kLaVl2l5RZc2UDelzqVcLUGii7fmy8bUyrJLM8rf6II7Zd2qAzdcajsUhK\n",
       "7Gcr40pQOI14DreeMBf0zPkuKOAv5FQijT9RkCPjnCOxVP3ZuUdhE/b6YRVIZMUd0Axo/2Vj7Ovm\n",
       "OaPY9Hfi0JrGSRvw0AphrfAY3W+ZxevK9kIRPw9LOfJIqeBsSqHyzGAPBb4e/zl7Zew9Mcvx/RFQ\n",
       "h0/oVmGH6LQAvL33Y1H0QYvQEBjCq/+fjTIEw9F3n99cy5T9T0bLtyLjGXyzWGOjbBkXTuPug9AB\n",
       "HFMiEkxzq8Xk5Q0EBCNM6vAMrvGu5Dw+ZadUtSHzetaAnggZN/mffEW95nrko/qzXR/fmsCZfebq\n",
       "kruNFyIOt+7TQ8zpEizo28UZVhcSljXJh3sfp79Z8gzJOu0+PY+5cJM/NrxD3JoD20Qf0yMTH6q8\n",
       "i0aP0RIC18gOF15QyGmJBPyTJuwDvy41g8Vj23CV4i8OWEes+7Wxw1ZcdMs+tTGS7MahRmtwqkPb\n",
       "S8WaUOVGeaGdVysxUotwvx22dF/zlYWlASEs85Sybh3NSw8CVrTKdkvpzZzL5jb5veqttvrbQfDj\n",
       "pfHT6Tak5ySV0eqS+QP77SytFYmEJEnfaDtCnQ0I/1CrGrkoh3lYwMtx2wFdTCpAdtBWknMORUQz\n",
       "XH38wjC/Vi8bS12mMm9+pRSolIQTxpoJ53P+Q0EAC1t39j9eQdzwHxLsQBj8MBvbv/troUPE14Sx\n",
       "PBaMlF90sUHuVQ37DkgfNYLM3gMG0YqKpfXPjX0gx7/i7/HuI0KVZ2MK+ARdahmfnyAdNqiorE4B\n",
       "EYOWWyhbayh8F6+bEjGfiUyImIHRvN5jYJh45JayFS+ehVQ7fA7eENKXenekGR81ARVRBlwfkSyi\n",
       "YBejJ1+7LDjWS0BAXOBbjdJBb9gx7nbEsAPRk3rtXAEdJZme8ZscuWxeYaeRtONP/VLSlQVkifHG\n",
       "QrjJvQpXeaMTn6z0ff8CGkNwgW6vWEbr5TH4je+LNpxeQE5vmrkPeoiilfBMWdZ57li/ATBi1aFQ\n",
       "Vf8sRKvvs5fI+XJ+SSJxYMc2m+zMbqI+Lu6ph/nFsrSMmABQ0PuMkZcMg3G4fpgwONmTofyM+j5w\n",
       "OOT7AxsV+gGI2kLCW1tKpavSwYhLlXOJTDtePgI7+Ap8Isurtjelgeu3UUc5AEd0FEi8+htG94fH\n",
       "ug546iBlw4fyz66jL6IjIEn2h4XJEH22xAnMhVEToup9gZ1d8qPmlc469unjNUYTtQZPTtgvwZLH\n",
       "jw5Pq7A9oPvwuqz4sJ3M/0uBQtGnnfeJ7eiT8KNb2DptK5G2r9WVgveZScylMU9NKKRBxMOdTS4I\n",
       "L9WciYGUq51c3hARKB/6kcYsUaNhK0y4/Y6CSICOJe1fPxRNtlRf61NMs1clyUpYmsWgo5jIS+8T\n",
       "IjJo04Z4vo1qKY4bRoEC/DZkvHIs73EVsqNiuACRsh8FiHzIHoXZ8zzax1J3gGydi5BwmNAUB9Pp\n",
       "NZijOU3aTfk0z0maQiuWHvS7Lxo4Oq0hxVpJMYv2kL4286B8kh/5kyN1xYCB+kYS49hv62KN70vH\n",
       "wBtfWjqN3sEBft2uFN+yvvgSd3BYsXwdQ6TLmu89U1QswazZKX8dXIKBTGDcq1bdtzQ3dULjAjMR\n",
       "1eoHKKaOUHnlCVMwtnqJi06O46GNUQIgDNYY57dXINPjn3A5IOR3FSEb9x+xCc0VBYiHRM/ItUif\n",
       "J4wI1Js1OVQmmNOk2X98qsaevSDjNfWwGN+fT6oRJMviTywmbSaPO3aOFmCQ+rvWs9nhBHmO3wDI\n",
       "7naFd3Ie4A3xIoWYdjTVTaoS8e/C1wtR9CqgeasfWWxA2f2ENQFqwkClr/uHC+/oEefedL76WMPX\n",
       "seSRTXTBo99jUl1vUGwq35gU4b85lVsO/qjJ0Ou04YokYswPsbfzPgzrSnk8PiA71fUSVZ1sDjbZ\n",
       "JPOiRxEebpnnlbQLzDC6Icx1Afx9JTZZVfkWBHjavjT+DZbfk6ywfcNu2vbsvHdw651nDYW4DIrh\n",
       "eUPxzYNgy5UX1yJB/pihMm5dUhG9Jic0VrZwT0bIhgG2WwTNHf2UEuW2PvYnt76lJcrbz1dvvFnm\n",
       "J+/LeL/auOhfnSKbT5hwalMWU2M4rXf2GrSIEuue97Ft5MNUB0MaPZRp3heF8Bjv5tOgBLINdHGr\n",
       "+RtxSC4WA6ZXwX3qhcOaQsCcLMLebFmD+RrkMPe5bGAI8SrzzU/KF9uwL9ReDLuVXEXIkaZUWpM9\n",
       "J6R77sj2AxmDdVXqU9vVHmliv1RBKr6Kdq2Bs4krM0+TXHG/Z5Bib+DjQFD1lSrtgG+ye3Ik2JPW\n",
       "f2sDBoEg0QffpTeuPhIQ7K52jcqFHCtTiHbarDNVi/iTV88nz/R2oHpIvXQTZb5auWK4+oLQhkQr\n",
       "bxXOpGaJiG66YI9hyzWmsRRn7SPRHyvRU3rvd+IvB4C4LD8VNMLbsDPiyjUcQhnf+KBfaXmgG3y2\n",
       "7+w1x1/AoYqv7Q556phkO6FI2RWG5CTXnmfhGB+KTeDf7fPVhPlAnCOnyirIUyxNYeI0yNDMLJQb\n",
       "7a6bLNrb/s3asJJkbVFt73vj48jBbtRzL3urOGKEx6WqrCsrIsAyUtwXV+i72mlXZeLLJsuxykom\n",
       "OveI8QFFBDNcx1+d0Md3pzGQV/7Pk3YYH2WZUB1we4WaATrHlONsFFpqTthTxqb2t1qRCj4ugFs+\n",
       "tXCZMtPoU3XY5Zzz7r97WkdxLZXmV7x8pRxt6T0XX1wjfO/MY90oUUTxl6/2zFP+vnhEqHkn7KAQ\n",
       "rG1PPxKAqhnhmRT4QjPJSbPrHgVZ8jQnjiCuAQC3sG8DsvqftDCjupjlyPU3FDjDaOZyw+w+ljnS\n",
       "hJMZpOJa7Ry+NV8AAAgxQZ8ORRUsK/8AHmVnl0tOEIYkA5TujGMCYKSBSGPjwmluABooZRh5xlGH\n",
       "/+HTLRieq/az0Y0ZcX27+vSj0Hcg4X6bkC3L42jyTOmPTocdJ7IWgICzNjkk36WNqAIlmi+E5F+W\n",
       "2ZTAGKr6zDVTz24/WhL5U1qNi9UPfLDAqivi0MS3fOdVEs2el0Uo/CrckHGsJvFEDcWdULb3L27B\n",
       "5PA8+ZaHKWBWcypiORVu6gFE4rui4Gn2na9R6xAZHUu2YUwnmNOjAWdmNB0TmObHAiTT11CKig8B\n",
       "ldDuG4VhJPw8BcU4zufi+8bF59XkVAZyF+fu9KraK/7/uWkQQjSzb0lZvcV0w2j5ATyFOh9jxD2J\n",
       "O41vaD5oh4D4c/A+OTDacVQmk30ASpkb+w9y3uglbz++l/0JhORbcCtvOowTzbDBtfmThVr3iRTB\n",
       "x2IMGEmuQ3+fO+rv6Sit1ruCQaPB6Jb/DUchyRNttE1OFKKnr95jAg11urWTt6hjqvzqjiN6S0yT\n",
       "kh5pNfL/0LmO3J2inrsaVONIIXh77TrIOL6UlWpZ3+dpi10fTNByoEfcW7Vjs3KsBokg4SRHd1Sj\n",
       "l5EtAzNmmG/7jVjHHJNygFDZzD/GW4OzbG6unyYnnWlm1nWcBYhCuNovodPKt5Zi2OIe2Ls3EwSr\n",
       "wsMzfQARaReQdzYVT0/v/OMbRU2MtlWHGLSADDXPRB/YJ0Gp2pMVKMa5+rfih17Affrjnomu+g4M\n",
       "u3QBlcNxyu6XJLqQ7s92g2XdwOgCsFvJb+RmBts88wIf6uT2+JPbncdb+YmgvooaDTJEFpVewQeu\n",
       "DS21Gn0lU5OmClMgNwv1aWQfFn0liu6cCjBROVQtdj3faGpeC41eSOJP8TNJUgWYeUOqE1CO/YCl\n",
       "YDoNzhOrh808acpqJqdhkufiCwg4/25KnMxSQcmmEa/hyIbe0HCWz74vqK3uboeN7e30+8brHvS3\n",
       "x2yy1KaV12Gr+XejeDchUshnXTrA/ZnJSRdAO4fVxQxAUJjXDsU78DVgnBL/esZsNx+VbYiQD+kX\n",
       "OfPlH9pVXdWLWzX643uOJMNSzp3Avlff4NpCLCm02oOtuYM35MT9Gtdg3Lgw9H65u2ZZE1XMOrsB\n",
       "j5HJV7r2STCUn5rbNSIrrNulV1qIIzodf2VA2eWBuH9ECHS6UMuKnUm9JGY2aV4F6w+DVNRRI/vZ\n",
       "DUecs5fQuLUpMiEqYdCu7gj6i99tldVn3Ab7mHjN8Q0yVEACt/KYKZpUhUICQtISElWKJmQHlUUQ\n",
       "rvRPQ7n7bEIN0tF1vo5ZodlfmYuogq+YNHep3BKc/FoszQqZ+0iN8oE9ZKxqQnGAqV34oSseg5BI\n",
       "ad7voqhWcjiMiIDMpljli+Xz+p+w4BsvdlzwaP9KGD56B2XaJmv2judy0sgaviZa5OC0BUnHcF44\n",
       "0aPpe6sbKkqFvfhuh6/L91vXFhja/ku+pjW/nR2wZNhCMxQrHEmv6rSiWKpAjWyzScDK1fDp7Djs\n",
       "Fx5EcmWTsUSXHEXOjgOdCtV00d24LDWfFvK4v/XWT8gUCjKQljFAWZ6jNtvyXQZuhsTmFNbWEjsX\n",
       "K0VcVbRrsYAa++NrnZJm5U2yF0fvBc7E4qbN5wUhot8sXaJwPjby5w1/Uj7oQQ3tVYyQvnDjroHZ\n",
       "k5LFsZmLzq7axCg1bCz+3ULcFOp6ul/D0iUkAP88h7BQJnWQCMzAKyMpbZp83k46Rl0wb+k4zxLE\n",
       "ljRa/76fcQgKKoe7wyZ2SWBUPqeb+4gn87SbAHrpyTurXC27wWtlRsoUidixfAWrGYo2BSpeRBMG\n",
       "nlDHDd6Z53eQG/ecx9TNcUt8H24rcLL0uMq574tn+6fmLc72JbKXVUcNCf82lvU/DGbDtD1b7ljd\n",
       "SyIAUMMVAFlTe/w24y3VinvY4z/Y5htsI3aUrM7ZKEsiyOVW3hIFL53HtQlryWyWbqWavD3Q1sso\n",
       "5IlR8WG2ALtXvbXWIS1T/9pnGPhqNc/CudactTBp0EdK5GT0OZptYJL95GEALCZ5zRmMGfwLY4BF\n",
       "IJmy6TxoEgnT6tWOMaztIX/Gj6CTg6nAqBk/AfWbZSWdwoL8mYibYssJQLxN1s9xUf41MUuFpkCt\n",
       "X4lsLpE0thOpoH9BkqJoeaKwa9JUMUCd2xXwuSzfWQ+aur1yJH6hf68A4mP9z/edx/OY+bpWqZTn\n",
       "y97i3yub/a6J+uCoGyFyjtvoC6l9rM4WEK9G3FZek3HVCHVFmVVMkgf9jy9lk1rgBHMNQq3rJ1AP\n",
       "DUiIfVB2pfGoPAFKYVN7hDoT0taSCjT3t8vbk+bzk7HOV2eMT1GObULXqeX/Rhpt1D1DYpWB9Na/\n",
       "SWCZk8nJ5+bWYdMbOvkktq1nty0xBlIF5tTj9QKKxQD31oIivmMdw+Mu+eaPP8qlUwfM7DKcLc5i\n",
       "0nYgldmGqPgowMWCud2VfSdWa2mQYrrEEKiHutZ0xhKUDjvhVm7zyteaGcOW+KRONGHgd8cBDVwP\n",
       "yYBBtoB3+kDZEIydR1UwGGbFHE+1LCQiioe3vXbd1mE0A+gKCZbdtEueKGI7kt9ib7dRY4D51P1f\n",
       "FZhgBgerLUgVWP6gRjPHXp7u5n/sNdJ7Zzc1uZAIO7yDdVMoQWGlGwI4ITdEt3r2n8y9jXximTSS\n",
       "oREUZnb7W5T99rXHkepTgCDDMOte1LWOYz8u5BtyWdfZzTPVxSAI23BVZSuuB+IITH+WVqA9mGHT\n",
       "r1qtahZufUMKES8PeItAJnb70IO1HqsURXzIZHytVMhGmCvi9wJuv2Wd9kPp6iHft77FiasUuttH\n",
       "10HTAAAI1AGfLXRCfwAn2pBoTnUZm8ESRYAxP5kWXb22A50QncCsZH6t3pq59iWJTjXbHdYABosY\n",
       "3Peftp7l5+cEAtvdJuEoYNhiTXU08+xMhU96X4WVCK8W1hqKRzig95/kYU5kpjH5qiRiS8QDfuuf\n",
       "LZZ44oPgWOzmbky+w5Wk/txcKLsAB9a6OeV3Yn1I5Cnwb3/a8OCIwyB1/4z+dNlfeGeVjWnnhDND\n",
       "sA13OeZ9ix2ebCnL0Tyk525/PD9OF9w2mAj5/Zj0y8Q9rh8pIz306JG5qrw7Nyg/6HjxjgJ5izx4\n",
       "+ICKhIyqnwGRdtebO6ZShMkNKjMtakX3Gacpw1Q/XvKY1JuzTxaXPE5g80yfMuVVi4Y8c7L+CYD9\n",
       "NVlE4TzR6XLv5iBAXVjhwWFjMmTbIUT9ardWYHpXf2yl7Ul6j8ox0tjMyaQu42Q9dzWQHNT4mUCl\n",
       "NOXcobD4yc0s5s9uyPoAphJG9/R0vQShJtg2BVSr7X3lpEQf57Vw+S34iUU/gRqJHKOtgXFzKzHV\n",
       "HZVXly/MHG0vC1kHNx4odwr/Ug6DHS/e8CEiSw/F32Okj/bKrFEGUy3AgUoKScaO1jLq+w5GirlY\n",
       "dv+VO0ME9fPAgEn6sZz/wUyS/hxIpD+tCXxGYaHLUWISt6MMuuOhCeRlZrwAoC69TmuDKe26QJ+n\n",
       "vWJ4foXj33NSFb+DSH5Wq/z3sL9JO2j3gbqPYBgD5wEuJz6Ui9J0Q7a0i29vYs2GWTLrkT1ZK+4D\n",
       "LdmHJOSA6y8Xc8MjZ3zrDvxsRml4GeN9mquxEJ3b4FjUYgPH3izT2F5Ll+1KHjq8WQlSPF5VHWrM\n",
       "regoZg8skgvDN8NtHv2oUDEw2RRCZiE8nUssy4beMXUzqvFppvS3gcml+YC2SRObxaHW7S/ucpfA\n",
       "TfNthLgmoLIHxRtkgtLUn/nMXUwt3w2gFgNLJg2wzDah3PV7mIsKFVIJGxNHev2ckqeeXsBbBC1F\n",
       "0IPlVNqumgZm8njaXm8IXbZLyhvt12B48Bf7vb74YKhfxfR67vkGPAuPXFMwwUkgRwdIz5O/eHzK\n",
       "pah8Z+mU01Q28iZYxAWqFXOiV/4LACZw6ziJoCP1+r73O2OrL0VHXPe6tg94iSGXMJql9VwNb53Q\n",
       "E3jg9CQnmBG4t1TmtZI9ZTgumSj0wSpbwKX/bD7GDRXsxnDwkgMNuQ/D49QyzsrAzqjLdie7TaGG\n",
       "me/00lPwbksvvk839yzUrwIuw5LwcrqYYxYlO+4+UOCJUAtLLiKDcICCHgge8PgoJplrst1xjcjW\n",
       "H4wfIVe0zyXgfJqnMkp6F6497+qcH1lLNFD/P8glzBsqRpQqKPO1upqtjK//Zi0CR8if2ai6Peko\n",
       "eOMV6fPfXbrExBEyO/zEr42xYrXfFB+Ws+T3zcMshTAXOsrHPVc7jV/H+dqt51snpKStH6Vr+58P\n",
       "boAKIMCg7ixjG+KcDEYN9egL/BCnHXlq5H1Y9bW+up9ZFFYfCDzEncQwehVmqabRSpFm4KXMZ9zF\n",
       "QXbeFfAFpSc8DpoaISmjpdNHilD28iFdSksOrwHfrixNvOxJFPMQwkJlMEpUUy7UUx5dLLioi/Ls\n",
       "JlTdwaxjL1DIF75jQM0v2y3nXp1F738xjkyCrf4yu6atBUbSnJYsAeS95BpUbpQpBFz6hljdRQzo\n",
       "yRbsROSPRa0PbnvcKch5XGtDsUzrozwkmx7ErpRotB0wZOle/MlLoLG7ZPQ62FnZyiTzw2IzvG8Y\n",
       "uxK4LGQFLwwp25VSHjkWF3/PJSPcylNP6aMuzOrLjCjIOyIH6HjyrwoI+djenFCol1iGEztl8Gae\n",
       "6FoZ0Ia9YQ8VJXzXfewYFe0oM5+zSqfsrN92+Fq2Lgftik3a+wy7jMe0iuvlL/KPREzlRnB+O2A7\n",
       "r6KedSQAXJz9/zko64V2ouUYVi80wZ0hJXwQQTQzk283xdJRU2+xKL4izmDv4C0bXahQd0gTArnK\n",
       "7z0pV9i4JfEaHXzgGLfn+5+A18HEDud5Lfd7lxFs8KVO6O3fV/TGRu/n9aPQP36MelQWwNOTKK/I\n",
       "9bE+MyYYzFZxgggBOJEZreMFPNgURTAKP9nwZ5IDi+3EWTIDc+rnZrBcWaHBVOXMRVeiYmovfSzi\n",
       "HAkTHv1ufFxbocqN6AUWHIwkJ8W+/wu8GGQgZeMgiRxiZwCHnhZN8eiBgn2n1wtPLYW6QaxpwZH+\n",
       "S9hzZhByBliY09Co87RTglHAXgqfhhXyllubIASSctihUFuTZ6RYnR6zC/YxhCl6e0cH6uVoY3fY\n",
       "yr5cTppd+B3EZpcmTwU0CGcnBP6DxQV7tdEbTPRAsKZD6nGFRrrjdp+X0Gemp3OhuTO0zwUafANz\n",
       "gVtmxtG+Bbp0rRyejOEtPhsGHLOt9nrl0TIDvfVxI9KtrXKBKZn+spU9xCSEe5g+gm/iRq4XWbgY\n",
       "oQaOl+AAABbjelLhZiS7vXgxQJ+5cpNwH8ew36KH7q7T1opnglU8bmmLiaIM6oY0bGlNnzl/suv1\n",
       "uXffiFzRzwZ4JD806WqfNgKXNV8ICInQBtFfpIkO9EjWnvcwpleINsBni/0OgSKog0/nKcC76J2Z\n",
       "bHGPexBzzJkANC1sRJ5PplLdodN9dcGvbPhc3leZF7uB0I2iG1+XMXRABgGxBiGijrZesb9QD8Op\n",
       "UbVxaWHKuiiIjMfTmTkfKWoYKJRkK3hKKmWf2Mj0fICpho0k4RtAfVLGmODFX2APRgWXF7zeD/4N\n",
       "9yfc+o8BHNIfu7BCfQUFTkzCABTOjI0xQHJ01gJ7YonUbd8CCgssBf8ixqV5/78MW2gED7bqTLIr\n",
       "LOPHwGcRZYaOSThUuSI3jLsugu82xc8rwVsA0hH6cs84QZJYEqFOdJ5TSPtojcAC0//hPCPWpO+t\n",
       "nn46YfbJ4odiHpdewWHmBebcMGAbdUkMzkbo5tIYi9yRCjfnEolRHH5YS3aact9viV6FC0O8eNAi\n",
       "z5OW35XgFN6VM69a3qqj+my8fdNMPF+RjT6ParNKnHU5StoFRw8wtBVaG9EAAAkQAZ8vakJ/ACet\n",
       "D0QHsVx8ADRu3sKP48lrdfk2TuMDw6h5/ybhxloThYA+yqVPhn/qV44ytCCTA2plcp5ZHPQTAPj7\n",
       "Y2GLtV7PErbq/f0Pm5Rvi5brH9vpJRSHH0IeRc5gyXZxGiy/4sDOHKeFTl7kJDFiA/3jKYb0O1k/\n",
       "FCIqDiMH5eh1t0Q830puOutQNAnPNSsrORLcNRYczpNgwSyyd0LV3cSWja7PG7nNatuqaaS4wuFI\n",
       "OHL6t1hVf+dcQXwZhbVN0qjIRlHuXutRytDqA8eX4KEp71JiKpwWJI0LYOjdaz+Svkggof1MteNO\n",
       "CnKeshh9edJzpkj+WxbQ7EqRGExyqpY48iOJ8Qe1aRHY7Es4IYD062Q8uVCUJ6/XSkrfxMkduSgl\n",
       "LwmSG3yZ8WHX6JXORtxzxwz0ItB8IfPEJYqOUKXCoIFvOyJ//lFRd3B3T4mctPRpF/uZIhShAqbt\n",
       "x3ChoKwojH6QabeW15YPs3HyW1ap2DBD5JWehz0D/KqpvIim6PowV4foS6JsUeJ5nxzBDFMBKu0v\n",
       "QR6awPzTwOcnt9mlOD12Wi5VWwy6fsXgbEC0e8x91zm//LB3OUWg1QpnJKHwUSefGhbmdJtB4Vdr\n",
       "sEoic05z8vh6qKfsS0J8y0KSSBY7XZhZ5WxSsmqSmM8vwRiCy2DHwJMNOfIQWlAXqMG7kfQmsC6B\n",
       "5hbJZuo/8sOo4VePyHWI2YbvzsLMM5zcFEvnXwFxW3BLWtYC6SXzPUJ1m0AZNfWhguInpa33uoCD\n",
       "AIlRpFuf6szXGGDbIAmYq93aKjQTtABFWpH8dh8AHBt1dSpe9NpCweCI2ldR/fUQfTvmHn3+aTDa\n",
       "LUWxfi7cdDjye2EMvvZ2JCwWXIwj+cp2HHh7h88Qp1h/rg0KRdELywH5yMEsNEuBqqD2etU/Xop+\n",
       "+BD97P3tffkee8AAnSPJtaRo3UZYjZ9j2P5YJsAmhGAee9MfrIbm5/Q7nJl/2l4bQ299jaZzrqX9\n",
       "TLOJXEMg4Ro9MjEebMKNpMZ4LE63BRhDqsiEdNIjhVDWMAg95y5sznupGdF9cmIArfzlXBwDAgJL\n",
       "7k/lQu6sgnCu3MVqapsPABzk0MTv2S/i7cYihkaoxWMaSLEopnE5hpdwRXCQd9DjwkG7UK64YmrO\n",
       "jQZuurlUdaDajnZSvP98dvm17w7M+jxJmu0USFSNWKpprbdgy3CqZ3MuJZ4OJk/kIe4j3YfWvJQ2\n",
       "Xyzkf8j5WXR29fbPBw+C2bv/IU2aim/poWt+/iA1g20S5AxKnf0ZRPx5wibLmkl9SisNMvWgXXRy\n",
       "hjomRzJ1bVu0TOMjScBjosV+Kg02hwAYuxCM8o2OZk5r3SQPIJ3Uu3cph6bEsct44L/WhzRLLPm9\n",
       "M1lM8yWv/l7smHDRMT0Xpdf52yiM01jnhKBGZaYNLYMvKrQt9SsDZWME9nFNvIgcxHDAhXM2fD/L\n",
       "GW3p0n5yufJljPQm5eeCRCr2d3M5SHcVRVTFjK3pX6q4teRDuDyb9Pztd5oExe6ioiwZr7CytOSv\n",
       "SfS0u66vdmRYiPUcvnk+slik6zQ5pJnmGy5vpYm98lOA3NVDvpOetJa4ibckqgw5+8BhLVxvTfvI\n",
       "iAjIi8u5vgqrCn2Z9kb5K7Uo8hYOgoTPOafDEvVFEOJwb4QYmbLr65z+AFjnLaZh8dHrTqdLpHPg\n",
       "xiOsmHAx/HLTAkzEB/NU1r8ycuzQ2OM1Rbt/3z/3L0Mo3Qog0he7/YgwRqITJq+/GG7vcoaWS4S9\n",
       "Gf1FwtidiMXYq6bW9OHlemR9h71GBzlIU1vyVAujGlbs90lNwZHpK+Kptljge/oHJJIeEaP9FKv2\n",
       "NhlM3WBPuZCN7wBRwuVEtrVWFDEdl8Jy2Owl9ytAW1vzGwNr3lwZVU/HtbVamqHK6Ka64rSSBrQk\n",
       "mCZaebqGUFgYMTihCGhE/1gf0PWjaRKaq8axmsIJekpnqrW6f5dyZnYOowQD6FUacUV4YS3IJ/Bf\n",
       "C6t2YSZYBqG9Gb2M5LsalUoefvKXxi3yay0jNPWbcmYuaz/wRr4uFG/D2fdcAFhgOM41VTg5o5Ou\n",
       "ARgwp0Ur3cwc5Z0pgYXcsH4z0tu2gHl4RAsVCpH2kM1zU/dP9UQW5dxbHmjbGDmP+f891YGb2uMk\n",
       "6fx2LFS2e4IWOLjgUMRS7ZPM6/yitYzg/XlkZ7tp0wIFpIRkiIqEwPa3/xXvOsjKpLn4YdtU2sxa\n",
       "KoZhxAmOLbP3OZSoJ9w4dda0m6UtZW9rbfVZqMyxlkYiCxpBOnihLW4xHA+0AwQDb6KlQ0mslg14\n",
       "PxCXNOo+HySn1AvsMgmp7qwc2ln72sf+q7AhHM8L+qeXy8FtATfpU98RedULJM6a25kNlHMGo3Fe\n",
       "IG4OwufuhoQkkzEUVKuU473od0w8/j9OLVD7CfUS3BnIBHJ6YT7nSd5v5cvbFQUjfVj6ZKOARyX/\n",
       "1akGSvGl7RX2NEgQnIWTIqi34SuF3t6IWL1xF652jo/roSFWdYtXukXEiVKS4vUpgAJZRovSyZ+i\n",
       "zJhJB0PN6IrlpGa8RDD3pl2YvUf65snLA6+CgGoeDGSdUlUk5lIPN/5L9Ya0hASflMuSl2vsAZGx\n",
       "DeCtAn2Mvydn8pzrm+fcqZnUqLFFFcLBlq764zmh2n59A9qjtNoS1K1bLwTVunTPiODCLbq0O/JC\n",
       "z1uRFXqjPUMqm/thZAjrBxPqmFIf75Ybp+DfS3IuUmviUQlOM+XyGiqap+nePCd60RxPVNmUCCn5\n",
       "mUrQVdg1HSxt7jS/GOw5WVQn+C1f4jvy9hX7T5JrAMBRRvj5hyoakbIDV2s3O23P1BqSc/Eerzdk\n",
       "bnV3TWmCHWif8MMg/BXE6qC4f5gk0g2MRNpoau/YyjHEitWB4/mzDtgDygDGRlhP53qds1yxnwwa\n",
       "UzNZ7563pMirk0IDM+p53ANNiUUnzEz9sQ9GWwGaYI/6N2jyE/zyp3DB64gMtxu5SJFk5pNC4Aez\n",
       "vqEUs9fDU+vmk6Jre++XZi3+wLjHYb4q1ujS9OD8LhmWrHDBm1HnLw1R5eDoZCgFgvI9PUVprjAM\n",
       "1I2yFhpoCxfIJ6uMyB+Pm5x8kTUgcVe4q50XUXAxYAAACzBBmzRJqEFsmUwIb//+p4QAJqPYZtdQ\n",
       "57DFX3gN7HZAAgrBKVd6G9QBCew6vGC+W0e33U4rfEsTXqJAmJcdJFogO6DzdAFyGQL/WI5S56XU\n",
       "Q6tkk/71LFCCfBbx2BnOHc5iU2+olxelncy0OJfFgG3x86KLIL+bRzu+X5IvZ3GQRDcwG5M1EtJK\n",
       "SlXxI3Vp3qkLbOFl9O6hKEp15/wC6A84g71fX6xhCfZ44Lzjy2tZoylboI0PXMOWrSxL+3V//w8/\n",
       "R5Mt6z/m4DDokxCVeJrLxqvLnNFvw++5hl7S/1rEVfJpMd1HeaAZTt/f4fLUgXvLLZPH+byg3QvO\n",
       "hFnSJoo6H13eRcNQDn+LVshhuaSMAsnekNMGz5Xh3lt7EReVk77ZzQxGBFNjTJDdKYakPcI4Mv+y\n",
       "XFKctprO5b5AYypOwO7WpLTWlE69XaqeKscay+1QRQ2fX2Hj3/BgOCCk10A4wDBUKVZkfrXg8Zx2\n",
       "k5ZFByDw2Pemsnry+g8XQDKaLqmzJOc0/J9yMDSkQA7ZDd6uLYf4fGSOE/orS/j0tRKp+KigTxHj\n",
       "MxZ+qpkQww+aLZvPptQGWcdVGAnV3xS8CsVxcjRBN9FJqaKULACoDUcz7cezyK89THmihdaNvyiX\n",
       "vbYi8uqbf7lfPXYuupX4XKVV9Bx9MMMlYt2/t2K79re6VcH4B2TPVDq5EV6jpdVYJ1H7CR6GzxTy\n",
       "zGNLW6JMObftVX0OBw7V4fBDdDGAtOmymrCtb2pf7aMQ2QMjBl/aKf3eA14YZKdCgVBeDmYj27de\n",
       "CrzspBkb0BV4u7XQO7KmCWIfwWO0oKICGcoHV3GbLRbHB3BEqn+jpUbtgBlsLxU9lw0D8b51LulJ\n",
       "s6M39Af6J9wC5tZPdPp/fbJx4+GcPerBVC18lHVE++KSuR4SoAtCNDOVSGRzf1WhwByXKEcDsaMp\n",
       "Xew373Q74Z6hkmZZfsDaeTiJniLwJCIe3MvvPL+XmnjDz0RQvjij5wybj+lFfitEnU+tRXM+Fqo0\n",
       "b3quPiZVj98BRO2l10O22/DIZ2natJ+yW4uCLEaDSW/a9VTMA+h0jkx7EGq9qs1w7AqO7siXEL0x\n",
       "un/ILuIB83oXh5YgGYr4P6F3OeP+UcmD69Jlw+hDSBmzle11fIaQX+6rHDCfDMgfdFlzi+Fx9bCx\n",
       "AZs2kcdAZuCYzSz10Y7RpBJm+Ezsr2BGvVGLvQ7QZeYCAibWe8xQOeVy0gxeuoUmzMPEUiF1tG+x\n",
       "TmJdmzr5C5VVAfbhpCVj31GGOJYN2vdN2EsuFW7h4Aj4ueZvMyDCXypkIWAvO3A+3TPzMUqu3LSm\n",
       "DqZCT0v8x6SQtjF6RykwwBHvPkqIVtt/gszz+9YrU/5+wH6vPop4TEXcVzLoUIVVXS8F5X4yyB+s\n",
       "n7Ga5H/Ib4VQuJi+FbxI6B/XqV5WAr2YbQia8H6fq+9kQa8n6l7XFaMrQKVq0YMyO5itWf/wDRqT\n",
       "5/kpk62OuSrOoiILX/oziHqSl7qy0/yJaDy0VhrUUUeGsHQsAOTVWG7BQdcfvRW6mABBG3AbMF63\n",
       "zeYNLzY0XGbzdrLpF2s1toLmOJqLU+6fMA037z64nOvLBPt/j/xJSalBRVqLfgd+7vUM90hvlwOo\n",
       "aH7QdXzyOh4382cA1+2h4F6wySIcCLVAn23CapDg1DaY9HdFO6xH7f0V3F8A/Tl3IzdKTdFomlhL\n",
       "ttQUBSZMO2bfqtTsG2YvizOm/wE6m68MDEnrD//ZTaJnopss5dpJ1QTmjd1ckjIjxVVJ05R5LFt9\n",
       "OA8KEqh0thEKAHehLPFY6XtC42uEXOM89dDKs6IFBOMNv7DC67Vj3KTaiPxCKCR6HinRUNAKW1TK\n",
       "Wae13J2xOjZ9OjDbE2tqiP+UqGx2vbw9JJm5rcI6R4dVLxeudbwBot5b8sWgjPJq9CjluoBj34DI\n",
       "NVHiD/2zg6eyiURg8Lf7emL7cYQoBDPjxMne8xvl3KQ0op7N4vj0cD9nCekRKbop7IUBVd41Qo3l\n",
       "Do2YULJT2e4drXnef5l0lQBkuKzDnCoDR4LvxDwPNLnDMCcINfGNiXxxGI9baeRHWxhx/aLrXsdq\n",
       "t4bU/JnXY+s+xI80c/hxOem0YlmkSW1e+V7uK0/lhoQUYV+vYWh+LI86Mi9yCuYt9q+AvN15TcZI\n",
       "FYVi7smxx2wFLHZj04eCVlhvamjW6C60JmrYihwKH5ZyXgm+Ewr8SrHe3g6BM9Pq+4fNA/XBVtZ/\n",
       "8jHmp7qXjqgMAgn79nosf6Gj7N/52Q7s+kpreKr+JC+BvY7E3LmSuLHxos/Rh3F46WIQ9xZBR6ze\n",
       "EmVlwHzgwS4O2OGj+jV+EP+gMpkt7w4Fhao8MFMXN36WOb5F/CWOjUL8gSYMxaPMoqG63pidxBZS\n",
       "uf/5AaJ5avIlauHmVh0tccV5xL2NBEkWmfx1ODcrLIk5F+wR2oLipAWDg94RZr3X7yslrB6kyjAA\n",
       "oJRauWH52nBpCbmP/Pzx+QuBjIy2ZIyYek3Wz4Wsv3/KGsyyhjvFCRiF7RH8CwdseLlyMXuaGUqg\n",
       "Y6jW97MTKC0GNL1v6i0+dNG+so+tgPRf15N/LsbZuHPVnpUOFTfd4otWCdlVbH3bk8KMxblPORs8\n",
       "v8J7QfuiDXufHH3LSWygc/j40yJvXcgOBX2WOC7Dhr+ECdlCr7SPsH/NnmFRTG7T42ms3MrsEws4\n",
       "hwCfsuodZLJR4vvDSQFqbijHupfsDwSBeWWBb5UkKKvqP0diqNNI6+A8Ze9RG3ivZv9HC0yTdxFe\n",
       "crjF+oO+Nnv4cy7R+gheRx3SYvq/aR7FcFoKPRNbNISnvUqpyLVU8bb13hSgu7x4pKR3ZknT/cky\n",
       "3kwbtECC5LBbHGd4gONiZmsadqT2KM4PzNWZpgBJobGas8HUIMlhWuy6oIb33zLo7ccBPY3EZOYv\n",
       "4LCI3coIvzrWqij6rqL2hpmwvP1RzEVWA0NMHYrPjHP5ClYAE25WX1cN0iSCZC/91zmBUT7gvoX5\n",
       "shrYjLfHKM2LHiStsqirQUcsQ2CayfPgiQgSY9Ek/uZACG8SDz5n0kK1mFGFVRIrDl3YB98DL6y6\n",
       "PgJTRWyrZaktBHOXbaZepTa91MymBUfeeTfRnjs2MU2w0+OUPcuCd5O04PbbtIPNg8xJ1e0gFKh0\n",
       "OxDGeS7urgUWj4GAs0aM0ZSagj1+8HXlbZitsEjrXL1Kpt8/DQVhy7+nx7BAmQACZlo002TuMOdD\n",
       "rxbP04phkknqfTwUf10NKYyLCgsmtDNoxrgFBxW/k/Y76hX9A6hDIW5zFL1wZEBKuYiv1qRELWO8\n",
       "0/7gDGdEgPkDnlmEOOf8FeYap/14J2gD1cG9qgO5El0xUfkMAbVB8CMGMNcJB5kXuShFs8RQGDiV\n",
       "EUtggdJ5kessvZxFfVy1ghJlq9RI/9fUqtxwbw25fn2u01iXLgloR1/l9rhc0PwOSL23nZJCiZwR\n",
       "pQvDx8OOMTS+v1faVgIH9WHj8pR2MYBOPgZhk3NMvxj8xhI0jUSKazXJH3D0z1hIab7rfFbChjsQ\n",
       "7j/8PHoZ4988TsZ0btCNoTAZYwPcwB0I9zx5Ose7JEa/Aa/t4+XXl82AP2KuzNZU+BiiivIbaHd/\n",
       "clVyO5WEjns5xZSGHgwSpw6fwOB6IbHGVlc4te3+nhzPoPRyIKXUnDVVX8RqHENCjgqV94J8JKID\n",
       "NTxOCrx7uihUzuEVBlmQR+zC6bnyX+j7xrk8SSvVSyeW7iXlaBMYGlsFBIpIqOlRlenjsluFQ7cY\n",
       "7HYYDXwPFvCS6Uy4kn2aYTweVebBE1Rl0xJtBJ6srBMOVk82XmYwcD5Qa13DfGlHyAAACE5Bn1JF\n",
       "FSwr/wAfEBYp2z4tv4AIe18++gjoudYlaBS9h4m8Fn8Zr8lDWgso5oly+P9MgqeaWeT5Ox8JW2hz\n",
       "W8h12g9ntDKZ+sv3Ij/+ucRo0rspcYz3s0QyruoAFyCetPh2+LmTpwUHaBKD9t9fG5SP6NFIIHSl\n",
       "UBief6KRvbnNM+FByHO15ihtmclCmrFWM2nw5bh5DXB+fJdyC99wqaGaoJo8QsbynJJmIb3x28Zn\n",
       "jaB8//xH2ye1RPKTCeKhboS4CPBfpgZpfMPTJ5/P7fdvRbGzXT2LLJtYCsamxs+cN+WZChp/kqXA\n",
       "QPzftaxa9WIqMUqzRK5dWNPZn1uv25QdK7lymOw6tnxkdroOT8KX0YSWM5aqswpF7giPA+EL18mI\n",
       "RdzvZfRwX9lTOmQYrqzUjMD7syfQYR5fYJmG7FwDqPTGvsHLil5RApKm2P0mGelg6UItyU+cuNqi\n",
       "2cVLFy/Dmay9fSCmp6OQoW8fd89/bh6iQ4nuVELfNp/QSKowz0qRQl2yJBd7ahJQSoFBoZBTxgJE\n",
       "HwVwHyRjyM0qyLz9Rp//xwr7lTWfhLMkKTqx2QxNfH+mpp86gQ2HnlNCIaHvttw6A0fa9Mb6JbDa\n",
       "1SxqsktSEwymtYUXa2k85l1sYSUMMyj3M3bkgwqOlPmyGxaOfoSBIMGW54icRbO1XTehe5xuIrDp\n",
       "+Vh3Jk4c3Hoewwn3rzBL/GEnjBXJ/1udWCuBdOtSkgQmIdJHQKQaFbFU+rKRSaNwODO13sQjMlcs\n",
       "PfZDmypn4j9lsNKKpuh45GceIlCpvw73eXkXddwyrfjhK+ee1+7Vj+mKs0oE3e48e12CnWpkG9Ai\n",
       "HEZbLNL+vsoSlY83UXiy0150h50LuywvRXFGwYwshkXIYMMHkisCl7EyBbUW72iwPmsJw0B60r6K\n",
       "7yfMRNk/EjGvGCNcTiqF3V4sCYwP6Tt6/4tx1BSAcOL7fwm5gx+mmJh9OGpOj/+Z4njymrbA6bW4\n",
       "hjh0HxuswKnT92i63alIDnXv2u/++xPcPzoSHmC8ScH3mc0WGMxRmfiFgVw3k6B4SjZ3zxXKdJMG\n",
       "5z6Z35IWXyi1Ud+TP3XNA5zqbKH0lnyO4tuoz/Xx1739H1D9VDutfyPa6SHNP9cfm1xl4bFKXDeN\n",
       "r+ygO5baLNR72z3qHR/DTghs99tzHZe0MCKvFxiBs7qtOS8yvqO7UQSy5bJjKvxYZX9zyiuptDsU\n",
       "XKibuY2AbL3ff3P+fDedC3H6g5Ut9/HnuqhNnwY4glEcF8n4VO5MjwmA1tiCKuHz+as0HWWFb7G2\n",
       "Eo/vP+ekxCDhPr1jfKQDVxXz++zwJMrpedggceGyEWmbl14chFxMJrO0NaTC6LyR+TAL/hxdwfkf\n",
       "BbLzBBPr7wjtllN1bEDon4NVdOg5+fi5+LZHXUSTkB3GXFpxj+jhlIZ/tbREMUGJdIu6gWu/wFWs\n",
       "pPVA4ouRXC0sN6sm2Ybl2ZQg6ONq5o7Cm2ESj6yEtB1jADrsrtZPeDoyQb7lTUjC/8iadJD5viVb\n",
       "OJWKL8YzdLCJbiEM1Q7w/03Ij8TgVr3xvyTcOIO/XGTxgNZwpnoCwzyN2nhLYFE443iszQWsyrY0\n",
       "TbK/jroQIKB7+vrF29NT1gXTH5Xr9Q+c/Sfqo78Sq85wgChqIBtg1pDp+tmcYHNQmieiUs0lL5tQ\n",
       "XJLsWlJzQUF+QuZV7dkxWfd/oXOyACigt604K+ry45p21ry3VLmuaoeAkyGzBsHXLRSpbvaJPVva\n",
       "vtHd8OvGnskLvMCx1ZjWqgoNmDn1RyPzepOJqbumxXjzi6vXDNHI12FsnMoPX9HrgliYITYqpL6X\n",
       "LlvSSOstSl85muqo22lpw9LfFpFAQqvgjZ1qmbIe7HFewlZty3IFr+ov+/OT8CZCFmikrLTaHBYp\n",
       "b5HQjRAELhxIltlxuVhMCqsza/TeVstbm8vnD5g1YA2g8+9VaPxbr2ZOKcatAXwCodrcRPPIjRnC\n",
       "sunVMSKmPYM4/QFhoYFss7B+ZUbr+AYY/WxsIR20uQrrf2eMsnktYyJEbnlMMbwi+wT437fNw1O6\n",
       "1WnnLmlpL4DydsiuCPW3FIMKShoU0Ev4Vj8cdwjjaeI5ceMD0zFmZHfuWK/WeRdxiQWlhlNhNcWT\n",
       "PsjIqmSMi62PwRg5W/w1KqsV1fXTAiOiDz2FbAtrtLGAtVSoHsTMjGw6+Tl66AhlZrlrus7rjw3r\n",
       "WEDdqX3vMIgZ3dwwGyiF1b8y1BZlWb68cDOotiimQcWL+uMuGW2od9BSE6PPa0XY63/3kTHW5y6m\n",
       "IsUglbDnL931UfUoemfN34t+laHzhIzk5KiNHVrtidh9Pdf1XYD1KRBsyxiYhuPDAIwMLwzvOR1m\n",
       "DPlJekG/3MZWC31KGf5yx7ZAle1zh7M/2r5i2quMHi23MLvuDtBNRD+rEUJPV9YrRwEUuw2at1+2\n",
       "psA+RLQiyXw+AAu3DY/dEK0MZz3AYLsJqQL64F1f0pRgkSJNd5PA2YEJyRKEg2CM9XL0zHlPfp96\n",
       "8tgerIoAGGNEGCC9yxrU2bUDJ7fcBdnjaAf7EfVmuuLHjPTZAXcr6k/tvYqXqtV+nX1gHHJsDrx9\n",
       "N2NehvnQRsu/5KGC5zI9C+cSmNIZFgHCADFyIQjkuzDmkULtheSuh1/GtEpf0yNaJ1JHD4G4n2mv\n",
       "gX+S1TTubQNAUAHSj3hvUBkN63EBoF+TYU/73RWAbmMtjYBfvNcnRpjCEpAzf5JVoJqoeU+lcixJ\n",
       "igRuS1YgGLEq+n3Wm7y6cZ1aaSQAsSiTge/qR4GNTpsKntu1rN8DHyhK4uc9w0GbhY5jm6GC5dXb\n",
       "bNRTBWY6J8vm+4gGBQAAB9sBn3F0Qn8APjMueeK+aGSq5gAaKFc/CaNusBP/STGoNaswRA0uRH8I\n",
       "egnlRuDbCT/cl29sQFSuFuMQLhlRjR531WgyFYm2RfCBY+eoNCWZ474r22z2NH0ThME4oEVeNxNu\n",
       "EZkLRwL41jfyL06/sUwkzikDpK3ErkJcbLI/KJGijHDtKl56+g+kV6T9zJJfY9WL1ESKqUsG2jyD\n",
       "V83s8owPyQAmAtDx/+gBZMiEbUlT4XRcH0fi1nzdVgpOQZ7mB2YvDuWMDzIYalo1l3izftd3u1QN\n",
       "V0gLR6OpZTfqc/eao/OEd1wN0uMhhX7ezPSJrFqyrNZ7eQb/Y9MLlo99Y08WTR3hwPIqqFFRKEvD\n",
       "BFeBnBeyuUzZDoUA3f64G425B0qjRMwx+Noggqvsql4yBsaUWByrYk+zWzFsq9LcAS68+EWmIhoX\n",
       "M9e8/WuKt0Sj3vJXaQ6IeBGUY0fgxMLtl1D/tRc6zqnZ6bp+7S60WVliNo7fLTGayM7i1c7zewo8\n",
       "TitIcigdEF7J6GPp9K2KswXLMDlSJI7Fennd88cnRUjnpvPoM1mG7K3MFuhvHBdz/BTMIKzaeUys\n",
       "ozr3EtJ7zihrRSvtsYHsbYvVUQXIzTz070b4rym/o9guvVOnTr82yXM7fc4Bjdg76NIfuco5cg+b\n",
       "x4XfASIkpCOHAcOrdAbwnaceMHQr7zBZfB6nYiHPTOYMctS5H5mJIV9octamm70iqvwAu7LLPRy3\n",
       "o9hIq/0HLQBKnW+jzMKFAqGReY2zLDZ89q8/I0BrHjJwgyiiaoU6tFJILzRvI26r8Pu1icP0FaOd\n",
       "BRhltJrvbSkQbGimtb1n6LAHKwApTHETIjb3Pw86fMpOw2uIu4g4EowFj3mCPO4DlqMqg0rltQfV\n",
       "nGDPcyF4Hlz7s0kBQJ4Cfb4eVMBvORaIP2sdX6Iwd07WdEG+HQ/YR7r+rwBhKjtfUX9qTf/ml68b\n",
       "8hQP2gcwHkLzav5YxGgJ/hlkRNy3J+oQ2aPZxJB7iI4+Te7CETdm1lyW82i/Vk2v/O6qfdyEj5Lx\n",
       "jgWyVJUQRlnoKVwZ+udr7AANKMq6NBMEwYo8/sLBHG240wm64IpcMp8dEezMPQHcHFeL8r5HEz8P\n",
       "CPhuaBkCqi3rzqyjh1MMwSRCgYV7ZLklUsCzKAvu3o/4igNXTX/FnHLfATMIxZdzQHrmQEN8PqTP\n",
       "jOSnVlNdzw9FHAzsX/mOTFzhHk6vh/Am5TlKYiDfrY8OeSrqmxhxaJ57kP/3LLNbT+Q+41ofKIfQ\n",
       "gwoFlAvjgZXBbu7YwUNUy2SDI6+g5G4yVR3Suf2eqvlj7zx9s52w28ficIP1g8YrSg7qhVh2JyV9\n",
       "XZV0A2ziLXRnTud7kbSv7lh6sKY/zSjg5agGsxZhjuvb9HDWxwtp35XYUjeMdYz/53dqcYxzTGPH\n",
       "dj5VGrWeZstVaXUf/gRyQBd4QcdBM7K8C4VICfGQsKNcmPvC0aEGFXlD3AglsU7O6/khpuPfEmhf\n",
       "OdmY8YoulWy8U/pZ4HRgN0rorWXwIlGoZ/rlAO1xkgy51MP506KhHjEa8ME41Wll3uYsL594/DXt\n",
       "+e2ivL6/XyfY2jdVHI5MtsycJTum/oclUqW8F+IXEgFuwVchjLXnHoFj6D33vzAHXFJMmcJcr5iG\n",
       "W1GgAkhe0oDey4mU/me9CVzzbPg/ZZo0o4Rp4tuS6onVxPzbfkir559tPRInbeVG1H5rmPx3KAjR\n",
       "YKw4Vmdi6pM43P+4qXZVDJyojLqUzNtjsXwWn8OUH7DdMYfO4P992DSUhdL2ZEj1Y1Z0C4IyhDGm\n",
       "UMC0uGkDkZ7cUJAtaD0CpE9dkv2aX/mFT+HfSgFieoNGW/fDEQG/WDv4WHYo8Ext86d5t0ENhrvf\n",
       "tsZfnUA/N2HX+No8GOEwGx5y+x9ZhBfx/Vu2fwU9s1upFQm7Tb+c1f+SewxA3+KcfFBBwQnIa0rm\n",
       "Ehs/Rx4kTGWrUHrAkg+QVoRe5QP+00yDy8kNyb+qre+fuKC6Vpip53u/euSVVoa3C8Y6SEE34eU/\n",
       "yI78wiprYRzq26YYuRLIDW2tWJT5ywXeU+SvadF9+Xg0VO7pQtV07jieiSqYEEySV4x4INx30FeW\n",
       "4Rf7OYmlzo9ktBgGl+LiJf5wJ1TD7ZTcu23vdcMtBDstpwC9F6TNLj0UQmgm707bK7uNnTPRtp6j\n",
       "GAt12gUsePaG233IxYztRylYuKYZLXNNpVk4wk1JszWGXvIbK2QkNJt9VeKZ2+IzSU7pLraRTGpE\n",
       "Srl38lWPLfCk31e4kmSSGlofuZhjXoZ5zQbznHnlMb4EmT9x50iXqhfPTu56WHQQHuc4EsVxNukO\n",
       "Dkhbgk5imKmPwDyFnOzMaPLR2Iqfe/1mx9tBzkyNGriZByyJ2uALIjvSh1YrgBrQksvpmgo+VDU5\n",
       "uEpzVHr71vNksvsWmIpy3VpVqY4RE/3rbF60cczrfRbLrDo26D0LFkJ8koO+JF2dtbJXeOPRAfoL\n",
       "WDvkDN9X56ctMbRA6ab/X3UmpP+BFagdU5tzRV9GgvySBo+1trIFCPfNcIvqDS0tbt8CCMuQt8AD\n",
       "BG+wGn3ZmCg+k4XsjwNTJXzPYYSkZdaQKUMGU31zAWH6kfm3PljoI76CCLrouSpPwFKK3Q/8BeRi\n",
       "NDOs1SR4s6YZullvNCIR72DITrOYX3XVadJhrIhoLUG9AAAHLwGfc2pCfwA+ITmQpwk6kBybIrCb\n",
       "nNUnVygAh+PgRNe56sFaHQwIupXidh++YMu5IIIYwHKlStL9t/CYCylAKavO+JEC4tF8lM6DPvMe\n",
       "U6VODgIUEFCYJvgrI8R2xoE0ebj5U/P1PwKFdUxSZJmuOf6jJQEfqWiCexL/NowWlaVTArEhPyVK\n",
       "da0Hg8U4gGIcnRh8XSXTfq40v8qCyhBvPSlgPOJfHoOln2GHa/KhkrLOiFvFuEAOas+glUfiFSCw\n",
       "h4CwMFMAbc5tEUVQsTcC8OhDy4u2GHhLsegJBsIL988JlLXBzgXv2MWZ2TMw7kWQer/LQaOm39oh\n",
       "syXkpHUCgAtk+nWvaPdhmZRDMkhPZ8kcKUEOiLVHia3KCzrH3F3w6ehJKdnRUQasz2KNiv2N88aI\n",
       "C5mkq/Y2KuTZ4N5Lrrm9SWwORbJ4bok/vbJ/cWf6AXgmb7W7JZOn1XQnzh6/Q9bfXGjIjOiN8spJ\n",
       "jYYFCL3nioNoHrzR2CPwdDhSTGAxfcb9itK0bAPGtHJ8W4CnODGxZmn083dbHERUw5ddrREDVbUe\n",
       "X00MGlAKtiDe45OrkrVgErBT43Xc7WyeXTa5PfdKlNqsVnDaGHwfCQ9+Im2ezpUSmuJ+cdJ517Gf\n",
       "yYZBdZI73FgEQJqfVTUnkk4iqxdQTtTY/GR6sglUpCjqARVV+wO3ZepRIK6lejo2JCaZslDWvR06\n",
       "1ST01y3T53Byhol4ByqL/cZ2RKM/NxUuFCNAV6minzMDCI4EdWYFlrUMyUmkOBs0HqgPt1qVbBBY\n",
       "UGjADoGhPFDkayoWmu8+6yuf4+lBBATAmkYS1tMrEC+qWSUXfhxgwFAMK4JehwdQ+V+CkRIoGJK8\n",
       "3PCGZU+g1uTEWmEOgrdh5ZAF2E0f+rc7wTNw/NtolAIB4uyA5b0EcxCKdmkP5uF32OwvFTy+BP1k\n",
       "n/lzeFtqywQ8mCeoAeq0UGPlIs+F5vptY7wUt9ynHwiKyiG4hdeZEhJj6KHymQXqMRIn6fVucs4x\n",
       "qiRnE7Kkkzlf4WL+K5AHR1kTnbYKbCcuZppfZEFapzoDYdCVJ0bIohyJhZG6PjMXpeOzkmxzPykP\n",
       "z5/3XflmcsT+g86wIPko1mdnmYal6h3Io/1r/pkC8E+ikZ/crdhuPv9Gfh/ClvJA2f5nuaMmlt4f\n",
       "Xa5H95KTXhv3+CeC7NLGHAF/FuRpT+vvMEEU4FvHyTcMxhEj6z18S2aO/Gv/GuP4mu/zg1V/T9Lh\n",
       "jmiAZyll2lqhS1AtNrpje0ZG0cYy/aPUEHX7TTbHa5onHD0u/8mBKhoojYhMMOy7cK1YftGRfNTW\n",
       "ONSyaAluvjDC/eqZ9LzHM+nRrdwIskl6Lzpm96K4tPW28ClNCY4NETLFvaYBifMBH4O0eggn2GtA\n",
       "6ox94D4A2o7qPoguq3FST9KNPON44Jjdd/XmZ/y3dfJvyjmhfqZFuP8g3HoNBRj1KmrNgTsONxTd\n",
       "gJUqqgH2JlzG6Zuz+22jUW2sFHYfu47SbdiIJ6rEvML1Yk5yvjhWsaUAaE4rdZwRtC8qQK+i3YDh\n",
       "4JHVrIZNyLZA9n2ra4GD4XD8iiUisTXdZXcRUZUn9VY7sMmQSuLV4pAR6KiKANUEEHgeOxVhupJB\n",
       "+nigncTd+/RsgcteIrpN1iiqHn/Bqp8JQmpcS70L5tmzJC5CTQy67upGG2knU+kWkGR3krdjYMZV\n",
       "lWAZNKoE00FgWGrRBgXeaYwBM7HmAO9AluHD5wAzQ+MbGh4Jqs3bFWGQq9nQqaImm5yZHpPGpwsQ\n",
       "o1M4EGkySwGMukmtGHSa0VdW5jHEo02m17Vsqh81uBIFQemEV2BUVApfHMNwg/b38rbT+ILDXzii\n",
       "s4wF0Nf4YKyFnwZffTqRcJZPAMDhcQNvBTGJmAxyWvkEPUteCZ0rCl5WAEHa1GzA+wvrF4Qne5Ad\n",
       "7YUt3/pKQg4htgjJRV3vloqW7YxQgsG3e/SdN8H/Ngaf+CcjKVDp0Y9Xoe035u1BBjiLivr//gVP\n",
       "cmZuQkrAgo+nVd3XClJrJ6D10xfo7KMXRRyx5WcTEYuY51qt2xYeRjl1Fxldnlo/+cich/WT23YO\n",
       "PNaPxcuYwOA7DcGlIaI/9opf+QD5GnPcOOqNC6+QN9iWdwZBHYHgAsgdZwaiw8MQwy8VwhqKn4ks\n",
       "RKO0iC3Wi9928vwIGLpwB3Y1z9jt3V6DwQYw0ifZxUfEHcvm0Z+9jyLQyIgG0FBJHVksKUpM/lQt\n",
       "BOfeaqC3t00qWhCgSfKDmStPt6n9FmEIEQJtgn22dhfrwa0uS4RZf+ld+E2n3eQMRdWQnq2x85Ow\n",
       "7rB4kzhiarUQp4BW1uo1N+WWWqedyIjXWizPAZM18g1S+DKuGKtkLlGFB6m1Kdj71yOWB5uuI2ao\n",
       "Q3PQzywFhR2EIXQ58IkdaQpQ5aICKZg1B1U40nd44YKBt/XYlQ0HpzKVOnc0vjcCgTQFtAAACfFB\n",
       "m3hJqEFsmUwIb//+p4QAJqtplPmvYvNbDM7opS2QmfIQK7+a364KYNLOdr555YJ1p2p3aPK4n4bA\n",
       "6uJLh5B9nX+Mu68quEjY4/8lL4rZa1k3eDCOp64TR4yL98Rxc9pHAeAwRAuMYIrIO84F0tQI6K7p\n",
       "nu6IKbkETtkU+7v4mOsA88X60GMVDOyt7NkdKspNaxHx0lnE8wF/xlt+WejTsNLO9bHra+vuQcn2\n",
       "Qtvw5mUKj4dSzsjBeHrMD83gyjb9wfXDQHpRe3ckcFtaxOIBBy5gx6qiKu+TSr7saOGrvu2qUCDx\n",
       "c8y3QSWd5kBO2U3BZqrkh9EVa3q2XGbMfNnf4/W9N8jiWtCQDLviO9KJYI6RSZBOBnAWUZgFdf8c\n",
       "QbV99dmncoPMOZGnSpcCYifQ0jNEaj5ntaO0XVi0T6MeI2oyJrooK4nzogKS+4UdT69pedQDWRDj\n",
       "ufwQ5tha8jR8B/yye0ZbPeIDfDX8YPZaIKO1j0rP1fcpm1keLPJ7CkeSE5v9MTmzE2DHF+aaw5+S\n",
       "BCS3wEQ4zRBTYFEkDeNfKxNJSkz/7LKCC/ULa2oUtnQUDo2Iv5NjacBYoKw8887DMzcTLgZhQ/E+\n",
       "yeYne5akZVOR97Xx2UEd8tivWW5i0tlcJ23R2hAoHfI9FZwk0Azcbqp8EhGealinRXZaHYdzyQvr\n",
       "7H1azwNIwsLbnfExPQEMlYGuHnrdhHAVaUo8T0eyaam7jkONATziY5AmD7xYsPAiYztpLvyWZQj5\n",
       "CE/mg9/p2UrlWS/vUa4ED4RnCQvCKX3wahAd/tEjnjNsOQH9Bz9w/a33fSXwLzsTYfwdaDzt8BR8\n",
       "2O00dmfREmwYLvr98o6YvqexOqynPyf1sJaYHsXEJdu+H2Izaq+JnIwvwZWocfU99JeHCCx2r5mI\n",
       "NrgE9idwZJt3hHE3bGl5dqwsRwQ1AUtxfMkHyAiX69brk1Bi2cjxr1iMt5KMU76I53kuFhnBalko\n",
       "1+WCMHOYDRG8moYfn87r2d5MzsTGvJhc1NrZZw01l5Mzi1UahnOByP7JDVVh2YITfjy4muCK+ipA\n",
       "ckxedDZLhQum2IvfE4tE2KoueHUOQRlxlkEr+B5liwcLx/epIbVzMa5z52ouWvhaB3UH4ghZnR2p\n",
       "NzZavcowYsAvR/FHhbxN4XFYM562h7BRv4cvXmeQupyT+UFBI0OK0BLCHlCLtRxlakNvyHzneY7z\n",
       "bFB3mM6IrnvmpayY5x0a4HfMk/k9DP4F5fd7hJVbX0YfuCZ24Aw7ke4qXuu2hYkXKmnXghJND+ZM\n",
       "uLHicgFHp7RP8FW4/io/MFWC7N45qxiKMs3Ss1pPpHJyBIIF4WMqCEzjHhEDVGQ6fiUIrefvNnf5\n",
       "024LGIZ6KCkTGvaEp1GnoD/PNQ0qoNJSKgC/rET7v0W4Cai284DzLRDIlpg4UzkE/gH+mqA7XGiG\n",
       "W3bL+h0gVUtC2ntQ0HWFUP7ru5D5T2G0Fqt4aTWz0mgOTzaipaF394k8VAxLbevJo2qVfoFlim8R\n",
       "SxOmgDiAVWSivu9B63wP1z4aGiLeEFmR8vn+3av06YrG2rQaEf/XR11FzRnh/NpGKQxD5MG5xuOO\n",
       "rXWJWBLZ5SQApEr4hZNssRyQc01Q5rPzK32nepaaMrrgXBZmos6KkaqtZv4JHcQw8Oo0TbMHEklk\n",
       "unY8O0srpKc6GXLKhczLAdQTfx8MvCJENASMXuNYm7nvVnTLHwb5kz3kyeLO2YwsIiT/ghc+rYSq\n",
       "lbreX4Wj/DllZB1MjsxAcaMNrfGKcSYPfVQ7ssouwRMlCfJ4jOSqjSiULNUiqaIH0zexD0Q8+Q/u\n",
       "GiyV1FxQYWIskKX614Pk3XzldKhcpS6CgztDZD9M0OXkBefBAhaFzX5zWbR1lC0ME4fTWWYyJKEL\n",
       "9HDOQsQADUihU36YCxkEst0j60KmGNtQcKyagf8km3IUxps1HbuTNewTxuavVuDNB8HE7Y2HnVf3\n",
       "yEgLSCEgA7K+8reE2tYxMF6V+hEQM5KXOOZP4kHn5Hvib0nfRFze9yLGa8d7y1LTtEcVeeiTDVUB\n",
       "T9FE7N4uFTPbLxW8UcG11/FkFkpgacjjNX9bf0MORGyJSL3WQqfBvVCC4C0qfTCerm7P8BDztVDm\n",
       "xoLgejrGAyNQE9awErTVWGDBI3xuAaQOKFdEVyJ95pH9GC8thQf/hj68hCpgRsrofPTdEZ7xJgCU\n",
       "mEn5SGGQHsuI2pOne3ijKSsyKIl6Wcs1vDhuQp29r5bD6XdFM4hbrnvAwKgyj4FhMntZlKz/uja9\n",
       "vPlZdYuHBQm83x8H8n/haLXc+fLXmwCHMxZfizy3F70W5i5rpg3Zq2uJ7FkBWno0VoBEC7tb9V5v\n",
       "eJfjwfMxzELLxsG0ifST3xv4fBVUVQw0AdXCEblopNBd5bCC6vu0cZeZ67K9hm4+g0cawILGIDNo\n",
       "i5aF5aHl/j19r953NxXNm76DJgV7NfenfwHupihUCeZ1XiaDYvhkd/eYikg8W4CPMEoT0i4DPBqZ\n",
       "fZdeFbgJIoaFA4u3228KEL6NhSNshqOYlac4hMPdUWL8mRd1LP/x8mUewoM+tlFl//wnU49PxdFS\n",
       "xGsfx0M42HDeutIdPVNq+IBPXzc7uNLEEB9U0Zcik8vlpXCo024FvNLwBrhyKnCDi2MzDHrLj4hL\n",
       "0K21bpcD5DHvb7Kty8udMjznUi+UoP6ai024+oHK1FbjoWl8gQMRQPh+BCPUAPtafotEM1Zzqw8G\n",
       "TadFFT9dV0X0xHy0gSlKOv1/xtLwnWxrjnebo857OMgNv0d1yMa2yP4F9xuWDKiHqMOdgR9ZpxV8\n",
       "bSocIuuAn4hRB1bMU3SF3549oMWLFPOsG99WaMKuWed47ARiBcDy8CbqdySntKayd2S5CdVdFzCo\n",
       "7iAJuRn0EeyEPum4gRzqJQL+3KeB209xg+CmbYXKVVwUwZvm8RLqSTfl+S9BAc3qNy0sxNhg4XJl\n",
       "xWqYi38JXNq6pvehU8JnpQ2QcBWKyc2W/pUkDHhoQ1CSg4qYFvheEczPzxmhbmVj/0SA9midVzN5\n",
       "0P4Mc5DEXZRNVszQZvF4ZwXkM0736X8hFHHyZ327YNTTLVDcF5QUvL96HXX+jT3cW4vhD43vtQHV\n",
       "DokucsletBmqdzV6o5kBdaec2GpCNH/SdLJcJZp54YgqcMX2FbmCeYNejuemChukGT+C555oOv9p\n",
       "RvVWz+qSIUrIAi/W/V4/WCOkZADa2XnmDeiy2aDA5ItVs7Y4TcBA76glNxms/hhXjvaVstdodQ2k\n",
       "JtnGxcuPASo+qa4pC45SqeMJkwqdse45bxnOcYSkA5VoTJl1yf46vdMyPeKI/mdeHY3mdVSNCxvZ\n",
       "5OKbEhrVqcZsl4bq5uSGZMILMDTZ14DPJNXEKK+7o5FmgHzBAAAG/kGflkUVLCv/AB8WLTr8EF0j\n",
       "6hNbtBLneADajSoeeYS7+mdivte1id2CCeNrUMoMrqTVhWYzS4fkBdlP19PgRjo/J9vJiylVHHRZ\n",
       "V+uwUsdzOHlcHABLDPwjIQ+NLdKj95TrimiBRMXB8GzXUN9qC4TTZqyZ+CRIKtXxjJ2syEQYABEE\n",
       "vZxE8rCCc1gvnDcnP4q25qyuFxqgIaCIBks3ZJJYdK70rwHWK4g6UTxEVBDwhG/zo6fuztx12u5Z\n",
       "wqruOCUOJnafFtgiT4XuiZwMkWAoLjxgHuvys7n6HXglix/eR4KwLxeXTaoGKeciywMDWy21/1Qi\n",
       "BsIy0Oh0t1mClDsQXETXkLb6nLXvo5TzJkgY4MUDoJA1fK1ihwZvwyJTfFI6lXU0w/jzRZSC71i2\n",
       "t+xx5drjstTtWSrdM+b90U6tRvD2JcjMaOu0rR3BJZHlVVDXr1e+c/sqBJIASkVwybzWvCf6X3Gu\n",
       "MWJ5JcK0NV11jZ0WXWLdfX+/YRqZkW6ZOidInUTrswuhG65OWSkDplh9+Pdook7mEm7SRQyABJtO\n",
       "WdP7ulSNgdbZZM1HZFaFvAsnH7VL90wW2mc+GL6YCn+ISI88t5U5/uepOqh9Y42t8Im88PaaWiSO\n",
       "PuO7tRlMDAUUP+TlTKd7MqAXeg3j9mnTEJb+qRL6TmqhBlfaze+0ofhdI/WK1vAC9+DK5Qrcu8Xv\n",
       "OYrKCMLLfxhv5WErXzxJayC6IFJ+uaJX9alAFzeEjtxDc5yrWpYVW/qKOPBZRlNkYnY+OtHBqh8g\n",
       "5R7U7W+pQds2XE5J+l3Qsz6zTqF93h58Tm5hJpO19Zah6qR76SM84hh/5btJvXEhcY0DLnAg+UBv\n",
       "QFkDzxXhy7EwVd2bJHfOrRytWK8xEOrD6cC3A9SqO57aF/OAIzmFI6ZRm/yyaiylxnpcFYTffRro\n",
       "s1xjhvYLUQrzeq3Mn8o/yoz7JJBU4M7CpE6XRMnCnCDC7YDuFDMTDAc+rGc6nDxaJ96E4jM576oB\n",
       "JaMtagPEeFejm8GcfQL47iZy1AcoeZWlV/foc4rHASuKStZYOB9BMc3AJio1v2dbFIw0UFb2lrqk\n",
       "qP++wYbAgEMIf8qEia27gcNqd7Bj3T18WLrISPZgnHvaKvzt34ZwFQXPrFg6AlaO4tiBPhIBZ65B\n",
       "apCDDdr8MFTuOKCdRCifWQzq27sGtEYcQmqgD7oYAmoDqvm2u/p6hKV01rNZ4amx6JnnxxM+Yv6F\n",
       "Q9rsD2TX41EYXjlkN4252uYtRntkYkQTjaNn1uCQBWiQlfpd27WLPmbfiIBw5v9GIF2KQ6+4OnuG\n",
       "ZcVtqREfgwvwfcyzaiViu1EfAvnbqyXp1YbQB5SOgcmyYOk9qKPQag/4Qf/H5dy1c+BBHD3T7YU6\n",
       "ecs6oX9FNd/kaDndz1JW71E3SigGtsM5ZxAUDyPaFHtqNDeifa0AnTp7Q17KgeMpfpfDSLYuutg3\n",
       "Bll7Pdf+300o5Xcrx84tPsIftoqnQq7QA7fpXwtYFGilonhaCMctCqWktUGiWebwFuQcIkxBO9lP\n",
       "vsvTTU+HQwwsFQOzlymrtz6uSP48ICZWCOf3L5V7RtfY+DZs460loBptzs8PbtomQ7EMTyfiLOfu\n",
       "1CXUraICPhfda8UUDgP+B6OIe/oFnDLfKNIw7yczM9EeQEWlVUfS0M6X0VuUPD+lGO+b5FWD9zER\n",
       "n0BqtiyL6ta8OKUoQ4WugGoZCDkUAhHbEhvz2xqOxhG2HmGWN1cfLBA8M2weMfxn/u0hePswDisR\n",
       "/ldATouDALPKWTeZH2Bcrb2pNyccGxywujAEU3q6HzQw+GrIjXBE5iqkkot2LuvdtSXR9M7HFMuu\n",
       "RwhD01nEf8RcWIxCW7ZcXDwli6VVPHS3ivdHqwOK6SA1fCi+gzx/zkNDht3V6I8xYsF0ummCr42L\n",
       "pQOBrjC6SSB31ZtINF37nPmpei0wtMGDq6eBIQPvPWmJUeHWetZjIUpCfeJkjbmRpX04Et3h6dOx\n",
       "/0GrZ1NT9sLKf9djMKGjd6NP9qZHtV8Be3ppX3ybB/M4ZVWLAJGnVbQc2p9kdamnXVdhXqIyqp4g\n",
       "qHsS5Ain13BCvmB9qsOxW7ucY3HoIaUhwuHqMkS2x0ClFXs6LVFlcjTbN9PFZQ98zSGDtqxH3fSs\n",
       "SMj6ZOVIElDk5hyju/eAjs3Biff2pgofdNtEkeFjPXZlMkF2R6H9ifss7EdDznozsxRen3tfq/l3\n",
       "QBwhgtlhbtz3BeaZpXbHbf27KTOvyyjj77Ad/R6TX4I4JpbOIrsUPDsHkv+LWOjN91W5TIz/pJSX\n",
       "5BaEjZKkrfSefq3Az6Oy5iDmN7PfLD8uHE0XdgRTJYnKISSDfVF48SZJDBMj+Vel81vvg8ipcGFR\n",
       "Q1Yb1g1tAAAG9QGftXRCfwAnWpfaFaY7rABl2Kch3WrCXJv1QJ1R9RWlk7Rq0GQ9ObThcP7Hru/Y\n",
       "jAHa1AXH+BaUKeBUZJCdFT6MWmfAv98JiO4CVgwWNsLaRKn6+0WthJoxCfe1zLQhnjgoYMslB4Cz\n",
       "q8gozDDgYi0Zp0d/srEOG0sWtl2S1HEoDLC/Y7xjcD7liNgBMoiD61sPRWwOzyXvs09MyjzI3Qb0\n",
       "tmAjogHZ1O0sLR7DpYdZj3OshSfZN3/XsFczfsEzWVlzMIPSfSgBj8BFldViSWWGwLmSYrAz/V7y\n",
       "SqQxHhlRTVQHgiInd653mpmfmtnhom6HiCAPQyA55r+US9R9A8YfQ1LWLvDR2vDqkNL/ygEZLY7C\n",
       "BntqGlgGYd84+ZKoF+O7q2rO9jmehN5zzzp/3n29r2C/sWgI6SKodIVOeI+elJWhnsM1EG3E645w\n",
       "xuXrIM6lPZnpzeMBSU3wDdJpoPalqOKeDuGGCgZZd11iXCiy5V44UQIxPmNz7DJBm0bdfGCNHV8c\n",
       "w6AbslmYIKvO/N02lxQnOtlCcaDDPbZaA+cUFi3N++4rO/EqwssIh/Re08xDy8iKp52SAaCYOomk\n",
       "zBrzx0HOYkJr59M8q08TZH1i9f3nOnqYQR9kW5wXxuNwcMsU9kxnc3KUxEIzNtx68GpcrPzC8ssm\n",
       "aL2MSb5RcV+LedU1CHCC9bsR+UGaUFLR9PYmwsxTyodpWPx0TXL9agoulDNDXo8j+k/XSBj3jEBj\n",
       "pKLHbZvi6HXFOdT30yqUTuvi6b9u+wV65iwYMmfR8GNElJHJ8g0R+Ia73zqfjQoGLt5ktN8JFfLK\n",
       "3UlWEEPlLJ9JZDVzrWq0j5vwNAuNWPMPNwFI78/qsq8v4pa655O5eXEJ2hMUTSPjV+frViPsPCx7\n",
       "RHrW56E5VLePmXF8xmV7ECXunRsu5yT2T8H/2zpMcfijtgRb2F0dTxIXYknT9dioQGOuwvCMD8QS\n",
       "0LaTeL93I0Rbxk65gLj0cTVlLRcyCR/+AUsLOflpG1mksrzdH0jGIjS8xft9qpz1oA0tSrVrDEv/\n",
       "66pPZ259TXPkq5z8R/WSFJFxjKjmcs5UfIg9yIbeTkS/QqGb92TluQHb0ILQQyj2sgMBwbQXpNaX\n",
       "TBnS+cjzdzp2gJXzwaycbgvt+oqTCmzn4xXcDUdiPYTu51uhEAEA0IPHvQN/fXwsatgtWYqk5uz8\n",
       "Wl+cgnVFXMY1At6W92y2vN7mCZpUDBuy6SOqJWDIHvMtP8Vau3FRXSImaoSWOkLhZyxKITTwbiMr\n",
       "CK895rZP03GpONmcOyzv3XVgA3HEhNbQYgK2VoR24BExjur9tA+f5iBkg6qbgahZU4yTXIWskjtZ\n",
       "EskHqM8UzCFC4U082XH5AWBe8YFNn1ofRanAe4ar3dribuqSIf2h3UuyaqIhowEHrs6blO/PQMIx\n",
       "FKSOiEAFEe9Vgwf9eIOW2ZlbDDIqMsc/ZDr+FY/KfkHvf2TRqgp+EWd4jDJrcjP0gmiRZPZceejQ\n",
       "8PBYOXnyOv84tgYxSY07QpE+VipgtxXKZ6b4jD6PFuXhmkx2l2B6Qfn5uuMtofcBwAbGswLx9mq4\n",
       "2YHOSdDN2rp7Zk+O/m3CeLBw0O2jobclXmGeIRpoqRYekEvuemGdqeIFDrm3YXABMcMwn7DBWSLK\n",
       "Mc72xWYs+OHK1Z2S7lokGkgs3wDtFakfTk6KM/3hj9rAk9U4XvFtp7aiiYbGde4dm01Bfc/yJJhR\n",
       "7zEhblaD21g2PxD0WQmz+zUxO/iHJxd+P7ZDoXpqtAfRhUE+kaJi+3ywHO0A5dMFcpqsxhmBuX5d\n",
       "jJbmphygUFjgYLs+BOo7zOuPI7M0Pg8Fp62YH1CHYIfEBGzPO9TfsboBTylVb6HB0i63JcjlRHHr\n",
       "Gcp5zvy0smesbFErRFpe0ARYJ1pEnZnDvEGxkXJxS7wPhcVp1QZTlL2XW2X3PxIWX/eIyXGNYmii\n",
       "vbt/IK9osD+qz5pZq+LkyiBnkcW9yWhtHaa/TaGFfWoBPdLRzQpUHSxzCGbesvi82B7l+3zJeLWm\n",
       "FefnImzZubzhs6tRu3q28+H+xIHLw3s9KQOm6oeVvyxRlw8K1U9F3mqz2SDlEHUTc5IcI98LnYBh\n",
       "UAO5K3yZj/Gf8H4uV8d0n0xFDcAQLG3sLFYl3NTB0DC3s6b/FbH4/xjrjN0YSwvFZ7TNIYNDGAO8\n",
       "5jNDQukQQBNAGfZkaIxB72VTTNCypIHazwW4VL28bhVnZCpRRyHQhes/BEhUorlCAQRDEpwFxV9U\n",
       "Dfi4Jo/KuS0wqc6VWgOMPXJmrS8cTUmitqkmgxwuCVxDmp9cRvWqO8A3zJaGFAWzQyb1/Un9croi\n",
       "D6cfYy0tZexMFYEUj0IwxceUBPLuwAspAAAGgAGft2pCfwAo7Jim9PzWsCWiezKMNRI1Og1Oi5+K\n",
       "PP2ZytMg8mNn2JIsBXJ/pfy6JGebkrxo4BlwY2UeGNABjLRkuM49lxGryFL4euDeJE+KAAOfm/V6\n",
       "zsYBhll8EtfAbiXjENxsUMDCUq7rVeGNoLel0V2XuGZtVqS0sLChEZ05U+q4SttSckYc7RzF6d4h\n",
       "n/zOMGcDDdjA0Nr4CDMN5vbjZa7gvfkrUIXKr9tS/XPDA1kwUO7g8jtcc0NTQuIz8q6cKnZsG6qr\n",
       "2AAbA7gyhGvZF6/GCnR9B//XvbpS5JUTpTVxm0E0K+1/0RY4Ux5oT5EtJd/cYfV77Uq1Pv0zqktu\n",
       "Xisudwe2Z1PpGMCL1XBjO0Dqd/Qj+NRaYRwl21E+3C3FQR8ZuPbM0s14P7sO6UGBbBNMmKMxqYh9\n",
       "F+dbZawCLgyPrCv2YupOD7RVUt+Er39cuCS16/PcRMAXgESktC5SjL+P2hmAhKPm48fWJsKJRDqe\n",
       "w8OKFn0ISDG4Xd31AvFW/t5EpLrvS+rlUKPaGxfBVBxooGFVIHs6+iz/jFsj3A8zpvkhOfn1CFLX\n",
       "LM9dNsIYmc8lhjzWYxed2/OlsGU5TCr+Ppuqmbd372Whbl9JFsEgTj5XjPSkP1Tlx+ZxEi017Ezo\n",
       "jMgvvm9eS94pjcEiP/SeAHIHyHrFZ19U8pix4xFH+Sj/nknlVoiN0Jnn9PgJEdZjdMBCToDm6VHY\n",
       "FpTA9CzQ2QZyLwsSa9gAWBBH1uaLhr0UGGgc3teP+48ZWvH6Oh4QsX5vBTmoEwgalPyrQo7WO7QX\n",
       "y/UNiq5zjda5dXYh6zKNfELKg8CvvHrqEtH+eb1KYzonMqUGPSa7VbEeoglesVeNX+XkGRM3V/QO\n",
       "fTWpoFZd0OJpZPYuZBxMZJle1S5GsxN/6HTtzxbQE2MtZ8urDIy8fQPs7BXPzIM75Gp0nUTfbXe6\n",
       "Zg2kacTFHqCQpQXZqVR8ia7mMrysPQIEsqDVygcysOfIxvHXBDGTyAgoe66Rv7WmqCj+1REv0z02\n",
       "bteg6QKjEznyK/dfjoL/+ZSw9fguwHsTn2giZZpyzJJ/VktJydi8jZsCkmQntQvkvSsX/OuVgLUs\n",
       "0oJHl3MN/48BHJQf36MOg8A2E3GU0YGrN4gZBTomP/EVr2eScbZUr967OKU6VIQibGzBZ544NeNg\n",
       "itI8DTMjqCBeMt/Py+b7B3U+bRcyl6eps1afObdnxe0rZclsRQSlnelPeojHeIO2kRvBQzc+1i6A\n",
       "6kAlOKLW0iO2UKzb+1D8QRjqvOIOlbvl7q6icP+2dQXvBomNsmjXVGqU1/Pnt9EwLCGsfd7O6B12\n",
       "ruFFHIFOjv/4AA2DnErT7o6JWazrsEAbUnF9VW0ZwKK7036y4nLu+mZp02D/0dqSnypAYJG5nfEJ\n",
       "ft80MLT+dBGVW4M5ShJqQJ20IY5kfsPcgLR6x6CElZ6d8N3UN1ExV76pxQaYlSNcy6rduz03/AEr\n",
       "HlhCJuE0ycvf/3ocfI8Jp+6a67A+S4qzu3DdHxq3YkvFabLC5qkMAAAHnso2zkTt77HWbrnTQDTq\n",
       "Uiqt2isdroYbfac+7Owdm9uMe1y6qkrkZ7hcyQmNsj2QdpDjlh7QgKGlj3+cLkO+n1RoHJanfGlU\n",
       "7S013N4TN/BsARIxqkARamkk4Zd+lj4EgWg0Y6o/NO9deKJiTE3bzbFmpRCziQhK3ohVRWkYOLhM\n",
       "SBo9HcWM/m5ONqU0IOzm0rkMiIzNMV6w2wVyCtU+CQSd3vf0NCZ/ZW6N3BvrrK0N8OuZWK+/3s/E\n",
       "Vp+gB6Rg5xRxZKUynDcX3CLvaTYhsuugjioXH/aoCs36tJQUYkZlyhZXFycSX5dbsrFJV+bhw1L+\n",
       "UeW6OloenEkl9wr8gMsHtGIumz68w8wdb3UTZrtGCCNdi5UJ7vwMQBiPoiYPY7nvf4yGW6c75sJ4\n",
       "/htq8cPE/XRs1/wTsMmPQS5/4SQOn+Fw47NrhhPbnbyX0JUGzSSa24T6qd/wDJVCXn98N+YPI/1+\n",
       "GXu7eXOqoZDY0si9pdkF+cMaFZxFHjz6sByg0FgYRRhbV7vhe+BOcS7e7Yy8OX2x7SxTuGVibfby\n",
       "4VrSjXBmt0Caa8s86dvtQsJGsA4Wzm6ZdWwNqeYx3Q0e4XN/umDXTqpMzl+n5MUGzUuvP9chLgwj\n",
       "fLrZe23xfkoN2SNoc6036cIJBx1scVfu/C7xpA7ZHRCHnrm68BCxAAAI/UGbvEmoQWyZTAhv//6n\n",
       "hAAlo+Y89A9MrfBuft/hBb4AoK033WlhtW9+7fX8nh+sL5FevHwdamjuDS3OKUKn3CYVZeT4Gfbl\n",
       "/TqRnREOy90rGoWBzeSUn58O6VFUh+KjY9Z4/ZBOp5ni4dacNLLx1Tl2kVSrydIAdrTt80sfecog\n",
       "ZWia5wZfKeSI23amhr5QfX75RzlDIzpTq4V5zRsFpjfDxMgN2SW188QL9Jm+YPMYPkHlxhdqZCrU\n",
       "hTAS3/zSslMyiwNdpFtA2BEuONeaOi355p6NVpn8JhwXJ8VpXBkWD3POPtp6TBXAAgixXtINPEDN\n",
       "R7iYfMtBCm2gODcmzgd7fCcO8pudTR8Qwb3AGGJAagHuHUGHYS430Btt4O905rwuSW+Qym+GHcdf\n",
       "mTnYsAPiiFUxqSJesyQR5wv6E/g6hSUB5Y0wCouEQmLL2umltdXhyB7F0KZLxnez5dPt6vHM2wA+\n",
       "EabspHfDPCynl+dQdh+H1DflFoVBxYlJ4qAMCELBMNtHnEhYC9EPMYYZv/T+1/6/QSMA8uJXfsMA\n",
       "div2ZZFhWJayJroLtkCk0HzIcL0C3OQ+P4B2dlwXzvkJoDmVjp4ktZIRVRbQOjZz0Xk0fVrWgAib\n",
       "k18YOwVQH+TXCAAPC2GLO1oSkMhT9rRV8ZAOjTAJiCEi+NSCh+FZUjDVbPGCsM4bmdtVd7FClA7F\n",
       "qXxX+d1y09O/gc4n8jsvOh1ncYoH25VwxPI7taWz//Y34Iq9VjhyTv+fej3NpnDugbEfTaVjwuri\n",
       "ek/1nXU/nF1mNEVteJexk4VRvnI02VOLJ2fhDBNmxVGC+QMEA2mlTkLHDqkZ9UFyEDmLBok3KYwS\n",
       "I4eDyirneo5RsqEkFBc3qfvZiqndXVbwZ08W+Ulbrwv/7lT9zborhiJmxwUZt0xsuuDwh0VvoxPD\n",
       "Z7E/4bRq80KLhG6WkQPoub7POl8DpdGD4t+rF3uI4R1Y7KfgFQS1+fK4VnxGWV7aBbmAT4KzrL8x\n",
       "ComOeSqB5bAfh5wk8BAlCoPDUj8Z6c+1BjPB6mFW+jPD3DwpECykntlE97q18iq9s5WRfB/n+DHU\n",
       "/T0pUzqp2EHJ4Fphuegs5iC2bKOoPUFWO/sfzq1uaKRIaMDSsr5FWXq3a9XUzdApL0W/aMi3wX48\n",
       "q4IaIqeTawEQwkNAmhNNFr/mj5YvomIMTh9RJCXgUGA8PZpQH8Hzuv1vfuPlgSWwng/KuXAoleUD\n",
       "MJyKH1QcXE9fEkoxbtxsWn18m6BIh9nebUozcCkmemCQLgPJwZSdOBYfHsN2cGCiBHatrWVlZ0nB\n",
       "JtnxODuQW49DTHB4jTC268vK4zxydkIQdw3U1A14Fj1dKed1HuO0Qh6x0iCFBq2qcoEEZzBz+Sh9\n",
       "br1wcCGEk8ug+rD3VPUeEOnke3QBcqwkD7FV3T++VjMd9WP6vaiowQM3s2sw7hu/5w2fgjCYlthn\n",
       "J5PmIyLIYxlXnuDcdWHrqt2QC1nNzcJRgW3a6Go9r5trC9sHLdlg2qfVZMix2pAYJNaJ2L11nDIg\n",
       "OVMeKBh7yolgRhAbUjvF7jAqEYQpWd1ctLvNbacmi927V1U3mzz5p+CMKv/4JE57PNQ1LJvaY3mo\n",
       "wgwJa8Vy6Ycf0TMUpmv2exA36YxzBQKRrQz74kKC5B2oSLMvyKgLFQIBqONrYEehT3Fjg8Z7gsWa\n",
       "DCRES6YwyOcGDL7FI1Njl29kSMB6FQQ44TUb0//BP79CHeBftmb9RZ8JTpLSPzbvR4tmS7djyFQ+\n",
       "Nb7Iwv9Suo+rZZvBmO9tO1VpK5at21IpQS9/p9YonjtH/cWU95Zkc08FW/6xGHNP4mA4vgvLwYNE\n",
       "c7at7rluxipX4jBeOhXjVDDQ8zVIjFH5f37Ukae9sw2k86t6Btgby2fj4qwKrhTYBUV8S0ytJDJf\n",
       "YmGrfnwPDIVJGLyj4Ogz3uTD4d/JhZeYwrYNZBhFSqYpwxVZAX+dFHOf2he9dkHRRcL4AdGmIO5e\n",
       "OgQ7AlX28DckW/H7a024tZK7Raa+x4zliqan3Gh3WvzMiCxKBcw5g0xUaeTHJdi+BpihZATmc4SX\n",
       "mt9oVeViX6/dz1kF09DNhlyIyn6st1kIPtKryIzvER4cbpe7gDvBMxW9TPtidkRt7UB+gG8I+Mcv\n",
       "9uGMw0670BnFwXcUfUOWyeQW5mtT47V3tfV+8eua8LFBRcKfM/9xXalslv8cIBlbOXllLjEY8fgb\n",
       "bwbF3FHCKpnJXjq/Uy5Qzh+yfpQ9Yr0WcV5Uk5uFEld1DUgJUGbRqHF79X5hYnVIKfUvBUJXcLoV\n",
       "UR/YBvDuFPKhm/C++7xAyJY8TT0MJFTujtiC09yLBZL1iYSeY9wt3NtZ3CljwUZpAm43MJHvO5OP\n",
       "IbzxeaJtYmYWznjqsy22r5HZIGcT2oPoliDKe+7VJybwYnMAIMsN7P8WQiseNvlbvMoSy4yQ4yqs\n",
       "4pd08crEdn7fb4pA1y4nFUq17EhIbQfmIo7EDHk9anecjGQ6THxKngKHJFOxQvZYsbxrXyN3paVl\n",
       "/wQngN63FTlgb4pQk+O3mt8+wZl8dxhD80IFt1Ux0k4TWB4esL3u2xHQGdwh745ak/tGUA/gwt7X\n",
       "ADhgjskLwjjdw3VfSHNR9iD20grmLYRLoEOsWMF2cIagDjoF/fGOmrNQpXNpF7ljr6Zi0ggwVdsD\n",
       "yhlQvUk2YjPDQvo2x48yiP7HXlgJMBWyqC0Qp2OHw1jlns4ihdBtw4FaoFXECWPc72mz95IzEHSO\n",
       "LWChQtATo11paV8d2lyfE/4SaZhv25ksYnmpwqyEs5gpq9YUtXHyqHhPX20UBg8dG2wVs9bztipf\n",
       "vEyxKAeAJMVvT6OmceX/quyvR+KWDsSXqTmlpbI6mgFg7Mq82cDa2M/pi5fXv9C/c7xjxnL4UL6b\n",
       "7eNfG2cfT64QBixX1Pq2H/Pnj0Kr4E8PaNcKjmtokvgSOcN92E0j2zOm5/sXi39aZnByEJWcr/36\n",
       "wN+gZEPRUtkCAwmU60ZQESKjXEeCtPlnxR/359J6SVD+SQppcGyAyyTQdsI1GFkY68nWxiC25WNg\n",
       "fvdivxlvQAAABrxBn9pFFSwr/wASXYE/9CjwG3cQmthATNMJ4OHQ3NiO9ysV/uYklrybxA6GMHN4\n",
       "t3s/Bm2JgBDeqOxsyjY4Ul4js23is9EjC5WgjuJ6TXH23zd+YBZs8vbmDUaiaPfzFN1xoRWr+2sJ\n",
       "tjf/OigfKRB3MtxH0WuZuk/1hYgx6Jtv8A0xKQF1xDXG1kv/X+cVyAuAX0prwcotLFDhH65CjQKm\n",
       "qlBS4TjoQOy1VIQh0S0ocnBxvptoCOeIFei2nWhLMvot9F+9aaAIr6oof5HvTs2ur9kJAgoOSKd9\n",
       "EJeJIyeG1p2O4dHiUr6cTEjJmKpPw+K1bXoyyhkfWpiQk6XuL/lQv+OXJY1u3ZKQGsmTI2WHp+Gj\n",
       "cqH7uaMI0gjpN224/+hnWoGLGyjhMwc3YFon7SJZdXaT/piZvBsueD7NpooaLZmZtUaHCnXgAV/U\n",
       "ECOLmq7brsLzL7urYr27FmGxqGFuuXxZX5ZM/jF+vSW5c6HoY8EU0FRjWFo9m3e3kRZiq+UFnZrc\n",
       "EuhN38n2hMrqLCJWyTSdjsJ3xgZgfgVCfIOGzbh5Yk15T+5cFMLC3N6BBz5YgPDShED7T/fkJwOa\n",
       "98PV4ZMtr8yeF/8w+6B/MyHzeyCuT27WA1GgR3/JW3r+BQe5uD8Blrm4GGKE0e9+FVKpM+lZ+7sA\n",
       "pQeQEnRnLAcjHYCucnW2CGtcclabPQsQs+gIIFSyF1vIY+4mV9QC5DFCrfpL3dTOS0SdqYe51epm\n",
       "2I7O8ypLfYp76+jF3em6FBQ3uS6ZGsRJKggBr++mqVf84KoECFzsL3e2LXijcS+Zxq3lHVOevimI\n",
       "zfRJNEJeC5COlf9NytL+jBDTrLX/ajxI3oMVilmARh3BQHxtXe28nmb0V0IcyvNB/uG5n5bMorxf\n",
       "hYc90lsNFKJ7XsG1cFI6OHARGBc8CZtFiWVySWJd4zAc4GegjSd34eRUpuK62NaAKlvoFNMDCJo9\n",
       "PqSHwDWi0g1jFV+LA1eur7liFVS/0Gbbq1A57Ua6EQsLy6S802kZRuqG+9IcmfZ85TEn3mtxHHY2\n",
       "OyFiE7gpRP51SatMNzRH5Y31MomjmeYt3DFeyKJX3WS2E/GRvBEJhtBgwadSH6mX9GH2NljWYdT8\n",
       "+kymdqXbQrwIFLDGJK3bZmeuK0/qi4Sa2bTYYaBIXUme9MFX8aD5YZnzIZCvvr0naG7oQwXA1xs6\n",
       "yMdbrxaffKa7K+H9UNom8mN9lJEcH1Ft0sJVobqKfdiEPu7fIXSZ7Ik3fQ6WfvzuPmKqpm/Q5JCh\n",
       "v/vz7980R1Um4fM7tl/EIuw5exPu/+60BQnQHF9psHGn6Cm15vM3eM/alH0l4km0mnjcYCkJbupc\n",
       "5g5c0+Vmwt1VoB+QCg7mRDAkpcBVj9+AuppAJunO/yW9U+V0VHJKCX8mAF6UjWDJQo2t5dnnPVRM\n",
       "JGxYvTkkK0x6DFVXzOVg5h1fBZxK0HktYtvm6+2dPOu2wPupNhVT558deZinV1rRfI52RTvNcpNe\n",
       "Gvix9BO9cwKv+8UtBLxApREB191o/Km98FaTSv3/pRFPYm16Ke+tmUf2W+azSm8CGvfNUf2ydnZx\n",
       "IU+HsdI/3H7dbOMojh9W4jZJWztzwk45caPOvJqfHODw8jTQv+BSzpiyIPK5FuZts30FfKNFbeH+\n",
       "20Bi/REyrYY+TD49Y2LGk/CElU0GFd3ECx55ovDZzZHld0kSRaOmGZAINsgyS8iinAhsRmOOrrfC\n",
       "CljnBmuj4dIPz8yHL8EJS2GoLXJQt6IWBcBqp5U57o5O35ji9JZ+wmDSSTdOpop1+gxT9uT0M8IS\n",
       "XZVin1Uk5POtVxFf6TutMssfG1CuIZnrWyv5mM/ZxRLx8Byo1LLZcl7o6EXK9LYCuG0oHvED5Fww\n",
       "l2/Wjz1JaNLSGtSaRr3+H8gjoa/da7q6fT5gHouLh9bxKErHwSpXYBTzcX7p8yOY2o+LswQ2oZ41\n",
       "XgOch5LbxqldVJ2KTAHKZUs7ApLpt3kBM47EaOLUYKa0gr9Y9M7q6EcfihXqsHrvqI5fKodHy9bE\n",
       "sM+ZAEHmLKH4GQEN9zF/u0k8T96DUFqGMXF0v5XwkQGTFXnJ0BEC50yWAkRQiNhxqY8cHSW8nGBk\n",
       "6ZJ9wGWVKzKJ69TS1bJcm6FI30eEQmiFWe6WfXJfyN7A02xcwyISf0R5IJOPkYK6Jr+JAxyThKwW\n",
       "GA62mfq9YVB1id5+D/UWyLbqzVT0PeMc1W9dciI9aWHp4Sofc/pvWeMXNemDIVs5o/rn4DJ7r2I8\n",
       "8pV/Q/0wUMwkxO2Kv6o3DM0EQ040hw0Q8QAABfgBn/l0Qn8ADgE6IKgJSmOj9XxCVn+EILzsmABv\n",
       "UDlS3MDwAOTOQbEibV+J1TJ+ecXq7xOtgzNX38FYNxo2XSqAB1XTelVkzXvM9VynPczwtynfQ+je\n",
       "z/txF6Zr+uw9OeOspbi3J/7gB0ZarmIu8e2aN3kA4gGcaINJ6KkLZAUBQKq6jnQDNCoUsMqCY+kr\n",
       "348Kjd6yGVwzLBz3R8sCNTj5SNiMDpHDwGskC6llrmr9jIyhwhEaq5DUdjhsImwVnad4iTHPvnnl\n",
       "inlFOznAj9LTS24lZpu70QD/d3TNI2TYN8mcRGlZPi8u2Se12mKDWp3jHwPuhqvsuVGFjP9sTGu8\n",
       "jX+VqIRC/DI0o4X42Tld698of5pfT1XFrn/lWLXEWW64uYITmH4fX6LVOLKDz7Z9O8kC1G49Pmfr\n",
       "l+BmIxaZj6r2NVnuOr+/9FU9hb7WTDIP8d7pRhYgUcp51F7YjRLjR4JPUTiRsPzgfCKTNgRGD2/z\n",
       "hx5iJO9RwEF7HdUpMXCMo1J+7UpfCUZ622PtFMYyXJVr5JV7BmF+8x1b8J9RlP2JBqByor0PLt57\n",
       "8O3AKwKj92zVt63Bkqf1nZIOC4tjfHD0o901DddnTHsr5uvmtvXAEqLC64GVy275RWNJI322VqTh\n",
       "dsj1F5bA21EuG+sQ5/mHdrDYbmAiBXo2SDtj5SGG4/m8RI/2uh0BOolwRxKUvgLdCReqCfov/iOl\n",
       "ENh3jheDRdSzIQHxjNLDZCgkmDAe7ORDByu6ASWSRo1s9j4wPSgELaVcKWXMkOUh3yAOfqml4Ba4\n",
       "Hh4R+NfBzN8zS4z//DeXUDNNpCW7PNcIMMMhF9vgSXGPr05B+XErwImTei4AHe/GBoBedWWwrbN6\n",
       "r23OWW5Dqs83ccp3mxjbKGJH3wVhW6l3iSMhUc3pz4Povnva7XoHK37DbbD/+HZ7GRD103eJz0rf\n",
       "XL6DDnc9pk+D44d2mZRMADEVTtWbKrqvcI7TKwaQaZSUC2SRbmDOkYY/IFR7agIa2+PSmSr9g90q\n",
       "b0+OJs1cOd6yx58vQYVrGYpNizL70hxA7Tn612cXiLJ2aWF+bcRfQKy2QAEiEino5tyQTBUgLTer\n",
       "TkLIrjRrzqzSsLh3rNSlq8hp/Ni21JyvVb2NNej9e2qQ3KUG6v6JuWass6BB6/855TGbdjHiOpZq\n",
       "t5S/08ke+QQ6eTKC60g+yj9BagFqAT2UBq0FQ7Acyy9R1mdyhaSuwihuuipuk5G96mEMXURma79z\n",
       "f1FxCQDlxzbQw1C7fs1jBDivUzwdYuWqaXDlLDgL+jALe7owV5KoEJkmcFO5doGaUmo6oUTkaJpf\n",
       "fdxKEGKqXr5/BJEZInFQLaQila3PRsc4jHF2+/JAXWzQjfQwXeqvI440ZYUW0yrrUXZR5ncw5LXO\n",
       "OVAY3c4RByNBiFvB0XJZb85H5XOFppJesHWjLZuz8OTRsyM+fSWpK2LCovc6sDa7421+sk6fD14r\n",
       "TcS6QKle2wFkFLwqidiLwNP6RVznoCpqOV2rFv9d5ZQtjyp34nP++B4hpG254KDhJSC4dHF7dZvm\n",
       "K/fZx4qeEiUPZHrcMfeGJI/gCV3wTEWQBM7lZ/1E2ePpuNtY1McMO1J0Zv9CTqWIH5s1BXurcno4\n",
       "ZpaPTY8Ja/GnBIxqWoQsDbc2zRTdBG92bjOGvuCmeoKHJLAfz0sjlwFhxf4TinAl6Wpd+ikt0ums\n",
       "LCbaFVLHqRbZfzGmYGXDzRxmpvMfb3PRoo/mt5X0X40rBVSnM1S7pUJ/rxrCoocDToJcNu+IXFt7\n",
       "pf11Mf6xjTu1jezJRVGvhwbmvmdAu/vgnXZAMjMQMytjZEWigPIkSWMbiC1OYSQ7RKmnkfmnfWuY\n",
       "1TnQJiGMJOr27szgw/9RtZDhTsPndoB9IeXBkxyP7SKkRjGqkxlkM4WeJJT74T2cV1jWfmOx7dUv\n",
       "ZoF9zw5Iuh37cwRIk6WgxpioaZSU4F86v4m3E8zqJz68zLJS5OQGMFDBq2pL3xhcAtLJeKPdRwW6\n",
       "EmyM4NF2yfVkakbLCpwu8KSAAAAGQQGf+2pCfwAX54/WChymnLL4lgZmtQAugrfrJjvSKFPL0CEA\n",
       "kGBz71gnh/VPf9mkqmTezKSBPW/kOm11p8jrJAo2DgcXLV6vuMUdNfxza8myHPlHI5TJadCbW5HR\n",
       "Cjw0u4nWSuaJTfp9hYG/CLpZn1yiDWi/H//h1KSN8VU1+7ILs1u+1uEGyP5gDA8dTECpV3FqtkAh\n",
       "0+R27ofay8Qdh6EPJNS2evKvqjUpzboUcby3c6A0uUHpFQAXdOI7LlnuzeDjMkNk9sIVguR7GQjM\n",
       "w5oiLamZA/M2BCBvUOP0DDghF4OaLyieNiw8OkbOQR7np6+4FUkTbq9Nq9aoU2UctuJT5Ps7UPLu\n",
       "2oIR/vh3MO8NsUzO9bKY0TlNF8tNa8sUGsp52KdGRltOYuowAcxUz30ydKcnJjNcptTe9F5908ba\n",
       "uHEuIYwBntDlLA9Pft2WDBUnXoFiBkVSlbRx0KVtrC5w3t2rjY7l4mOSqu/N9Fb+Nygp0ongshri\n",
       "qrPeRyTMcgQSJUuSogpho6uZdGbiacVHt97tS99JnhUrZnShz4K2ew0TCyreTD2eb3x+m4mYuX/x\n",
       "CGvzpsJCRiBUMrTn15+dtoVgC9FwZ3xKxZ0ANVjYbEX9HReg/379fTWHUQWnPXp00ELbLdaYtbBR\n",
       "DeXeml1CLmsI4aVHJawkiz+I9jKTeIKUEKQxCOUyjjxcPhuL5EP2mJXoF782qZj2Y9LXg3jC8mym\n",
       "W0rPkfOJtwqIQqypxn6XAkpNg65eaeXeWrtmPgzCqtspOLcyKtveKuQuylPi/qFLKaQhXXuKKsLi\n",
       "aawK1t+avMR2A/EJJWT2q9qwM+ZOYeJRS9m5OBUqQsmdb1yf2CESvc41lUz5aMJPQrn+3sUrF7Mg\n",
       "wCXsJtu3ezeflDG9SSFhq645kepLx4UCOB7P0ElsLJ2Te6d6hrLZcPcUnPqysugNeVpFmW3MPwUx\n",
       "qEh/zogbtJnJ4OE37FkGBnd8MGh3ps57tu3sYLXqoZ8WekCjwGPU7hDHWTCsE1kfkMaHrjmCsHaN\n",
       "GidWmD42JH0W55uawK/y0VNpEuAsQcjWeVIBgXbpU7U4RsK4etl7dfFLXHfWFRDqXg6nsslF3dFR\n",
       "HC0Ge6RQ6NoAw/e+4DssbCpDM7wmvuUdHTx0UUzU9s11PqDezkimzPjxOGKz9KVlxfeVJeq7VZZL\n",
       "AH2lACG6h22peGlYjpsTiYFNzOCnpCbkBN6bZbn85BQpXvQ92YpzWZB90iQGXIovKgepINn+jXmt\n",
       "PWKwEqCymBuD8GXHOfQKCEHRL7w8MM8NiUJr9vsRj4LJw8IQ6KdlUauIsofdj9QSqCupHeOGO2Uh\n",
       "X/RHb2sDnLwWiyUyBzxVevEShay8n0uhAwP3veKwTO+PsSNSxTSmztn/Ifg2QWKNX4Zi4e6XWLn2\n",
       "AuMtIEz+fOhV1QwaPKFXheRRUl8x7GrvZyo6KZtQHiGo2TL3eXRSGD2mdSWzMK4sgFdtN3dg13lm\n",
       "v1saVPNuOYkmiwU5hk52WSLzhAOmXWqIPsnMzTIdHnAuoVr1KUS1r79Mo+2+wzaIjAJy5ztQMqY0\n",
       "Pkfg+WdbdwHo/1YdbxJjK7xUWMSsJm2d/WpabWhKNEC3pRu/4fTY49dI37aZ+RgCI/+YhW8Hv/pt\n",
       "OyVTm7kTG/VVCj9nOxVBImC0ooAUyLB9ZAeo11/qgKMngrj/da/LVRGT9tqzHNhw1LGIornqKn/t\n",
       "P7c2SSc6pNQMPEptYlqiaNE9GZjMTqAFM70X2xTKoUuCO+p/fiqrXauMSFfuHGR4nGzlOBN4fOoh\n",
       "ZdPUBZMxcLH3FLAlWxJMu4TY19TVO4fSadTCdKUisa2MjPXwLdVFQindV91bBrzWMMSi0BRfyINw\n",
       "wMf701UXV6HVYayySWTelMaly22yPyD6hUZT5a5VwVAJEEKUV25WykEsSB4XGWgseard5wpfF6IV\n",
       "UzXubxtFmcOEoM9MauUXmFZIJ31+8NSbz7dBLM4INUjXpecVv6AV6ZwIdEA4B1Wq3PYqgYRXZAv3\n",
       "xedz0FzGmp+LtdaoNRttJdYqMSEuG3ddl1DLoXiDhv+ifg25ky/5lFCPRhO0xuR/UDIx89G/al2y\n",
       "1Q+ULUjE6kbIxHwwfEpuj7LN52i8ReVgoNWBAAAHZEGb4EmoQWyZTAhv//6nhAAmo+Y88v71fpWj\n",
       "LmBH2Sn4RlKGABEGfofv9MvqLuEGvkoVPmxOmanhp/m/znz0t9J0RwACYYmfGlHr5JqiFMUjCUcF\n",
       "l0vV0Wu93QDrjtCSKLfwv4ztjrCI2n6yZxuvuHlBCEVpoJxU8VDJ+7TOuuYpGNCO4uWh7J5e708o\n",
       "fEbq0otCstBIaaieOseWJeLcgjo66wKRt3eEErsRdeMfwQxTkUQ4rtUqFukhy9xBcZGwMy3eKB8c\n",
       "VaZsxh1U3yWIxLA5v+b0bxor9zveYes002gxOlpK1wenP6H5sm8iXtwEr7pxsXNWKCK3YDChYSLi\n",
       "kUr0sGlkYYwGcv/3ThTOVcsuQ0iz0csjM9vkH5ocDP1iLpvijJvp5SjBomXQLxTdoOBJTfVdVD7+\n",
       "Thw/BtE2Hjx/5Ym+GrXOsTTFoxTIc/i/fPp3R8DM2MOFDW5Bln90uNuJwc3etnaVS/3Nea+V6D8M\n",
       "xBPyM1TwMrrLhn1aRwVhAgHiNhsllDMFWBa0MNp5QVkyVLSSS410QY7fY+jqnHqNVOi6PWCS9ZWM\n",
       "elkM6Y8BrKqePJWZ8BIqIf2E5BMySZBCFPobbL606LwLlQP0vm3mhsRx7NuMprmeT/Xp3/CyK3zF\n",
       "N+sXWEYWQqixTZesHFGktoa0VrpmioJL++4HunprkeVQA2i1f//Xqom8GG09NpC8aLfsBV6QUzhJ\n",
       "ulGEvzYaMV4/ztRhcOmU8yjaE/rwREbGgebpi1sxG+ASvmKodbNALs7olCU17rY0E1YmfcnkLtFH\n",
       "A9Zlm8wfG7zWBBNtTunNM9zYMdgVEzB4CWNEyabpdhMipSy4gkYlUaqh7x0GS7aqM5GQTl2WpxqN\n",
       "/0E5SW3ERXJvePClN3MQBPUz0Y1Pnr1R/M5484VAN250ga1NpjrtG1AXbvdU7N5pXJ0IKSpH4UFl\n",
       "SVy9SAPHP6BuYte5kIpPckwWzgACOR/21YLcQgoKNdTroBFsIg0P/q/1amjmcs9Xwv2FlWu9/E5O\n",
       "IYSIg74VYi6AAr3DyGOilT515bwDY27zXGhNpmvA+ibqEi4Tk/DHgj2YGclma/5OgdkzZ3/RdGEr\n",
       "4ROq2kMLq03JpGTAe8zodWxok5lNGzCIPmfiwm+jMr9uT/KaJZAZxd4QYdkultPDpJln+XPgvAss\n",
       "ZuBm8l9jtdcIxQgrDxYVp0/8WBrP5dMI1uNkFBKeO+1+bahV5vej4leXQvqTZ1hm1NY8//95na9v\n",
       "4AcqbEApbbLT0st4Yq2muCPZduSDsi4n4NGzv9wSAcDv4K1VdwkJeM/JuRgiuAu9fY+eZKus+W+w\n",
       "anIqAsXpMhwCI+BmkAEu3+hhm+7ncTgpBAwlBZxTlwXPl3a2gmyx3nzAgl4qvc1FRElLtocMpSO8\n",
       "e8Fnaa+HUBdq+tOduLsAl8tuLhgTNmwym/HL4RKVfeMV7XlbOL7WM+WjAztLGZLUSj+NcHTRCzoE\n",
       "Fkov78DkbzcgIb9+BibEFz48ignGSdRl5pQNUItwnqRZk7mMTvszfycE8T1j9FBRtZk5uIQBzKui\n",
       "9A5B3BbRBhnVF756XwolH3qvXt7bkuv1RBOF3xupGrsuQWaGKdrF9sdnfAP7n7ZrhkJ/k+zTzCqu\n",
       "TM1WmNbLPtmsSAI29pzby/nSHJrsHsUfKTWFv0cJz6aK3Cl84xPWE+046A20tOSmfnEX870q6uag\n",
       "3o4MWspn6fWVRo9IpWZpedDXdPBucrElx8kmt0HyZwQwSyQH55I3r3yGwUqJoUAVCwMx8PDlHjTO\n",
       "mjjT9GFp8ZYTvW1H3KJXn3pehLJHevd0RS2Rrlgs7JQQww82lCl4Z+imCn6v4MDsT9dw6xdqxUiT\n",
       "q6DFpGin7Bl88V95T+ZXrT/eLqT8oR3/F2xTou5mEk99yiLteBfNR8wnY5dKytJI/z1seMZNHweX\n",
       "eerUWLWG6OIiVpRmieuwzMVb5Q7powGdqyZQY1e79u4gGDZ+gy4us7nBjvMdqB9mSfxYL+LUOn4M\n",
       "a3KVsmH5vChisyjM0AE1Kh0gHs00UibiD12NJZirKyWezYVviZkjeKL9/k75lrkX0IGGYhPADpno\n",
       "PUdArFcTA6+7ZYocpo1SONcbIlbQJm1rBjiFFSoqLmcdta+iudJRX4gbickOomegzC8ON7IhBaAa\n",
       "sBUfZezxnPLJjMXURSWt6q6hnR4OAK72SXOcZRzlr75IaGroMxCC+nAfohuDDXkw1Zvav4+bB0QY\n",
       "3qlKNnTgo5uoLp4xFt4ShvFnX5DAUTxSiizLmCJXP9wDJPn0f878lygOtsIoJsXpHWNY9E58aBeT\n",
       "1BJBQ7jIoIfRjzBqdufsbVYbyMNu4AzIcovfjh4jxb76mI3/EDMPdUud/T+yDVeVjw7O21zwUUfR\n",
       "GHhyXr7WJd1496I0ppK95Ojm5l9MkPET3i9xyEICTEtKsCL9BheSiKAWUWgEiik0zDVJOTUfYU4b\n",
       "zX+Y2PosIjJGwR2bVrikvbyESLqvw5Q/u6RYpKLfyp6NYfWdW3JhMLlpAAAGkUGeHkUVLCv/ABLd\n",
       "dzC0QuENk6/7l9tbIALUxenh5TbYSXXOTSQfwAYH/EUh6zxSoIS4Ij2Pn0MsOyYweSgGHUGeNI1F\n",
       "gWW+zkg0FNXKhvVGdJ/f5qAp621z4iWP2EjnP1dZl6hy+TaL0bJMbXqj40GwNBDnpoYcRVq1zFa1\n",
       "QlNs9TI6rsDd+aEpEd2Rx5F0uh78+kTInppDAGV9KfuMS17JLP8hiM0O/YVtsThCKq0L0SQA0Us2\n",
       "+C0sqqUsHZpyB0/w9KiMhjdBD+6tQO+uV+KV5lGCoGawOK0+xsIAddPqm+KEGPMDN1gwnP2BO/h6\n",
       "sYJFA8JyJEH52Wq2wHfIM67scc1ByHdOeUJqbjI0DCkIFuZNNnVVb3gcppRNbcb4sScVxYutVYTS\n",
       "TYg5p+zp9fmpRmBCVuNrTMPUX4jQjcS9VAuYOFffvjcZxeAP4DN5VZJGykeyW8zv+mbxYeAJWFh8\n",
       "mFx/c8JGH9bLqAQl4ujlXHbMi69HeeYc+6euOB6pf6X4fYdN+UrJeRchvEguFL1tlZ6gzMMSCGiU\n",
       "GX8IuEd6iShMulW2GzELigwyBiWOg/YgOOUUW6BKyOupIMjMiC9vsFTsO1kakC484VUW2TJJy63c\n",
       "vPviLlcOVF8kTr6B2O8K0taMtf3/DiZ5srRlF7Q5AFLDDEQi9f/2FLbfcrpQZzEpKmAU79Da3S8k\n",
       "besxQlyecaK7zbR/zrbkyHRpInGDY80o4AVuwQCoNOGXswQiyS2SduSokFDT35rAqsjZ12norwyH\n",
       "BgbjcVHFWIXYhnA60DoH7HM01P4sQYoVshJsiO3A2O48LC14wxmrhdkjp5MyH89tncp0YpRcYASr\n",
       "aS5yN/A8BrWf/H6o47Dhc0OweFFWWDO3CQJ4lJcs5ZZelvI9nIQ0VoFbnQzkIIrD9O7UcH8drg3O\n",
       "WE5CzdkLObCPAwFbg1xMWvZK/tbL1nBsH9fgTelJuiy7B17uTN72ixwAgwRygnXdvWj0lq385w/A\n",
       "5EOzMdVTGxSSQXsSeGaPwDqZ9xvTk10G+xeOkaCVuBADRfvdGricuG+hpZf3qwzpX+1uZVjxsDHt\n",
       "I1mFHvop6Y+mnWc3zvz5d9dqdehswucj1Z9u/v6HCG0D0WmZ4dN1qU9oNJVY9i7hTb8gMGW1Re0V\n",
       "u6iVNBlzdfCQIquv3Ev5wxZmxyYpPHNaBIPBZfjS3M7+C+SYDqLHVVt2jJBF0r//L2PnNHQ+s3xO\n",
       "cmDHf3MN4sq6ykKcSTBvkx7qXi8Ff31egG1iNKh8BBk1oc4fWJzJve7QoIXemglzQVchmMQ9IObi\n",
       "1o2uwcnlOQR9yn0OWXZdDTy+JORLKl9VeQqWtnfrl+3+FTzCk2y0hEurJfLW42OZpMIhcw3wPRix\n",
       "kK5VlIPHIapR9dVHEDM3xfx7kzIVjKseJ3J4+TH6T2QMgbd5lBZ6tgF81MiIh3iOaCaHLUTvjavB\n",
       "d/ojHSmX3BsE4zF5tjthZW807wvui2MOzudaj9bpKXhqUytyDrX85+qJIjxIk3I+h2tB/dNFQIMy\n",
       "x0O1Il8pcMCNDz5+WVR8UxpwM8c1Pq7HthbQcLLSZxZuRd6niU41RjKQ3Kb2srV0Sl1raSsOWi6W\n",
       "1GZnRG3Jtyd8/Gs1bncTB2Y5notT2tKCnGnY0DRnoZI92ozArKaC9beziNm3aEq+kTTmzOF3Fe6M\n",
       "ZPvLoi6Rc2O7m1E/KafLuM6f+Pp/7cTKBoRcfeAVqIXzBuvMDMeAlSzVGVtk7zqdjUg139p3pvSP\n",
       "14/NwIxfxHp9DRhiOIYLkSCnOVf4DclCwu6gT8zePp4VoqmtQSPR2sfj+07oslorT8w4tRorAGiN\n",
       "HW7bE4dDVq91yXp/5cDAYrkJWImmtdHtkwIdk0KvFM1BMCnqvCWmRIXmpv2paAQoGAoItHVi8J0k\n",
       "UeD0cFMGC7FQw03SBfyBbXrR008JMaj6czh/80LRAc3mNLMfS+ueee/04JHT/+hX9Ekp4mYevo/F\n",
       "5pwxgJH+lL9qpV0cdDNU9RiqVWoATXxS/Qf2vqvnriuCJ7AqiHdRWlqtnWTyqgf7LgXJ5P63CT3v\n",
       "lvuKn3sfd0ngMIQzS9zSCwSKGR3NTfF6hYfseOq0psr17yJaTohF38JVf7Yoa0PSc5GummU3i6Fa\n",
       "ibgdKdwO25PkedVrkT+mlnl4g4Y1mEcXzzoImyf3eDMqEQ7wB1ctPXCuE5631EclnY4TjuuS+cng\n",
       "pjBOWfjxd4RMxRMsSKoeatgAAAYzAZ49dEJ/AA4BOiCm6RQ9U+AKAAXyFc2j8ZQg5IfCnYXOQFck\n",
       "FX4LgCadsAD9ODnZFEretakZrsOUXp/yosutDLD9gYIbUtZf953j1w0Mh4WuLYJWnXTsErJFtotL\n",
       "HrCYMoqHd7w1p3GnsCpSEFEFmhHBxKzy8cvWP5DLQUlyXmhGS2IIMaSJOhMnm+Q3kvjKW5tap/Q8\n",
       "wf/L9IoJl/vPh6RjMJIowiyD0VBZmA/CsB8cAhcywDTQsUYzZ4cT9rTei+ritGttKBWEBX7/Lk1c\n",
       "q49TrFN2lkkcgszE9fP7O8L2DxOr6bw6JQ6ozVaf7lTCYQPIGLZu0MIC4Z8YIz/VANVl/HZahgrF\n",
       "xdtG/ifCMOs/j/xsJl2mgUYxoNb0UjScygCdp+g4tokIli64zeXu5hOGkpvMXeYWL2ympqIXaRf6\n",
       "2+BVnQgVnnIgE3kOuPpXan2KqD/q/EZO25+xr/ozMcDl42Cmz/3ybPeYxUbS6zlArgMwzUbUxbpB\n",
       "/L4Id8Hk3moWDYku37ruS3jAxX1ok3GBLz6pZ0rUT6TzEpMrokBdmy10nPnxdqhWJFWtvhvECP0t\n",
       "RuE+XBHLfx9AbV8uwP/t1tQq+FvAUj3cUOe607vKHjTkBzhwBU4vp6x7waJ7OzDB3PFvUlTmYALH\n",
       "aAuR8KBOJ8fTjWu1w+I8u8I4z5YhDv0bWw2Il9f4sN6+vBUeTNAbZcL14hvJ6hEbHrvtXQ3iyAKR\n",
       "oujcIol0dLfAYdmycmwl3vZLITTYfN3HaWZX4DmUq/LrNblZ4uwQ/mwymYYiqGHt3kP8Ez1/hGw2\n",
       "aUzKKEQUgwE+/5zmattLofKhG4Vb3UIPSwa1XRaQvctLbo4F6hfkACvaZ3S5lF5QRchq0S5PGFVO\n",
       "4AN8Vdo+iSZ+j2+EfGRD77epD8jnnsqYvHRSvPlFZ9HLRUISF8ujfHIZH4kvM1sIxFnCXqqjvw3z\n",
       "MAF3rARuby78BSVnfs+Ae9ozbd2POREdAci9Vei+Go0kYpCllQjg1pQ5yETHngYJ4Epr5Ca4x5Io\n",
       "bmDy3vgprjFBjS956yFDXi9oI6uYdvx3UQ6JxGXgSNf2j70HPF2U8u5PLOrTuFLBm1hbY22wSrXl\n",
       "oWuNfHKT+Dw5dSVxlx+s6/+D+bRnwT5kEbI3l2oIWBPMsPr+XYL4L4sUDe3Jba1lE7Wvw6AftnFU\n",
       "0LiqM0v2eqXLhsVMb2l+JSzD+SP35TExe+smCTlX0RiKnmCNpowmycJJoWQQ5amzXTDqnV9+pA7h\n",
       "dFn9oYNZkOvM9BjlcXzOaN8ere/tzBY3HdijZ5R+KTYhnlYKNKFnhzYqLVilhmf3U0a40vouqd58\n",
       "P/aMMPMghLTwS5xQspOS86jbuGnJ1dZuRmY15LVoQs2FpdrBu1PSF6TNYFHv3eT9fvV8CJbH05GD\n",
       "mfddxca6ViIY44hfsxGYJF0+SQn6GHWWpjFHk3cB6zKYlHKxxTXfkytgYeixPf9q+iF8AE+677Q6\n",
       "DvYlQ6jSyp97EHRUIjMhue626dk4hJwKB8r/FmSmzCXG1Sc5PDpC4gyvzSs1Csfm4IVZ1OhtX+YX\n",
       "l6nzKdA6eAsLcqKFr7g5WBTIgm/UVeOFCuPBWNgx0lSooShPxH1RsZIzwYEgVvFTFsaW3nx9KnfK\n",
       "4nwcVViO1zsC4IlXfDeKfOzqQ3hzh66DcLPpKcA58IZnes1HEMdB9022zpDpfDi7qhlD5Fez+AtG\n",
       "NMA8Zo+S5+wGImlcIJ9/4sJBD+89Jodl4liRTAaipKWH70OO0bznfIUfPWElSoPtlRzFIeTIUo01\n",
       "uA2F8+Q9FLK7ncP37w+79acZAHKuujb2uJ/vR8JxnEMpXBWVUXISQd62HPR4a9CERV6Mua2xcVX9\n",
       "OnlwjqBCAA3PPgSSaNO0X3NCABO75BTfrwGgwf3QbhG75jsQjv4/mig/1nOiQpzoolFeYSzafy9j\n",
       "W02BnxdkLpzfRfu21xvacsweQyjQs2wo4J6tVi+I4XHxkRHEfHMG9rk9QF3ngEeKfRdcpdtEFFwW\n",
       "omCj0Oc+RAK2fhHbnyvWqeAvu4M5tG27VWJstf8i3PL17bSkEaISjJbQEJ1oTxjEn2s2CuhugQt7\n",
       "lrTe1p6yNUuZeAb0AAAE3gGeP2pCfwAYgTJN/NH6UMNgQATt5b9YDENV9MjCPbI9cHJLHSwyC1TJ\n",
       "ItUI1uVo1v01jMWGAMPqjx2t4OZp64fD4QYeahRyvrYZwd5Z25cyCgzTxFtN1Y6P661JZYZ+qpkN\n",
       "32aNLw9/mjU2/KcDbU5SMgWYAdN2vB8Kh3DqUQN45LKizs4bAgWjtiLcMi8J9B/hDgbokCRa8ObZ\n",
       "DJMu9BeULi32FaRx1Q+7D95PgSktmiLI/F1agEadN1BRxRVX/lchhv/5DwF/xloyCD6uVRH5bPq7\n",
       "Dr4XK3Wr3RFOExMCWOWdD54DrYDC1iZ2dgGVwzwopT7EuNPVx6DD1IAvbzVVVmAXqmebISy9769k\n",
       "6cNFWHpCGMxJH/JqbrWREw/ZFLnlC8cYj5f9IzGYEKr1Ed8rAsg2glSJa8TYaxr6FUuaH79GLXAL\n",
       "quS242Mop4pzceRgvuFSTWl1pc/WODIG8waX7/xtS2gYMamP5PHgnlWQrzNBhkWtSrjoOwhWSTBQ\n",
       "81cqhQLCRl932cHSdsoSykSlLtdHxZJrp/RCG0+VBR9TFNMm6CkGEuWQ2CzkygYwUFuyB4gKqwKp\n",
       "UHqZXWE2zK+2cm3fhGqALU5jWbdR36vq/lWY+1Y1fDEQefuw+CkCrf0jYEuQGiMPcCm9gqagz2FJ\n",
       "jFZzv74IeA29vnM0lArBPZn2Fb4Pz5LLYa27ZeBuMZquzdnN0UNKmX1PI4PxZrGm0P2kGZ4jDvba\n",
       "HUqBB+JEA3RcNrDbW2SmDPfU+pjigyfpcm/8kJ0NoA44IJo9+E51gb03N2/N1AqqU8/bf4BWBYcZ\n",
       "cHztUYEV76soF6tlCgMApP57uRivmXIT5krlsJfTt3grz7XOJ8lq0H4491AYK/jOuacn13Tbx0hq\n",
       "VV5n7ukLpb1OXcD/DdNdDZELB/ZnwF97vv/T673K+k83FzTyrNp7nGnLtPpM0qnVQwvFr7rcjmrA\n",
       "YtzYNWz/ftIF8EXcM6QNMvPjfj7trYnxPmygWTkQ/Q8PuKG4qZmHjJAJkW13pjk6ThR1XzAIx4II\n",
       "7jlbTbyjsc9T88nNR/f4r2iANfiamtev65/ypVvb4QDHar8PX9AzQmxKZKqaopy1GqMo/v8ixDQz\n",
       "QC/jpgbZSw5w787n6ugb6urCtGq8EQ8M6DdtfICtF9wSjuJI+OBScHpLg6ghWvZ/fSnnfguZgM6Y\n",
       "4hlbXP111DZkTFTrtB5eEk+hU/9ScBmIBw7YTfDrfk3cQU2IXXffTRwuHop3ofUH8Bg9+OPWNhLr\n",
       "B11g8+oct1XwijREgTHsMquXlWzArvRb5ok/uBBscwbwX+7jUlIZneJgzETNc5H7R1sT3QOVHsTw\n",
       "2L4aA+MjuxuF9gMi+Vv55rtQx6CSCgE1r495bkGQEUcWyHfClvhBMTx3SiMWX1B8WqJENHa2fjeo\n",
       "XRuJaOCtr72K5HknR6zV4fzE+R6k5I6G6lcsyl15G25ybPD0xZ99DAL49a1UgoBcEFZRTky+9qop\n",
       "DYxr8ovIMv+uSAGoc3/UYgfHqWLV7nskjO0LHKdBUz/ylTU2iv6KVnWE8s5bI8heB/GIHi8UjlL2\n",
       "ySrS0U3pfRBLoQgdxAdKGvtPrgScqqopzxAYw9I0Wdmw7o8Ai+oWjWB6TJeIPiWSC9+DCFGx9vPw\n",
       "iELqkPFwGfEAAAZsQZokSahBbJlMCG///qeEACkb57h2CbxJuZUj/fqNOanitQdtwUDQwfoyjQu5\n",
       "XS1c7VmtP2T4MbvwXIVnsAAW6+uAvVYHyWVpmooiDFWSdqhbv6d+SHOoPEur8qhuIfNoptkzqOfZ\n",
       "sUK7cGrOp+Qnxss1PhXNp/VcpNwN5SgBr1DCGZZPYLPxeFwhOlHIpaLihR9uV04sJygwoLCZ47e7\n",
       "2w1T84gMaK4GXl+ffMuKEjEj2MkzsB+vaCXKiBvMCz3hV5efHndhO77wYGtAvGUJkIYBEQ4/at3d\n",
       "djn66yA5DNBnW7ljmAfvUST6ogF+H7MZvu8cPDANRIMr6aWjM4o83LW1y3SmwKzYADB4P/cgTQVK\n",
       "UK6uFQHgR/d7MqGtHuCx81tndU2PDvuEPGd/U+ct+H6DL03n+a2XhakcNEn8Bog2fWWxjQ559p2r\n",
       "TWqWW8EA2tDwRb9XcpRuZ9J2qogfbXMp2zPIpVpEUv/yPfBzwJ1Md4IltpFPm+NiD5GkX7+UcHM6\n",
       "FWB1nMcQm2EUexIS0DllzIYS9562mGV2VtodMTE2UhYh32quv6DqcPQSuRVu2WAmM9U5V8hM67qC\n",
       "meOqJn2IxQSUDLy0mc2halF+uRxucYDs1r2GRi0PY2y/G8qjrK1ICxwALpWSAHhtO783ERRcwm0r\n",
       "m0LQEClK1rJmK933M7LEyIYydzrzhdTZUCNqOOjNXUlF2urWdgmUjgdw/6EFh6PeSZVoO++v20l8\n",
       "JNwTzTRJMbwLR0049/U5GsY7eKcb3G8NLv35V7RBgH8GwOGmk91QlVtP8Vuf2MY7ek/P8Oxjj150\n",
       "ZP2+u9modSnxHUr5tRebXkcM1v/j8E2PpGHSOLFTcJDbeGau5AJF0P/4ifVkNdC8Pm7CikEDCXnl\n",
       "1ADeZusItZ2NQWNYDKKNi9YIky6pF5ARqlUKPl3f9rFkrYxvwChMX+sTmOTyIa+1geXK5COhhnL/\n",
       "hbj524IAZftw1L5TaVOwBhOcNW5W0kH3jVGf0qI2dPTZ9pRsk/L9exHE4RC5ItDb+jp4VgDt6G3g\n",
       "HnLMOU/bxU1KX0ijhxBhhU6GsBtCCVeQ4iWNvo6Ouc1xcTEXdbYxd+qDENfeYyeUPo0XzGwubXHw\n",
       "k/3Ru3BEaq04tkOHlrorY9HD+q+Mad2cSMpoWb5QJdF4Llw6f0V2wGAgiPLXfzK+m3jBmqU5JAfh\n",
       "BK7bmtVBrqnAZrJudoSSBKs6XqBkJoYKuMWgHgWvuo/oemVbJeCEbgGdz++M98Dxt76VF6UgjQZw\n",
       "rfz7B1XJH2eVDtqxW75N8PDqYMzWHum73zI5d3quFU6ESO2IHwCUYenlVjT2phgyZmYlOo6E6z04\n",
       "yoBsgqmRwK6YHzVxZLQ1LXe75zYI4qxAWzhj6CREF6X+x/h9INniI++biY1NsiFNZDJ60mI9zuVB\n",
       "lpOypyWOEqRef0ctbcGif6gAefihtmO1symNA/2dDjh/2QRkXnjAqF41b6nnZIBC7KQWcwiyD25R\n",
       "4DbIzwEFHAfO3XtMKCAbkc7CvW/fYtVTWYygJb1drTMSKn5Hp+KFHdrw65rZbF9xYHLrw4pIqhEx\n",
       "anhG9t4ypGEfQxEoJyS3b4TaNGYmUSOeSNxDzdCZFDJNQv4HWpnI6HmjojHjYmjquZ+mR7kujK2N\n",
       "KSrBJc5eU1vnNuXQ15qTJZydHsgCpxanSZGzX4/7Jfyf4YNZSPq1IbRfDAr8qWSmlCRqwSUU//hR\n",
       "mSEgiBwzuIRMFeKB+uLwpkuB2O46tDNXmwn7dv7OGD0F1vBBhFLofIaCdKV7Q0AKp8vNLbgKmOR3\n",
       "+Gn5RQkJkhX0cIspbErqdwgY5uFvRPEstomjbEKwp3tep2xlx90FZnp1rRjF7+TJlp11UND1CdFZ\n",
       "QdFL4tzVKAxd6Nbkly1ZNrzYWRWy9XbncaZ0FUcKERDA1fo8Lp7Tpb++gMzUK16WQp5OmGtNi+37\n",
       "1T39vOoYSNy8sIjdwG0Zyc0dTjYbcxuIyjYtmHrAGkwadUsOjQdfoxmhuxf7Ht7fSb0hao3NffVP\n",
       "dIHabkFM8pg0RN300y/BFyhJk/DCMgaLC/dgA24m5e02+Uk/QZ72yIyL+A3KovULL1wKfirbjcOP\n",
       "l82/V3vscNE4DbGUEHWb3tvOfLy17DGBgGkmbkDSG8/Ov5//8feVDsUR+Qr+qX6zEkDWSALjCrDY\n",
       "zf7zAAAEREGeQkUVLCv/AAjzxEALd8lPzeNf2E4OyDc6X5TxUhyf4oQO29fDDSUVZRHhMA+8r8NT\n",
       "ivB8ZZ7P0X3WTKY96wM8Nqjt9TLx5WK8hXe/M4L0M8e1OkQQj0xay1BBazVbzbnCPAEMeMzEuQyk\n",
       "Ot67Br1m0z7TCjv5AAxRL/KhCeAQuSWQNOzRGjJVIZYAFSma87YADkIXFb3v/ZDpnMJ7ocYj5C9f\n",
       "qLjvlWPS08ItlTe9EHPm4pNRtzQzIZPSrQIpWt+9QrIAClbVRgSH5PZIHYNmZO41M4JMcLdXOMJ3\n",
       "nh0xeFs/WgwOmJkMfnOlb6PgFeaYKZzVkMShhrUGcfxbtnBEnf3A/xW3RuE2pQ/MhXpmrCVIBXXV\n",
       "KXKp+qbrtbTczC62JF/VBxXh74T5oJOllECELPc4VFExZ1yles1JK8Vsihj0mP9xVaPbdSjHLcw+\n",
       "+Z6tb7i2Ojsao97jYlwFrFQeUT8BSJUGaRRPvDlsFlQynxx8Cc8mJBjtOC/3X9cqAg76mFIxmKbF\n",
       "5cNoIdnuKLSIDy0IlP39L2Sc4ATNkTL/6qL+1V8yw96oRQFy9wdF1+euS5aDEMrI+UnJghKO+Mbi\n",
       "r+RhHEpTCS70fRwMgjM6HkeDTFRp8eX2ghrnhKTryiTHsgBzcKjlvRp+Atsb0jZKHCG4+PcZzT4w\n",
       "pGVXEcx/IeSTKMVGLK7Kn+v13qnURGTeH0knHzuYrNAW/VemEBVbXqpT3OEeRuA17fQ0WpvSVUKG\n",
       "q/djfu68kdnxKaSYjPPen02DR5J94n/BPRFaRFY/BugwIXt/6iPp7FgGfuEy3BLZebLSLNWnH5Ad\n",
       "6juEyVhY/dG7ZGvsw/aSTlOkbqV0yq33ijv30ZaNMickpJpqVMqiuYUKn87dumFVV0JhWmEL5xPC\n",
       "sdcMa8np4Y+FmpQBo1cj2vmLTtivv0ohBD4sukklgifxuOHaYa9yPHMtlXnK+vXkQE6EU2Kj6nWe\n",
       "kx8vn+eo4bhyJADMXM6SextzxgZrAFfFWPMIS9DGMhpz0YHkSu0Vev1fLDwgGDN9/C2rEO5uNoUa\n",
       "k9tRmJLrp0RGfaseMa2MV2h+3a3eUoDcUpE+QpQbIqZoyuvwce5mV+ldBeh9JXke1BnhyVJM5Fgu\n",
       "BO9PLZsP0RJ2EZuiyUAJqlsD/dXe9fNoo21Ca/giIGiVMgYhbBoaRFnfyHm0/HjYMTXCTsu3T+7q\n",
       "fWw+sjm7wGAF411IRiQQNlPZb650wQIp+ifrnia+w7rnb7HbeSUD0rCHdUQedHjzXiWiXBJpRKGB\n",
       "njorrZ6O8lo38WLL0O33D58LKZeTfIp6IXrFkBLVYLD45qEanHAnXIyrAHnJvtbwyISwiFYI0eEN\n",
       "FHEuOJ/vJyggzuc157dCcP5dOo8uNhHMJ7xEbrqXm3uLEUs/CXMxRn7TB6RPCSPR5yPeaQj61bGa\n",
       "AR0JFtpmtV06HToJxugEXQAABDgBnmF0Qn8ADgE6IKWm9AgZLgZmtQAugrfrJjvSKFPL0CECnFor\n",
       "PvWEbcI9krxDmWN4RHXAG9QOY96GivQ1w1zBwaery1NYtDzh+0UomxlfW4+74axQxRl+feIozRwd\n",
       "//BO+ZALnZF38szN2etR+L2haFoIgq+tAKHPmigwjYSKYaXldUZFpV234qqPhx44SsXUAq/Egg30\n",
       "2SYzoGgc8t0U+nLTK3fnoQJ+Lj7eAIPmxwuQbSa7Z4agmm/tOtBXm+sPvRg8oOSC0rk4Ek0F6vQX\n",
       "csIx/3Lb7LjISFuRiyhTp9/x5wfulsfhe4O5WUrg6qxrqbBdc3Dg39lWNwYJsp2JrRRFU67vp2Q7\n",
       "x/fLsEz7meCgASH/tHVmvssZ9fkTQyN/Zhha9deWKBVi4IHA+ALMFXutr4x8nBjJY5o++ccx/kQs\n",
       "pHIZ+ps5BbxtDinnK6n+fVCJZIsgYK99WSJOjQH7Ll4ugViS+ny6vFcx61Xx7jOOYm1KL+ywG6l8\n",
       "iGNqvEzHZJo1eoET+4pq2pB5IImnGPozpiY0NUS1BkexcgPlu9Y3jLKkqIjAmncQMWHtsFUdIPJ0\n",
       "pvII1A+/sgvGVclrOJER4bVxNDUv784Ty4KTwszZ8bJ/XlPKI74WuAzGRVu5E2qPAJ1HE/05y9cU\n",
       "ngwIwnj9RbhqY8Uzmz0wZN2ImCcBGcjDpOiVlp8yZ+ahOrKZycNZQJr5In6CrsM3iuUHrw23iiZ/\n",
       "wzZVR9zM5GsqxHymazviSB3BnIqZqRYclV1ACnlaj4DAt/u2w5DIxiE72tny4ayf4JrkATyrCqUJ\n",
       "vSX+wG6srWGeAj6YZze5VnFAizjULENU0guWaX09+fMo5aLkXoklzibd+bTexwBdzz8vlEESuKk4\n",
       "+TsYQHvccKM/WoIL8uysHfROu3JGxsn5Td8GlgyXlNT+SbxsCrCPRYW0WRX7jrnarRNqu0+B9PNo\n",
       "MgHT9PYg8X9XCFfrE7KG9m/zvXI4iOzS6GPMdV6XWPGfeVB4Mc9k5F1F8dPqNUJfnNtiI1HbrwVu\n",
       "pzcsN+gO+WzZOFjYrsQSuGw43399mMNSFIIXGQHCM7QC8x71VU2KbYRj40847dqeAeI288WF9THF\n",
       "wyh4ZdzTaqZg+5V8THUK05YUXdRSXBrBrAPqWL9yhdlZIGSUahsBiw77H90pnl17Idc2g+lvWHMI\n",
       "mmZt/MvkcgPxAareC4r36k4RCo0tvCI0ece3jVk6fsJzTDGukYk846v+eUbKluTQ7R5kNDiX8W5T\n",
       "Ky1qPVvD1+uLiENaEC4a0re3EJ5eEiaCaXVHUfEyBgkzUUvYAi51OSHewqp09Z2iz3xGpz8QfYiM\n",
       "C/b+Eu7sViktjFFL4HkHQzIzyOuGV7aJNlZUrNczMAcBcyUg/cN36pCglRZvNH1ZAwBrgonmmDcE\n",
       "wfHdjXWPeGo3jJGISPCAJeAAAAVeAZ5jakJ/AA4BOiClohpFIWVYDhDI0Hw84ta3Y3PgLI5z+XAt\n",
       "yNYCiM7cWYEbuLhVda0fNVCvxJ2yrUCH2+ABT+b9BWV6EOLr1nbb3uNjZrnKDEZqGsFbTuxhknB2\n",
       "ZD9nPStt91p5oQFjpqrgZpcJKj7Hehlnd+gKu2kKK3g+t3OvjizA6VmBeql99miJXW8f0vR3IuKm\n",
       "MFstu3GYx8mPbY7Zfg/+2fRTt5XVSMXx/yaymhJy4BQdbbK51uNJ/3s7cD0pWXJPD8PoQOQ0v/4b\n",
       "4KaMomEeexTqskEgd5Ci+BxO9xsJ514pKQZnkNxrTpb0RswIPjoBKVITgZbEQOZqSPucrousO2/4\n",
       "bkvEZG1NJNuQVgcdOiwAHutsSHTyK1mplBIWEBUQdBZIOK61VOG1kzN2CVfAdEDcgvx7qf94XJfO\n",
       "D5Jawo43omu3fEG5oOj5QAtB8A/Ym5jkWHNx+mIdSVldEgfq+x8Wpxl+03nsJT/WAH0Po0+Dg8Mr\n",
       "CyOfGbVW7n97N++2cWFKjZP0rGnfdUcY8gL0OBFZ0BVuFNmLLASutcEBJ8KlrihakdvN5KwPAxcw\n",
       "TDw7vbYOw5eV/O61sXwpR1IG4cK7LAgqi0PB2CXvSzzNUSqaTweUTKapT1e++Ye3i9rgRGjdeEJK\n",
       "NfhTsHgYJz2wST1mQcj1OJI/oFXXCwy5HFQZ7Rxs7Q9Ol/+D8vGx0+Y//Dx6SzdEk1sFq3PMMS0B\n",
       "Bh/XxqI7hHw5k6RC6GvIgMu8HhBRHVssiLiKp58EvjCO2dId/gHG6HY3GBFVgU6bwpUd9Rr6rx67\n",
       "CzbqnYofdN7hoYqN3znFjTdoDt+hsydNG43b5a26Qn6GhATuzMVq3CmN3WCPXh4dIirMtxiaiV7L\n",
       "FKcm0JajeHIz/0wFmq36kfwI/YWC7eMmaKfpW2vqaw3Q5Pwid8crb/IsNTBWn5AGS32wCxwB9ZpJ\n",
       "OiRxIUSiWAmyoF7iJkLqeohP4alDxuoNz+CNVYILC5r3q1wjvYaaW+dS41Ejk91Yq3yoMur/kU6+\n",
       "LB9k01+UB4CukPbw8VVI8T+TBkA93fm1TxyT5YuyovRrOs6qTeMUVNS9fOjTenkYb7JLjESkrfMK\n",
       "v682C1Nqle2/xqYVugR1Q/DS+MqpEhJTmaZGjWfY0o0rT6R7FZvvQHZKlIj0UtQdFjcY8JwaaYkj\n",
       "zX4iOcS+JNc4uVCgP3gVt/8INmaJ8EuwrWBVpdMUHGhRMBtnvrmSqRbZmQtiI60GgkOqSJBRoHgT\n",
       "JSj84G5g90Bc91/Mt9ELNpsE9Erf4lFcmSRwt+FOJ+jyeUy4p6PjoTK/C2wv+7Puld78OGQ0XTdt\n",
       "AvRZoamwWOL/DrfaGg8MD2sD3XtNXohE2vXDYdKJ/kGdoBlsSjku2nIYrChO5JlblgBLsxFIt+RD\n",
       "g5f5Mgzdjpm0U6eLexxOyuvaHa85DhIwQoNvS76oiAAjpMXG8CSucWgYL2Wx+ICr/tq6xSxJtvgc\n",
       "7QFrkVPf/cTkX43PzuN5EOxw+M9hmTlivkNPhbB00qZcxCVIffZEpVw4RfRCtTbXobCbQeW4176J\n",
       "zZ0PNe4QTQrC97HYMVU/49lwSSdd5YSHME/dTRYLNMLz/W//iL2HQVpkuRbiESgLRVuh8oTIvotv\n",
       "ncYA5GtrkhLRa60hdh0cLX0l+uUZz3zTgtYnYUDrS9Bs3OBWSlwNVPZ22p/rRSOo7fwouFvIFki4\n",
       "hA9qSWCGZFSXRvjxp8cFu84Cc6GxsacVpk+5k0gmFSVqe3SBeh2np2SY2+6BME5PLogvcy5QKBu6\n",
       "F/cTEZZwErMxUV1yoYdamHFTY2LsCkMNsAl5AAAFlkGaaEmoQWyZTAhv//6nhAAXVD3rpJABL65K\n",
       "Wt7Oj+m7bfs/T4jg+nHv/LAisFo4m+Vo2+1+oFdyMG6DLq5TekLTbRt/iHh4lsVIAmfVLcXqbX59\n",
       "WThU3jzLThYKufQ8tMC6BvFqcUvVLaDlNKksMhhokgNWtYq2zlXVHbdP+siDaU+K3WpHR7am6/UF\n",
       "lCNoa1NeBYMNXSqWUvmliQL1lEuotRRjeAJoQecDF+2+4/jM7BIIu7uYk8xlEP3fiTT3no/0Y8gb\n",
       "yegSku4KFklvdHKQ3BK6XreQ6rZ0nBQiYX6wDCUHbMRAuEwcZdoI+Sk33kSC2RVuXf6OnQvnXChi\n",
       "4GC2pazGw+gSu6I9kYGPcriGIxqMupC0ljPMOy4Rx/ZNu0SOnQ1WiI5KoL0wdG2m8Nw/AegJmZNQ\n",
       "ZV6F5p/jXdTVCD8hbePLhhKbZkbYEg3EvCH/VSYZtw9d+hxdurQGBKX0qpXUbhrlYSnNO6r85w+2\n",
       "4R5AODZyiR8MHfVmlbtjhSDeUw4u/VO/YQUMSUPesmFtQbrVE+0n2IJjW3INTx4DV99UVpuKIxCE\n",
       "AKvp/STzJ1B4gcVu7g7Q2uLcYL6Ptf2+h8sP9MQOZjV7nG1V08O+pj4sAFuVyhKjbyy2XynbiZL0\n",
       "sUSCSfvZKc0s92LNeqPbV2EaxQ0nWAW3RIvCPSaPNfNvC8jqXGfkRXxLQ8QmlBi0ygSG/O7u/OZ0\n",
       "qysaca70k3aPNb6mkbunrg9FeLfoxYnvcY9lIcjQP2nJidYf4RJSViNoJ3IwXWi8+wKEdNZmX3rO\n",
       "ciCIiL4UUj11BrNi0evGhPnCAVxMlFzMDzaT/xVNinu9FUnud20OV2oJMdP4lGbl5L2rOkyhQCMd\n",
       "qTN9C4NTaj0Aia26YEkFDk9pbQ4LWZhBWQVxXh6s/ZRjYcD4BsAftorQHUCBshrK1qZX6Czm+u4c\n",
       "EFSdUTAiJ1lIbmrNlBbtPD4kOnA93gAbfx1jNHh08HnLeRBHUT9wth95jliCssZlpHQNc/iCxWJk\n",
       "w9pbBtYqwP3uoCBwsZNffQKIAuaOgkaJ1wTAm3XpzDlQLmZ17+viuDgFE9IVKeVV0EvQRDga9W+p\n",
       "gsVhlVbppibc3YjreBufr0Q8+nCoElnm5ofNGZkCa28srwObhUCj+TkOiIzQ96bhDViXEuAAiuin\n",
       "2MRuPp64sn2T77WCY+pD1bWSQ503j7wUzPjERLiNksikKhak4pEFYuMahTiC73Dg3zmdX+hFOAzQ\n",
       "jqkcu5Z6zZd16C6XXK4kg86Wp5EdkItGWpwzO55aD/EhcP74kq0VzO5joMD6Ftm8856BedIOuw/L\n",
       "C9Bj//sS5xqVVNZnlW4qPKDqBvVTKrNq/y22qn1XktJxZPdkZVxSl/x7fJEpKPHVJUotfYxlo4iZ\n",
       "elqprZ4hwDM/iE2aQ/U8L74z3ioPlkT0S5XnGE6HsWbHkv+nvHD/sX8/kxwwqKoXqjrx4o6NzA16\n",
       "r+PecRDFOozYb+i4bYWAgDmGl4wT9eQdG4R9OtKBqKfbNiw75wEeh7BFp9JJNpPXNWkTfle8qhQt\n",
       "BR+q386HS+kre/lEUM9DNOnPxdg9jeSxhgzN29gw68r1JwkdPgos7WoN4IKKgQPpVSMpwqVRiWCG\n",
       "Qb0WtRyirjcwhQWwxFeSfTVltvtej4vlfn965FLnhyLRYfxuw/79agDJLPVlMASX/khDegoo3xLq\n",
       "lOxk033XZKhWowD54w+GouJH0RQiCW1jOqQXgU7++DRQziai3PXNy/77uqdO9WSGLAJ6fIoMOpym\n",
       "SgsQso0p7XRdEZN3L7LpcMrAeud5F6H+2iR5bdgmhjAYJC+dNZVJxW8PYkABn5lxbG/H37x2eYVS\n",
       "vQUMaW5o2HkX6Spx5oKRhSikqJ/6uFnUQRyTXc7mSwAtAJOBAAAEA0GehkUVLCv/ABLdXHUIJgth\n",
       "LaU7TAt2xZg7K8jMOeC+jeKbaepZkTApnceD/7gH5EMPz9ZXkbwdPtxzfOTzYkUw1N05BUqcg40c\n",
       "Zpf4YujoBx0jF5gXi9jedqtRqavbsxpKeTANMutXJIZZhEHuh+0UlJRPu0e5uv3qWAWywHwRQhhx\n",
       "gokoA6dxccLuRb8kMQaYZXh1NTbdVglx62t4n2fp/9NJ90JH8Gw9akeiLkKYq9GBIROCrOCaW8hg\n",
       "CrjFueZr2HRfh5mu9T6RFwF6Y7hGtaC8WoLCqhjVzJ4h9ih/yzKoY9kMlPbpN/gqFjs5yczgPJ/t\n",
       "PuqYrxmVVczN7ktFjoqCl+lCqpKIRObPxp7zVDSmzXzHCZVx5396Ml9Fyw9CiaB/EEouIXCG3s6W\n",
       "pYPaPPRPSvSGtsK9wm+D8lMYKIXi9JDiU9TJNsAUVg57w25vH6A2Qg0I5X0PvM6lxGgTdBvPEABr\n",
       "JMfQdNY0G/egJt07LdaPrEy1P4/3lQGwN0i0CiFiSh0YvuLpVgWATJ9fzMYySZSZS2cddMd0zpfh\n",
       "/s7dr0C6oDLrafgU1yRCz5lqYs3kNRfea01Tbc7egG0sO4CMXmVNNI1t/H8Nb5sGwb8qMhT33kkn\n",
       "Qd5xp4zL/6ejbSuSc08PW0jJBnwKSwDabfs2iTq5KCOtLlGInUsHodaSXYRtaiW+6YREjirgozFN\n",
       "YXqOhOSYWY7471pHE4Zt9UhXn4F0XUKRmE2tH4sO6BKz85wCtbaWsuQBaDiRdRxi4wUv84avtmBO\n",
       "+CXTy6l4eVUepjmI9yQ5Ct9bNNLoO5UIiQqRtfGcPJYF3gjfjfhcr7LREVB378RZNqLiYsIGcLYQ\n",
       "inIcy6O3R6YADj1zA7Xv1woL9oueLVoDrwymB04tr+k2NhavjaBjUEbmFr7busMBa8KiuKWJbyYE\n",
       "/ZGi/SvjlyCHu0i3PstKAEUGW7QZZmft8c9jFKnsQ0doH7OCe1zoGO4gDknGxVd9rJwmVV9ciRzL\n",
       "jLXd7c8bl1dNhTvRQqOpyPiPT8NAAg7HAJbRCipWnuZTxUzN2/3Xe4beJx/GYSah18jqIC/wd4jT\n",
       "njgjvrSNecE7mxtEsJzRPi6CNFXXDpJaS3V8dADqFl8Wcek0+RYbfGxhupt125bD0vWSm/dgs45M\n",
       "2OwUKOXFMwsBWmt+DcLNgpu43wEDG+I27LxHKe4L/zklW2uvyLbKRztg/YFjnPkcr+4I0GRBrFvv\n",
       "+qN3JgZ6uqKXsnhGqtEuLGCZ7t8tcmEwUb35hUWBndYT49kF+pjpj/MPgth13wr8vc9nx7G6kSq+\n",
       "r9Zp24WAK2C8FqUnPS02pXC0cXAogZe0flYzLW4aGsR3V5Tk6H/uMuEAAAQjAZ6ldEJ/ABfpfjt6\n",
       "WN3wXHweNROffX9wx9AAqTy36vspRxrVaM1rZYVUS/9g+iOU/msr+L3BYyBh32Rdh59hYrjvlrfo\n",
       "dU/mnNUXGKaFO8+3taq5K4kYOqjnVF3gbZgB0ARbDa8zKyblZxS6uRLmj906fsnq7wncIf6ELxrO\n",
       "gVseiyOhs4fW6Dy3bzpry7P0sSbLJBtLmJjP8VHzR31WiadUzl1lW9qwM6ae4VNTJDUU9NsoYQ7V\n",
       "s7anojv1cDZYnXmMvKBKgt870ZWwSeJYOjSX/Etd+SEDdSdRh5bo5Bu1G3gRcmJQgg7xWQCzotiB\n",
       "t05yFjc7rzys/8O+9m5QBrgofQn1oZnPnky1bM0k8oDtkSEviUh7t0g49xy7ya8jrf1AX9h/dcTK\n",
       "87enncUANj/XFRrvZkMqdYPXEOxK9v2DHVl8ycgPS/LfG+kDBG/awF+080UEmxptDnW1u2zdv4pF\n",
       "ZsspmUIGgBNZFGayKSUDS3lBPz0LBLRnl+s3nskZPR2+t6mvhd5s7LZNjiW07n8HtES0swYuH8gk\n",
       "GDEf1LaW/IJyh16x7hZja35h9TBPvDIsWGy1JhXI164nxKvAWUVsjf/l+G7lCuy6hX7lKFZre1WR\n",
       "4gmye6YXVBOlflQm/zFf3buyFcEGgCZ/03iSK20+QW+d1uPnSrQyzK2G/sl2A+1nXtHB4kWkJh+Z\n",
       "PHa5Hkd/IFS2KOjs3M4VunaMhfFuc4htlQ7qX2f7zjrubS6IIpsWoAzIajZifL0n3zCwwlu0/nnq\n",
       "nHROH51XMjo3/ygXgxkVxCF2geEC1NJjvvxS7vr8OyzgCxHnIq8cSMc+Ls6+OHUXgjU9+Q5umKlJ\n",
       "atIKIctJ/XzVespPAbfe7rF3RTiLHh/ALYkURqWTyNnEQH/loZOakedoYXPq/aKgmywyEjp2GrCN\n",
       "3P6CyIG0alNzc5+sHp/uccFnzzmED7GQTWE982VLiLhV8ZSwKYvFgGFg5zR/EwA7qsMiMWc2dB+j\n",
       "q8/n+OcLpgBY0zcfv3s7YtOvfEIvUTRCKem+E084F+qHExGJkqSr6aXxNFQKWUsIcAJWOXDDCsEm\n",
       "yV/gthnAZK/KCwWaqC1NY2OMAobx19Zs9n4Rp1Azos+9jJJWHPtW84/FBYce7pkwQfANeh/NAq/Z\n",
       "hruqo31Uint3LNLi9VgLaz2tUVfaNLK7wpUXlejkrgKEKIp6AlJQhyKk+ibNIFZQDk5P8BRnpi+y\n",
       "ba2SAok1lToBuweNHB9NUViC1d1V4m6p/46s8i6LY7xVXmSjQefleSmpshBo+KzdqMNQbBUpkBEu\n",
       "vJabxdMlE3Hjo/LRx/+Bw5qhlfygsCepha5QqTZQ/Iod32KyP3IzgHkU092Je4Mr6NKe904CHk5s\n",
       "/9YTosivy181Hio+m6gpbXo4wLaBAAAD1QGep2pCfwAYh1OJDxNhqgAaJrEUPU+BohqaG75Pd5iJ\n",
       "HVvhBGsYmVSo+YWF0Qzq672N1YukJQbrMn471nkIvx3Al4Yw8yoAvxetFMtAPBR1MsyoEG7ZoTho\n",
       "Udd5s63Fwzha1JlgDpHWKvjBoy6W42cUVlENq6CZ3O52xMeFMKsqSOritX6CJhiyWaUhvTPO89+x\n",
       "LqrsmFlCcCdTb4K/p35ja6kdPv0OueBuUj5ubFfUKvv6De01jAgsc/K8hgySoZTChB+C0IuChTi2\n",
       "1e9mjPZrKB++k/JWX5p5KD2rxdsSFWh3HBFB0ELR86IT1Tg9D0Qs/NbkvmfWLMHEvXocLKJuHvgV\n",
       "wbtXTfvS5dekqASq+wfvDqETRA/AWyR8FjvSFl5zJsBzhEde6G5PX7vamTMRYGlL2r6q5ik3DZL9\n",
       "7j1TTM2rhhc+WpICNdPQWvCsR3z5AbcXzn6pMc/LWKYzoWt4hF+8AQo0CtVsrq9j4TeKXT0e2xPs\n",
       "ZC2hJ79RlPfPkwqPfqwVAS2eGeNFRnPQVfLNWz3guscijwDODjMTiqU/xYyZgdI2i2DatqV1dZB1\n",
       "vjhKa4W0n5rbpCtHxrGlRZU4FAhY6qDqyfu+0zWBcOOQddSj59KE2/G7YIkzgcBSO4dUEhM6r2Ez\n",
       "B99TapmJjIlCxh5VsEJB9cDpw3s/wuHlJGrvyip7E0DD/WyvYRwWWhTYsc/8N710Wq9uvNc2zsUU\n",
       "oOh8pwj8yq0s/S602IKuWkKRo93deEoyaHlrcmqsxvgpo6XGbkgrD/3qyhMU5xQcKSgQPn4GkX0Y\n",
       "lgPrjygJlMLul0FJXpn9HJfzK7z30n5EZcFW2qtT2L9pYP8Z0vFHbpgtrOSyJc6cnzbvxuy8XHZF\n",
       "IW3UO8qOMtie+nAcbBPzlXRP0ZL86dIY+7hFCupDGVU1Ef0psNHVmXFMZiqPJsmdZWQ8NxV3F27+\n",
       "Qgpwzm4zEQd87fnDjr3eKoDqFSz81gN7Z/A4Df4fbC0zlOt4deG04Em/IEv/uwF4BOnNpWFUkSBF\n",
       "S7WmPP2yxW2v/QQJf2EyhWva3Sz4KoOd4b7s2Hb9G8F1C9ra+MnqaMnXiCG93J2ixEW3ypCRYRm+\n",
       "/9SNaTIZq9TPmaFwS4C/JwVOgcxFMWzIbdhIUB4M5vC0ryUazdR3j7vLTgzFV01ULbEc85v9jBdp\n",
       "0/CKM9PubOeJprNgtJkrdAIio73WJvWj+KAYVoqfJEAdasIU/eZ7ZAU78prNgrq2giYda8ZTDPZx\n",
       "feU7hP6GB+BQHusgMMQSPDZPbDFCckFG80aq9cYjxG+Qic8jggAABXtBmqxJqEFsmUwIb//+p4QA\n",
       "KfitIPjvak9y043HZABJ15PvoqkiHKZJMSw1ewL52vEuE3+Bt9H3wKklCtS9lrWiO39DaT8pMu2J\n",
       "VJtoqsYoS5KerFMIVtzts7LJT7G6nN+rhYALC+viCm9JKeKWxTw5VrsHlvt2CjUuQsdxsqvyc3GK\n",
       "RTfLg2NcXRu0qEjjfGTIIDmwE/QmhjKCouXVk/+T1VX7SO2NZ9PF6DqnTQWPSCZ7xnDuQYEIvSoJ\n",
       "sibc0bWd+XL7gyX/5GsLKATMdgAGsSkhRM2VyfXL1n4CT49AAIeGAg5HicAAffCoK71Rwxhb9T7s\n",
       "hvyYkkzg0lGbgf/AXRE4eq0OUMeAsrWZEfo8BCtTE4k+UzBqfwm6uu/dGZ1gHRnVFUN/2uNBVehW\n",
       "QXAu/CJK5257zMjjPd12ZkSYRv8ZuxovLRuUrPnlkvxBUusr45G0aOjJzVOavPJc+/p0+42t8a7M\n",
       "Uc6/yJk63FvwU8ulOtB6Tdbh1/MJiIxUB95adxgryA8cZx4UomeAdsx0GpIrFMi7Fw8kHQFvXU/J\n",
       "5WYz5fcS42Q2/UtFmbGYus0Drbjd+H2GIZfmY1t8b/bPzeKVef66f/cLBb/O4c6vUFL7O3xdbDhe\n",
       "IDJ0O7B6I/eBmjsBx9hQ6jGTgGbzuNgNGU+zMG/yuUvXhNa5saxyYCT2HeIK1l+iBwBZORkWMfhv\n",
       "Jt2Q17WZhAgvaInmaZ1MrYJxjhpqf22KfyW1ZfFfgePyShvuIHkj7ZBwNycFPDrp0GbA0/BrNBBK\n",
       "KDW2lukBcSx9CLmIwoJVaTEuDhmeVu/D79WeOaRvjTCbbGaiox1Xy5C38OPyXOFbBQFw8ZQT9T/M\n",
       "GI++nngNsPv8v5QU1Wop14qaxZuBIy04pHqozER6iC2OgIq2Est8Oc9AH/Q1BCqNA4TtG6wXt/Hs\n",
       "efaqFPJPwjOVamR25YdyN9V3XCgqHO8ZYFhxUbOolYhpGy4rQeSLnVKESe9beos5ci+hQufmGQwV\n",
       "tORsmFHiA9BnuuVd1u/iRv7bcIJ2BHH0J/3ANwStpTIxrxOXxa21AfKH0wdKGea6ivsDiYGtoWE8\n",
       "fOmYVaMWo8sGp3vIke0cH03QK+osDu6dApvuFP2J8tlu/yvQtWROhFmtKIJU2WxxFW24VgLH1/yW\n",
       "bGp1oR2rfzDLKQINK9LBQ8NLcar3/a/3HhJDCDDvpPKRlsL78Clo1gmkBmGjPbkHTH71KUAm32oI\n",
       "OoCkaIQ81eEI+vSNRbOJEWM0nVVShKvh2V25sl+LtYKaBQJxmql4UixjzPk0SIfASyZKpQ+63Ik6\n",
       "jiMOkkQsEEOhjj6sGClEaWpc/3LYcLEvAaUaAkogT0kvkP3+SxCJJOgbM0gq7PjsolPSKocKuCn8\n",
       "ox27+8YswXifR4ujnlU5cv0m6+fS3ctT3dpJm9wmgzR2VhyUYIbnqPwXODrI2NpbSu4JxLyUqxzC\n",
       "h6teVdDOTc3N5aWP6JcAMvZO+w3rd8Vx7uTLBK0aWvD1CnnQvTT2THVJCCcO2V5BfMupFQWvbQh5\n",
       "OXhqzqhKFbsyN9TPO4aLcDwqPzQkI/IdImZo21TILjrc0Y6cyGB8hJE1fEBPQWevsMCXROfJi563\n",
       "m3yerU/vgS8kgmSyyWt0e+gAVx54zz4riGDX5f9AIwbQNR014vjxXoSsIchOxepeAlPr8VBzFSYX\n",
       "o8rv0YmXO15Yg516lwuIQ7Bpq9PTTqSsbwTgOn0RVb5sJVbs45vM20OFmkh+KXJmMr5A/3GWesLm\n",
       "NmG5sjWE3w1Q5JFuo+aPVsc5N/YXRz4UQ5xfQdy3CmzUlzZIy14/ZsG06YsWZjYJBTj0jWaExrFk\n",
       "04o6jQqfkOdqLZbzMAElHQMZUAAABGBBnspFFSwr/wASqTm03KzZ/YAGjYvSWpRmE5gdtOl0aWnb\n",
       "JoKiszNq6vtaoGwxUuihE/+45Fkzp5GaOPpCtnUFMN5VGm0ouG/cYF3ycPn609o86CRAvLWIt5P6\n",
       "86fv5gUXcRIzHBoSNpWracbZolaLdMDB3JpLXb0HOkCiv/5oO52+eoMJg1oEYhBHI0ltJuKLadMu\n",
       "uGntaCDvo/PQcajp4t5CaUBpZwDkDTphtT26a4vhLjpYJEcKkwhkXGoAnpna/QtE/rROOFBLncOp\n",
       "1D4sHJFeN5fbrSCvd1jZAIgUc90BpnzFwi5yOqokqrBSplYS5p5VTurVMIqeGcgaxQaUVh7GKyqJ\n",
       "rggwG2vVMgt/Yd0KiVfFqW3Wlm/KLMhfwQGFv0OIO8GZ3wiVux/82PrIjdjakn2gIDWigdpPt2jn\n",
       "a/YLFOnDM8DM5o8+dxRzwHKr4rDjen+/e+8RHrz6xamq0lLMDBC+agudxJdJS8WFuOeJ1bb8jN20\n",
       "5m5WDBsnOMXipiGByFtJFvF+rIkFMBTisFxmpWirZL35BhSvGBog0LPDb+ANoLJ3BwTHTPSs36A2\n",
       "9vuvsPyJTC+ErEFHm7ylyWIZ+Va15riMZ5z7Q0nTHSq/QAJlWxRIR9b/NwJ5+ouPJlN646dtUzoA\n",
       "fDsY9wBbIElNGUukiCQGYABv5HUxIzA2+uw+GiPg9M3bl2a722YfCFK5MACWdW3H9/UAzLZdPPux\n",
       "6ishOrw9uKMr7cVpxZt3x5TuLm8NJLBpNglkH71mqePPHI8tFLJegUbI+r41ya9f4FDnNbqWFzM4\n",
       "zg6nKMshHpr9r1rwczlxqJMHuJbVnX/To2YJw9pC2Cj34A55wNvCEa4pnTSPzdelYq4pO1JH6xnR\n",
       "uICnDn4xChyMZuu0aTaBOwc1xYuNouOsxZJVvY4hWvaw3874jY4Dw9rX2YOy3l9wtFM+1ia0SxAT\n",
       "lIuot5JK9qMeAKwEddHwapddw0gebrt4RRI3JyL4YFA8N7wMqaqxVHlj9n+kGbs9DJNMa0XtWZOI\n",
       "DpmQtB0iWDo+6hSaf9zJyQ7YdUPS8YRk3wpuYS03lMNHjrNaHjGjMiwt4jbRU+v1pnGdtVtODUAV\n",
       "69QmCRUp+z9Elyn1E2dqAHpRsadVKzranA/ue0N1Ls29VKzr6LafCdtSAefN/47xG+WrXuAe8d26\n",
       "T9Hu7VnWWLbLpO8QX1+VpFvdCIs36niz+KpPf9XQBB2IwlCJnvmdubSx0Zo3yC3+fRvHeqbVjYN2\n",
       "LL1gJnbLmrV2tMNoQpV2PZ8otSnfSGYqcCLFSXZkVr7R3sEZFDbMDN3ELx0BoaA/JzNBEH84KC17\n",
       "gJ9AOSNMkuxlF+eaDPRXC6w0Fwlp8i33UadB3U0ymkH5vzILpakJJPj1E06yobxcGVBn4c+zbCOK\n",
       "6VhoSv4yegtXZXPaYwDQN87fNXeRuQ3bsDVLQ84CCVIxNopQGrQFKEE6Ydxga9HMoJ30gLC3FxCu\n",
       "VMFtAAAEFQGe6XRCfwAYdpTc2CWlAAHaGeBDtgWkWjzpNnBh6Ck0fKJ3U1cDsAvLZDTpk02uzWqH\n",
       "6TrnV3wjvDTONxsFbfvvO0foAlY2y6pYs1BBvr2fUwmvBY3L8rf16e0w5fcOjO5ih8TpW2Ot3Eu6\n",
       "9aGx16FKXo5mJ+xz8SFgX6YtblmPfHEhUlgJ+CUzK3boPTjZCghmr0s2Ub6CDG9ZLroOD3Q5SdMO\n",
       "yKgsXqu3bLjzyvtUCjXNn7ArcZpY/e98RzNApsRByAqOkflnHPafFTcBUsGi8BhV3Ne6782jc2ud\n",
       "XwwDpyrYz82+8cpH3BHlzfBfkG0Ji1DCpBjhPVapZcIaYI5KanU0mZSiuhxo4dSWF8JSpKBiDYfI\n",
       "SOOk1Crbta+ORduWJlEVIf0knQQl25FRQq6LL7+8YXnoljPfnbLajXA7RPVcDcYPz2LcCHtKmkPL\n",
       "Rcpf4KZbmiAgcESl1U8ZusNlKsQgwXZpRWYb4l+YEoBwdnXsv9Wp85DWi/Q/mMS3h3ZbeCHHkeva\n",
       "sL+3MBRicyNPCQT8ZZYY7bMdJcgitNyvrfDnXmznVlYbhRYCaKmpWprcppghonMyFsKhGT+2GMus\n",
       "4eZwgzoFP4wYP4eXQpziCXNMPn/VzgKny5Z26RcQMay/YV5fpBx2UTHVdrpv0m/8nmEN0HUUvOvq\n",
       "h1aRq/INYPg2Bfh4Kwf2cLEvneOkRtjMiUq7kKisg5zrjf5hsaMZk6Xu4Ig3HHY9j84+apUnVLOv\n",
       "0xzsVns6u1mDyMqLwA+lYc/MUzI2PgKt2z1CMUd/2X2vRDZZWxK2rMNA1TBStMT4JDGhOG8a/VbE\n",
       "H8JiRPRpP86qO6xqSRkaGGTA+WU8t7OyMpPu9mYAcc/AVYeLxAd/A9W5duTJ0bJbcclIeHk815An\n",
       "1edas2/IP+lZfJdffOILWYPpkzdkStbWdTjDgIo8FMNCCN0VCWORr+otbodatMvX5eEPgy6VIXtd\n",
       "xthGWsmg8yV1hLnT/FtlZFwrj7EEb7LJ005pU/a7GkjEpADPH9Y5dspTK1GbNyIjpiy3mo7tj7h7\n",
       "OWTEZ+STQDShj9Rnkd3njReLSAjCOXPl+1/4a6qz1cZnqqINAq989u7OsV2HegTFuLKs3GV+BpJ2\n",
       "SzN3TgiX2Gsg7G26m+2OZUXgddoTkWehUjO+GWDCGN+KzYLN/gSfNp/uuVqF/bzhkZ87B4rrmdmN\n",
       "iUmOdulyvIR2C4KruvsU5SC8GRB1A7RI7PXpnncjs77SGkY9gOOGTL8PP2Nbtvcsm2RMgdptgXuy\n",
       "qW/9hNex7Z3WdHXeuL7ii1LNYpTsvxo2frmSfsscfA3ge3Dl45rk6HxpOgRa9j+07dhIlSmJ0eYr\n",
       "ltw2230MFMhLLlcoCRatyq5rIx4YlmfvNVsAAAQQAZ7rakJ/ABiBJMHvO2uNsDdwPJcqfe6ioAOC\n",
       "zDIAGgd38UUbPf+TlF370Pi+/qwVaOpq0dhQfAbRSD9mUMqf+FQd8wSfI5G2SryyfEbsjJnf8mhQ\n",
       "rDX8kllZOZJ1FjJP5NNUZF+qOKbszNYPa2cIIo6Vk2vBhu2Zo0h3p00kJhNz1ZQKmlE1G/MN8l6b\n",
       "ohAzmtDHh+yAsGUvdw6/7Axl1C/ystGWRi4eZD1EbBateW3Qa8Thd0VwSxANsuEECA4Xriq7AyN7\n",
       "00ys0nQVCCwvJBsz/02oymVtelMqunTvM4XNNBJiNA6AsRwYJUAQKwiM3tF+QWcx/5rP/GYn+f4N\n",
       "U6zpWFvEL5fgZeugiG7eAfVfifFKAvJymzholTiuG27uG9/Aow5Vi7/himgjF7X9ePtHfd20JpAq\n",
       "9Xhu68MHwfKcj7MoSHTjQGRdU21FQwxVBNjNdzAsHXqnB0YjdPwRCvBDdFvAj0u6IfRiYWWUpjpY\n",
       "6llhixzNx1sKDD2cQBggw2hWydoICQUg7tklHjgTZgvh5DscCtroFqeT7c/RjgXzNVQSFDYSpagA\n",
       "favov1CpPfm76rCwz4hlanS/6W6Rk6srxRNvFN/caAGz0Fl8GhS2bwnb9KRNbS2KYGXArq0+eYS1\n",
       "J5MySYzciFkPF6RylzZms2EcVb2VF9I9l7h60g+YajUQy8jvf+bztwY8n+L+lKYkw48xSR8ndz6c\n",
       "PYSbhlfSCoJaeZwTxlpXowFRgNZca4/RDoVkdPHTwtqwXbya+dWUn3qARB9HenUY3+aUOLdt0C14\n",
       "fWfnIiIZT2KorB6MpqKQG8USXIYKFlcJiTL37lKSA5ONUYnJiUwWE1eWi99SZSkdk2UzdcwEk7+z\n",
       "QBkH5gQw3nN4H6XxaS0oNGIa7yumBmIhXrbDSm1ciRZgP0XtQvJISDdOXamyupJ15oR+u8YNVMMM\n",
       "WZDNd9cKIBAk6+GGv93nlj7Edt5VycuGQ94ych5w9vYbg1iVjO3nWczhCud62KUtqEbP/QXElrwv\n",
       "mepvsKeNj+392LGGv1yOZXAqUV5Und1n3VHti9x3Z6eN9kELGJdWdBKMejoq/Mxx5IL+v2Nob/SY\n",
       "CTdZoMXQkrRqUeF636T935vp3O8rAz/juhI9pPGgBUDrP3xAzUPnvKr9GWG8lC+oxCLN9pESo3d5\n",
       "7huvwURd+BGGIZb3PudDYd7GOJAEUHO5DUAS7j2lw8HXANAbSxw2BHgZFYY12okllaiXlbsHkSz0\n",
       "6S/Uplmmho5xuiyKwBQGrWgMTzo9X1C1tLlFEM3Zq/O11oI30isIEioZJrdpqn7YHNYN4RPUAsPx\n",
       "opCDI9ZWR8jmAJBaO72XrLjEhUpWKPvt+3r6oVoZJhMf0Lx5CY0Dov2eEj4AAAR+QZrwSahBbJlM\n",
       "CG///qeEABbPj9WtQoXritGuGu2eqAL/cl+g+D3J4jghOf7nOp/nc3zuPMa67Da5gnUYFY62lBq/\n",
       "RYOiq9ikZoxTIHB98Lyr4MdR9fBnc9m+IiE2W9KeOkr3hrWoDksDGpZRSWXiW1PWVAtaihN2SnB5\n",
       "AQb85ZqqoMkAvI5KnCxpaB46SQsNZJ0Tjy6gXOqW7Gr40XbkVbQZqP8AvNfT47EC9a8P0nghKoZz\n",
       "1CiJuY+M1oM1mUKzrM1bhwj01pnMXz32IOB4OpKXcC1C5ibKWYDkivTsAGNwWRJETQLRQ+4if7vM\n",
       "8HNpUoycYPutBsKitj9fpa9zobFvzO70Epi7DUrAZIWAQNnETrFvszWirtJIm3LpfFNwUdAORqWf\n",
       "1G0/dXZ16Cc1DiY62IL7+nPjXjdC4UwfFDLuDBaBKVdV4TZOyJ8G0FCBrPGbLk+vX/QLSwCXJFe3\n",
       "RkZkJUdlluSKcQBAmi9+g23CzjVgu8S/89vdjXbPhg2IVQzJpIUSulZGJ1pHVp6g++txjqtDTdiO\n",
       "qHsZNaNomx4P44uL0gAd7NC0LCznLKodgPAQwndQO75yd1Y9JBijtGoQ2YbigFMy9nW4zLlq8Fub\n",
       "qL67AIxOawP5s1s63vukw+gFBpTKxCZ4KtDYPE4u9vgAGMfetsLSQ6HasOIX7TZaI8exG4uLs1SL\n",
       "09kXC8qcb6BQxBPFUp95gpsj469KSuykVwUgqlv35Apb+UuwAC1NaUFuSW4bJKWf8TT7k5d9x2Or\n",
       "udBIr9nHVMw2U9mIF429jz0GLGO8XtN7s77ShjHFdUpwWtMYdXq/vJaYxlnVpNrgE1OJBTxd3mw4\n",
       "DQJLaTNSJVFvPviPuYGFO410RG3IVe0Scp5NOGvDUIou+NNCMePy/TxwBvhzPO4+dgwtrvju0Z71\n",
       "JPvxkItzoWwIgJfZd0+uq47s50XrfYccVMtpaBhBkPzFU7FEXOA4smPIy+p21RcSoQGP47Z+9ec2\n",
       "AFDtOPq5XmPZMckdhdm72iL1aD2JOHzBwiMYhwN4acgRhcw757lbgT9cHsnilbvHPLyN8v6qrjG1\n",
       "3InXdEAAuDAb5x10PRBwsOEozmygUcVpK6wsDhzYjbxpGUhDONAGqnfMq2IxpFcUyk+0HFKs2Qv9\n",
       "rHmsJvHjq/U4Dld4lhCfJ1fgLhGcmp86g9urqzE8k9VRdwXP+fbnTiDEW7SEwRhxqBR8iysqhbiC\n",
       "+DcERhuywmhdqJnV+qrERt3IyV0DTlALBNZVsxFZiTe7ofzt8eVEgUG0R9RJ7vsy/8LVY7Jfq2Mn\n",
       "1C0oRfT+IoZqAK6bCXNtUf7luX+pDgvRqvDPNamDr4GJD4wJSmUKF2hnep0Rt9WxANTjwCeNcJvt\n",
       "6SRsRs0uTCilYOQjfZUu8+/UgDKWKCTKCSE/dRhqBsWBWyx70StlnaQb7Bw65rOgxDAoOMBdy1j/\n",
       "bCk1+F0P79IMYvnLBxblSmu/NDX8G+xrdwqVkcrHnZ9vfJcLpx9CHxUd3qsF3egxNyAp/SfLCiX9\n",
       "WwAABJJBnw5FFSwr/wASXMy0Yf3gcXqEMbwIfo7ReCXstauVWVzvEnVF0lRk4HsyEvaw7WximbDw\n",
       "ziGj0SWYLtDv5xcV+LuyLhBM04SWQxkdDAPriOWz4zv8NKZzG7Tzvug6DuQzYDMp6OAQkFF6yOfr\n",
       "zyhH3rQmLt2lGrkMWpfRzGoA0sENx2PzQrgErygbKq2By806VSzjNj6Hs0hjN+8CRvTYO7nvg6m6\n",
       "oxgfsudHBIqTp4uxLccxI/qkPaPaXE+bpoLiM98YQMJlljTiTF2i3AW1llAqzWhDsSCpckI+7M19\n",
       "2KXnaDzsq7osIq/sinBMl+DBA3/BS6f3jwO/C74t2OawRdziDvPlxolOncsBUaRmVpKnU4PlWOhO\n",
       "RfYd5r0Mvwm4cUsP01+Pg6KXUBgp+hJGzIj++IaVIMoe7Q4+iC1QDYNYyKZAVdYnFqtscsgNg0Mx\n",
       "ySAqTS/qz2gRki4VOa325IhwVbsUu5fGICp0CUx9uqG/AQWkOD9IwSbsF71Y/ph4FJD+sMvlHmg3\n",
       "ROt7CivQqfsd7yTi6LcAqJZ8JEyk92elJQ6vB/D0CsVcrH72ioZwC3ZRsLHEouHGAVoDJJl9AxRL\n",
       "0IYU+58KT5pMVFPSn6aNMeMKbMpbJs0wX8FiTTi+qG4JnZ7K6s/ckd/ujNV6nPcSj4QLwM1kcA85\n",
       "loi1F1yCqIpt8E9Y/4Pc1Zyl0GbQgB7RPz8YGeWrJ5Vmb/EH+6CbfR1/FwFZDYrGWlxNxXZXfLva\n",
       "zi6vCV5M4sYIEOWJ9lOVaG8JqhePku3O9wZQdK3OBmrBwIn/7sJ4llnYdiesiCj+Bo8YPvrHtrTE\n",
       "CdFsxhm7jV05EF1uRjhADNvpokMi/taQBpO2s5gdLdmTYzLa9qM3IJBfwdk+yG7j1gREYxydZsn8\n",
       "8JtbxSoCx8Hsnr9pTY8VVQpc6Q9LsExJQBXlFrIi9t3+II0BZ5/IwSy50e0oeNOfWdkznjEv71Ls\n",
       "d8ZCFwaXpcokp3iWz8eSt6lqGNKTwXd5EQLQKhq8lwjCVUkf5SikBWj5eiQ3lG9awg62GF+sbv/1\n",
       "MoMeN3boU4wKo6jnulhRctsJRBmZEqmVdxa+bthVB0IfxJKcZSP/wPxiTF0CISLYa01dWwfIQZ4n\n",
       "ofcbQhalXoBwbVNQUx03H3N9jkmBD+yAhbHy2MEG99aK4vKbbHFLGAWfwhiNnTWUohRWt5rZ7f/x\n",
       "eurXgcFsYTs4XTUbyEP2vw+e611hPC6PntTVsSibfOUWXAqbo/5zwKsBV7shAom0zReJAget7JFo\n",
       "/hxOAwnnfD2jC34ngCwkP7fPz82x6ljt0k8D0Zq6Da5fuz3ElfiNYHXkJkmN/rJ1I7TuvjN9XmEU\n",
       "XJAa5uqdgLvF83RNEYEURTyeTqXK1c4GlXfvc1XT9Cw9/2R1GZrHlKl042Nz5kUHqTpLewScHFUP\n",
       "fdMuo2R8X6IPSfTWWM47AoHS99VUaTiIWIpvGCcX7crLwdcnnEJfVNeiLIZz1/r6xy6uotRPwON1\n",
       "48yrA/fTL8Qe4iFeEFkqCmlUKdaRDr5q+Ce8mF0S7GZscsEAAAOUAZ8tdEJ/ABfkCSW7ITeZPB1l\n",
       "ynt615MxcRtAB2LpzuoE+l7v0HX50j0IiY3CVyzhqTfBOsZkWId0kbQAZBknxJwY1Zz3SormHp9n\n",
       "GbEC8QhT5pWd0AIdczQ5GRCvEWPRz5TMlHEjedIa63KAPhXQfbeg5qLjQ6WxsaWklPpn9xpglKlM\n",
       "Licf5CUBs9wbzJ/42q7XrCbnB1ThPNI+RwAXTYWH4HGI7Vv+MHeCGC0IWcu2hCZuuTE9wYWNVu0g\n",
       "CucqRw/mnTFIbiqE04Gfn4V1JOmzpigaDPdnqndLLtfplYJPV/4dUAGIxNhsQ3y2gTO/xoGFDzV6\n",
       "6YLzjjb8N5ThTxIqz3N8UdrF7+hVkpPkCqTMxFDlRRvWxyHabV2ZYVHvnZCf1vYUVs6F/j61Tlwm\n",
       "sBqfmGxRxkQeD0X+EbiFvY7+tbxe99mNuag6ZlJ89M79BdJIREFF1/mxCe6yAtwo9o/JPzQZ1+rf\n",
       "g0nKnMe8XnYRCzhW04zug5OrJ6UpTTmTuSvyx0ym0jLbF+wU7yQYR5PRu+ElBi/Pv+JDUZ+VNwy4\n",
       "ftkCiXRDlVYM0j6rHS/OQ4eUPnqwQztOtmIAkMcb84zj+PxIy9r++JNXP4CiVnwk+pp2apgmw/8q\n",
       "dMvrRSfx3D4R+qddVuOX6lrImz/JstgUwZo2dTrR4Y0NR1udY1TiTtiTJTY6WetrR2eRlE6qYiu/\n",
       "nb3WwmQtITxQOSr6i/t6t0iM0vhpm3lHD/fdZroKWr+OtMy0s1dq15eJSgUhJPOM+F7+ieuGw4oo\n",
       "2FY8RKXP7VRgl2tYHq/sLcf/pGNVFqTwZ9n8e18rMYH/o1QaBi4AFbrW2IMpb8ybBrhbne3f9lW6\n",
       "/UYySlGCn2/TM54PSgpGs6r7tr8dIM0bBB9duvPYjb89l/cfR0HvscUBO4h8YTu0l91hTkTPF+Ar\n",
       "1zH2fuWmS9gDSXR/gYsNdoyGLLZRq5o6GtAFeaKJsAevmjuvHziuAwXWxpCp2CCj4PfxqmIoAFSj\n",
       "AIvaFGC9WQjuBmlqHT2a6uzmNlXvLgrE9KT5F0WFfCrm6Z38mXNqiXta2zMMbAh0xyQ7Ut0rku/B\n",
       "TCVYPEowRDboBsAwWjrRxlnJ/nO3c7iYmIXUNkfrU7rEByuiAw4m+ef1Naaf8hkg7dwEACBfvjRs\n",
       "OFzCq7kApSi1s2x/shoSxUxAlQJPqVi23MoTzG94WjZaBfeg7WAkcv9ibwAAA7ABny9qQn8AF+aK\n",
       "mCgAEQdn2nhfMS+r3TY2F38ondCRXF8NcL2X9xd4Z8Eakym7ZJVaHVn5Q5okCS2AKfbrxTxQAklU\n",
       "6DBmzAO2CR5IH74t4eytXJLRcKbbxwdEZaXV45Fls1kewHWcOl8B10ixYmaw9Chbc0a1TbtqLfn6\n",
       "bGvVfVwgk+rcF3oEOvnkImzq+p4ZQWkNpJ81kdxYyxDrqitzZB99/4PwgDvZ8NQAKMTqdSam52TB\n",
       "H5CB8kiNQaqfKSS5/eBrn10sED1HXeBq3YksM5l+cazZxMZR0xqcZA6Q87s4bhXcOpeqIFl5qs6p\n",
       "nTaOSX7XSZKNFHZTN5lZOLLDophnha0aQtJ+hSWC1tVS9kEsCzDUM6rFPEtCIXTNqA4ZT3M1Ut1y\n",
       "ud92wloCpx8BWi/V/AhUVYcFHkTT0GPt3jTgRthVlMSPBuEfv18HwEU/mM5Rn9JBVL6qw6ZMYk4j\n",
       "C+OVpk0oi2Ui+iNgCbk+Vrm/ES2qvDSot2CFwEHAAM4P/M4vsYnmens4NI+AQQwVMO6k3hG/Er6F\n",
       "YyADtOEnX/uL5Ntm6X5IQTLx8C3I2ebYMsGtsjlWWQf9uXZuo4zCI8iO4SHrGg3Jn3qvmKy2idKz\n",
       "257tQIzij05voIL8DZaptrBQ/50naw443GrAa9GOix5qsIu6+IgU1nxMfUK9vh5KOIedOwIAa7Ks\n",
       "17uDHtetZEAcVWK2pENO2dc/AcIwhRNMrfpSEh9zyVMWJOKWhQbBndDbkMEL1nGxLYrsJuaxf6zv\n",
       "sgLZ630Bcmg3s6/LuzITe+0ji69TuHVif7MZIOG6GE5hOYBxftRNqLN2waBjFJjmcUJHPcavCYL/\n",
       "HEQzUMPv2u9gfur8FfEGiumIiR3T7wirx0687an+FLExd8aITB28s0jvm0+B4A8e44hNPmq/RVEN\n",
       "MAC1QtSe6kJY0NDdSfketxb0omhOytbLJWlu83qND5q4dnZOZQ63E66BHoISRVJ41ESnH9GVFaxE\n",
       "XsxUzM09Z16eWX85Y8WaoEaVmwU/MaoU866fBdXOeaHQjIwRu7o9lALEu6FXY6zL7NT8ffF/+EVO\n",
       "beezJi8je8fuxN++cndnEwu2H2aIzYQ1e9blA5gZpPIRThyny2+5OUbrJFpM933Uxm3RnwnmWIIl\n",
       "HF4BpJk9tmlVCnv5+zR3s//Q5ARmB+YpElGP2Q2CiMqe1UISMknlT/3YUVTWazVRwn3jOGkCv580\n",
       "ujFrcA2AckHug9SJg5xhbugFT04h4AAAA8hBmzRJqEFsmUwIb//+p4QACOd5cwMujlVO1wtI2S5T\n",
       "CwAO///+EIw1r3Ciewdm/oY0LIxs1DkgG2UczEntC+Ur4iq0xQpiUuwdqp5JpFXzvrUNMkeBOHKV\n",
       "adKuYMk3lhQYrqoT5b71C5wRnU1rXb0Ji0FCyQu4oMpB2r5T4Z6LUGP13jcdJFOm7g5aJdIk8tdZ\n",
       "6n3JgaXfWxnAsYspC0BXp/2IZPZyu4cesjx+ks0cdgCay+uP677tc9HqQtTal7P1s8r5fDPOVptJ\n",
       "Kn4Z97oIfiYA48y1I7ZcxZmBDJFDDW9qD00QMsrWxWVFogPToxBIwOrden9d58iGdyztweDlZt0F\n",
       "5grJ3Z5+fVscxJOzz02NLv1IljCXH7A9xVFjZ+2SEnaeSSZk+M0pBvc5IWJuNdQmZ/QHWEu7Kfai\n",
       "jqpqL3dO0+Wm9KuuKP6LPEKzkA9gHCFroe/stc/FFPhbDSr8B75BBgK1Vp4QFQ38vjrLX0qsszrt\n",
       "nsOZSZPhW3Idhi2K8T6WdOd+EK3Ib0twU337sTBaXa5+aTILAB4eOlypne3HFSYxSLNcZAnq1GC2\n",
       "m79Ou0I+AGsfNy8pyfguQblWYmgevSzRGzGp/SJtrdIKpkIWWDVroTEB5XRcJj7NBz+ToEXOq80t\n",
       "EelQ5s9qNSDidpzTUqrSlom1UnTIzqd//73RzlWANby4MiDoOrYRivbVQ4ZFl6MnNgVWAv1vEVvu\n",
       "XLHlaw+9gVHiX2Fa5Kmqw7/+q80QHpgvqkLFKFhIbLZ7cyhJFw1x9J//zM3u1MqX3BnLtzjqKtDb\n",
       "DcyQMvUZz4Bu1lg2RI9ubxXoyMVrSfbQTs+eEK30iBLAPt5fNUHyve4HDe4tEZHmNT2WpcTXGOD1\n",
       "MICIziIXwpMO6JAaP4HrhHZDxA9ueoCG/r3Exf89siyDApfAo7p/7SpGRUjia79zZm1QrYFSpTrE\n",
       "kpd86QqZ5ISFscEw2NYcMLbWrhLXKpjG4AtuFpEkM5i/G4zRRgqD1mk2/BJJpYkDAcA+ioqT88c/\n",
       "PG9OXsnkooS5VJ/BXHm/vKw9Wt8F6uiUMNFgLMvIWV8vSyc6YfDWry+c46AP5UhNTIvk/N+h38Kw\n",
       "4WEiQv4gV0kkumEyQPyAJO59JX6E1nXlJYjIeQbHZrkvD4GbO6SSw6yNGM+/JSb13H3AI/h9Kk/Q\n",
       "UjR82UrBPZgTcYClSvNA/J4+FhXveflzhAl36zZ+ml6hMhhX7GgVvq4X6mvI4+bAeg/NZdJIfyk2\n",
       "7TUHlO+StamW9pjG/clkGcUogNOIa6XB0gAAA2FBn1JFFSwr/wAHQAdnB3neO+B5DBzGZ+Jo//er\n",
       "AtHJIo10pYZTRD0Y1e0oseFpC2h4Dd9oAGbhUNMgqd1V7vz/JAQUIWID9Sfu17925/LD7mwAQdKS\n",
       "+cW9qjYpu2q4+JvoxwU88wZEQJJXUQ29ZCUNowbuy+GqX57Qe8ukw+5hkaqvL9vIQ50/YE/8utRA\n",
       "hKniNijFjTDNj64Mtw5lokYshmWRVz/hAA7CppeHdMuqrsdQMXgYUGAdAkwCuP7pHSeO6+ASgMu8\n",
       "7GrKzUa3ow14x4/i7KeyIb96mvX7LPjsSNgSkFAWcOB5iiwsatCK/iVXEst8LOcYbytWyFJrZ6+f\n",
       "kNJZVjtLnD7Xn8cAysTbXO1T+noBKpD1/VYluzxuToe7o6+a10Wl05hNfDMFePyZgHRAFilD/6rN\n",
       "KO1PMl9AzNJs/smU5svlDwh2ih7MH1g/L9zwgYZ1msQV6x/BTCtTeImtvLRbzQd+K3sBHFYQVQWK\n",
       "955IpAVyvIJZPy/Oyubo76r7WQKsiEEjIA/h6nu8ltLcCDi0f6TwZP3/SOmjbdUp2Qz+UyTCZGHL\n",
       "xbCQnbi2Asl4ybP70BBQws5u0rw6Y5Z1Qy20/kR4yy5GjEKEbbDeUXTmgwjygcmBJR0bu03GpkO+\n",
       "R46SQ+AJIOnGd5sCv4YK04ZOffgJfse290vh8iuHvNVbOxvBc8IaXSBHFxP8Ag87fkaJ0FLD9KAh\n",
       "Ft1m3ujFkjeThHN7wecXZrMknZGONiWXRvMVCtVaewwnw2ezdflqQzfV10axJFU49pYwo2wuhSvq\n",
       "FgozQFqgExo730h0Igifpz3XNz8f78lUo6X0xepyIamiD9UNiRHSEON3CFXXNsJgtsJgBT8BMmXn\n",
       "EzDwR+QChNaIWQABGkfN6H7/jh8a/iZkKw9qvMjVCCeOXAk60trXJuOG1iUU72iqsHXHhWamftHm\n",
       "3IwIWeQjoikaA0SuL6ZSBIwEbyoy+HBAvPL5DCKobWOZM0I83uSpWEA2GBwtd033tdSW1sF1WjJF\n",
       "wPoQ3exL6ktzR9CSYAvPREeNMS/xvoYKFKmumvNnP4vunMSA1YMx/3977L7P5XVHr6XfDymmnnVb\n",
       "Xt9jR1GmKg86MDxSV9Fw8CWuoa/suv8+tNlLvVDC2zPQUS4rPhgxAAAC6gGfcXRCfwAOATogo4/m\n",
       "mXIFB/4QgvOykAEczjwjhiLXXR5AO+/rySJDEZ5fAAV5/54ABk8IVmYLe1WQ12hGb5yx2eLGpXH1\n",
       "R/KZF+RFDR0NHXPaYfcWA9VZLxI822K3y1XHer68yu0MSmJB2+XHidBGk2PxRFHGbJmDlTknG7Cd\n",
       "hqGYUFxpWYbF+09S+ZgWznHq9CtKHPRGQ5AJ5E9EbDcnUfG1+gEDGLmaGKQvqd40bs+pWkJqMPg4\n",
       "XaokQrZG7wQcAWzbYOK/i+FdHsj9KwpnLC++PmgIo4rb+s1ir97rFa9iamnEFpgExE/lZYOsYzfI\n",
       "5y13RU+IpOpYJvdU2GqREkgeXGThe3cS3k4r1eFh1P3C4pqA2xXZeALw39MiTBfYTvPMKkyRc0c7\n",
       "7LrMSdeY3nFlTYhvGcZFIQuqHFKOTGyqvJPqijNP2AukWQu8fttMBRLOfbtzBIO8qtUCkSy9ANhe\n",
       "zkwAr0HEXJzCdk2U3yvFfi4631nnpAhhIDgSYU/q7s27uZegl9juuHvt0JmZ8687h6OU6NARcGD4\n",
       "QkWZrqNwxHC8flJ2XJizJXdmARjyXHxs2OZCFDT8cRKtid8+zWkLkmaMYod838uRDTR5hIoR3QE1\n",
       "1H5Zd4G7FDCzDy99CoJcKICz9s8U3tkW5lDiY+lqOWq1Hc00oRalhPAyFENPl4CkS3yuYMT0bgx8\n",
       "DPPNlB79GYLCRyGKGla/e2yHh/WOxlKEtEuvEx0pdKZvyovljbAgXVqpP+RQKwOSH2wK23yyzWag\n",
       "zSvpcgp1pBaI93HzkxC5Ae/SaqKscp6mlESEkOuaJtwc/PzMqTimrPJzJ4n20+aaQ1sEio4ue5uX\n",
       "DGlCJUD+BVminhFfLTGSrCoAng664wyIoGbFlBNW1HW9hvNBRh7sSUmXCJ0QNQhC4DNnm2UGVL58\n",
       "+euUoKhnVCu072JHHardNl+ghJu5jN2rKB40g5RcCworgtDvQN513Fv9qJceyoBgAAAC1wGfc2pC\n",
       "fwAOATogohvvdwIOO5kgvGnUX9IjOOjKyRr7Ihz4sTuInjVnlqwbpqPgAZlrndoAf49JGgTr9PAM\n",
       "+f8+uYrsk2sgKMB2aSeVQkfX/Fq1f56qXkGz8KpUdZ2MZ+Ar4RZgs7D4dv4nE9VEuBncNL+S7HVU\n",
       "L+Q5BtrdQrAeU5AjmrFmdv3t8UvgY2dSw2P7/we+CfhhlKzuGOwYI6KRWv4NO1LUKkxxvsi8hkEZ\n",
       "eL6v7NYmw9mhBOvRucnyCrKamw2JYvf690WyRAJpvxye4+TlOgtRAZSBw3Q3WDvnupqcqVQx+GLg\n",
       "AXX69OanbsYWdydX1l0utZrvEPY5BH5NeiMwoxjIYqo8FEeXPOMpvgPtRpS863eQfErAQx3I1kSb\n",
       "cExWkYLiIOu/5jCrbhddRRR2XBQsh/C1JaI004msDp9PfujbVmPbQVBOo86pw9FoZ8VactH2hDJu\n",
       "rUZqXMQ7K2jK7SnCZr/YbNtbbn9AfnldvkLaUVh7OyHQB489iH9EUiI7zFCCmTD0V4AQF4zzpOJb\n",
       "kFeBkCjGb7OKiOImoRmTco8l0YxCm6jqC/0EZHidHh6Q1E6cmma0PXlxP0FeMiPlpiXiPFaIMjM8\n",
       "a4y4fRz2KXhJI+s14Oolcns/tN3XCvow+v3nDMRbpQmoBIYRz2rULioi5OokCJDv2V04RrgE2wBz\n",
       "PP+7s8LkROBkPJc8zrSMTCSHZkB6IhUMXPm37/PuBk/+ejVuCUkrMKp3uR2TjVWy83bkKx21mOOk\n",
       "g2yueBYcg3Y8QhgQh6MWkOvtHRrEuY8xbSUe7ecO+z/KgMxj27iD9xA4GePP0N1kM519afbPy6B1\n",
       "2VC1GY70Xm0RsIhJp8cc9XPQpmYmZ0MgTxAvDG+39DvJHa+d1ZxIV5FZy3YYjvrTVDsTl+lmEgi+\n",
       "6ZyZTBU6u7i40tooY4fNyQ18cI41JocFY2WpvpIDXy7DEUYdgQMAAANYQZt4SahBbJlMCG///qeE\n",
       "AAYn2U/BYZnWtsZ5EP2wAO3SzXypId7HEWNwPN2YpN2vk72wdhn9W9PA/k407F18ADx+RewdoXwB\n",
       "6sJ2/HmFljMzjmxJsNxTcvVB/Wa4+w2Vl9L4p/54UhjH6WyGqBaWqXA0xOHCMnyTnBZ2YAuPGUP8\n",
       "+3kpqEv892BA9Ao5XLbsPRcBpeMpljpPrjOAa63JD3We4uVE2L8dm/Uxwy+wvsAKOfc5/SLYWb6/\n",
       "JksEcihJF/lgX4KKhV4gHaPWgLtUivH45iq/qYCuwLdDEsAkD2h0iR/iZw3AbCCkK+xXSYXMw4gu\n",
       "LbsCzEhA8Pb3F01AuTgsyoz52Swz416R6FGgW431S/SOw7D/NvnuSbqU4RKJmgrkZKRqaOzsW2wq\n",
       "Wn3a5JTWwCXS0zcte5FoMjawP71mmMuoBundtF0pVW1qyWY9evgZWNNxc+Sap6s994xpMWK8tatJ\n",
       "mb/ZrbLYi8TxKfEKFzXxiibWONSmMYBzWIO+QgAHIxj9h2snwoozHAv6n9Zv3xCfyitja6SZisiR\n",
       "SfgjeCmUXR6rJGLYT3oUBTfl5EZWi1Va+YkODs4svnp4hlMMBMypq//fyC+PUE6g1YYoF+WZH6jE\n",
       "ujq8p+STKWxWmgzigl9iO//udI55cabPYWHia4lpPS6b5VwZlBm+GjBcg8nMAT4zGdLrxmn3vQAY\n",
       "uSS35pq/2MCFbM8oAkgiNjYE7lM5IV9ALoH3DAF/B+/8Xf3RkFW9eDbemOPsrNZQn9OPMUag8sK3\n",
       "OxJ6lTfDjHDj8Pp6Ct2ddEmpY4q15F0ZqFJEZ2y3dthObuieFYeceBJnCh24uAzNBMWpI6koIimm\n",
       "+elLD+z/RD2/YBt/Eu0Td6TyLKTf2HkS3mmWonbE4bDfbvraQMiV7cv4Xsnfjp0dPKMNjNHxq7dy\n",
       "a9DBDvrSfE6dTHm6y+NMvxzjPAXuJ+wp2Izyh1tme5m6XCfnG4hPVK2Ts4tThiPEkSFY6wsG9H/O\n",
       "S/DTsqrsQ9F765YogmwsEvnP+Bu/SEPAO2fqsSD0rpSMg3LRhPIjVPXn9mwe2k8VMFfYx4KkYUo5\n",
       "41CDL0VNvYyl6snx5uf+QTuYtaMZZqVE5aoELAD7Ee77s1DslDldoZwRsQAAAkJBn5ZFFSwr/wAF\n",
       "Q5QMvK88eoTaHdtNGWNMNnq6vPipfdE6PsY6XwR5rfohsQAYXvicxA6vuwJTZz+fc1BXz78einh5\n",
       "FphLzQFWeOMo8v+SZy7s2ka3v8HDjtlgdMt0a1OkRVYxxBZvLwQWP4JnwkpsQWernviBI3Wnuu4v\n",
       "g8Jq2cMHbS3tqFyeyiAOLjyvkjcpos9UBLTUSluGSBMBmc/gnvB1wGaV7mO85i/DJ7k8cRNmwthA\n",
       "zJ91CurYmYui1h+cw4iyDevSSxcjZurHMd4bpxJ7EEVc0PM56rxJFZiWtmtYDK8gTl3vy/omYxaw\n",
       "GYCSCS2cQw/Sc+vr3Aq1eQUifyM1n7LcJuQFJjIfX6AUJBihRQHGr9mPBNxtUqsdNnGVMOx0uXTt\n",
       "+dVR3PI7QM2xBYApFagnRgZBXSCr2b6Yw8Z7gM3C9ai6AEynpV+GXAel/kfTz5aDUHbmv0rKYty0\n",
       "fvRcfGw9dSXt+gkmPuJAaxGfGK2WN/Ge/iv/sDKeUp3zgodruuyOuC6178r76qiN5sSa6EADD0IH\n",
       "xvW8zLdmU/X6SQN56eyEI99lIDdKViSQsvQoVshErp22qvOQ5BONyqNwNrzrb5Ri5rlNOi+FD8V6\n",
       "VE7hEaEzWf5apjRPitq1b1trbB8Oxk00H6blbxetlH2B2S+lh4ntT8ESC046jzBsiabxVOeWP/RW\n",
       "WBe3BG/kMIcl2Zave8a0PWM5IoBysY23kCaX1og5Ced2VOF6ExCveRMQLXY2R6guMP08IroBFwAA\n",
       "AeIBn7V0Qn8ADgE6IKIbF0RHtscUknoLxMF5JHkCNs1rQ6xvYhgZ294DRu7+u9YUUBSGawAYfCFZ\n",
       "mB9tg1dJulMoBRRrRVuS8pp7ewY/dgBzq5BTm6Df5bstxzNrvEw2f0Ve5bM0EU21jwCmciqQkg72\n",
       "Y8o7lAhxyzzYakpaXt03FqN3DPSdvQZWUXrpjT1Yu1JINMN7aw5YPD5HLiS1u6bZi7V9PtvlKTlW\n",
       "bjoF8nXy3hi3hGT+LzMLC9tWov+SGAwx9o0bal9iUgAuVvFALyWp4O5KflLGlsCr1x2Dt7hsKVLl\n",
       "QHkzHBP7gZag+vPaTOUloEv/fGcIVE35ZRRuWB79Jn7fOA8H2jrvEdS2/z/pSHHQuFRnhpMiIttS\n",
       "4Un4c0Lh2pfMplaV24h2cQwhCN7M5TAVJZtatHxieqI8F34QGC2X1ZM8hGQzZj/htd/CCD/PKyvX\n",
       "1CuiYHYsnLJ4usmKVgRX8boQQqlMnJqJlkUz/WUQJndmJzdiLTidTnLP59voqB6SEuV5ILfSmSK2\n",
       "otz/ZNlfDwul6m7esuvIcsS9KWvkuqQ8Y7wXU3os12YEtAnylMPbkhNSn9QtxojpvAOBBWlV49JZ\n",
       "1QqS/U6CSDeEn+EoGMJ7fCH332iPNRUsrLBvQQAAAj4Bn7dqQn8ADgE6IKDLP8Fm8IjWESz5JSZO\n",
       "HIZf/0ff/8ILd7myqQ97RUmV5AWvkNZ1Y6J+UVYkuEKMMhH12YzVynpSrAUJOPP4dj0ftsAGbrgZ\n",
       "XlTWkRPSti0w3M93V8pUjFv//8OBvtJX1BWvmp7q0XqrAwSOr3up1Yg+FDXqExjNjXSHjsF+N9Ig\n",
       "m0Hoe6HPf6da5lF7GKOF2oJci4lFoln6tJjDZqJimMVsWbBSlkM5UHefF3A6gyg+NAjwv6D7Hztt\n",
       "PrZt6z18YZ7ZkBteK/nkqy+wyBIEkEHQ8sfour0Cx9eLyMczXLlR/Zm5DdxADVa+SEgVzlnWt34C\n",
       "85jK/h0A2nTeN76IKPibLdfUclYabGxwPJPfawtAJ+INUE1+fJn9lL/fL+9dK619G58rYmo25aqQ\n",
       "j7UYnAgo3u48TDbe1TJR1GVeFZMPKfOjnU14uFgqRw90X76nyAP3WZjWJsIqenv00j8K8R3Yfqs3\n",
       "fqLP+mNuKQOD7w+PJzlQFoe9iXRnuu0qPNlpocIWRTxt8hGqwlibqqy8YjZjIOtxUHH6k8pEkd/e\n",
       "TqFmvQ/PHVpYTqtPKE5miBUGVCTLBQ6CVaXUly+4iEqP6RhCfBmwtHuIQdruc0SOcTesHqnbSO58\n",
       "tAoW0WlA0kgLOKRjvO6wuk95KBrM1qYgEyaWP9AUnsUnaTUKvL2QPr872jU/7ya1irEw0xdKBElR\n",
       "bRR2h5i212jPOH5dKr2tOZlODQxsk07mtGE1YoOVqui9FcHjAAACk0GbvEmoQWyZTAhv//6nhAAC\n",
       "o+8K3cgcsYC9Q4rTx+jaRMbcRYA0/CgikpU/CKh+IATVn6H+Yw8a/wX9iUci5d+2Q/CectF6KJyo\n",
       "TqQm0ioHurVkvK2T1l6uF/2McA90YAUeDrg4vYfeLVUwHKsOyYJfUzpA8IkFM3YS2vWX81d1cIQS\n",
       "eiPfRTKiY6jEbG3WjP+IulD7lIhwHnziHafpm59VzL6QIc4BYBfPapbWHzS7D29KGeFoBBBtq/8h\n",
       "RRdt7avrYiYZsNx0TIkseCz23jCyZKgpjwbOVR03vPQw5bdOPdzRl0e7lq6tsk6QrX2C1Xidkiol\n",
       "hxhVa4qKbUE7Y87XuaKnjpiGhqwcmbDRD8DP4otjJDbm/cjB1HAznJmC4psSxKpnoBE+Tu+xiWU6\n",
       "0AgZQD/HxuNw9nvNbxpMegpI+vPliqy54c9onMx86HGjRpD2btJknSWeWxIYLO3bpLoE6oN1HlX5\n",
       "UePWgFcletwNwdBwKuC8XAU3NqCAgRFhyGFLVDywPUqHLBYAHYQvzKQqKYxJBSW1pXGooVtYb8j5\n",
       "ijqwRdfeyCvUt5ZDPwh2BuLiHfKiLkCyBFqeSev5rLXshzfvK/zUu4i+Ni5Hmthi3+JKdMG86by8\n",
       "Jl+GWxNn9IqipLk8CDkkD/NxhYk7jOzP+I9CNrW994odj8U3tS3aHtGBoLqtBGyeeNYn6OHa0wGf\n",
       "HGmWF6dS6w9HYMtCOZtl0eqi40Z4CaWqJLiQlSO3Qlls0inNSpjs1bg+4Pn7w8QcHWkNyBFKuklt\n",
       "vfY6eDwANsWwuFAJkmveKHmQjkndZpcErdtmY5azNHO7dKG6l2iwz9pvzVnVWa99m0/xsf69UAFD\n",
       "8kfwxkvqD1MkMQGpYEvAAAACNUGf2kUVLCv/AAVDkp+CxynVZ4z+omZR/kZGd4TE/N5SNya/foCt\n",
       "QekADhyJX9JUjmOHu/SdfYRzRe+rSrmv/MseDFosWveS/abnZPWeE7EdPy6EGpwnwTO743//whmn\n",
       "06LKJfzVkTOJYbm+3KfaqEqwIA6P2JA9IXYLB/E20AYJWKq23xlNsWGJlLmVnlsneSadybgvI2NF\n",
       "g/EIAItMaLI++6Za4uBv1/Z0zeCzoCWZe/u2O+LvM+fOyKpFmw5HksJM4xF5ikSn3TvUnkkVVdOD\n",
       "A0WrvJMVA7LLKcJR/6os11N5J8ix3r6NYEV/2H8x9GGD4iNbiFwyWzKMlY6roXFjlJ2WM274je5+\n",
       "WGy9rdcP7xGgQjayEREeNolEXbsR3o0bSLn6ofg+kI2KhVmDM8DDEHivYp9ry10DpaEvTi+g86ub\n",
       "qENJXlBMvp2A6ChlQxfSYqAoGcswtGFhfvIbPfcJdbE+/EeAuN7dHUomSIm5XwXBmodKp3bV8l8l\n",
       "JtrQf1cUZC9lCXwbFbCraqtb5H97NOwwBz0T4Jeq5AHAMQqZg8BumVenfUbe8TiugbRxsJjhNEy6\n",
       "3ZI1grHzxnn5PM+EKrOv6POAVL4Tl+4D77zl2QjtQFy0sBg3D8KrAjr2531Eav8rVLBRaI6IMuSJ\n",
       "YgGX47gSsyy5nsZ3Yge5HrxDBHU/Vnv5UAikfxym1Fnovz40ZPdyCpjMgbFapYLzvUhTZohx1lrf\n",
       "QkFuC1AkLVXoWjeOXsEAAAJkAZ/5dEJ/AA4BOiCg1v/BZvCI0n8sM4OQkw+n2Zb9dtSQECBsCgAc\n",
       "/OAut0/dPw2wHPEwKyjdNafKF+W6kZiRg7lWnucolNsw7JL1FnZMRjGeYhT9mRKcryQ9BXYPIthz\n",
       "w1UY/kHe6hqryU27iHx3M+DkJvCFJStbV9pg2vVXZs3LGPiQs/4Al50XkMgwtNj83N0huRmGQLb4\n",
       "W7j3ExZQUmzmNRSJL5PRxt83YyLfiaMV0xGL7YojpSZzVBW46qYi3H9enxIRfg2NrPNZEp/oXZkQ\n",
       "Hn0H3tSaHu++PUESoxZljcf5wns/TkXgrmJiMuBzYw9Z3XEzEcrFQgC8xNbMcr7UIIe15caO6gRo\n",
       "iH1GaKGbvRu/PTXgGR+Qi+jT6PbUNFWg+pxwmyRSteGF97e8LiloZ4BzRrLm/ngon6RL0ZfLCWGI\n",
       "Gl8X61D0d7bs8fnBlO4UOCiX+zTVnT2eMi4W7XWL7ao61zheU+9Qui8i2y2laDNlZ26vXQHDJMW/\n",
       "VTbi5K7XfsteubIAedMrbn5kk3o1rRBB5McIHz6zCNmnJy+MYkJu7YAJciJyvohnG8KeYmdUSw/a\n",
       "RopIN0j8LmR/m3h3irCK4BTehOT1qSGjcLm4SSIFXRAJtPtjZaaBU1HdOEtuA2f5NUJ70+RmJ0yT\n",
       "LKGFtFnH6Abrnri8Br/MXX4Ow2Np0V64hwcNdMQtuBgMpOzMth8qHyK4J96OefgaFaNOHhJU22yo\n",
       "wdv2+bBzhI9FBt2CiZA44Bw5KiNF3svVhcHGCWkuH46x1uBkt8UQzyqqBwLKc6zlEXLtWvgHTwLo\n",
       "DAMuAAAB9QGf+2pCfwAOATogoMs/wWbwiNYRLPklJk4chl/+5Mqn5tl0A0v+Wsov5a/cCtCX59bI\n",
       "gA2XrlEwg/va2SlqiN5G/RgEnNWCoIGJqVOpM/lotxJnRV/kPJkg/Zam0g/xT9ObR+MoQclC5ybB\n",
       "Qbk+pr9UBJVwEcFeWkbtwC1ohqqoP4fLivZCpxJGOTlf5V+WXL17NUQIsg15Ry/C62iQlLjapa0X\n",
       "Cgx+Gc/udw7bZUYVJGuBl4dmyCfdNaVy0TNcEJlxkVVrTleZml7R5sCVZFnzhUGFwyH6VaIjvdGb\n",
       "somai4qcluvvI7rpypk5RKzH8JyfFQ7S23OpSpYb91G9SMN4jsVjld4lggzsMBSaXoxSOrC0r/Ew\n",
       "jeUZBMp1dTDQVQz3aA/v+0iIpwb8VyuEyAwWy4uAL6vAEJq9XiX2OdrpaAMNWaK//Yq9naR9AssH\n",
       "PKEE2e7fg3IJcGPNo9ItOm8wrTCh2w1tTKGNnEot3zm8PgBCEZkX06YB/hl5MKupJjkPCudaQuUS\n",
       "OCmFCKHBJb9oBLQDBteLo7YcJeyxSboJrMRkUnoTrwDKHvOF/A3G0YbYSbCDi1MCrnv59JYAxCwP\n",
       "apGMDOUadywHfTB3AEzqE78Nwu9zd2NQ46fd7vUCa4/uM/yB50Xy4oY0trbclDk45oDugQAAAoVB\n",
       "m+BJqEFsmUwIb//+p4QAABbPeEt4MuzdfIAOyuh/zg4ze+bX4G5qylKa8fxTbnSKOrVBfe2XOnpt\n",
       "8nAcJaiOuvJkp+O47TXg32Dj/CanjjdhzcnlE3/owwG2W2/SdSYJW2Gyt9QWji5Fh5VhCGy59M7N\n",
       "WdeONhFWIxbxDm74j1VUAU+Xmj4iIzmOOTDxGx63hG/LJrfu9flN+pk5ZEA8CTisiA/5TsUUZqA/\n",
       "QQLdATIRd93s6py/BKIkPh0dhfp2MW8jYlltNbslzMgdnfV9TZU9cEyw+9RDUW/AUHSgUe+b16Bx\n",
       "I/HC9Bpm9QhN7mSYD88sv0KdYvhnB3jmPi43yjLVK7RmQxjN2W/gmvRtyegPsDlAI2oey73cLvrN\n",
       "jkeHqecpfhy+XiyMopdo9ns3cY+HLUZb2OGPXdTn6ZKgBv0bY0cR+QOKV7+nu9izFYmD1MMgsFsa\n",
       "dqaSY2/mF9mH3y81aLHXpzHikJl1X1WUd9zmKCXI7xx8r6jcwGtu6ZCZ0sTyF0ucD6ebEf2sDEf7\n",
       "xNV3zLl7uxEqNjXMJVVPnrofCwktdLMeo5mn0So66bLUt/2Z7UslN18oS/Bo0G6aXybk5M3x6g6+\n",
       "8TlQ+hW8ypUzcgJq+nmNCVWlG+nsg3k9u3TfcdOAL2VcQ5GREqOs2JC8pmm2lodJ5k40ClGdJD9S\n",
       "ldF4eGvpPsyu2yR98U5MgkDVjpw0qFgxuS3bYndAXuVRVIib3CzlvHgm718z12j2iqzV+H70e7Lb\n",
       "3PnNi5/y8Ei1mCoLMx0m6zgFfgtIhICJVHRGxznMpFaesgNHYhRzHlHnV9eAT6epU5G5pSSNaCgP\n",
       "yNIqosgB3eqwuyCt7ASHSU0AAAGOQZ4eRRUsK/8ABUOSn4LHKdVnirr9DpgPRMwEsPWGplYSn8G8\n",
       "El0aOXTY4ANoLo7E/pXeJRb0zartjRf1lhEAX73H1NKOZYsS1K54VrxiARK0oG9jbnaoRWUYmo/Z\n",
       "sYANoMQUy5ZZpyiY7pj6s3iPpyA099+yn95AiXof/0lNLtJycUg/wik82VVUCtPhYT/LpYOz+qRM\n",
       "a99k82G9QY5JOqDgg/J318dfONTzqg0F/YyFvBOP/xEqv87MklQzSA2eTlIHzc0km+X+NCJ/4ZJS\n",
       "cBmIgn0+PcP4uFnBFZd0TfKKYBvncKhNqIjdTaZlUDBumJSbnxFtrXZszhL3shdhUp2J+kAxwCZi\n",
       "wxHLQjfywEYk89S7BLca4fqVMXB0vGoI99t/XxdgPExwj6HG7XU0yUSwq7v+2qfR+o4yr8jWdbPh\n",
       "VfaiEJWcLT8jIwNv52igdinqCXuXZ0/fxJZJstIvNCLa9kRR2J7FH9nXSFkVbn5EDT4JplVy2wLn\n",
       "1g6VzgaS83jOYkArA3sg0PG7DagAAAGpAZ49dEJ/AA4BOiCg1v/BZvCI0n8sM4OQkw+n2Xb+09ue\n",
       "cvlmu67Kkl5w0k6KtbMZTPzubeWHbBMnEGPnJ2iADQQXuRTOu2XrjAKFth6z9pdnabxZvjZNvZBi\n",
       "KmeyHzmb+2hwQzMPQ9hKWwqEG8IP2QOuo0KeB7Ntoh1NBQXccLNLiFG2KzdTD9vliR5ddNnu9HxT\n",
       "hdngdXOwq0wq0/3LMdCcphWFW7YrWUCDeATg51rM8sNo5qKgseWgBukJy7IwG+qI3ChyJ8a8Wys5\n",
       "Z22y/HH4JpclLB5UqGOjJELI2EcmdO6NKezaucUM1akSeczIkuE2qQ1t34bm0uWnC9b5u5EGudiY\n",
       "zU7JAvjreYUe7oEvxWrCVWh69d0oNoBUnlIxZtM7KVInX7c3aZxcUXIIELUXSOtyVT1yDZx+lAKu\n",
       "2rK/lmuGgtZi7HayQylaaXmO4XtS7kXHdDdSSVCGo6pBuuOFiPVGfMhCMVBEnqHoloIlm1Ahef2Z\n",
       "Xvr0RehcuVziddpg3govR4KTZoto6LwmVcJtQU0VSwxTk2IUfn8IfPuMPOZZ0WlQQcAAAAG+AZ4/\n",
       "akJ/AA4BOiCgyz/BZvCI1hEs+SUmThyGX/7k7/63nP+7M/zUqsbVw9x3s9mE3WSUADRvLfq+ylHS\n",
       "uKRIw+r+VCHq6oKSMZOBOl9evat4uoZAmhn3+jSJLj5x7XKNUxfs9LsSoPfrHpGixiVadqFD2AsR\n",
       "YjoOaS2OXQAWIX26b2zZ7ncMjawF+P3xVeKvLvnyhswUmsbDOtYJTGsttkfvDAH4rhbKgwQkw4wh\n",
       "+DSpHPtYICCpqXaC7RUVKCog3GMCsqROjPGNaN5mtJavaFP5FWaDrzxxt9ECy9Wjm8/1O05++P61\n",
       "bK3DQ5JF22NaBAh3dqvtQ5OMkqMpDbRaZ8sbad90bFBt5axWLUt6TL4DkAKQgUj8ETD+7Z0UmUND\n",
       "R9VYrwaQ7r5cPP7vvFHBDRq3pMEfLyfWB2FqPHUGcT2U5dBdQIEo7lS4T3Rcq96axABFm3Ji6hXS\n",
       "klxpWVjDY8Ay2NQxjJk1/gTNo+Kg/tkbeVs+ZKU22ZRIvWiEVn3Udibil7TkaQxoMbcJ2R5PEw84\n",
       "3JdRmYd6IkZvl48sRYgGsbyX5A0AJsNiF7oz0ylwSySaV3P1sOubY9YH4f8AAALUQZokSahBbJlM\n",
       "CG///qeEAAAaWLkgAXVcSXEFXColKFhoG7AlvkCplrzN/bXMqcP+sRvX+Hyj2/mHRc7EUugfiYOl\n",
       "oOjwApA9gqAMOK1isztbGXPCi7IN97Fj9q1esWhF0olh/5WcTRqOtaH/sh7PxdyD1p2uJFO/CN0v\n",
       "YBqrReNc3fnBmQ5XiGUgmuOlwvcKvBgXeb2T83KRibLeckpPOTwMICw9ZL7R3iO41RCWd3EjvQEq\n",
       "WqOYLjDJu98Bp+6GGI2e2bQfRwfkLC1qjMZxPzgQFICu36lkZMJcRaetHCpBLi3RlAiCByBKZJCn\n",
       "2XbFfCvIowsjPk1NFrR2HR9f5senZwVb5l1xJIRKAsZNfaGSTUoPavnt2J5pNtG92xMBrW9qpL11\n",
       "cIW+9m/05nYqC21pL2lYplxnynIj0kJiBfXzn2xgOnrZ70MsEr6gEBOZ5h8+47/T60HiM6v3WIpt\n",
       "qOLWTW0+MVpNWo6+Liy0/wrDZNiVbxcFDhjFJuF31QDKvMQyr8ACXN+a1Zcd8hQxb6EEW9cO8GVP\n",
       "TgtyYtmfOjpndBupBy8YL7cB3g0LAFLJCTd3c16jiCEvyh0tdqmCyL0PTzGnjTktXcvUo6ibLBJy\n",
       "hWD0TNdSAay39m5gZvji6SQOki62bTlk6jLwA1ZCKSfzbHtTQbxrNAj1G5DAMW6f62HdGnTcYo1L\n",
       "1dq4wn3FnmhAnYPA7RK9bYLbxumqiQ/5zRKvIv8M13Fjh4j6W88nnerLlL0pm2C/I1WJfdVqAEYa\n",
       "Ef0aPob0hm2NczmKrRBzSa+//f1XiF37lo83riY8r/IuikHz2ArT5NXYLFd0S3EHB3WkgpxLNT8f\n",
       "0CfCuOqssnrP/7b6kWIuXmoQauQ0YqhvWUOshwY/YfhY1YEYailqhsJ4HjYih7v4wRZZ4x1z8wBa\n",
       "ol5yPk7ZgIuuv0vgN5n4Iq32rsFMIZleETmUFKg/wAAAAlJBnkJFFSwr/wAFQ5Kfgscp1WeKuv0O\n",
       "mA9E61h7CkCZMnxEQ98svS2SRACiBvSkIUa4IxIPXIjtXcwAEvjqvtEKQAvSaDv5jCYLM6LoJs5Z\n",
       "NPBqGz55gpryjkDxdntNa2zA0+ySiYzaVwrZOfVT3znaGVxdBLY4dDust4XjqZ735UhggfySmRO0\n",
       "hqlM02nMuNQwrenXNU/t54SqDSyPXEh+hmEgvOox8+zc97wiSIJRqtGdyFShZmmcRynzsRMzCUcB\n",
       "YXUVIjxTN/0yB1nXCiL4p6uRb7mH0bY07SaVSkaESNe9M4bYSapbjw+TCejF0CT4klCKTZ9VW23x\n",
       "K3Kfg8BAPNdif2yjCc0PpszwebsUUdi0HXnB0LxsM1tL/Kg2PpTIh/WZXGFJ+N6NqNMMilIb+9cv\n",
       "90DBilQXJh0FTgCe5Jl3kmjG++vjRjCmxJAqEZnuQwb51Wbzc+RSS1ZQKqrebsMoUSF+F2FSqakG\n",
       "3SVWb6ITgG+L5M/NqmTrAp3TGv579zze15xgugbefl5+vNO6BCOIcHQq98zXYJvzYro2sgnPfNdK\n",
       "VHMSaR6mgM8X19YlqI/vbqGALmraYpeg3IGuR8FII5CrVKNdKEwFWUjOSQJMqMDS6okG0rULVxhD\n",
       "eyYAjoBEFu+Ik0/iO+/veSVzgQttoLWA43vzn+jFNoYEQTOU5lMeSnsRAvEPfV3GStKEdWiiCqbE\n",
       "4PMieA/euT4B5EZNoxcTsNUHcV6APw3XVXmY8b5R00njE5QaGCw5ySnJ02rv7b/ZTgvcUkfLB9qg\n",
       "bMEAAAI+AZ5hdEJ/AA4BOiCg1v/BZvCI0n8sM4OQkw+n2Xb+09uecvlmu+TIY0y4m7gMsFlqcAHV\n",
       "5Q6XL2siUwkGl/KdeCPrEjqOI2tDBbI1XztR7JzIlop6h9dq13S0O/XrXsi5Q0Iy9y4mTnXPGVWZ\n",
       "xiqIWXB3WRgrk34B8UZr3pzSotQFQ1WvjzTxCsRX2BsNQWPt1E/ZNSsZvUgODGAqk6giuEumcz2m\n",
       "ZtGPT31JDx4of3KvN1DVl3zBDewdY0hXEs5Hr2QS6cwD/mF3M6oDzCaLZV6nZgwtmIZVVjSbV2Yb\n",
       "kT77RAkFkbr/jWIyHbXVVcd6MsyEJmIZ4N6LTiMe7ZIq1gJGLLJ2TaoUzTDtFdbp83ZHNVIofqZn\n",
       "B41p4d2INo1uYwP9jW4zTlWSdJ5PPwMnqquJ5x4BYV/nZo3cq/cMjjTaF6Qx55PM15dXnbMjCPcu\n",
       "dTNSrGAgP9dq2bOwG2E9G9SjjCibBDCUdMehA6//7jp18PLql7/y6ce5N5AKJG28C9xoY808wAed\n",
       "2sOkFC4hSEAh6jMfH4rwZGtEIo9quh7hTnK3JLajMuJ5mJv4+pYpoQNCJDFUk7mXZKBg/3ZZ4ZQ9\n",
       "/Pcm2hMXgXwnMGATBq42MlULH8kOJOiWp9KowLCyLgKmOj6MWZ3sl0nIXWkP9TKu8TgU2G5Q97Ir\n",
       "zAUVUVlgLrbBxmb+OuATi7gWagkiZPVDPOJvIbZGao0vHr7DZYGrdTgMw04aHvgt+xW+tgFeTZ4T\n",
       "f1QRiJDcV0RNwAAAAbcBnmNqQn8ADgE6IKDLP8Fm8IjWESz5JSZOHIZf/uTv/rec/7sz/L7gKEfR\n",
       "IOSuSXyYaJ3IlABO3lv1iYt8lFNcaICO8TVArr7l8PAsrtvkdOCh/aJdCAmERwitdS7rt0da7wrY\n",
       "Lek/nvmpO8OKujqR3HQgqL5VXVDB/rPWS1lfHUOyGOKz7tXohK+sF9fprS+c/OrTTACpx5OhDB9y\n",
       "QdgtZ6tVAmtjvV6q5tXHW7h2JIT50Za8ZzJLp90EaRvXgTc1jMTb1Gh3QIJyQL7rGUUIPP1DDy2u\n",
       "KPfJ0yeyugBjd3eD03HSVJo/4J2inOKPSMsIAgK/z6cD8l0j5kuxrOLsuQap5pwnEgX5SVsbzSHU\n",
       "63r7q23IHYAabckg7hHjbbtqityd/gNTR1MftFeXRlSyxNa6tyWrcRho1duh9tvIyLFoumZcPZ+n\n",
       "aPluA8ioAtFLhQW3GDtoq1akPv8B2iWsp3NGA95HiwWZBKCPBlcyxBEHTgczBY+4IQ7Y+/oGlkXe\n",
       "f7QvyTOkE6110pudRJeLLDpCtueDIhEU/uFui1Izp09Zgmw2VREIyP0rwW0jBDgcUf0aWmcdAAAD\n",
       "AkGaaEmoQWyZTAhv//6nhAAAJdyD4UfH5eADLs/Q+rtGoRYmO19G+ZXWOvA+bX4IED7qXiKGLHhP\n",
       "UUbl7+OcgtO95FjZx3+uO0hZn8dQkDmAQjFFno5P2BmuMMJsEx2SaT/rFv5mzfqU3M2obC9LCnNX\n",
       "Z2CjPB7d/QVqupNl6D8EMtKJH3Jbo0vMVhQdIk1JZkL3LdPZ/Ny29LLMvu9JAXpqnA8RYHOeousV\n",
       "YY6Q061iVhE1t2e+t5hq9/CfBmwk6TWUYmUZIQv8DweifIdfz++qr7XUBuxir+NwxuYlfy48dEcU\n",
       "DOtElLyEoIBnbXVolUKWBqu+iGMvwsc+snOc0qYrpQc1DzR1SAHWRWj1YFd2gONAK4WBXxnEE5F3\n",
       "E0Y4LN90wXIXgIkcLLNgwt9cOATV+A4+wgZqskljE8zonZxmuHoRkq79rbGq4V6E5eSikI4nwrxO\n",
       "EJpyCJrf2CyVCGkRJ6ESuGNCW/lQv+DdLVJgrlHVFor6OjBS6VgjMrFEmh3sqYJ51OcLyFTxgEUJ\n",
       "FXYryGYjgViOlNC8D6Ri48LSZ5a8uR3/s8aT+YnJ06Y1r7HvwmvjfPobo9EFquQedGTFEzK5tSCs\n",
       "biRmpQnwnvTngm0PcK/Cyo8kt04if+wv2NR4eGWSqkEXfVPgZg2Wn7mLSNyT0WG7nI+5e59FdGnp\n",
       "x47YSUorg0F5Wp49bgysucOCWYuy6+cq+m3CxnIcSJwzv1YOntNhXT8HmQmBGAk0yTTxvvvgC6sW\n",
       "ik/ad4a/KUrppuv9ZMpbBXHv27Y4t4GgdyK7NmU9GrLTaxGkGSPC6aHlsGvzUr1nxQFmGtHk6yrK\n",
       "tmaurDywrrYXBW3co350uAtAD/0+HBdHU2Jmo8v/VbksyIA8hjjMU+I+pVvWxNY/LEZFU2YuD3kq\n",
       "CybTIJnW8NwycWM7mYqKN51QFqs49ZWKE7XTZbkyKU4HwlMX96QOLX7GocsX6svvVJDlqfjBLM2b\n",
       "UUYAcIGs4I8ZEUJu1KFkCTAsVn/5WAt/66x/BithAAACYEGehkUVLCv/AAVDkp+CxynVZ4q6/Q6Y\n",
       "D0aDhYLMQxRJT9G/oIff4Tzj4MtNag/w7Djta4xo9RABlmvmkL/DDuIOTskXInISZ+hR1BW8DHMe\n",
       "g78F/01tYXqICkc2ERFO5giUtjD3A32quXcEOu9g1KSBbotb+Geans21/raLpxWv4CTbCqt/QWnc\n",
       "LFJk299/WatXX2p0oikjDUwaCkN/w2lRC5LwyHb9gb+PkcgqTl3axT4FPmoIJLgxnrrkIJNuD6LO\n",
       "lQKvz2Mh5xT8HmBQjfKXZpVs0EnJFkBgZNM44fT6FWlV0HT6Dn/8aifU99yiqKUQM4mukvhWX+Iw\n",
       "u1DFJS7uJlpd5f5pSAMdfqH8ySbEbIAMnlINntKii415JXKHvlGUT+Ka0+drz4QQ7l+F/s/5DNWv\n",
       "LlCinC1QRUEyGWxqSIIlG6xEG4Q7hotVxXDim9zemEm0fwyevZs1nwYqk3Qgj2TDmhEsefC9LDOH\n",
       "3/JIMcsMyaK4MKyS6+19cxqchfQQ+6LFKrZyn68UI41BQCvTx2PnreOztrt8Kn1J8rf6MnDnQpGk\n",
       "Tyk6Fq2njsETCJYkQBQYFi6MOyh1KnRrvFIYU3RFapgqCboYLEWZH1WnkbeZOVRgIBA03oekiFJK\n",
       "U5RLwy6WXBtY5KIiP4mNhITn822oC7hS1pdEOkcvkVCm1aRa6B0QCQDzfc57fJPcbKErKbS2d3rX\n",
       "lpqV0LjGRBPzyeQBperDf8KQRGPZkP2FFn0YIfhlEP3PJCrw0ZnrgC3ICd4xXps4woEBTHCxRESM\n",
       "muu0SKN8uwg7sOTq3BbRAAACmgGepXRCfwAOATogoNb/wWbwiNJ/LDODkJMPp9l2/tPbnnL5Zryu\n",
       "ft/QyAE7G3iU7S257lH2Qw60byBVEqylGzbD+nALM95aF2Pxdo0lrxG2t72yi6nt1OBOe6rqX5rL\n",
       "xI/ITpfcqy7Vi+5y65hyilLchBQan9J8dYkOc+4bsogeYQh7R3TGwfiHJaaxz+H5DHzICMw1rf/J\n",
       "tTBsJtZcWzS7obCroWs/hI1CYM2wntJN+qD1UJsNia9XrKS0lE8C2nR8oj3aIP7eSbIdh55uKENt\n",
       "KrjhxyAiXfndpB8l8o152Da+K20GDbGpMcpReql3bYp03Q2iNX5V7FpP0ZPrgUoMYbW0wm+NR8dj\n",
       "2RlIv6jlUUvDY9TJEC9r393v/SOPeDYqLM20v8fqD/WM4+imjlI84WysWAKK0EI+4+ulcdmCMz1r\n",
       "mV/7lSEEck9MR5oHRzgbCDIL9LvnYzHkhvzhT1l0rhS++JvKN/FQhUZWtTjYH8DggtqUHAzdEigI\n",
       "5dm/qFddpu7T043NvPZqdWtnXsMyYmuGn4r1Zckf5IR2LTpc0zsFKpNXQf6mWj/BeYggR61QP+EH\n",
       "4VArDZn2c7mJE7XQ0jxtzzKXKiOnL1f7KlzEzbb+V2kG8hwNKisr7C3DlibmipqjCPGoWw1rCvbu\n",
       "lzMGW+HPeRjgTyMRBlObn+tMU27bQFMs8E3T22dRx67Kpt3dbcwGeAbvYrlnavEPJxeTlJoh0fL0\n",
       "Nj+KtSjm6uKsJsG4njcoJA/e86StobBOWfVTpKLYDC0I8Awfc3dOya0udtBbaXDJNgIX9vXYu1R3\n",
       "JwJvyEMSNyd9DHqsS+3ARfTryjXkM/8Y13FAmWFqDIwIWhpTpyo5OIGxYjjlDOPc6EyFLYPCQ0Aj\n",
       "4QAAAlABnqdqQn8ADgE6IKDLP8Fm8IjWESz5JSZOHIZf/uTv/rec/7sz/RtfERxU5b34AMtCuM0x\n",
       "KxO+I1RrMQhC2gJTLoZqMHVtUsPPJ8CO922cH2yZCP74phWn+Ni+S3zJjQxDcUJRq5nHISbud+l1\n",
       "zMxANHgtPf41yKYLzfvXPHOkRo+PVZ0XSn1Mf4dfX/1Nd2fuGGaZYgG7mKXs/8lDIM4h0yqCHL/3\n",
       "mlgigqbuxFY+jtGNcEgYuROEwvtEVDIUgHxeBi/cPOOU7FSa1w48I2pxt6g9GaDnSC9i7Q5zXn67\n",
       "guSqPL9IuQQ/OOlbeotpqA8Kc9CtfBln7CKbPgVDqvIqF2GwmmhWG2sH60MqjwD+0tlK4OWme1Gq\n",
       "pbqC3Cvrn/c2TYkwor3B+lYtX5k6W8GalqXma7NkMtahnHhpkF0BOJHfusOxwWPzDgtakP8cj2yn\n",
       "EOCKroCwVqBYyVdGcKsOGBEMO/aRlWc6n67PSD0PqrioDK5yJBbfxWNDuhMTHhFnOHxNbyZe9tlA\n",
       "SUYe1hzjtfiS5r4r3ua1D2BIlINZ3eZ92M3vPbxeCNpUvuTdDFDQPFWxt1xupVytiB66ezzqGCmW\n",
       "lC2A0M/+6gXQUZV11j1QGaA/YcstBOaUQqnR7DmZIojhQfw8bx3m81/8+JAsYXttyXR5gPbzW90j\n",
       "O1sRWLCwYyy/PeJ5XrGfVYSNwCkHKlKskrQXJ0d6+lypTLX3dK95+P8gTF56YsGCvukU03Q1E+aY\n",
       "lDiNi6MwLWNoyPFMfJTLQa0WuLCFuqTmhgGLAAACJEGarEmoQWyZTAhv//6nhAAAJal21VgOSEkA\n",
       "EfTr/nEQAxA69I2iPm1+9UO7q6xd7mmxVQ/j59IvzoV39suSIfAMkwaJYEbhrPJusrPYWgBU5fbV\n",
       "i/tN2g1SoUtepXyrULqc6Bm5yV9osPfmaonh/9WOlcHxfhWmnERl9i2MOEfjcg7pBjCfUaTmtpmE\n",
       "bfM0FtUnxaOW8HeXND89P4N22l5HRmMBNoVb+OuFEv1PDSSqBQIPEfAcEiJNeECxVq4kAXC1Uj/a\n",
       "VfzTHwT3Sc7GoaY3l+zGAHiIfgGeRq8/Q/lGixJDPYOMl9QIo59I41/t7hPefmGN5seVcKNroPw1\n",
       "rglp5vRUfBtfSBmZR8Rkt+izdpxXhGDX+qVtXjMNpq3ioD1zZYJxXLm63AUUwWYXCb8BaXSMviZg\n",
       "eqwlZ/2an1SkN+WYHBbbsqyQ/pR3mZcOEGouULBaU337h5Ns+kGKVEOD1MUVE6kQb75OIq0srfiA\n",
       "wbGCWDu7UpR6JKlQ2RP90DKX5/NAays8iJ0VoIdWPYKAyO/8CHPqGZ0u+zm8NtddHlJORMrRtn1t\n",
       "QS/KRhRkIljWPhlQrP1134WpOflF44bhb3bgnuSisVM60L09pRl6yndPjvonh9cPxiVFi7UBzgI+\n",
       "VnjXMdK5nTqoph1LxC0mlm+2RuSYWbYC0PKJi/n4Uhc20uWdiZwETU91RQtYy54Z+No7i0A809Qa\n",
       "lpog+EpgZCgKAAACWUGeykUVLCv/AAVDkp+CxynVZ4q6/Q6YD0aAYoj9FuduLMwX9SDN8eA1ykhX\n",
       "2tcgBCndUNyJpjOo2JYVhzbTXoRCyROor4pBmxn6qzzhK4vhhA7f3GTTj6ei31Na6plb4LV0MqAy\n",
       "+JP/AVtLs8LsGpkaHg6VK00p8IsteH9NXi4gwd8ZoQ65LP70KDmyerANSKh8cq7gFeNyvPKvw1hR\n",
       "Vu1w3If+FTDbP5XWA9ieN5g26HzzmQDZl9xk1PrgFddro+0JCaBFVnIfwD1Yk9P3/SJTbEeQkim0\n",
       "N2l2xMdLHw9OVlwA19EbefNZ/wUVa975SJSv+/SmP8gTy3SzSmVcJoGjmWBQvI+WzlLaMYScFErX\n",
       "ix0b3X4GNdEbQrY3V2NwLgdKP2lrhmEZuCzrrKWqL1U3pUNJErEomjnRQ9ATU/UVCW8dRONtQGGs\n",
       "hd4KoxHu1wSZc7KRH06ID+59r+Q+/t5mSsWUXOLpjVkz+DwHmli+l7D6//hDK+5fWsky3R+jUSQU\n",
       "l10Jvv/2C+io2b1RZGDeGs2aUEcYukkLpFMTlJkhSP+PKMSlCcEhD/t22lTQJOVJko1p0lYiErWJ\n",
       "dQvOgRd71PviODEgdBAWwibm7IXa28GNS+0yacRI2gAknAU0SlCdLf80JHjzUpWfy2b0d7XrZkG4\n",
       "R2ZqvuJZl3ZfLK6ddmWayGk2jLdWhCGQaUnLtMHD9ZH7VJzfFe/jeTXTnK4hJD6bVZxTShJRS3Dr\n",
       "TC726dKjnydGu+20KRXyESITqEoYIVQq9Uolg/BylFUnTAhwhVQxxq7EAYUAAAHRAZ7pdEJ/AA4B\n",
       "OiCg1v/BZvCI0n8sM4OQkw+n2Xb+09uecvlmvKoD2ohxGrf9R+xkXgAGjeSqwsSn0CSvl3uoZJYm\n",
       "GKND7KSB6rbS1+5/TCgiLDmlxtHQGZhMNHNFr4D+KZiJlesR8jQ49fNd56kmIV9iVNoE17Cv9J7b\n",
       "VCxgiew4IHYLv/nBdBimWlSWFJc9LVqQ5Et6vstyO6uN/y1LinDrvpwC7TFII+Sqmn+ryF4oMyIg\n",
       "evWsGcWl7Wg4Fk/htS3Jg5WdtE/y+IR5aK2IX7EEkcNLGAf7sN7kUy8tlavnp5geSq5XJGuzI5SD\n",
       "MW8oWbVmK/Gn8Zm2bitIdzyZmYb7rOZfixDazHjz5rdsXLjDArfYhv0UgJwV9MYbrIPs2+2eYlIk\n",
       "VE23g16u0vQYMpKTo/gm863RCa77NJ/BNi4R3lLt6jYX9eir1YJ2S+6M7ekzRk6ehv5VOC15pYme\n",
       "8x6e/5J2Clu3LbuKc18RYWyfzhYxcmP5/QIDkqlPJAQUVyEkRLYL5hNeGwjnvg1nm1kp05rlCWWK\n",
       "EVzKOY+iT9Qr5BtTpN7nHn5v9Ss1yN/r5CHeerV1+xkYI4xOalGRGdusF7pZvBWw30fa4xaBYA6Y\n",
       "AAABiwGe62pCfwAOATogoMs/wWbwiNYRLPklJk4chl/+5O/+t5z/uzP9G7LhdkU+AAiDFOelsdux\n",
       "+uC6dewHaKGBxHvdlAK/ld85OevL7BIKUUO4yTwkQJNCfNN0J9VHb7fuLgI02QT9kX+B2gdZh6e3\n",
       "0b5JQCHQOYOBG9JI3/mQFCj/nRDFyYhLX+ZiPjEcYwfakS7HvFnSXkaYnX2CTCEs/8IO14+MriMo\n",
       "xrWK+OhmUOAl0F0NgfMdE6rbjG+d4Iz92W9M2y5w/oKewzb3dm4BAJiNzWsyFYMqI/SMPWKu0bm7\n",
       "iSjoaioCu+t+SN4rL8N/VbHBoRfzcW9LAUraMbXSwUO3+aQiCs/v8hVWgU/rqbJncF8KkuacWiX1\n",
       "ts9ty11bQ76gtuKmuCIe38BlMVP7kmVb3loefHPx3AQAuagxLYT8YITo9zZEEtpLIcAO39p/bLvr\n",
       "p3s0W6+A+IgJVTvrzuWhrZ72NAOKuiKxq0E3xMtH3aaWmw7L9Vm+QDWeVvmK9NqZgJ3kEjVb4BMw\n",
       "AAABYUGa8EmoQWyZTAhv//6nhAAAJd03sd8h3yG9UKbZgA43AIDyHDKRPguZUmNWD1qYJnz3hKWC\n",
       "zgBhzGS+0onc7EQ47xSQWkzotbFpverMOZe3QxEqgENHEj8Sa6XrbafyHubfF8qPqg0OkdSLauxR\n",
       "LtqAQr/ifiYh2sJYxTvVr9RxRrm2ylXJA7dhWiz50r4ryGJgC3EoEY2jwdO3uYv/DMQdTSg2fkcO\n",
       "awcef+/kbinYzCCl0M3S+7Nc/1Ci1cSn+Bcxw2bWpf+29rjPI5y9RtnSchgBhAxe83hhl5qEb1uU\n",
       "zZFBOcsG6FcnWOPlVCcxyYhUUDqZ6RWOqKpaDPm/bf2VsQa6rpFlFHuZW5Cte506J9xmZ3xvaAID\n",
       "yJ5jR73vnPfmNxpGPJq2dtXeESh8u4/CB1niPepW2DOfKlD/tPTvCYgLPMQmpPc71aC0E5+84R31\n",
       "pD1NGckMyId/p9QAAO6BAAABokGfDkUVLCv/AAVDkp+CxynVZ4q6/Q6YD0aErxnxryDlHmAB2h1X\n",
       "17arPnKKjXAZC1T3vQbC4zHwTgvfYL1BN7HL04VsqzWHEaIR+Rb9oMByUn7D9tsEeqODRBsyq2HC\n",
       "/r1K28fc02RTKdA8GNPgboyh5A//hDIdAqfI/hyqe9A3GDsD1H0A0yPqfw4EZRRwFdRcqvsVct0a\n",
       "UO5LMkAQYd135WZGQjzxm39Z316ZazpANm/s5+9cClWGFf7PANCtbefO+5qpF1O4NvHico4Gc1aw\n",
       "hAQObAQbn81P1qjrG+Q1xbqBecuLhunf+UjKJ/b1q3t7522WSq7zgDf6d3JN2OsJH+NASAPm9jva\n",
       "7Bv88+5oA0oLVUTY3q5XArYck52Q/SJnMa1S4oSTTS9qpwEol6cUFvKM3Ma5NyX8tuBzLUOjGzjq\n",
       "i9wHOW4engMmYvQzkRf/Hhz6drZptlry8lYhE/WTheHMMJ3mm/HmJhcCbZp2GyE7djxC6wQivomY\n",
       "GiXWKOnaTSOV9dri5kLwZbpOk4N9awExYyzRK9rOFBsh6NCAccEAAAF0AZ8tdEJ/AA4BOiCg1v/B\n",
       "ZvCI0n8sM4OQkw+n2Xb+09uecvlmvKrF82ABo3kqq61I1oigxMkT7B9VF6WalsETqNqOpKi+7x+8\n",
       "riOCEojDIQbyygTkPvHL5ubgcP41pkppSLimNZyoR5r9I2PkYfthK4HbQndOzXmPpG9FQFFqD7nJ\n",
       "IZzX9bcZy+ySTBVuCIBlY7L9zQUPsDvu1/WaruWNe6P+s96+OArIuoR++FsXo68F5EuE2N6BgdDH\n",
       "0sLxygPjy2h/TpnaAxUkuDwu/Wx1knNVf5r0cphXRsJGoVvh4wDwtufL5m9roZPFj2McCnDolt8k\n",
       "uwxi9O+0l4CJMmxMDxI7+gNww+OCEusiUS3OGyTF41+UJr3JmuOw3LCIdftB56RC3/a64nHg05l0\n",
       "Z3UjhqfigNpUO5JNq6Jyl/M2imrCaduzvCMqZw54pllHZH3xulMJUNKajojd4nzjKtf6rqItSxSZ\n",
       "CrsYQAlESmwiIqVUlAO7AAABRQGfL2pCfwAOATogoMs/wWbwiNYRLPklJk4chl/+5O/+t5z/uzP9\n",
       "ETDcH5qogBCnkqqm3k8+coqLcp4uhyWJly285EdSNWw9hs1xcKEDSWyoWnVbSwFCQZxf/82Dvk0b\n",
       "mEKx0RSRxohU3XRJJ/c7KXK4qxYuqCRXZ5+7oKU8bGbUATJRCWlT1EdO4hJtoikDu8ceXvhjzOuN\n",
       "2uzl8DU1UEQyxAvZURDRqV+sOA+iEcAxGgn/4dzC0i6sH7XvmJBkNfU7+1IFfAHuZzpGWXDWE8U1\n",
       "V+zEe+ENN/m2ysU8Yc4npcSxMGO6S+zZ/+C24FP6Vg7JSUQT8pmABoyjLaO8k4ayDQYlh22fZ/6s\n",
       "kH/YTSDVTr1+T3QrEe6LnsGNuCyoJrgYBjrMTFKEGSy6ligsomLNhaLkKAl7ZYrDibaLaGtXHv9w\n",
       "CkgAAAEsQZs0SahBbJlMCGf//p4QAACKyJPffIA0BeOXPtjNVoNdgo9X+vCPhj2kU5IPBUBbaxkp\n",
       "YZRQPbF8b033k7AVbpf/guAQgyxGod8T3uDxv/OISXmiTcRrv4c5NEsf0bK31HgYbr9QJlpP9xs1\n",
       "ANv1ewktudb9ogcqgkqLgb8PD7Pe/JAFHhZ6kb818JCL1eD95mO6yTbGRxxwIIwPrEyJSJcZnMSJ\n",
       "4sYCqFAVuqTa152k+KW3O1/lZpY+T5rjgBzOgOmd853s9rN3T5yZPyY5+lstnEjA4dNNQAXErqni\n",
       "yp3KUrvV7qkkktzPhHSbK9DvNjoCqizF8rQ4VwN2V9zD2W/aE/RB9Wnwb5SmseU/kkGxGRT5++rK\n",
       "GPxCcH8F1WL6ry/y1+RcTZ2pEAPSAAAAj0GfUkUVLCv/AAVDkp+CxynVZ4q6/Q6YD0ZjO0J4IYkZ\n",
       "S3MchQrEokqDcfIqdMcx75uCAClTKHPPK7gSFByAQpwpivVzgoUmxsuyXw/DhmMAXq4sFXQYChNc\n",
       "sMw0Qtah4CQXHx42jfdDxepkx5LJM2Uxbbd6MasVCPXjsloxAnG7vgwQSRNCRIo2KmalQAVtAAAA\n",
       "xgGfcXRCfwAOATogoNb/wWbwiNJ/LDODkJMPp9l2/tPbnnL5ZryUGE23IYP61ZRQU7H2cjtU75eF\n",
       "W+MgX17xkSbgvpJVF99+PimUYNABOeZcAJhd3S7PmjcmUkne7KIqTNHQdR/vtwqt3pj7/6bMQRWd\n",
       "bqB61KUA14eEyA3BqBbn/Pxmbwsu1i3HregdMp2b5+iiPQw+qCo5XirZI8a6yaRCGYgAnHJlpXl5\n",
       "AemhNS8icn1N0LW6dDK2fzXlPD59uIwB9rAB1QAAANcBn3NqQn8ADgE6IKDLP8Fm8IjWESz5JSZO\n",
       "HIZf/uTv/rec/7sz/REw3B+aqIAQp5Kqpt5PPnKKi3KbQ2BhpMGBNAGRck/4BxkS9tcLV+lJWmKN\n",
       "DEe21ovqfkm0zM8XNHKw6naBPmg2It2AnEasPjlbxzkVE+Ri7ikrr+UBocR0UQv4dRI55KRdT/+D\n",
       "3Hh+afggo+SUNut88DURZn+uhfyk95vcg0luR3PK4tviLdpfTZJ+xlcEouSDFzMapvD86quLmnE5\n",
       "zLzZ6IqNCVKOALME8qhvYQBlQAAAAFFBm3ZJqEFsmUwUTDf//qeEAAADANfSFurqhHR4J03qRrNR\n",
       "ZlCACG4zP69ZhqsZmYYUFY59B9Q0IflTciPm2vYrZhHQPFcYDBw8WRctwgAAY0EAAADgAZ+VakJ/\n",
       "AA4BOiCiQAIK9igkF52MJEs+SUo1/HLW51kHEb6Fg7ISBi07XB+bLoARB5Kqpt5PPnKKi3KZB7sh\n",
       "pMF1lmTJEDv8A4yJe2t10/klGRtBXoeDU+LwnyJtMzSKlRysOp2fjsyDbtOV3JGCYP2kLf/0/WYK\n",
       "ohLj6JIY//0wBuuH4ErAcWuFHE9S5hBpVnLT58XkF1QbqC5MVnc9rkaFI8STh4OBagpHxwjDlJvo\n",
       "QeIqiDYQiz1rQnyfm10trqhW9RKehgn0pUpzBKOAaAz7kIUTLPpDaZxhj4OIDQgAAAClQZuaSeEK\n",
       "UmUwIZ/+nhAAAAMDT+x4DFbwACpcf/8OmY6e+aF1AADCi1K3KYUkvkrsP2q3UIUog4RobiFe56Rt\n",
       "n14WaGXFI1UxQx9F7YcQPjYrjuRgT9bpZ//Kmw7yylsC4UVh9x2P1zKKN8TLnjcgS0Tl1932DfNt\n",
       "+rXAd+VTTx5uEkpe6EOAr/X2jmqQBS0h68dC+bJQDnT3C4h5WKt0OLJWVAJhAAAAeUGfuEU0TCv/\n",
       "AAVDNZWwPvindcJegyfoHlMl+5YDcIZwYneT39RASY8TBUqsAUBXXsUAFHOr/7pqvybY34oVSErD\n",
       "11cGi+gENw2s73PgUggTuFX2SmqFRYbqcN+e39PHCfw5rldYRPwfFlEmkYLu/iQPN9iymo8oBcUA\n",
       "AAC8AZ/XdEJ/AA4BOiCg1v/BZvCI0n8sM4OQkw+n2Xb+09uecvlmvI/wuD81UQAhTyVVTbyefOUV\n",
       "FuU7iGBhpMFfHvZRaYyQYh4Za6XrdhhEtfBPsWcCZTH3s8EekM8XNHKw6nY7Ba7rFcKbsg7o2mci\n",
       "EGlxliBV+uQr+TSsPjR7xbOdX5NRtrM9F1ZZffXUMx/85tKz5stfnXFCJxYtH+THyjJPhK/EIe7c\n",
       "XJU/FHhrVWzLgQ8xuD9l1QM4AbMAAACvAZ/ZakJ/AA4BOiCgyz/BZvCI1hEs+SUmThyGX/7k7/63\n",
       "nP+7M/0RMNwfmqiAEKeSqqbeTz5yiotym0NgYaTBgTQBkXJP+AcZEvbXC1fpSVpijQxHttaL6n5J\n",
       "tMzPFzRysOp2gT6R3NvjQZoxwvVel23D3ahRYvvt/LtkAfy578ykk4qXsOWPbqE8fL0C+hPwdEMY\n",
       "uWcnI9aBgvrI+Ub85BPUCPL86utjwRRSyAgGPQAAAL5Bm9xJqEFomUwU8M/+nhAAAAMBWivIJTg5\n",
       "UAFShiAB/9z7GeQS3uoYhsvugj6h6AWXleCz0Z2KDy9thCocr2vcbzHxTCHIZ5NOMq92jM+6JHad\n",
       "tYASn6k6vgQFmXqjteq9opu5jI6vfvnNTgbyj48/G12DrfCVghoCgSmBa2lOqGkS/tU+g7Di5Dal\n",
       "sNnpWl7RdM/dmRCNqFxFttu0U52qwppLTliqnGwbpt/X6u7TpVdrLsuweW4S7jd4AAg4AAAA9wGf\n",
       "+2pCfwAOATogokACCvYoJBedjCRLPklKNfxy1udZBxG+hYOyEgYtO1wfmy6AEQeSqqbeTz5yioty\n",
       "mQe7IaTBdZZkyRA7/AOMiXtrddP5JRkbQV6Hg1Pi8J8ibTM0ipUcrDqdn47Mg27TldyRjymOTRU/\n",
       "u1N3tV9q9P8creFvAKEEfPdbwzzkOz9fk4ElSMwVariooFaGGZE81M3oFMAn/KlAA/5/RNhuYSwz\n",
       "MmiM6RtT0xCxlR8TxmxD1pKBaxnHb/gYUMAGjzOVAgOPF2fsJyeO4qFenm/fMEsnoZC7rcsDmipw\n",
       "E4ouuwJ4UhjSX1ZGaJiAZUEAAADzQZv+SeEKUmUwUsM//p4QAAADA18hTDkXJ3SBCgL3oib6PZGv\n",
       "JYqv7YACXe875MGxWduW07Yvxi8Z6k8zLyCPdAdvQvBNtjX+qn9Jrr0AbR31Qwr9RlF0Rjzgks/2\n",
       "QPkspNVbc7fAHw96L7IEfmJ2/KGfSMpRg38ClCoUT+OwwS/KWVxCoq5qBx53XEAAvTT6XuRLU/ED\n",
       "wYsc+a3kLaYCY7RNYwAQczGtBzcPwsbgXHgRWGEAe9HuvlDmBw/KC5hffrt5+BkNvgWD39XLQmC4\n",
       "MU3YmAqhPW7nkrfevEuXnl6awxRIA5dP0cBJKZO4B19QAGzBAAAA8gGeHWpCfwAOATogoMs/wWbw\n",
       "iNYRLPklKAwy/wzuoLg/I4QAbUc4GR7yefOUVFuVVszf1jTGALAdfmkGIeGWun3lnbg1y+i1VxZz\n",
       "uh2TI9EtBc0crDqYbvlNnHST0aqwVFYTYluho0bUdwHe7ZKpgRA1IE61zgBqYz9S7Pnw2Zh/73+Y\n",
       "Kg2vFKf/hu31OonreQ7lHn227zB3s1GQZNDRKGdVHxsjo6EhcFvTh8c20+XNmGm/9xzetpITxYg8\n",
       "hIlf6OSR1bo04I7ZgzP/2VCseQIMjCCDSsLSCqND2pf6QrvqqAKg1ykhTozbvUXhdnqAABmQAAAA\n",
       "u0GaAEnhDomUwUTDP/6eEAAAAwNLavsnTxOxUraf4tGZ1avABqILf4V04tO6vNxihkkB+0O3OBhU\n",
       "Pc7bFwvt7Jss6IQMkthZoGNQhnETeaqdj7ZItwkhZaCYWfdMwt4Q5KkaGmBV9wPDuj6zfEC/mRoG\n",
       "KEyApl0Dzn59jchm5Y7c+EGoBlUra8hbBnY5LbpsFHAZS0btNi/nL4mqP9S9XIyuEpF7ZcSdDdlv\n",
       "8orEYYNQoYDwxZSilSRiSygAAAERAZ4/akJ/AA4BOiCgyz/BZvCI1hEs+SUoDDL/DO6guD8jhABt\n",
       "RzgZHvJ585RUW5VWzN/WNMYAsB1+aQYh4Za6feWduDXL6LVXFnO6HZMj0S0FzRysOphu+U2cdQ7f\n",
       "sOexXgKMTfDHNip0luqvQMfcFkJcZX61sj4NeqbjRWZaC3DDPP8e3waGDU6mQISrHyD3cc66rEEp\n",
       "pXKu+IXhsMNX73V1GxWWCM63aeIRvyM764kB7jve6/L7OsNdz0vY9gkoXCEcLBw09cEpazJfkBtD\n",
       "OFOHfam1w3y3g4bBs6p+niR0amOgiG/zYWFn2TAQQ55dUTgkhvfhnBHEpuY32vpNC2VgWXFY5cH3\n",
       "r9mpnGFsACLhAAAAXkGaIknhDyZTBTwz//6eEAAAAwNj7HHy86Qg54zVevQCtKyPcRWJqZR0JtGg\n",
       "Rx2d9EWYe2ZUAEfPD/iijaPH/G+/OPdaO52WaZ6Nr/k9CgHY4RxdTtT1DjlaKkHQAV8AAAC/AZ5B\n",
       "akJ/AA4BOiCgyz/BZvCI1hEs+SUoDDL/DO6guD8jhABtRzgZHvJ585RUW5VWzN/WNMYAsB1+aQYh\n",
       "4Za6feWduDXL6LVXFnO6HZMj0S0FzRysOphu+U2cdImvDk/+txFk9OGCLZvmYD8dksgymUU9lUg/\n",
       "eKHCo+cRUCMC0pn4Jo8Q7igFUY8F2hKNm4ncLlYGgw91pfuaaUHNXKQtZ7qodKGRZRjajzsSwJxB\n",
       "L54hq54tqRE538iZ7+gABJ0AAAA8QZpESeEPJlMFPDP//p4QAAADA0/sdzpoB5GYw5OQTDeYZXfR\n",
       "AQqjnJ02uf9geZaZ/T2yUAs/0ITgADKgAAAAcwGeY2pCfwAOATogoMs/wWbwiNYRLPklKAwy/wzu\n",
       "oLg/I4QAbUc4GR7yefOUVFuVVszf1jTGALAdfmkGIeGWun3lnbg1y+i1VxZzuh2TI9EtBc0crDqY\n",
       "bvlNnHUO3sLVWykkhvFZHk6hWoDdLoC7XmAADZkAAABBQZpmSeEPJlMFPDP//p4QAAADADo65yr1\n",
       "G97KoAOO4Vf/v8CXuCsVOus4Ws7qIUwW2r1K8Ygv+Cxb893ZwgAAYsEAAABqAZ6FakJ/AA4BOiCg\n",
       "yz/BZvCI1hEs+SUoDDL/DO6guD8jhABtRzgZHvJ585RUW5VWzN/WNMYAsB1+aQYh4Za6feWduDXL\n",
       "6LVXFnO6HZMj0S0FzRysOphu+U2cdKlrbsMp+32q+h+XAABlQQAAABlBmohJ4Q8mUwU8M//+nhAA\n",
       "AAMAAAMAAB0xAAAAZQGep2pCfwAOATogoMs/wWbwiNYRLPklKAwy/wzuoLg/I4QAbUc4GR7yefOU\n",
       "VFuVVszf1jTGALAdfmkGIeGWun3lnbg1y+i1VxZzuh2TI9EtBc0crDqYbvlNnHSpa24EC0UAAFtA\n",
       "AAAAGUGaqknhDyZTBTwz//6eEAAAAwAAAwAAHTAAAABlAZ7JakJ/AA4BOiCgyz/BZvCI1hEs+SUo\n",
       "DDL/DO6guD8jhABtRzgZHvJ585RUW5VWzN/WNMYAsB1+aQYh4Za6feWduDXL6LVXFnO6HZMj0S0F\n",
       "zRysOphu+U2cdKlrbgQLRQAAW0EAAAAZQZrMSeEPJlMFPDP//p4QAAADAAADAAAdMAAAAGUBnutq\n",
       "Qn8ADgE6IKDLP8Fm8IjWESz5JSgMMv8M7qC4PyOEAG1HOBke8nnzlFRblVbM39Y0xgCwHX5pBiHh\n",
       "lrp95Z24NcvotVcWc7odkyPRLQXNHKw6mG75TZx0qWtuBAtFAABbQAAAABlBmu5J4Q8mUwU8M//+\n",
       "nhAAAAMAAAMAAB0xAAAAZQGfDWpCfwAOATogoMs/wWbwiNYRLPklKAwy/wzuoLg/I4QAbUc4GR7y\n",
       "efOUVFuVVszf1jTGALAdfmkGIeGWun3lnbg1y+i1VxZzuh2TI9EtBc0crDqYbvlNnHSpa24EC0UA\n",
       "AFtBAAAAGUGbEEnhDyZTBTwz//6eEAAAAwAAAwAAHTEAAABlAZ8vakJ/AA4BOiCgyz/BZvCI1hEs\n",
       "+SUoDDL/DO6guD8jhABtRzgZHvJ585RUW5VWzN/WNMYAsB1+aQYh4Za6feWduDXL6LVXFnO6HZMj\n",
       "0S0FzRysOphu+U2cdKlrbgQLRQAAW0AAAAAZQZsySeEPJlMFPDP//p4QAAADAAADAAAdMAAAAGUB\n",
       "n1FqQn8ADgE6IKDLP8Fm8IjWESz5JSgMMv8M7qC4PyOEAG1HOBke8nnzlFRblVbM39Y0xgCwHX5p\n",
       "BiHhlrp95Z24NcvotVcWc7odkyPRLQXNHKw6mG75TZx0qWtuBAtFAABbQQAAABlBm1RJ4Q8mUwU8\n",
       "M//+nhAAAAMAAAMAAB0wAAAAZQGfc2pCfwAOATogoMs/wWbwiNYRLPklKAwy/wzuoLg/I4QAbUc4\n",
       "GR7yefOUVFuVVszf1jTGALAdfmkGIeGWun3lnbg1y+i1VxZzuh2TI9EtBc0crDqYbvlNnHSpa24E\n",
       "C0UAAFtAAAAAGUGbdknhDyZTBTwz//6eEAAAAwAAAwAAHTEAAABlAZ+VakJ/AA4BOiCgyz/BZvCI\n",
       "1hEs+SUoDDL/DO6guD8jhABtRzgZHvJ585RUW5VWzN/WNMYAsB1+aQYh4Za6feWduDXL6LVXFnO6\n",
       "HZMj0S0FzRysOphu+U2cdKlrbgQLRQAAW0AAAAAZQZuYSeEPJlMFPDP//p4QAAADAAADAAAdMQAA\n",
       "AGUBn7dqQn8ADgE6IKDLP8Fm8IjWESz5JSgMMv8M7qC4PyOEAG1HOBke8nnzlFRblVbM39Y0xgCw\n",
       "HX5pBiHhlrp95Z24NcvotVcWc7odkyPRLQXNHKw6mG75TZx0qWtuBAtFAABbQQAAABlBm7pJ4Q8m\n",
       "UwU8M//+nhAAAAMAAAMAAB0wAAAAZQGf2WpCfwAOATogoMs/wWbwiNYRLPklKAwy/wzuoLg/I4QA\n",
       "bUc4GR7yefOUVFuVVszf1jTGALAdfmkGIeGWun3lnbg1y+i1VxZzuh2TI9EtBc0crDqYbvlNnHSp\n",
       "a24EC0UAAFtBAAAAGUGb3EnhDyZTBTwz//6eEAAAAwAAAwAAHTAAAABlAZ/7akJ/AA4BOiCgyz/B\n",
       "ZvCI1hEs+SUoDDL/DO6guD8jhABtRzgZHvJ585RUW5VWzN/WNMYAsB1+aQYh4Za6feWduDXL6LVX\n",
       "FnO6HZMj0S0FzRysOphu+U2cdKlrbgQLRQAAW0EAAAAZQZv+SeEPJlMFPDP//p4QAAADAAADAAAd\n",
       "MQAAAGUBnh1qQn8ADgE6IKDLP8Fm8IjWESz5JSgMMv8M7qC4PyOEAG1HOBke8nnzlFRblVbM39Y0\n",
       "xgCwHX5pBiHhlrp95Z24NcvotVcWc7odkyPRLQXNHKw6mG75TZx0qWtuBAtFAABbQAAAABlBmgBJ\n",
       "4Q8mUwU8M//+nhAAAAMAAAMAAB0wAAAAZQGeP2pCfwAOATogoMs/wWbwiNYRLPklKAwy/wzuoLg/\n",
       "I4QAbUc4GR7yefOUVFuVVszf1jTGALAdfmkGIeGWun3lnbg1y+i1VxZzuh2TI9EtBc0crDqYbvlN\n",
       "nHSpa24EC0UAAFtBAAAAGUGaIknhDyZTBTwz//6eEAAAAwAAAwAAHTAAAABlAZ5BakJ/AA4BOiCg\n",
       "yz/BZvCI1hEs+SUoDDL/DO6guD8jhABtRzgZHvJ585RUW5VWzN/WNMYAsB1+aQYh4Za6feWduDXL\n",
       "6LVXFnO6HZMj0S0FzRysOphu+U2cdKlrbgQLRQAAW0EAAAAZQZpESeEPJlMFPDP//p4QAAADAAAD\n",
       "AAAdMAAAAGUBnmNqQn8ADgE6IKDLP8Fm8IjWESz5JSgMMv8M7qC4PyOEAG1HOBke8nnzlFRblVbM\n",
       "39Y0xgCwHX5pBiHhlrp95Z24NcvotVcWc7odkyPRLQXNHKw6mG75TZx0qWtuBAtFAABbQQAAABlB\n",
       "mmZJ4Q8mUwU8L//+jLAAAAMAAAMAAB1RAAAAZQGehWpCfwAOATogoMs/wWbwiNYRLPklKAwy/wzu\n",
       "oLg/I4QAbUc4GR7yefOUVFuVVszf1jTGALAdfmkGIeGWun3lnbg1y+i1VxZzuh2TI9EtBc0crDqY\n",
       "bvlNnHSpa24EC0UAAFtBAAAAGUGaiEnhDyZTBTwv//6MsAAAAwAAAwAAHVEAAABlAZ6nakJ/AA4B\n",
       "OiCgyz/BZvCI1hEs+SUoDDL/DO6guD8jhABtRzgZHvJ585RUW5VWzN/WNMYAsB1+aQYh4Za6feWd\n",
       "uDXL6LVXFnO6HZMj0S0FzRysOphu+U2cdKlrbgQLRQAAW0AAAAAZQZqqSeEPJlMFPCv//jhAAAAD\n",
       "AAADAABxwAAAAGUBnslqQn8ADgE6IKDLP8Fm8IjWESz5JSgMMv8M7qC4PyOEAG1HOBke8nnzlFRb\n",
       "lVbM39Y0xgCwHX5pBiHhlrp95Z24NcvotVcWc7odkyPRLQXNHKw6mG75TZx0qWtuBAtFAABbQQAA\n",
       "AGRBmstJ4Q8mUwIT//3xAAHy9NzGlSEZiuAnaxFVyU5wzFUFWetNwfkcIANqOcDI95PPnKKi3KuT\n",
       "Nwy0edOmFNO/wDjIl7a9GRfUJLuOtmwgcGMYLlK60FzRysOpkj7UPkAAAAQ8AAAJwm1vb3YAAABs\n",
       "bXZoZAAAAAAAAAAAAAAAAAAAA+gAABBoAAEAAAEAAAAAAAAAAAAAAAABAAAAAAAAAAAAAAAAAAAA\n",
       "AQAAAAAAAAAAAAAAAAAAQAAAAAAAAAAAAAAAAAAAAAAAAAAAAAAAAAAAAAAAAAIAAAjsdHJhawAA\n",
       "AFx0a2hkAAAAAwAAAAAAAAAAAAAAAQAAAAAAABBoAAAAAAAAAAAAAAAAAAAAAAABAAAAAAAAAAAA\n",
       "AAAAAAAAAQAAAAAAAAAAAAAAAAAAQAAAAAJAAAACQAAAAAAAJGVkdHMAAAAcZWxzdAAAAAAAAAAB\n",
       "AAAQaAAAAwAAAQAAAAAIZG1kaWEAAAAgbWRoZAAAAAAAAAAAAAAAAAAAMgAAANIAVcQAAAAAAC1o\n",
       "ZGxyAAAAAAAAAAB2aWRlAAAAAAAAAAAAAAAAVmlkZW9IYW5kbGVyAAAACA9taW5mAAAAFHZtaGQA\n",
       "AAABAAAAAAAAAAAAAAAkZGluZgAAABxkcmVmAAAAAAAAAAEAAAAMdXJsIAAAAAEAAAfPc3RibAAA\n",
       "ALdzdHNkAAAAAAAAAAEAAACnYXZjMQAAAAAAAAABAAAAAAAAAAAAAAAAAAAAAAJAAkAASAAAAEgA\n",
       "AAAAAAAAAQAAAAAAAAAAAAAAAAAAAAAAAAAAAAAAAAAAAAAAAAAAABj//wAAADVhdmNDAWQAH//h\n",
       "ABhnZAAfrNlAkBJoQAAAAwDAAAAyA8YMZYABAAZo6+PLIsD9+PgAAAAAHHV1aWRraEDyXyRPxbo5\n",
       "pRvPAyPzAAAAAAAAABhzdHRzAAAAAAAAAAEAAACMAAABgAAAABRzdHNzAAAAAAAAAAEAAAABAAAE\n",
       "cGN0dHMAAAAAAAAAjAAAAAEAAAMAAAAAAQAAB4AAAAABAAADAAAAAAEAAAAAAAAAAQAAAYAAAAAB\n",
       "AAAHgAAAAAEAAAMAAAAAAQAAAAAAAAABAAABgAAAAAEAAAeAAAAAAQAAAwAAAAABAAAAAAAAAAEA\n",
       "AAGAAAAAAQAAB4AAAAABAAADAAAAAAEAAAAAAAAAAQAAAYAAAAABAAAHgAAAAAEAAAMAAAAAAQAA\n",
       "AAAAAAABAAABgAAAAAEAAAeAAAAAAQAAAwAAAAABAAAAAAAAAAEAAAGAAAAAAQAAB4AAAAABAAAD\n",
       "AAAAAAEAAAAAAAAAAQAAAYAAAAABAAAHgAAAAAEAAAMAAAAAAQAAAAAAAAABAAABgAAAAAEAAAeA\n",
       "AAAAAQAAAwAAAAABAAAAAAAAAAEAAAGAAAAAAQAAB4AAAAABAAADAAAAAAEAAAAAAAAAAQAAAYAA\n",
       "AAABAAAHgAAAAAEAAAMAAAAAAQAAAAAAAAABAAABgAAAAAEAAAeAAAAAAQAAAwAAAAABAAAAAAAA\n",
       "AAEAAAGAAAAAAQAAB4AAAAABAAADAAAAAAEAAAAAAAAAAQAAAYAAAAABAAAHgAAAAAEAAAMAAAAA\n",
       "AQAAAAAAAAABAAABgAAAAAEAAAeAAAAAAQAAAwAAAAABAAAAAAAAAAEAAAGAAAAAAQAAB4AAAAAB\n",
       "AAADAAAAAAEAAAAAAAAAAQAAAYAAAAABAAAHgAAAAAEAAAMAAAAAAQAAAAAAAAABAAABgAAAAAEA\n",
       "AAeAAAAAAQAAAwAAAAABAAAAAAAAAAEAAAGAAAAAAQAAB4AAAAABAAADAAAAAAEAAAAAAAAAAQAA\n",
       "AYAAAAABAAAHgAAAAAEAAAMAAAAAAQAAAAAAAAABAAABgAAAAAEAAAeAAAAAAQAAAwAAAAABAAAA\n",
       "AAAAAAEAAAGAAAAAAQAABIAAAAABAAABgAAAAAEAAAeAAAAAAQAAAwAAAAABAAAAAAAAAAEAAAGA\n",
       "AAAAAQAABIAAAAABAAABgAAAAAEAAASAAAAAAQAAAYAAAAABAAAEgAAAAAEAAAGAAAAAAQAABIAA\n",
       "AAABAAABgAAAAAEAAASAAAAAAQAAAYAAAAABAAAEgAAAAAEAAAGAAAAAAQAABIAAAAABAAABgAAA\n",
       "AAEAAASAAAAAAQAAAYAAAAABAAAEgAAAAAEAAAGAAAAAAQAABIAAAAABAAABgAAAAAEAAASAAAAA\n",
       "AQAAAYAAAAABAAAEgAAAAAEAAAGAAAAAAQAABIAAAAABAAABgAAAAAEAAASAAAAAAQAAAYAAAAAB\n",
       "AAAEgAAAAAEAAAGAAAAAAQAABIAAAAABAAABgAAAAAEAAASAAAAAAQAAAYAAAAABAAAEgAAAAAEA\n",
       "AAGAAAAAAQAABIAAAAABAAABgAAAAAEAAASAAAAAAQAAAYAAAAABAAAEgAAAAAEAAAGAAAAAAQAA\n",
       "BIAAAAABAAABgAAAAAEAAASAAAAAAQAAAYAAAAABAAAEgAAAAAEAAAGAAAAAAQAAAwAAAAAcc3Rz\n",
       "YwAAAAAAAAABAAAAAQAAAIwAAAABAAACRHN0c3oAAAAAAAAAAAAAAIwAACHXAAAX0AAAEQ8AAAtk\n",
       "AAALmQAADjkAAAtbAAALvgAACXUAAA00AAAJVgAAChMAAAlpAAALvgAACDUAAAjYAAAJFAAACzQA\n",
       "AAhSAAAH3wAABzMAAAn1AAAHAgAABvkAAAaEAAAJAQAABsAAAAX8AAAGRQAAB2gAAAaVAAAGNwAA\n",
       "BOIAAAZwAAAESAAABDwAAAViAAAFmgAABAcAAAQnAAAD2QAABX8AAARkAAAEGQAABBQAAASCAAAE\n",
       "lgAAA5gAAAO0AAADzAAAA2UAAALuAAAC2wAAA1wAAAJGAAAB5gAAAkIAAAKXAAACOQAAAmgAAAH5\n",
       "AAACiQAAAZIAAAGtAAABwgAAAtgAAAJWAAACQgAAAbsAAAMGAAACZAAAAp4AAAJUAAACKAAAAl0A\n",
       "AAHVAAABjwAAAWUAAAGmAAABeAAAAUkAAAEwAAAAkwAAAMoAAADbAAAAVQAAAOQAAACpAAAAfQAA\n",
       "AMAAAACzAAAAwgAAAPsAAAD3AAAA9gAAAL8AAAEVAAAAYgAAAMMAAABAAAAAdwAAAEUAAABuAAAA\n",
       "HQAAAGkAAAAdAAAAaQAAAB0AAABpAAAAHQAAAGkAAAAdAAAAaQAAAB0AAABpAAAAHQAAAGkAAAAd\n",
       "AAAAaQAAAB0AAABpAAAAHQAAAGkAAAAdAAAAaQAAAB0AAABpAAAAHQAAAGkAAAAdAAAAaQAAAB0A\n",
       "AABpAAAAHQAAAGkAAAAdAAAAaQAAAB0AAABpAAAAaAAAABRzdGNvAAAAAAAAAAEAAAAwAAAAYnVk\n",
       "dGEAAABabWV0YQAAAAAAAAAhaGRscgAAAAAAAAAAbWRpcmFwcGwAAAAAAAAAAAAAAAAtaWxzdAAA\n",
       "ACWpdG9vAAAAHWRhdGEAAAABAAAAAExhdmY1OC40NS4xMDA=\n",
       "\">\n",
       "  Your browser does not support the video tag.\n",
       "</video>"
      ],
      "text/plain": [
       "<IPython.core.display.HTML object>"
      ]
     },
     "metadata": {},
     "output_type": "display_data"
    },
    {
     "data": {
      "image/png": "[encoded data removed]",
      "text/plain": [
       "<Figure size 576x576 with 1 Axes>"
      ]
     },
     "metadata": {},
     "output_type": "display_data"
    }
   ],
   "source": [
    "if __name__ == '__main__':\n",
    "    main('random',fra=140,I=30,size=50)"
   ]
  },
  {
   "cell_type": "markdown",
   "metadata": {
    "id": "h3WwfIq3K5VV"
   },
   "source": [
    "# Analysis\n",
    "In this part, we are going to analyse the evolutions of these patterns throught the game as in for each round in terms of frequency occupancy and replication.\n"
   ]
  },
  {
   "cell_type": "markdown",
   "metadata": {
    "id": "D9ekjJjFLSbN"
   },
   "source": [
    "## Occupancy\n",
    "The occupancy is how many alive cells there are at every step of the game"
   ]
  },
  {
   "cell_type": "code",
   "execution_count": 114,
   "metadata": {
    "id": "xaL45f2gLL_l"
   },
   "outputs": [],
   "source": [
    "def occupancy(image_name,iter=50):\n",
    "    img = cv2.imread(image_name+'.png', 0)\n",
    "    mat = np.zeros(np.shape(img), dtype=np.uint8)\n",
    "    mat[img == 0 ] = 1\n",
    "    grid = create_grid(max(max(np.shape(img)),50), mat)\n",
    "\n",
    "    #List of number of cells alive\n",
    "    count_cells_alive = [np.count_nonzero(grid)]\n",
    "\n",
    "    for i in range(iter):\n",
    "        grid, _ = animate(0, grid)\n",
    "        count_cells_alive.append(np.count_nonzero(grid))\n",
    "\n",
    "    iterations=[i for i in range(iter+1)]\n",
    "    fig,ax = plt.subplots()\n",
    "    plt.plot(iterations,count_cells_alive,linestyle=\"-\",linewidth=1)\n",
    "    plt.xlabel('Iterations')\n",
    "    plt.ylabel('Occupancy')\n",
    "    #ax.set_xticks(iterations)\n",
    "    plt.title(image_name+\", occupancy per iteration\")\n",
    "    plt.legend()\n",
    "    plt.savefig(\"occupancy.png\")\n",
    "    plt.show()\n",
    "\n",
    "\n",
    "    return count_cells_alive"
   ]
  },
  {
   "cell_type": "code",
   "execution_count": 115,
   "metadata": {
    "colab": {
     "base_uri": "https://localhost:8080/",
     "height": 314
    },
    "id": "D27AENLvMbe7",
    "outputId": "69b9bde5-b9f9-420e-81f3-3020d74978d9"
   },
   "outputs": [
    {
     "name": "stderr",
     "output_type": "stream",
     "text": [
      "No handles with labels found to put in legend.\n"
     ]
    },
    {
     "data": {
      "image/png": "[encoded data removed]",
      "text/plain": [
       "<Figure size 432x288 with 1 Axes>"
      ]
     },
     "metadata": {
      "needs_background": "light"
     },
     "output_type": "display_data"
    }
   ],
   "source": [
    "occ = occupancy('diehard',140)  "
   ]
  },
  {
   "cell_type": "markdown",
   "metadata": {
    "id": "uqeYPgJFRkqw"
   },
   "source": [
    "## Frequency\n",
    "The frequency is the number of cycles required to return to the original configuration, if any"
   ]
  },
  {
   "cell_type": "code",
   "execution_count": 119,
   "metadata": {
    "id": "AuEp8MAHZR9I"
   },
   "outputs": [],
   "source": [
    "#find if the same patern is present in two grid and calculate the disance between them\n",
    "def shearch_spaceshipe(grid1,grid2):\n",
    "    #reducing the grid patern to a smaller grid containing the patern\n",
    "    x1,y1=np.where(grid1 == 1)\n",
    "    patern1=grid1[min(x1):max(x1)+1,min(y1):max(y1)+1]\n",
    "\n",
    "    x2,y2=np.where(grid2 == 1)\n",
    "    patern2=grid2[min(x2):max(x2)+1,min(y2):max(y2)+1]\n",
    "\n",
    "    #relative position between the two patern (only use if th patern are equal)\n",
    "    position=np.array([min(x2)-min(x1),min(y2)-min(y1)])\n",
    "\n",
    "    return(np.array_equal(patern1,patern2),position)\n",
    "\n",
    "#find the freqency, the speed and the type of a patern\n",
    "def frequency_speed(image_name,n_max=50): #find frequency of spaceshipes (also works for blinkers)\n",
    "    img = cv2.imread(image_name+'.png', 0)\n",
    "    mat = np.zeros(np.shape(img), dtype=np.uint8)\n",
    "    mat[img == 0 ] = 1\n",
    "    grid_start = create_grid(max(max(np.shape(img)),50), mat)\n",
    "\n",
    "    #To save the original grid\n",
    "    grid_temp = grid_start.copy()\n",
    "\n",
    "    for periode in range(n_max):\n",
    "        grid_temp, _ = animate(0, grid_temp)\n",
    "\n",
    "        if np.array_equal(grid_temp, grid_start) and periode == 0:\n",
    "            pattern_name = \"still_lifes\"\n",
    "            periode += 1\n",
    "            return 1,np.array([0,0]), pattern_name\n",
    "\n",
    "        if np.array_equal(grid_temp, grid_start):\n",
    "            pattern_name = \"oscillator\"\n",
    "            periode += 1\n",
    "            return 1/periode,np.array([0,0]), pattern_name\n",
    "\n",
    "        equal,distance=shearch_spaceshipe(grid_temp, grid_start)\n",
    "\n",
    "        if equal:\n",
    "            pattern_name = \"spaceships\"\n",
    "            periode += 1\n",
    "            speed=abs(distance)/periode\n",
    "            return 1/periode,speed, pattern_name\n"
   ]
  },
  {
   "cell_type": "code",
   "execution_count": 120,
   "metadata": {
    "colab": {
     "base_uri": "https://localhost:8080/"
    },
    "id": "15rSVkuCawYZ",
    "outputId": "d426f851-c574-4165-f10c-8c505c6d7f9b"
   },
   "outputs": [
    {
     "name": "stdout",
     "output_type": "stream",
     "text": [
      "(0.5, array([0, 0]), 'oscillator')\n",
      "(0.25, array([0.25, 0.25]), 'spaceships')\n",
      "(0.25, array([0. , 0.5]), 'spaceships')\n"
     ]
    }
   ],
   "source": [
    "print(frequency_speed('blinker'))\n",
    "print(frequency_speed('glider'))\n",
    "print(frequency_speed('light_weight_spaceship'))"
   ]
  },
  {
   "cell_type": "markdown",
   "metadata": {
    "id": "4zPOAcoIxzZa"
   },
   "source": [
    "## Replication\n",
    "The replication or heat is the average number of cells that change state at each generation."
   ]
  },
  {
   "cell_type": "code",
   "execution_count": 121,
   "metadata": {
    "id": "QNwUbkqVx5l8"
   },
   "outputs": [],
   "source": [
    "def replication(image_name,periode=True,iter=200):\n",
    "    #if the motif is periodic we observe it on 2 periode\n",
    "    if periode:\n",
    "        f,_,_=frequency_speed(image_name)\n",
    "        iteration=2*(round(1/f))\n",
    "    else:\n",
    "        iteration=iter\n",
    "\n",
    "    img = cv2.imread(image_name+'.png', 0)\n",
    "    mat = np.zeros(np.shape(img), dtype=np.uint8)\n",
    "    mat[img == 0 ] = 1\n",
    "    grid = create_grid(max(max(np.shape(img)),20), mat)\n",
    "\n",
    "    #To save the original grid\n",
    "    grid_next = grid.copy()\n",
    "    birth = []\n",
    "    death =[]\n",
    "    change = []\n",
    "\n",
    "    for i in range(iteration):\n",
    "        grid_next, _ = animate(0, grid_next)\n",
    "        #Check how many elements are equal in two numpy arrays\n",
    "        birth.append(np.sum( np.logical_or(grid_next,grid)- grid))\n",
    "        death.append(np.sum( np.logical_or(grid_next,grid)- grid_next))\n",
    "        change.append(birth[-1]+death[-1])\n",
    "        #grid is the new reference\n",
    "        grid = grid_next.copy()\n",
    "\n",
    "    generation=[i+1 for i in range(len(change))]\n",
    "    fig,ax = plt.subplots()\n",
    "    plt.plot(generation,birth,label=\"birth\",linestyle=\"-\",linewidth=1)\n",
    "    plt.plot(generation,death,label=\"death\",linestyle=\"-\")\n",
    "    plt.plot(generation,change,label=\"change of state\")\n",
    "    plt.xlabel('Generation')\n",
    "    plt.ylabel('number of cell')\n",
    "    #ax.set_xticks(generation)\n",
    "    plt.title(image_name+\", replication rate = {:.0f}\".format(np.mean(change)))\n",
    "    plt.legend()\n",
    "    #plt.savefig(\"replication_\"+name+\".png\")\n",
    "    plt.show()\n",
    "\n",
    "    return (birth,death,change)"
   ]
  },
  {
   "cell_type": "code",
   "execution_count": 122,
   "metadata": {
    "colab": {
     "base_uri": "https://localhost:8080/",
     "height": 314
    },
    "id": "bcb-zaAOzuVB",
    "outputId": "fd104c3a-2782-4fea-d5bd-92cc4c1f04bd"
   },
   "outputs": [
    {
     "data": {
      "image/png": "[encoded data removed]",
      "text/plain": [
       "<Figure size 432x288 with 1 Axes>"
      ]
     },
     "metadata": {
      "needs_background": "light"
     },
     "output_type": "display_data"
    },
    {
     "name": "stdout",
     "output_type": "stream",
     "text": [
      "([2.0, 2.0, 2.0, 2.0, 2.0, 2.0, 2.0, 2.0], [2.0, 2.0, 2.0, 2.0, 2.0, 2.0, 2.0, 2.0], [4.0, 4.0, 4.0, 4.0, 4.0, 4.0, 4.0, 4.0])\n"
     ]
    }
   ],
   "source": [
    "print(replication('glider'))"
   ]
  },
  {
   "cell_type": "markdown",
   "metadata": {
    "id": "ziTXbwVmH_nf"
   },
   "source": [
    "# Still lifes Analysis"
   ]
  },
  {
   "cell_type": "markdown",
   "metadata": {
    "id": "Ry5NxQ4dIKMt"
   },
   "source": [
    "## Block"
   ]
  },
  {
   "cell_type": "code",
   "execution_count": 123,
   "metadata": {
    "colab": {
     "base_uri": "https://localhost:8080/",
     "height": 634,
     "resources": {
      "http://localhost:8080/output/still_life/beehive.gif": {
       "data": "CjwhRE9DVFlQRSBodG1sPgo8aHRtbCBsYW5nPWVuPgogIDxtZXRhIGNoYXJzZXQ9dXRmLTg+CiAgPG1ldGEgbmFtZT12aWV3cG9ydCBjb250ZW50PSJpbml0aWFsLXNjYWxlPTEsIG1pbmltdW0tc2NhbGU9MSwgd2lkdGg9ZGV2aWNlLXdpZHRoIj4KICA8dGl0bGU+RXJyb3IgNDA0IChOb3QgRm91bmQpISExPC90aXRsZT4KICA8c3R5bGU+CiAgICAqe21hcmdpbjowO3BhZGRpbmc6MH1odG1sLGNvZGV7Zm9udDoxNXB4LzIycHggYXJpYWwsc2Fucy1zZXJpZn1odG1se2JhY2tncm91bmQ6I2ZmZjtjb2xvcjojMjIyO3BhZGRpbmc6MTVweH1ib2R5e21hcmdpbjo3JSBhdXRvIDA7bWF4LXdpZHRoOjM5MHB4O21pbi1oZWlnaHQ6MTgwcHg7cGFkZGluZzozMHB4IDAgMTVweH0qID4gYm9keXtiYWNrZ3JvdW5kOnVybCgvL3d3dy5nb29nbGUuY29tL2ltYWdlcy9lcnJvcnMvcm9ib3QucG5nKSAxMDAlIDVweCBuby1yZXBlYXQ7cGFkZGluZy1yaWdodDoyMDVweH1we21hcmdpbjoxMXB4IDAgMjJweDtvdmVyZmxvdzpoaWRkZW59aW5ze2NvbG9yOiM3Nzc7dGV4dC1kZWNvcmF0aW9uOm5vbmV9YSBpbWd7Ym9yZGVyOjB9QG1lZGlhIHNjcmVlbiBhbmQgKG1heC13aWR0aDo3NzJweCl7Ym9keXtiYWNrZ3JvdW5kOm5vbmU7bWFyZ2luLXRvcDowO21heC13aWR0aDpub25lO3BhZGRpbmctcmlnaHQ6MH19I2xvZ297YmFja2dyb3VuZDp1cmwoLy93d3cuZ29vZ2xlLmNvbS9pbWFnZXMvbG9nb3MvZXJyb3JwYWdlL2Vycm9yX2xvZ28tMTUweDU0LnBuZykgbm8tcmVwZWF0O21hcmdpbi1sZWZ0Oi01cHh9QG1lZGlhIG9ubHkgc2NyZWVuIGFuZCAobWluLXJlc29sdXRpb246MTkyZHBpKXsjbG9nb3tiYWNrZ3JvdW5kOnVybCgvL3d3dy5nb29nbGUuY29tL2ltYWdlcy9sb2dvcy9lcnJvcnBhZ2UvZXJyb3JfbG9nby0xNTB4NTQtMngucG5nKSBuby1yZXBlYXQgMCUgMCUvMTAwJSAxMDAlOy1tb3otYm9yZGVyLWltYWdlOnVybCgvL3d3dy5nb29nbGUuY29tL2ltYWdlcy9sb2dvcy9lcnJvcnBhZ2UvZXJyb3JfbG9nby0xNTB4NTQtMngucG5nKSAwfX1AbWVkaWEgb25seSBzY3JlZW4gYW5kICgtd2Via2l0LW1pbi1kZXZpY2UtcGl4ZWwtcmF0aW86Mil7I2xvZ297YmFja2dyb3VuZDp1cmwoLy93d3cuZ29vZ2xlLmNvbS9pbWFnZXMvbG9nb3MvZXJyb3JwYWdlL2Vycm9yX2xvZ28tMTUweDU0LTJ4LnBuZykgbm8tcmVwZWF0Oy13ZWJraXQtYmFja2dyb3VuZC1zaXplOjEwMCUgMTAwJX19I2xvZ297ZGlzcGxheTppbmxpbmUtYmxvY2s7aGVpZ2h0OjU0cHg7d2lkdGg6MTUwcHh9CiAgPC9zdHlsZT4KICA8YSBocmVmPS8vd3d3Lmdvb2dsZS5jb20vPjxzcGFuIGlkPWxvZ28gYXJpYS1sYWJlbD1Hb29nbGU+PC9zcGFuPjwvYT4KICA8cD48Yj40MDQuPC9iPiA8aW5zPlRoYXTigJlzIGFuIGVycm9yLjwvaW5zPgogIDxwPiAgPGlucz5UaGF04oCZcyBhbGwgd2Uga25vdy48L2lucz4K",
       "headers": [
        [
         "content-length",
         "1449"
        ],
        [
         "content-type",
         "text/html; charset=utf-8"
        ]
       ],
       "ok": false,
       "status": 404,
       "status_text": "Not Found"
      }
     }
    },
    "id": "Hre-3fkJIhq2",
    "outputId": "152c7012-6ae2-40af-e837-7d8a66279976"
   },
   "outputs": [
    {
     "data": {
      "text/html": [
       "<div style=\"display: flex; justify-content: row;\">\n",
       "    <img src=\"output/still_life/beehive.gif\">\n",
       "</div>"
      ],
      "text/plain": [
       "<IPython.core.display.HTML object>"
      ]
     },
     "metadata": {},
     "output_type": "display_data"
    },
    {
     "name": "stderr",
     "output_type": "stream",
     "text": [
      "No handles with labels found to put in legend.\n"
     ]
    },
    {
     "data": {
      "image/png": "[encoded data removed]",
      "text/plain": [
       "<Figure size 432x288 with 1 Axes>"
      ]
     },
     "metadata": {
      "needs_background": "light"
     },
     "output_type": "display_data"
    },
    {
     "name": "stdout",
     "output_type": "stream",
     "text": [
      "frequency :  1\n"
     ]
    },
    {
     "data": {
      "image/png": "[encoded data removed]",
      "text/plain": [
       "<Figure size 432x288 with 1 Axes>"
      ]
     },
     "metadata": {
      "needs_background": "light"
     },
     "output_type": "display_data"
    }
   ],
   "source": [
    "pattern = 'bee_hive'\n",
    "\n",
    "display(HTML('''<div style=\"display: flex; justify-content: row;\">\n",
    "    <img src=\"output/still_life/beehive.gif\">\n",
    "</div>'''))\n",
    "\n",
    "occ = occupancy(pattern)\n",
    "freq, _, _ = frequency_speed(pattern)\n",
    "print('frequency : ', freq)\n",
    "rep = replication(pattern)"
   ]
  },
  {
   "cell_type": "markdown",
   "metadata": {
    "id": "BzZFURvdi7VI"
   },
   "source": [
    "# Oscillator Analysis"
   ]
  },
  {
   "cell_type": "markdown",
   "metadata": {
    "id": "NmxJTeEni9Dz"
   },
   "source": [
    "## Penta decathlon"
   ]
  },
  {
   "cell_type": "code",
   "execution_count": 124,
   "metadata": {
    "colab": {
     "base_uri": "https://localhost:8080/",
     "height": 634,
     "resources": {
      "http://localhost:8080/output/oscillator/penta_decathlon.gif": {
       "data": "CjwhRE9DVFlQRSBodG1sPgo8aHRtbCBsYW5nPWVuPgogIDxtZXRhIGNoYXJzZXQ9dXRmLTg+CiAgPG1ldGEgbmFtZT12aWV3cG9ydCBjb250ZW50PSJpbml0aWFsLXNjYWxlPTEsIG1pbmltdW0tc2NhbGU9MSwgd2lkdGg9ZGV2aWNlLXdpZHRoIj4KICA8dGl0bGU+RXJyb3IgNDA0IChOb3QgRm91bmQpISExPC90aXRsZT4KICA8c3R5bGU+CiAgICAqe21hcmdpbjowO3BhZGRpbmc6MH1odG1sLGNvZGV7Zm9udDoxNXB4LzIycHggYXJpYWwsc2Fucy1zZXJpZn1odG1se2JhY2tncm91bmQ6I2ZmZjtjb2xvcjojMjIyO3BhZGRpbmc6MTVweH1ib2R5e21hcmdpbjo3JSBhdXRvIDA7bWF4LXdpZHRoOjM5MHB4O21pbi1oZWlnaHQ6MTgwcHg7cGFkZGluZzozMHB4IDAgMTVweH0qID4gYm9keXtiYWNrZ3JvdW5kOnVybCgvL3d3dy5nb29nbGUuY29tL2ltYWdlcy9lcnJvcnMvcm9ib3QucG5nKSAxMDAlIDVweCBuby1yZXBlYXQ7cGFkZGluZy1yaWdodDoyMDVweH1we21hcmdpbjoxMXB4IDAgMjJweDtvdmVyZmxvdzpoaWRkZW59aW5ze2NvbG9yOiM3Nzc7dGV4dC1kZWNvcmF0aW9uOm5vbmV9YSBpbWd7Ym9yZGVyOjB9QG1lZGlhIHNjcmVlbiBhbmQgKG1heC13aWR0aDo3NzJweCl7Ym9keXtiYWNrZ3JvdW5kOm5vbmU7bWFyZ2luLXRvcDowO21heC13aWR0aDpub25lO3BhZGRpbmctcmlnaHQ6MH19I2xvZ297YmFja2dyb3VuZDp1cmwoLy93d3cuZ29vZ2xlLmNvbS9pbWFnZXMvbG9nb3MvZXJyb3JwYWdlL2Vycm9yX2xvZ28tMTUweDU0LnBuZykgbm8tcmVwZWF0O21hcmdpbi1sZWZ0Oi01cHh9QG1lZGlhIG9ubHkgc2NyZWVuIGFuZCAobWluLXJlc29sdXRpb246MTkyZHBpKXsjbG9nb3tiYWNrZ3JvdW5kOnVybCgvL3d3dy5nb29nbGUuY29tL2ltYWdlcy9sb2dvcy9lcnJvcnBhZ2UvZXJyb3JfbG9nby0xNTB4NTQtMngucG5nKSBuby1yZXBlYXQgMCUgMCUvMTAwJSAxMDAlOy1tb3otYm9yZGVyLWltYWdlOnVybCgvL3d3dy5nb29nbGUuY29tL2ltYWdlcy9sb2dvcy9lcnJvcnBhZ2UvZXJyb3JfbG9nby0xNTB4NTQtMngucG5nKSAwfX1AbWVkaWEgb25seSBzY3JlZW4gYW5kICgtd2Via2l0LW1pbi1kZXZpY2UtcGl4ZWwtcmF0aW86Mil7I2xvZ297YmFja2dyb3VuZDp1cmwoLy93d3cuZ29vZ2xlLmNvbS9pbWFnZXMvbG9nb3MvZXJyb3JwYWdlL2Vycm9yX2xvZ28tMTUweDU0LTJ4LnBuZykgbm8tcmVwZWF0Oy13ZWJraXQtYmFja2dyb3VuZC1zaXplOjEwMCUgMTAwJX19I2xvZ297ZGlzcGxheTppbmxpbmUtYmxvY2s7aGVpZ2h0OjU0cHg7d2lkdGg6MTUwcHh9CiAgPC9zdHlsZT4KICA8YSBocmVmPS8vd3d3Lmdvb2dsZS5jb20vPjxzcGFuIGlkPWxvZ28gYXJpYS1sYWJlbD1Hb29nbGU+PC9zcGFuPjwvYT4KICA8cD48Yj40MDQuPC9iPiA8aW5zPlRoYXTigJlzIGFuIGVycm9yLjwvaW5zPgogIDxwPiAgPGlucz5UaGF04oCZcyBhbGwgd2Uga25vdy48L2lucz4K",
       "headers": [
        [
         "content-length",
         "1449"
        ],
        [
         "content-type",
         "text/html; charset=utf-8"
        ]
       ],
       "ok": false,
       "status": 404,
       "status_text": "Not Found"
      }
     }
    },
    "id": "Rmy98dG2jAyr",
    "outputId": "af11dc50-fb0d-41bc-bf89-60a2bfc5c826"
   },
   "outputs": [
    {
     "data": {
      "text/html": [
       "<div style=\"display: flex; justify-content: row;\">\n",
       "    <img src=\"output/oscillator/penta_decathlon.gif\">\n",
       "</div>"
      ],
      "text/plain": [
       "<IPython.core.display.HTML object>"
      ]
     },
     "metadata": {},
     "output_type": "display_data"
    },
    {
     "name": "stderr",
     "output_type": "stream",
     "text": [
      "No handles with labels found to put in legend.\n"
     ]
    },
    {
     "data": {
      "image/png": "[encoded data removed]",
      "text/plain": [
       "<Figure size 432x288 with 1 Axes>"
      ]
     },
     "metadata": {
      "needs_background": "light"
     },
     "output_type": "display_data"
    },
    {
     "name": "stdout",
     "output_type": "stream",
     "text": [
      "frequency :  0.06666666666666667\n"
     ]
    },
    {
     "data": {
      "image/png": "[encoded data removed]",
      "text/plain": [
       "<Figure size 432x288 with 1 Axes>"
      ]
     },
     "metadata": {
      "needs_background": "light"
     },
     "output_type": "display_data"
    }
   ],
   "source": [
    "pattern = 'penta_decathlon'\n",
    "\n",
    "display(HTML('''<div style=\"display: flex; justify-content: row;\">\n",
    "    <img src=\"output/oscillator/penta_decathlon.gif\">\n",
    "</div>'''))\n",
    "\n",
    "occ = occupancy(pattern)\n",
    "freq, _, _ = frequency_speed(pattern)\n",
    "print('frequency : ', freq)\n",
    "rep = replication(pattern)"
   ]
  },
  {
   "cell_type": "markdown",
   "metadata": {
    "id": "DXvvcoqWjKbz"
   },
   "source": [
    "## Pulsar"
   ]
  },
  {
   "cell_type": "code",
   "execution_count": 125,
   "metadata": {
    "colab": {
     "base_uri": "https://localhost:8080/",
     "height": 634,
     "resources": {
      "http://localhost:8080/output/oscillator/pulsar.gif": {
       "data": "CjwhRE9DVFlQRSBodG1sPgo8aHRtbCBsYW5nPWVuPgogIDxtZXRhIGNoYXJzZXQ9dXRmLTg+CiAgPG1ldGEgbmFtZT12aWV3cG9ydCBjb250ZW50PSJpbml0aWFsLXNjYWxlPTEsIG1pbmltdW0tc2NhbGU9MSwgd2lkdGg9ZGV2aWNlLXdpZHRoIj4KICA8dGl0bGU+RXJyb3IgNDA0IChOb3QgRm91bmQpISExPC90aXRsZT4KICA8c3R5bGU+CiAgICAqe21hcmdpbjowO3BhZGRpbmc6MH1odG1sLGNvZGV7Zm9udDoxNXB4LzIycHggYXJpYWwsc2Fucy1zZXJpZn1odG1se2JhY2tncm91bmQ6I2ZmZjtjb2xvcjojMjIyO3BhZGRpbmc6MTVweH1ib2R5e21hcmdpbjo3JSBhdXRvIDA7bWF4LXdpZHRoOjM5MHB4O21pbi1oZWlnaHQ6MTgwcHg7cGFkZGluZzozMHB4IDAgMTVweH0qID4gYm9keXtiYWNrZ3JvdW5kOnVybCgvL3d3dy5nb29nbGUuY29tL2ltYWdlcy9lcnJvcnMvcm9ib3QucG5nKSAxMDAlIDVweCBuby1yZXBlYXQ7cGFkZGluZy1yaWdodDoyMDVweH1we21hcmdpbjoxMXB4IDAgMjJweDtvdmVyZmxvdzpoaWRkZW59aW5ze2NvbG9yOiM3Nzc7dGV4dC1kZWNvcmF0aW9uOm5vbmV9YSBpbWd7Ym9yZGVyOjB9QG1lZGlhIHNjcmVlbiBhbmQgKG1heC13aWR0aDo3NzJweCl7Ym9keXtiYWNrZ3JvdW5kOm5vbmU7bWFyZ2luLXRvcDowO21heC13aWR0aDpub25lO3BhZGRpbmctcmlnaHQ6MH19I2xvZ297YmFja2dyb3VuZDp1cmwoLy93d3cuZ29vZ2xlLmNvbS9pbWFnZXMvbG9nb3MvZXJyb3JwYWdlL2Vycm9yX2xvZ28tMTUweDU0LnBuZykgbm8tcmVwZWF0O21hcmdpbi1sZWZ0Oi01cHh9QG1lZGlhIG9ubHkgc2NyZWVuIGFuZCAobWluLXJlc29sdXRpb246MTkyZHBpKXsjbG9nb3tiYWNrZ3JvdW5kOnVybCgvL3d3dy5nb29nbGUuY29tL2ltYWdlcy9sb2dvcy9lcnJvcnBhZ2UvZXJyb3JfbG9nby0xNTB4NTQtMngucG5nKSBuby1yZXBlYXQgMCUgMCUvMTAwJSAxMDAlOy1tb3otYm9yZGVyLWltYWdlOnVybCgvL3d3dy5nb29nbGUuY29tL2ltYWdlcy9sb2dvcy9lcnJvcnBhZ2UvZXJyb3JfbG9nby0xNTB4NTQtMngucG5nKSAwfX1AbWVkaWEgb25seSBzY3JlZW4gYW5kICgtd2Via2l0LW1pbi1kZXZpY2UtcGl4ZWwtcmF0aW86Mil7I2xvZ297YmFja2dyb3VuZDp1cmwoLy93d3cuZ29vZ2xlLmNvbS9pbWFnZXMvbG9nb3MvZXJyb3JwYWdlL2Vycm9yX2xvZ28tMTUweDU0LTJ4LnBuZykgbm8tcmVwZWF0Oy13ZWJraXQtYmFja2dyb3VuZC1zaXplOjEwMCUgMTAwJX19I2xvZ297ZGlzcGxheTppbmxpbmUtYmxvY2s7aGVpZ2h0OjU0cHg7d2lkdGg6MTUwcHh9CiAgPC9zdHlsZT4KICA8YSBocmVmPS8vd3d3Lmdvb2dsZS5jb20vPjxzcGFuIGlkPWxvZ28gYXJpYS1sYWJlbD1Hb29nbGU+PC9zcGFuPjwvYT4KICA8cD48Yj40MDQuPC9iPiA8aW5zPlRoYXTigJlzIGFuIGVycm9yLjwvaW5zPgogIDxwPiAgPGlucz5UaGF04oCZcyBhbGwgd2Uga25vdy48L2lucz4K",
       "headers": [
        [
         "content-length",
         "1449"
        ],
        [
         "content-type",
         "text/html; charset=utf-8"
        ]
       ],
       "ok": false,
       "status": 404,
       "status_text": "Not Found"
      }
     }
    },
    "id": "-Tq7LwzbjMFc",
    "outputId": "c0a7538b-b8af-4937-cca5-f1e17d21b889"
   },
   "outputs": [
    {
     "data": {
      "text/html": [
       "<div style=\"display: flex; justify-content: row;\">\n",
       "    <img src=\"output/oscillator/pulsar.gif\">\n",
       "</div>"
      ],
      "text/plain": [
       "<IPython.core.display.HTML object>"
      ]
     },
     "metadata": {},
     "output_type": "display_data"
    },
    {
     "name": "stderr",
     "output_type": "stream",
     "text": [
      "No handles with labels found to put in legend.\n"
     ]
    },
    {
     "data": {
      "image/png": "[encoded data removed]",
      "text/plain": [
       "<Figure size 432x288 with 1 Axes>"
      ]
     },
     "metadata": {
      "needs_background": "light"
     },
     "output_type": "display_data"
    },
    {
     "name": "stdout",
     "output_type": "stream",
     "text": [
      "frequency :  0.3333333333333333\n"
     ]
    },
    {
     "data": {
      "image/png": "[encoded data removed]",
      "text/plain": [
       "<Figure size 432x288 with 1 Axes>"
      ]
     },
     "metadata": {
      "needs_background": "light"
     },
     "output_type": "display_data"
    }
   ],
   "source": [
    "pattern = 'pulsar'\n",
    "\n",
    "display(HTML('''<div style=\"display: flex; justify-content: row;\">\n",
    "    <img src=\"output/oscillator/pulsar.gif\">\n",
    "</div>'''))\n",
    "\n",
    "occ = occupancy(pattern)\n",
    "freq, _, _ = frequency_speed(pattern)\n",
    "print('frequency : ', freq)\n",
    "rep = replication(pattern)"
   ]
  },
  {
   "cell_type": "markdown",
   "metadata": {
    "id": "6k0rMdY5jYo-"
   },
   "source": [
    "# Spaceships Analysis"
   ]
  },
  {
   "cell_type": "markdown",
   "metadata": {
    "id": "vYjWFFpWjcIr"
   },
   "source": [
    "## Lihgt weight spaceship"
   ]
  },
  {
   "cell_type": "code",
   "execution_count": 126,
   "metadata": {
    "colab": {
     "base_uri": "https://localhost:8080/",
     "height": 634,
     "resources": {
      "http://localhost:8080/output/spaceship/light_weight_spaceship.gif": {
       "data": "CjwhRE9DVFlQRSBodG1sPgo8aHRtbCBsYW5nPWVuPgogIDxtZXRhIGNoYXJzZXQ9dXRmLTg+CiAgPG1ldGEgbmFtZT12aWV3cG9ydCBjb250ZW50PSJpbml0aWFsLXNjYWxlPTEsIG1pbmltdW0tc2NhbGU9MSwgd2lkdGg9ZGV2aWNlLXdpZHRoIj4KICA8dGl0bGU+RXJyb3IgNDA0IChOb3QgRm91bmQpISExPC90aXRsZT4KICA8c3R5bGU+CiAgICAqe21hcmdpbjowO3BhZGRpbmc6MH1odG1sLGNvZGV7Zm9udDoxNXB4LzIycHggYXJpYWwsc2Fucy1zZXJpZn1odG1se2JhY2tncm91bmQ6I2ZmZjtjb2xvcjojMjIyO3BhZGRpbmc6MTVweH1ib2R5e21hcmdpbjo3JSBhdXRvIDA7bWF4LXdpZHRoOjM5MHB4O21pbi1oZWlnaHQ6MTgwcHg7cGFkZGluZzozMHB4IDAgMTVweH0qID4gYm9keXtiYWNrZ3JvdW5kOnVybCgvL3d3dy5nb29nbGUuY29tL2ltYWdlcy9lcnJvcnMvcm9ib3QucG5nKSAxMDAlIDVweCBuby1yZXBlYXQ7cGFkZGluZy1yaWdodDoyMDVweH1we21hcmdpbjoxMXB4IDAgMjJweDtvdmVyZmxvdzpoaWRkZW59aW5ze2NvbG9yOiM3Nzc7dGV4dC1kZWNvcmF0aW9uOm5vbmV9YSBpbWd7Ym9yZGVyOjB9QG1lZGlhIHNjcmVlbiBhbmQgKG1heC13aWR0aDo3NzJweCl7Ym9keXtiYWNrZ3JvdW5kOm5vbmU7bWFyZ2luLXRvcDowO21heC13aWR0aDpub25lO3BhZGRpbmctcmlnaHQ6MH19I2xvZ297YmFja2dyb3VuZDp1cmwoLy93d3cuZ29vZ2xlLmNvbS9pbWFnZXMvbG9nb3MvZXJyb3JwYWdlL2Vycm9yX2xvZ28tMTUweDU0LnBuZykgbm8tcmVwZWF0O21hcmdpbi1sZWZ0Oi01cHh9QG1lZGlhIG9ubHkgc2NyZWVuIGFuZCAobWluLXJlc29sdXRpb246MTkyZHBpKXsjbG9nb3tiYWNrZ3JvdW5kOnVybCgvL3d3dy5nb29nbGUuY29tL2ltYWdlcy9sb2dvcy9lcnJvcnBhZ2UvZXJyb3JfbG9nby0xNTB4NTQtMngucG5nKSBuby1yZXBlYXQgMCUgMCUvMTAwJSAxMDAlOy1tb3otYm9yZGVyLWltYWdlOnVybCgvL3d3dy5nb29nbGUuY29tL2ltYWdlcy9sb2dvcy9lcnJvcnBhZ2UvZXJyb3JfbG9nby0xNTB4NTQtMngucG5nKSAwfX1AbWVkaWEgb25seSBzY3JlZW4gYW5kICgtd2Via2l0LW1pbi1kZXZpY2UtcGl4ZWwtcmF0aW86Mil7I2xvZ297YmFja2dyb3VuZDp1cmwoLy93d3cuZ29vZ2xlLmNvbS9pbWFnZXMvbG9nb3MvZXJyb3JwYWdlL2Vycm9yX2xvZ28tMTUweDU0LTJ4LnBuZykgbm8tcmVwZWF0Oy13ZWJraXQtYmFja2dyb3VuZC1zaXplOjEwMCUgMTAwJX19I2xvZ297ZGlzcGxheTppbmxpbmUtYmxvY2s7aGVpZ2h0OjU0cHg7d2lkdGg6MTUwcHh9CiAgPC9zdHlsZT4KICA8YSBocmVmPS8vd3d3Lmdvb2dsZS5jb20vPjxzcGFuIGlkPWxvZ28gYXJpYS1sYWJlbD1Hb29nbGU+PC9zcGFuPjwvYT4KICA8cD48Yj40MDQuPC9iPiA8aW5zPlRoYXTigJlzIGFuIGVycm9yLjwvaW5zPgogIDxwPiAgPGlucz5UaGF04oCZcyBhbGwgd2Uga25vdy48L2lucz4K",
       "headers": [
        [
         "content-length",
         "1449"
        ],
        [
         "content-type",
         "text/html; charset=utf-8"
        ]
       ],
       "ok": false,
       "status": 404,
       "status_text": "Not Found"
      }
     }
    },
    "id": "9rkN3Ldljd4C",
    "outputId": "dfa63a21-0e2e-4afb-9b5b-3aec0c2fdce6"
   },
   "outputs": [
    {
     "data": {
      "text/html": [
       "<div style=\"display: flex; justify-content: row;\">\n",
       "    <img src=\"output/spaceship/light_weight_spaceship.gif\">\n",
       "</div>"
      ],
      "text/plain": [
       "<IPython.core.display.HTML object>"
      ]
     },
     "metadata": {},
     "output_type": "display_data"
    },
    {
     "name": "stderr",
     "output_type": "stream",
     "text": [
      "No handles with labels found to put in legend.\n"
     ]
    },
    {
     "data": {
      "image/png": "[encoded data removed]",
      "text/plain": [
       "<Figure size 432x288 with 1 Axes>"
      ]
     },
     "metadata": {
      "needs_background": "light"
     },
     "output_type": "display_data"
    },
    {
     "name": "stdout",
     "output_type": "stream",
     "text": [
      "frequency :  0.25\n"
     ]
    },
    {
     "data": {
      "image/png": "[encoded data removed]",
      "text/plain": [
       "<Figure size 432x288 with 1 Axes>"
      ]
     },
     "metadata": {
      "needs_background": "light"
     },
     "output_type": "display_data"
    }
   ],
   "source": [
    "pattern = 'light_weight_spaceship'\n",
    "\n",
    "display(HTML('''<div style=\"display: flex; justify-content: row;\">\n",
    "    <img src=\"output/spaceship/light_weight_spaceship.gif\">\n",
    "</div>'''))\n",
    "\n",
    "occ = occupancy(pattern, 40)\n",
    "freq, _, _ = frequency_speed(pattern)\n",
    "print('frequency : ', freq)\n",
    "rep = replication(pattern)"
   ]
  },
  {
   "cell_type": "markdown",
   "metadata": {
    "id": "1pTxlHUvjk5h"
   },
   "source": [
    "## Heavy weight spaceship"
   ]
  },
  {
   "cell_type": "code",
   "execution_count": 127,
   "metadata": {
    "colab": {
     "base_uri": "https://localhost:8080/",
     "height": 634,
     "resources": {
      "http://localhost:8080/output/spaceship/heavy_weight_spaceship.gif": {
       "data": "CjwhRE9DVFlQRSBodG1sPgo8aHRtbCBsYW5nPWVuPgogIDxtZXRhIGNoYXJzZXQ9dXRmLTg+CiAgPG1ldGEgbmFtZT12aWV3cG9ydCBjb250ZW50PSJpbml0aWFsLXNjYWxlPTEsIG1pbmltdW0tc2NhbGU9MSwgd2lkdGg9ZGV2aWNlLXdpZHRoIj4KICA8dGl0bGU+RXJyb3IgNDA0IChOb3QgRm91bmQpISExPC90aXRsZT4KICA8c3R5bGU+CiAgICAqe21hcmdpbjowO3BhZGRpbmc6MH1odG1sLGNvZGV7Zm9udDoxNXB4LzIycHggYXJpYWwsc2Fucy1zZXJpZn1odG1se2JhY2tncm91bmQ6I2ZmZjtjb2xvcjojMjIyO3BhZGRpbmc6MTVweH1ib2R5e21hcmdpbjo3JSBhdXRvIDA7bWF4LXdpZHRoOjM5MHB4O21pbi1oZWlnaHQ6MTgwcHg7cGFkZGluZzozMHB4IDAgMTVweH0qID4gYm9keXtiYWNrZ3JvdW5kOnVybCgvL3d3dy5nb29nbGUuY29tL2ltYWdlcy9lcnJvcnMvcm9ib3QucG5nKSAxMDAlIDVweCBuby1yZXBlYXQ7cGFkZGluZy1yaWdodDoyMDVweH1we21hcmdpbjoxMXB4IDAgMjJweDtvdmVyZmxvdzpoaWRkZW59aW5ze2NvbG9yOiM3Nzc7dGV4dC1kZWNvcmF0aW9uOm5vbmV9YSBpbWd7Ym9yZGVyOjB9QG1lZGlhIHNjcmVlbiBhbmQgKG1heC13aWR0aDo3NzJweCl7Ym9keXtiYWNrZ3JvdW5kOm5vbmU7bWFyZ2luLXRvcDowO21heC13aWR0aDpub25lO3BhZGRpbmctcmlnaHQ6MH19I2xvZ297YmFja2dyb3VuZDp1cmwoLy93d3cuZ29vZ2xlLmNvbS9pbWFnZXMvbG9nb3MvZXJyb3JwYWdlL2Vycm9yX2xvZ28tMTUweDU0LnBuZykgbm8tcmVwZWF0O21hcmdpbi1sZWZ0Oi01cHh9QG1lZGlhIG9ubHkgc2NyZWVuIGFuZCAobWluLXJlc29sdXRpb246MTkyZHBpKXsjbG9nb3tiYWNrZ3JvdW5kOnVybCgvL3d3dy5nb29nbGUuY29tL2ltYWdlcy9sb2dvcy9lcnJvcnBhZ2UvZXJyb3JfbG9nby0xNTB4NTQtMngucG5nKSBuby1yZXBlYXQgMCUgMCUvMTAwJSAxMDAlOy1tb3otYm9yZGVyLWltYWdlOnVybCgvL3d3dy5nb29nbGUuY29tL2ltYWdlcy9sb2dvcy9lcnJvcnBhZ2UvZXJyb3JfbG9nby0xNTB4NTQtMngucG5nKSAwfX1AbWVkaWEgb25seSBzY3JlZW4gYW5kICgtd2Via2l0LW1pbi1kZXZpY2UtcGl4ZWwtcmF0aW86Mil7I2xvZ297YmFja2dyb3VuZDp1cmwoLy93d3cuZ29vZ2xlLmNvbS9pbWFnZXMvbG9nb3MvZXJyb3JwYWdlL2Vycm9yX2xvZ28tMTUweDU0LTJ4LnBuZykgbm8tcmVwZWF0Oy13ZWJraXQtYmFja2dyb3VuZC1zaXplOjEwMCUgMTAwJX19I2xvZ297ZGlzcGxheTppbmxpbmUtYmxvY2s7aGVpZ2h0OjU0cHg7d2lkdGg6MTUwcHh9CiAgPC9zdHlsZT4KICA8YSBocmVmPS8vd3d3Lmdvb2dsZS5jb20vPjxzcGFuIGlkPWxvZ28gYXJpYS1sYWJlbD1Hb29nbGU+PC9zcGFuPjwvYT4KICA8cD48Yj40MDQuPC9iPiA8aW5zPlRoYXTigJlzIGFuIGVycm9yLjwvaW5zPgogIDxwPiAgPGlucz5UaGF04oCZcyBhbGwgd2Uga25vdy48L2lucz4K",
       "headers": [
        [
         "content-length",
         "1449"
        ],
        [
         "content-type",
         "text/html; charset=utf-8"
        ]
       ],
       "ok": false,
       "status": 404,
       "status_text": "Not Found"
      }
     }
    },
    "id": "eMNoct8Ojo6W",
    "outputId": "75447d3a-2cfc-4f4a-8f55-b7b92545fedd"
   },
   "outputs": [
    {
     "data": {
      "text/html": [
       "<div style=\"display: flex; justify-content: row;\">\n",
       "    <img src=\"output/spaceship/heavy_weight_spaceship.gif\">\n",
       "</div>"
      ],
      "text/plain": [
       "<IPython.core.display.HTML object>"
      ]
     },
     "metadata": {},
     "output_type": "display_data"
    },
    {
     "name": "stderr",
     "output_type": "stream",
     "text": [
      "No handles with labels found to put in legend.\n"
     ]
    },
    {
     "data": {
      "image/png": "[encoded data removed]",
      "text/plain": [
       "<Figure size 432x288 with 1 Axes>"
      ]
     },
     "metadata": {
      "needs_background": "light"
     },
     "output_type": "display_data"
    },
    {
     "name": "stdout",
     "output_type": "stream",
     "text": [
      "frequency :  0.25\n"
     ]
    },
    {
     "data": {
      "image/png": "[encoded data removed]",
      "text/plain": [
       "<Figure size 432x288 with 1 Axes>"
      ]
     },
     "metadata": {
      "needs_background": "light"
     },
     "output_type": "display_data"
    }
   ],
   "source": [
    "pattern = 'heavy_weight_spaceship'\n",
    "\n",
    "display(HTML('''<div style=\"display: flex; justify-content: row;\">\n",
    "    <img src=\"output/spaceship/heavy_weight_spaceship.gif\">\n",
    "</div>'''))\n",
    "\n",
    "occ = occupancy(pattern, 40)\n",
    "freq, _, _ = frequency_speed(pattern)\n",
    "print('frequency : ', freq)\n",
    "rep = replication(pattern)"
   ]
  },
  {
   "cell_type": "markdown",
   "metadata": {
    "id": "AgMPgmSU805E"
   },
   "source": [
    "## 86p5h1v1"
   ]
  },
  {
   "cell_type": "code",
   "execution_count": 132,
   "metadata": {
    "colab": {
     "base_uri": "https://localhost:8080/",
     "height": 634,
     "resources": {
      "http://localhost:8080/output/86p5h1v1.gif": {
       "data": "CjwhRE9DVFlQRSBodG1sPgo8aHRtbCBsYW5nPWVuPgogIDxtZXRhIGNoYXJzZXQ9dXRmLTg+CiAgPG1ldGEgbmFtZT12aWV3cG9ydCBjb250ZW50PSJpbml0aWFsLXNjYWxlPTEsIG1pbmltdW0tc2NhbGU9MSwgd2lkdGg9ZGV2aWNlLXdpZHRoIj4KICA8dGl0bGU+RXJyb3IgNDA0IChOb3QgRm91bmQpISExPC90aXRsZT4KICA8c3R5bGU+CiAgICAqe21hcmdpbjowO3BhZGRpbmc6MH1odG1sLGNvZGV7Zm9udDoxNXB4LzIycHggYXJpYWwsc2Fucy1zZXJpZn1odG1se2JhY2tncm91bmQ6I2ZmZjtjb2xvcjojMjIyO3BhZGRpbmc6MTVweH1ib2R5e21hcmdpbjo3JSBhdXRvIDA7bWF4LXdpZHRoOjM5MHB4O21pbi1oZWlnaHQ6MTgwcHg7cGFkZGluZzozMHB4IDAgMTVweH0qID4gYm9keXtiYWNrZ3JvdW5kOnVybCgvL3d3dy5nb29nbGUuY29tL2ltYWdlcy9lcnJvcnMvcm9ib3QucG5nKSAxMDAlIDVweCBuby1yZXBlYXQ7cGFkZGluZy1yaWdodDoyMDVweH1we21hcmdpbjoxMXB4IDAgMjJweDtvdmVyZmxvdzpoaWRkZW59aW5ze2NvbG9yOiM3Nzc7dGV4dC1kZWNvcmF0aW9uOm5vbmV9YSBpbWd7Ym9yZGVyOjB9QG1lZGlhIHNjcmVlbiBhbmQgKG1heC13aWR0aDo3NzJweCl7Ym9keXtiYWNrZ3JvdW5kOm5vbmU7bWFyZ2luLXRvcDowO21heC13aWR0aDpub25lO3BhZGRpbmctcmlnaHQ6MH19I2xvZ297YmFja2dyb3VuZDp1cmwoLy93d3cuZ29vZ2xlLmNvbS9pbWFnZXMvbG9nb3MvZXJyb3JwYWdlL2Vycm9yX2xvZ28tMTUweDU0LnBuZykgbm8tcmVwZWF0O21hcmdpbi1sZWZ0Oi01cHh9QG1lZGlhIG9ubHkgc2NyZWVuIGFuZCAobWluLXJlc29sdXRpb246MTkyZHBpKXsjbG9nb3tiYWNrZ3JvdW5kOnVybCgvL3d3dy5nb29nbGUuY29tL2ltYWdlcy9sb2dvcy9lcnJvcnBhZ2UvZXJyb3JfbG9nby0xNTB4NTQtMngucG5nKSBuby1yZXBlYXQgMCUgMCUvMTAwJSAxMDAlOy1tb3otYm9yZGVyLWltYWdlOnVybCgvL3d3dy5nb29nbGUuY29tL2ltYWdlcy9sb2dvcy9lcnJvcnBhZ2UvZXJyb3JfbG9nby0xNTB4NTQtMngucG5nKSAwfX1AbWVkaWEgb25seSBzY3JlZW4gYW5kICgtd2Via2l0LW1pbi1kZXZpY2UtcGl4ZWwtcmF0aW86Mil7I2xvZ297YmFja2dyb3VuZDp1cmwoLy93d3cuZ29vZ2xlLmNvbS9pbWFnZXMvbG9nb3MvZXJyb3JwYWdlL2Vycm9yX2xvZ28tMTUweDU0LTJ4LnBuZykgbm8tcmVwZWF0Oy13ZWJraXQtYmFja2dyb3VuZC1zaXplOjEwMCUgMTAwJX19I2xvZ297ZGlzcGxheTppbmxpbmUtYmxvY2s7aGVpZ2h0OjU0cHg7d2lkdGg6MTUwcHh9CiAgPC9zdHlsZT4KICA8YSBocmVmPS8vd3d3Lmdvb2dsZS5jb20vPjxzcGFuIGlkPWxvZ28gYXJpYS1sYWJlbD1Hb29nbGU+PC9zcGFuPjwvYT4KICA8cD48Yj40MDQuPC9iPiA8aW5zPlRoYXTigJlzIGFuIGVycm9yLjwvaW5zPgogIDxwPiAgPGlucz5UaGF04oCZcyBhbGwgd2Uga25vdy48L2lucz4K",
       "headers": [
        [
         "content-length",
         "1449"
        ],
        [
         "content-type",
         "text/html; charset=utf-8"
        ]
       ],
       "ok": false,
       "status": 404,
       "status_text": "Not Found"
      }
     }
    },
    "id": "qdhBIbEo83gU",
    "outputId": "fa82fcc8-8f91-480f-a016-9f2cea6250cf"
   },
   "outputs": [
    {
     "data": {
      "text/html": [
       "<div style=\"display: flex; justify-content: row;\">\n",
       "    <img src=\"output/spaceship/86p5h1v1.gif\">\n",
       "</div>"
      ],
      "text/plain": [
       "<IPython.core.display.HTML object>"
      ]
     },
     "metadata": {},
     "output_type": "display_data"
    },
    {
     "name": "stderr",
     "output_type": "stream",
     "text": [
      "No handles with labels found to put in legend.\n"
     ]
    },
    {
     "data": {
      "image/png": "[encoded data removed]",
      "text/plain": [
       "<Figure size 432x288 with 1 Axes>"
      ]
     },
     "metadata": {
      "needs_background": "light"
     },
     "output_type": "display_data"
    },
    {
     "name": "stdout",
     "output_type": "stream",
     "text": [
      "frequency :  0.2\n"
     ]
    },
    {
     "data": {
      "image/png": "[encoded data removed]",
      "text/plain": [
       "<Figure size 432x288 with 1 Axes>"
      ]
     },
     "metadata": {
      "needs_background": "light"
     },
     "output_type": "display_data"
    }
   ],
   "source": [
    "pattern = '86P5H1V1'\n",
    "\n",
    "display(HTML('''<div style=\"display: flex; justify-content: row;\">\n",
    "    <img src=\"output/spaceship/86p5h1v1.gif\">\n",
    "</div>'''))\n",
    "\n",
    "occ = occupancy(pattern)\n",
    "freq, _, _ = frequency_speed(pattern)\n",
    "print('frequency : ', freq)\n",
    "rep = replication(pattern)"
   ]
  },
  {
   "cell_type": "markdown",
   "metadata": {
    "id": "8qhf6vg6jvTV"
   },
   "source": [
    "# Diehard"
   ]
  },
  {
   "cell_type": "code",
   "execution_count": 129,
   "metadata": {
    "colab": {
     "base_uri": "https://localhost:8080/",
     "height": 634,
     "resources": {
      "http://localhost:8080/output/diehard.gif": {
       "data": "CjwhRE9DVFlQRSBodG1sPgo8aHRtbCBsYW5nPWVuPgogIDxtZXRhIGNoYXJzZXQ9dXRmLTg+CiAgPG1ldGEgbmFtZT12aWV3cG9ydCBjb250ZW50PSJpbml0aWFsLXNjYWxlPTEsIG1pbmltdW0tc2NhbGU9MSwgd2lkdGg9ZGV2aWNlLXdpZHRoIj4KICA8dGl0bGU+RXJyb3IgNDA0IChOb3QgRm91bmQpISExPC90aXRsZT4KICA8c3R5bGU+CiAgICAqe21hcmdpbjowO3BhZGRpbmc6MH1odG1sLGNvZGV7Zm9udDoxNXB4LzIycHggYXJpYWwsc2Fucy1zZXJpZn1odG1se2JhY2tncm91bmQ6I2ZmZjtjb2xvcjojMjIyO3BhZGRpbmc6MTVweH1ib2R5e21hcmdpbjo3JSBhdXRvIDA7bWF4LXdpZHRoOjM5MHB4O21pbi1oZWlnaHQ6MTgwcHg7cGFkZGluZzozMHB4IDAgMTVweH0qID4gYm9keXtiYWNrZ3JvdW5kOnVybCgvL3d3dy5nb29nbGUuY29tL2ltYWdlcy9lcnJvcnMvcm9ib3QucG5nKSAxMDAlIDVweCBuby1yZXBlYXQ7cGFkZGluZy1yaWdodDoyMDVweH1we21hcmdpbjoxMXB4IDAgMjJweDtvdmVyZmxvdzpoaWRkZW59aW5ze2NvbG9yOiM3Nzc7dGV4dC1kZWNvcmF0aW9uOm5vbmV9YSBpbWd7Ym9yZGVyOjB9QG1lZGlhIHNjcmVlbiBhbmQgKG1heC13aWR0aDo3NzJweCl7Ym9keXtiYWNrZ3JvdW5kOm5vbmU7bWFyZ2luLXRvcDowO21heC13aWR0aDpub25lO3BhZGRpbmctcmlnaHQ6MH19I2xvZ297YmFja2dyb3VuZDp1cmwoLy93d3cuZ29vZ2xlLmNvbS9pbWFnZXMvbG9nb3MvZXJyb3JwYWdlL2Vycm9yX2xvZ28tMTUweDU0LnBuZykgbm8tcmVwZWF0O21hcmdpbi1sZWZ0Oi01cHh9QG1lZGlhIG9ubHkgc2NyZWVuIGFuZCAobWluLXJlc29sdXRpb246MTkyZHBpKXsjbG9nb3tiYWNrZ3JvdW5kOnVybCgvL3d3dy5nb29nbGUuY29tL2ltYWdlcy9sb2dvcy9lcnJvcnBhZ2UvZXJyb3JfbG9nby0xNTB4NTQtMngucG5nKSBuby1yZXBlYXQgMCUgMCUvMTAwJSAxMDAlOy1tb3otYm9yZGVyLWltYWdlOnVybCgvL3d3dy5nb29nbGUuY29tL2ltYWdlcy9sb2dvcy9lcnJvcnBhZ2UvZXJyb3JfbG9nby0xNTB4NTQtMngucG5nKSAwfX1AbWVkaWEgb25seSBzY3JlZW4gYW5kICgtd2Via2l0LW1pbi1kZXZpY2UtcGl4ZWwtcmF0aW86Mil7I2xvZ297YmFja2dyb3VuZDp1cmwoLy93d3cuZ29vZ2xlLmNvbS9pbWFnZXMvbG9nb3MvZXJyb3JwYWdlL2Vycm9yX2xvZ28tMTUweDU0LTJ4LnBuZykgbm8tcmVwZWF0Oy13ZWJraXQtYmFja2dyb3VuZC1zaXplOjEwMCUgMTAwJX19I2xvZ297ZGlzcGxheTppbmxpbmUtYmxvY2s7aGVpZ2h0OjU0cHg7d2lkdGg6MTUwcHh9CiAgPC9zdHlsZT4KICA8YSBocmVmPS8vd3d3Lmdvb2dsZS5jb20vPjxzcGFuIGlkPWxvZ28gYXJpYS1sYWJlbD1Hb29nbGU+PC9zcGFuPjwvYT4KICA8cD48Yj40MDQuPC9iPiA8aW5zPlRoYXTigJlzIGFuIGVycm9yLjwvaW5zPgogIDxwPiAgPGlucz5UaGF04oCZcyBhbGwgd2Uga25vdy48L2lucz4K",
       "headers": [
        [
         "content-length",
         "1449"
        ],
        [
         "content-type",
         "text/html; charset=utf-8"
        ]
       ],
       "ok": false,
       "status": 404,
       "status_text": "Not Found"
      }
     }
    },
    "id": "OUWSGpBqjx19",
    "outputId": "93efffb1-53f0-4132-d336-b08f0b7bb59b"
   },
   "outputs": [
    {
     "data": {
      "text/html": [
       "<div style=\"display: flex; justify-content: row;\">\n",
       "    <img src=\"output/diehard.gif\">\n",
       "</div>"
      ],
      "text/plain": [
       "<IPython.core.display.HTML object>"
      ]
     },
     "metadata": {},
     "output_type": "display_data"
    },
    {
     "name": "stderr",
     "output_type": "stream",
     "text": [
      "No handles with labels found to put in legend.\n"
     ]
    },
    {
     "data": {
      "image/png": "[encoded data removed]",
      "text/plain": [
       "<Figure size 432x288 with 1 Axes>"
      ]
     },
     "metadata": {
      "needs_background": "light"
     },
     "output_type": "display_data"
    },
    {
     "name": "stdout",
     "output_type": "stream",
     "text": [
      "frequency : No frequency\n"
     ]
    },
    {
     "data": {
      "image/png": "[encoded data removed]",
      "text/plain": [
       "<Figure size 432x288 with 1 Axes>"
      ]
     },
     "metadata": {
      "needs_background": "light"
     },
     "output_type": "display_data"
    }
   ],
   "source": [
    "pattern = 'diehard'\n",
    "\n",
    "display(HTML('''<div style=\"display: flex; justify-content: row;\">\n",
    "    <img src=\"output/diehard.gif\">\n",
    "</div>'''))\n",
    "\n",
    "occ = occupancy(pattern, 140)\n",
    "#freq, _ = frequency(pattern)\n",
    "print('frequency : No frequency')\n",
    "rep = replication(pattern, False, 130)"
   ]
  },
  {
   "cell_type": "markdown",
   "metadata": {
    "id": "aDnTfMndj-jn"
   },
   "source": [
    "# Gosper Glider Gun"
   ]
  },
  {
   "cell_type": "code",
   "execution_count": 130,
   "metadata": {
    "colab": {
     "base_uri": "https://localhost:8080/",
     "height": 616,
     "resources": {
      "http://localhost:8080/output/Gosper_glider_gun.gif": {
       "data": "CjwhRE9DVFlQRSBodG1sPgo8aHRtbCBsYW5nPWVuPgogIDxtZXRhIGNoYXJzZXQ9dXRmLTg+CiAgPG1ldGEgbmFtZT12aWV3cG9ydCBjb250ZW50PSJpbml0aWFsLXNjYWxlPTEsIG1pbmltdW0tc2NhbGU9MSwgd2lkdGg9ZGV2aWNlLXdpZHRoIj4KICA8dGl0bGU+RXJyb3IgNDA0IChOb3QgRm91bmQpISExPC90aXRsZT4KICA8c3R5bGU+CiAgICAqe21hcmdpbjowO3BhZGRpbmc6MH1odG1sLGNvZGV7Zm9udDoxNXB4LzIycHggYXJpYWwsc2Fucy1zZXJpZn1odG1se2JhY2tncm91bmQ6I2ZmZjtjb2xvcjojMjIyO3BhZGRpbmc6MTVweH1ib2R5e21hcmdpbjo3JSBhdXRvIDA7bWF4LXdpZHRoOjM5MHB4O21pbi1oZWlnaHQ6MTgwcHg7cGFkZGluZzozMHB4IDAgMTVweH0qID4gYm9keXtiYWNrZ3JvdW5kOnVybCgvL3d3dy5nb29nbGUuY29tL2ltYWdlcy9lcnJvcnMvcm9ib3QucG5nKSAxMDAlIDVweCBuby1yZXBlYXQ7cGFkZGluZy1yaWdodDoyMDVweH1we21hcmdpbjoxMXB4IDAgMjJweDtvdmVyZmxvdzpoaWRkZW59aW5ze2NvbG9yOiM3Nzc7dGV4dC1kZWNvcmF0aW9uOm5vbmV9YSBpbWd7Ym9yZGVyOjB9QG1lZGlhIHNjcmVlbiBhbmQgKG1heC13aWR0aDo3NzJweCl7Ym9keXtiYWNrZ3JvdW5kOm5vbmU7bWFyZ2luLXRvcDowO21heC13aWR0aDpub25lO3BhZGRpbmctcmlnaHQ6MH19I2xvZ297YmFja2dyb3VuZDp1cmwoLy93d3cuZ29vZ2xlLmNvbS9pbWFnZXMvbG9nb3MvZXJyb3JwYWdlL2Vycm9yX2xvZ28tMTUweDU0LnBuZykgbm8tcmVwZWF0O21hcmdpbi1sZWZ0Oi01cHh9QG1lZGlhIG9ubHkgc2NyZWVuIGFuZCAobWluLXJlc29sdXRpb246MTkyZHBpKXsjbG9nb3tiYWNrZ3JvdW5kOnVybCgvL3d3dy5nb29nbGUuY29tL2ltYWdlcy9sb2dvcy9lcnJvcnBhZ2UvZXJyb3JfbG9nby0xNTB4NTQtMngucG5nKSBuby1yZXBlYXQgMCUgMCUvMTAwJSAxMDAlOy1tb3otYm9yZGVyLWltYWdlOnVybCgvL3d3dy5nb29nbGUuY29tL2ltYWdlcy9sb2dvcy9lcnJvcnBhZ2UvZXJyb3JfbG9nby0xNTB4NTQtMngucG5nKSAwfX1AbWVkaWEgb25seSBzY3JlZW4gYW5kICgtd2Via2l0LW1pbi1kZXZpY2UtcGl4ZWwtcmF0aW86Mil7I2xvZ297YmFja2dyb3VuZDp1cmwoLy93d3cuZ29vZ2xlLmNvbS9pbWFnZXMvbG9nb3MvZXJyb3JwYWdlL2Vycm9yX2xvZ28tMTUweDU0LTJ4LnBuZykgbm8tcmVwZWF0Oy13ZWJraXQtYmFja2dyb3VuZC1zaXplOjEwMCUgMTAwJX19I2xvZ297ZGlzcGxheTppbmxpbmUtYmxvY2s7aGVpZ2h0OjU0cHg7d2lkdGg6MTUwcHh9CiAgPC9zdHlsZT4KICA8YSBocmVmPS8vd3d3Lmdvb2dsZS5jb20vPjxzcGFuIGlkPWxvZ28gYXJpYS1sYWJlbD1Hb29nbGU+PC9zcGFuPjwvYT4KICA8cD48Yj40MDQuPC9iPiA8aW5zPlRoYXTigJlzIGFuIGVycm9yLjwvaW5zPgogIDxwPiAgPGlucz5UaGF04oCZcyBhbGwgd2Uga25vdy48L2lucz4K",
       "headers": [
        [
         "content-length",
         "1449"
        ],
        [
         "content-type",
         "text/html; charset=utf-8"
        ]
       ],
       "ok": false,
       "status": 404,
       "status_text": "Not Found"
      }
     }
    },
    "id": "qW7NP--lkBZy",
    "outputId": "40b9f95a-6123-4368-ba51-83218a652a97"
   },
   "outputs": [
    {
     "data": {
      "text/html": [
       "<div style=\"display: flex; justify-content: row;\">\n",
       "    <img src=\"output/Gosper_glider_gun.gif\">\n",
       "</div>"
      ],
      "text/plain": [
       "<IPython.core.display.HTML object>"
      ]
     },
     "metadata": {},
     "output_type": "display_data"
    },
    {
     "name": "stderr",
     "output_type": "stream",
     "text": [
      "No handles with labels found to put in legend.\n"
     ]
    },
    {
     "data": {
      "image/png": "[encoded data removed]",
      "text/plain": [
       "<Figure size 432x288 with 1 Axes>"
      ]
     },
     "metadata": {
      "needs_background": "light"
     },
     "output_type": "display_data"
    },
    {
     "data": {
      "image/png": "[encoded data removed]",
      "text/plain": [
       "<Figure size 432x288 with 1 Axes>"
      ]
     },
     "metadata": {
      "needs_background": "light"
     },
     "output_type": "display_data"
    }
   ],
   "source": [
    "pattern = 'Gosper_glider_gun'\n",
    "\n",
    "display(HTML('''<div style=\"display: flex; justify-content: row;\">\n",
    "    <img src=\"output/Gosper_glider_gun.gif\">\n",
    "</div>'''))\n",
    "\n",
    "occ = occupancy(pattern, 140)\n",
    "#freq, _ = frequency(pattern)\n",
    "#print('frequency : ', freq)\n",
    "rep = replication(pattern, False, 130)"
   ]
  },
  {
   "cell_type": "markdown",
   "metadata": {
    "id": "wFQ4lzC1lDrV"
   },
   "source": [
    "# Random"
   ]
  },
  {
   "cell_type": "code",
   "execution_count": 131,
   "metadata": {
    "colab": {
     "base_uri": "https://localhost:8080/",
     "height": 634,
     "resources": {
      "http://localhost:8080/output/random.gif": {
       "data": "CjwhRE9DVFlQRSBodG1sPgo8aHRtbCBsYW5nPWVuPgogIDxtZXRhIGNoYXJzZXQ9dXRmLTg+CiAgPG1ldGEgbmFtZT12aWV3cG9ydCBjb250ZW50PSJpbml0aWFsLXNjYWxlPTEsIG1pbmltdW0tc2NhbGU9MSwgd2lkdGg9ZGV2aWNlLXdpZHRoIj4KICA8dGl0bGU+RXJyb3IgNDA0IChOb3QgRm91bmQpISExPC90aXRsZT4KICA8c3R5bGU+CiAgICAqe21hcmdpbjowO3BhZGRpbmc6MH1odG1sLGNvZGV7Zm9udDoxNXB4LzIycHggYXJpYWwsc2Fucy1zZXJpZn1odG1se2JhY2tncm91bmQ6I2ZmZjtjb2xvcjojMjIyO3BhZGRpbmc6MTVweH1ib2R5e21hcmdpbjo3JSBhdXRvIDA7bWF4LXdpZHRoOjM5MHB4O21pbi1oZWlnaHQ6MTgwcHg7cGFkZGluZzozMHB4IDAgMTVweH0qID4gYm9keXtiYWNrZ3JvdW5kOnVybCgvL3d3dy5nb29nbGUuY29tL2ltYWdlcy9lcnJvcnMvcm9ib3QucG5nKSAxMDAlIDVweCBuby1yZXBlYXQ7cGFkZGluZy1yaWdodDoyMDVweH1we21hcmdpbjoxMXB4IDAgMjJweDtvdmVyZmxvdzpoaWRkZW59aW5ze2NvbG9yOiM3Nzc7dGV4dC1kZWNvcmF0aW9uOm5vbmV9YSBpbWd7Ym9yZGVyOjB9QG1lZGlhIHNjcmVlbiBhbmQgKG1heC13aWR0aDo3NzJweCl7Ym9keXtiYWNrZ3JvdW5kOm5vbmU7bWFyZ2luLXRvcDowO21heC13aWR0aDpub25lO3BhZGRpbmctcmlnaHQ6MH19I2xvZ297YmFja2dyb3VuZDp1cmwoLy93d3cuZ29vZ2xlLmNvbS9pbWFnZXMvbG9nb3MvZXJyb3JwYWdlL2Vycm9yX2xvZ28tMTUweDU0LnBuZykgbm8tcmVwZWF0O21hcmdpbi1sZWZ0Oi01cHh9QG1lZGlhIG9ubHkgc2NyZWVuIGFuZCAobWluLXJlc29sdXRpb246MTkyZHBpKXsjbG9nb3tiYWNrZ3JvdW5kOnVybCgvL3d3dy5nb29nbGUuY29tL2ltYWdlcy9sb2dvcy9lcnJvcnBhZ2UvZXJyb3JfbG9nby0xNTB4NTQtMngucG5nKSBuby1yZXBlYXQgMCUgMCUvMTAwJSAxMDAlOy1tb3otYm9yZGVyLWltYWdlOnVybCgvL3d3dy5nb29nbGUuY29tL2ltYWdlcy9sb2dvcy9lcnJvcnBhZ2UvZXJyb3JfbG9nby0xNTB4NTQtMngucG5nKSAwfX1AbWVkaWEgb25seSBzY3JlZW4gYW5kICgtd2Via2l0LW1pbi1kZXZpY2UtcGl4ZWwtcmF0aW86Mil7I2xvZ297YmFja2dyb3VuZDp1cmwoLy93d3cuZ29vZ2xlLmNvbS9pbWFnZXMvbG9nb3MvZXJyb3JwYWdlL2Vycm9yX2xvZ28tMTUweDU0LTJ4LnBuZykgbm8tcmVwZWF0Oy13ZWJraXQtYmFja2dyb3VuZC1zaXplOjEwMCUgMTAwJX19I2xvZ297ZGlzcGxheTppbmxpbmUtYmxvY2s7aGVpZ2h0OjU0cHg7d2lkdGg6MTUwcHh9CiAgPC9zdHlsZT4KICA8YSBocmVmPS8vd3d3Lmdvb2dsZS5jb20vPjxzcGFuIGlkPWxvZ28gYXJpYS1sYWJlbD1Hb29nbGU+PC9zcGFuPjwvYT4KICA8cD48Yj40MDQuPC9iPiA8aW5zPlRoYXTigJlzIGFuIGVycm9yLjwvaW5zPgogIDxwPiAgPGlucz5UaGF04oCZcyBhbGwgd2Uga25vdy48L2lucz4K",
       "headers": [
        [
         "content-length",
         "1449"
        ],
        [
         "content-type",
         "text/html; charset=utf-8"
        ]
       ],
       "ok": false,
       "status": 404,
       "status_text": "Not Found"
      }
     }
    },
    "id": "GFpUSt_vlFDJ",
    "outputId": "264e89cf-c487-40c6-f5f9-d9d11b54781d"
   },
   "outputs": [
    {
     "data": {
      "text/html": [
       "<div style=\"display: flex; justify-content: row;\">\n",
       "    <img src=\"output/random.gif\">\n",
       "</div>"
      ],
      "text/plain": [
       "<IPython.core.display.HTML object>"
      ]
     },
     "metadata": {},
     "output_type": "display_data"
    },
    {
     "name": "stderr",
     "output_type": "stream",
     "text": [
      "No handles with labels found to put in legend.\n"
     ]
    },
    {
     "data": {
      "image/png": "[encoded data removed]",
      "text/plain": [
       "<Figure size 432x288 with 1 Axes>"
      ]
     },
     "metadata": {
      "needs_background": "light"
     },
     "output_type": "display_data"
    },
    {
     "name": "stdout",
     "output_type": "stream",
     "text": [
      "frequency : No frequency\n"
     ]
    },
    {
     "data": {
      "image/png": "[encoded data removed]",
      "text/plain": [
       "<Figure size 432x288 with 1 Axes>"
      ]
     },
     "metadata": {
      "needs_background": "light"
     },
     "output_type": "display_data"
    }
   ],
   "source": [
    "pattern = 'random'\n",
    "\n",
    "display(HTML('''<div style=\"display: flex; justify-content: row;\">\n",
    "    <img src=\"output/random.gif\">\n",
    "</div>'''))\n",
    "\n",
    "occ = occupancy(pattern, 140)\n",
    "print('frequency : No frequency')\n",
    "rep = replication(pattern, False, 130)"
   ]
  },
  {
   "cell_type": "code",
   "execution_count": null,
   "metadata": {},
   "outputs": [],
   "source": []
  }
 ],
 "metadata": {
  "colab": {
   "collapsed_sections": [],
   "name": "Project.ipynb",
   "provenance": [],
   "toc_visible": true
  },
  "kernelspec": {
   "display_name": "Python 3",
   "language": "python",
   "name": "python3"
  },
  "language_info": {
   "codemirror_mode": {
    "name": "ipython",
    "version": 3
   },
   "file_extension": ".py",
   "mimetype": "text/x-python",
   "name": "python",
   "nbconvert_exporter": "python",
   "pygments_lexer": "ipython3",
   "version": "3.8.8"
  }
 },
 "nbformat": 4,
 "nbformat_minor": 1
}
